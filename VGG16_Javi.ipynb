{
  "nbformat": 4,
  "nbformat_minor": 0,
  "metadata": {
    "accelerator": "GPU",
    "colab": {
      "name": "inceptionv3_data.ipynb",
      "provenance": [],
      "collapsed_sections": []
    },
    "kernelspec": {
      "display_name": "proyecto",
      "language": "python",
      "name": "gpu"
    },
    "language_info": {
      "codemirror_mode": {
        "name": "ipython",
        "version": 3
      },
      "file_extension": ".py",
      "mimetype": "text/x-python",
      "name": "python",
      "nbconvert_exporter": "python",
      "pygments_lexer": "ipython3",
      "version": "3.7.9"
    }
  },
  "cells": [
    {
      "cell_type": "markdown",
      "metadata": {
        "id": "view-in-github"
      },
      "source": [
        "<a href=\"https://colab.research.google.com/github/josematez/DeepLearning_SkinCancer/blob/main/Testing_Data_Jose.ipynb\" target=\"_parent\"><img src=\"https://colab.research.google.com/assets/colab-badge.svg\" alt=\"Open In Colab\"/></a>"
      ]
    },
    {
      "cell_type": "code",
      "metadata": {
        "id": "46GSQ_3wuU8T",
        "outputId": "0314dcb5-e16d-46ba-e66f-3a30fa444791",
        "colab": {
          "base_uri": "https://localhost:8080/",
          "height": 533
        }
      },
      "source": [
        "!pip install numpy==1.15.4\n",
        "!pip install deepdish\n",
        "#!pip install tensorflow==1.15\n",
        "#!pip install keras"
      ],
      "execution_count": 1,
      "outputs": [
        {
          "output_type": "stream",
          "text": [
            "Collecting numpy==1.15.4\n",
            "\u001b[?25l  Downloading https://files.pythonhosted.org/packages/ff/7f/9d804d2348471c67a7d8b5f84f9bc59fd1cefa148986f2b74552f8573555/numpy-1.15.4-cp36-cp36m-manylinux1_x86_64.whl (13.9MB)\n",
            "\u001b[K     |████████████████████████████████| 13.9MB 242kB/s \n",
            "\u001b[31mERROR: umap-learn 0.4.6 has requirement numpy>=1.17, but you'll have numpy 1.15.4 which is incompatible.\u001b[0m\n",
            "\u001b[31mERROR: tensorflow 2.3.0 has requirement numpy<1.19.0,>=1.16.0, but you'll have numpy 1.15.4 which is incompatible.\u001b[0m\n",
            "\u001b[31mERROR: plotnine 0.6.0 has requirement numpy>=1.16.0, but you'll have numpy 1.15.4 which is incompatible.\u001b[0m\n",
            "\u001b[31mERROR: datascience 0.10.6 has requirement folium==0.2.1, but you'll have folium 0.8.3 which is incompatible.\u001b[0m\n",
            "\u001b[31mERROR: astropy 4.1 has requirement numpy>=1.16, but you'll have numpy 1.15.4 which is incompatible.\u001b[0m\n",
            "\u001b[31mERROR: albumentations 0.1.12 has requirement imgaug<0.2.7,>=0.2.5, but you'll have imgaug 0.2.9 which is incompatible.\u001b[0m\n",
            "\u001b[?25hInstalling collected packages: numpy\n",
            "  Found existing installation: numpy 1.18.5\n",
            "    Uninstalling numpy-1.18.5:\n",
            "      Successfully uninstalled numpy-1.18.5\n",
            "Successfully installed numpy-1.15.4\n"
          ],
          "name": "stdout"
        },
        {
          "output_type": "display_data",
          "data": {
            "application/vnd.colab-display-data+json": {
              "pip_warning": {
                "packages": [
                  "numpy"
                ]
              }
            }
          },
          "metadata": {
            "tags": []
          }
        },
        {
          "output_type": "stream",
          "text": [
            "Collecting deepdish\n",
            "  Downloading https://files.pythonhosted.org/packages/6e/39/2a47c852651982bc5eb39212ac110284dd20126bdc7b49bde401a0139f5d/deepdish-0.3.6-py2.py3-none-any.whl\n",
            "Requirement already satisfied: numpy in /usr/local/lib/python3.6/dist-packages (from deepdish) (1.15.4)\n",
            "Requirement already satisfied: scipy in /usr/local/lib/python3.6/dist-packages (from deepdish) (1.4.1)\n",
            "Requirement already satisfied: tables in /usr/local/lib/python3.6/dist-packages (from deepdish) (3.4.4)\n",
            "Requirement already satisfied: numexpr>=2.5.2 in /usr/local/lib/python3.6/dist-packages (from tables->deepdish) (2.7.1)\n",
            "Requirement already satisfied: six>=1.9.0 in /usr/local/lib/python3.6/dist-packages (from tables->deepdish) (1.15.0)\n",
            "Installing collected packages: deepdish\n",
            "Successfully installed deepdish-0.3.6\n"
          ],
          "name": "stdout"
        }
      ]
    },
    {
      "cell_type": "code",
      "metadata": {
        "id": "R_m79alguZ9P"
      },
      "source": [
        "%matplotlib inline\n",
        "import matplotlib.pyplot as plt\n",
        "import numpy as np\n",
        "import pandas as pd\n",
        "import os\n",
        "import deepdish as dd\n",
        "from sklearn.model_selection import train_test_split\n",
        "from tensorflow.keras.models import Sequential, Model\n",
        "from tensorflow.keras.layers import Dense, Conv2D, Dropout, Flatten, MaxPooling2D, GlobalAveragePooling2D\n",
        "from tensorflow.keras.utils import to_categorical, plot_model\n",
        "from tensorflow.keras.optimizers import Adam, RMSprop, SGD\n",
        "from tensorflow.keras.callbacks import ReduceLROnPlateau\n",
        "from tensorflow.keras.preprocessing.image import ImageDataGenerator\n",
        "\n",
        "from tensorflow.keras.applications.vgg16 import VGG16"
      ],
      "execution_count": 15,
      "outputs": []
    },
    {
      "cell_type": "code",
      "metadata": {
        "id": "0e2SVXyVZrxe",
        "outputId": "8be89773-3380-4da8-fd74-13f289146c5a",
        "colab": {
          "base_uri": "https://localhost:8080/",
          "height": 36
        }
      },
      "source": [
        "np.__version__"
      ],
      "execution_count": 2,
      "outputs": [
        {
          "output_type": "execute_result",
          "data": {
            "application/vnd.google.colaboratory.intrinsic+json": {
              "type": "string"
            },
            "text/plain": [
              "'1.15.4'"
            ]
          },
          "metadata": {
            "tags": []
          },
          "execution_count": 2
        }
      ]
    },
    {
      "cell_type": "code",
      "metadata": {
        "id": "K3IKV5kvucC1",
        "outputId": "8d5db13d-f8ab-44c8-f956-2f8b0500b2c7",
        "colab": {
          "base_uri": "https://localhost:8080/"
        }
      },
      "source": [
        "from google.colab import drive\n",
        "drive.mount('/content/drive')\n",
        "os.chdir('/content/drive/My Drive/Colab Notebooks/Data')"
      ],
      "execution_count": 3,
      "outputs": [
        {
          "output_type": "stream",
          "text": [
            "Drive already mounted at /content/drive; to attempt to forcibly remount, call drive.mount(\"/content/drive\", force_remount=True).\n"
          ],
          "name": "stdout"
        }
      ]
    },
    {
      "cell_type": "code",
      "metadata": {
        "id": "kQlULaeIudf8"
      },
      "source": [
        "data = dd.io.load('ISIC_dataset.h5')\n",
        "data_df = pd.DataFrame(data)"
      ],
      "execution_count": 4,
      "outputs": []
    },
    {
      "cell_type": "code",
      "metadata": {
        "id": "j4LrYJwZuemq"
      },
      "source": [
        "X_raw = data_df.image\n",
        "Y = data_df.cell_type_idx"
      ],
      "execution_count": 5,
      "outputs": []
    },
    {
      "cell_type": "code",
      "metadata": {
        "id": "aPIuLWUK5JGe"
      },
      "source": [
        "X = np.zeros((10015, 75, 100, 3))\n",
        "\n",
        "for i in range(10015):\n",
        "  X[i,:,:,:] = X_raw[i]"
      ],
      "execution_count": 6,
      "outputs": []
    },
    {
      "cell_type": "code",
      "metadata": {
        "id": "fX-nCzguvbxT",
        "outputId": "b83b7126-a747-4122-e3af-997fe131bfd8",
        "colab": {
          "base_uri": "https://localhost:8080/"
        }
      },
      "source": [
        "print(\"Tamaño datos X: {}\".format(X.shape))\n",
        "print(\"Tamaño datos Y: {}\".format(Y.shape))"
      ],
      "execution_count": 7,
      "outputs": [
        {
          "output_type": "stream",
          "text": [
            "Tamaño datos X: (10015, 75, 100, 3)\n",
            "Tamaño datos Y: (10015,)\n"
          ],
          "name": "stdout"
        }
      ]
    },
    {
      "cell_type": "markdown",
      "metadata": {
        "id": "0QTxhICzuLh1"
      },
      "source": [
        ""
      ]
    },
    {
      "cell_type": "code",
      "metadata": {
        "id": "TCFKQAkHvDrw"
      },
      "source": [
        "X_train, X_test, Y_train, Y_test = train_test_split(X, Y, test_size = 0.2, random_state = 12345)\n",
        "X_train, X_val, Y_train, Y_val = train_test_split(X_train, Y_train, test_size=0.2, random_state = 12345)"
      ],
      "execution_count": 11,
      "outputs": []
    },
    {
      "cell_type": "code",
      "metadata": {
        "id": "wDIKZ_QyDY-M"
      },
      "source": [
        "X_train = (X_train / np.max(X_train))\n",
        "X_test = (X_test / np.max(X_test))\n",
        "X_val = (X_val / np.max(X_val))"
      ],
      "execution_count": 12,
      "outputs": []
    },
    {
      "cell_type": "code",
      "metadata": {
        "id": "OnJa21jVQxcz"
      },
      "source": [
        "Y_train = to_categorical(Y_train, num_classes = 7)\n",
        "Y_test = to_categorical(Y_test, num_classes = 7)\n",
        "Y_val = to_categorical(Y_val, num_classes = 7)"
      ],
      "execution_count": 13,
      "outputs": []
    },
    {
      "cell_type": "code",
      "metadata": {
        "id": "fItEHkc6tiTE"
      },
      "source": [
        "# DATA AUGMENTATION\n",
        "datagen = ImageDataGenerator(\n",
        "        featurewise_center=False,  # set input mean to 0 over the dataset\n",
        "        samplewise_center=False,  # set each sample mean to 0\n",
        "        featurewise_std_normalization=False,  # divide inputs by std of the dataset\n",
        "        samplewise_std_normalization=False,  # divide each input by its std\n",
        "        zca_whitening=False,  # apply ZCA whitening\n",
        "        rotation_range=60,  # randomly rotate images in the range (degrees, 0 to 180)\n",
        "        zoom_range = 0.4, # Randomly zoom image \n",
        "        width_shift_range=0.2,  # randomly shift images horizontally (fraction of total width)\n",
        "        height_shift_range=0.2,  # randomly shift images vertically (fraction of total height)\n",
        "        horizontal_flip=False,  # randomly flip images\n",
        "        vertical_flip=False)  # randomly flip images\n",
        "\n",
        "datagen.fit(X_train)"
      ],
      "execution_count": 17,
      "outputs": []
    },
    {
      "cell_type": "code",
      "metadata": {
        "id": "3h1miH4BP4NK",
        "outputId": "6ae851c4-f5f1-4f3b-95db-ba2f3957ba67",
        "colab": {
          "base_uri": "https://localhost:8080/"
        }
      },
      "source": [
        "input_shape = (75, 100, 3)\n",
        "num_classes = 7\n",
        "\n",
        "#VGG16\n",
        "\n",
        "base_model = VGG16(weights='imagenet', include_top=False)\n",
        "\n",
        "model = VGG16()\n",
        "model.summary()\n",
        "\n",
        "x = base_model.output\n",
        "x = GlobalAveragePooling2D()(x)\n",
        "x = Dense(1024, activation='relu')(x)\n",
        "\n",
        "predictions = Dense(num_classes, activation='softmax')(x)\n",
        "\n",
        "model = Model(inputs=base_model.input, outputs=predictions)"
      ],
      "execution_count": 18,
      "outputs": [
        {
          "output_type": "stream",
          "text": [
            "Model: \"vgg16\"\n",
            "_________________________________________________________________\n",
            "Layer (type)                 Output Shape              Param #   \n",
            "=================================================================\n",
            "input_2 (InputLayer)         [(None, 224, 224, 3)]     0         \n",
            "_________________________________________________________________\n",
            "block1_conv1 (Conv2D)        (None, 224, 224, 64)      1792      \n",
            "_________________________________________________________________\n",
            "block1_conv2 (Conv2D)        (None, 224, 224, 64)      36928     \n",
            "_________________________________________________________________\n",
            "block1_pool (MaxPooling2D)   (None, 112, 112, 64)      0         \n",
            "_________________________________________________________________\n",
            "block2_conv1 (Conv2D)        (None, 112, 112, 128)     73856     \n",
            "_________________________________________________________________\n",
            "block2_conv2 (Conv2D)        (None, 112, 112, 128)     147584    \n",
            "_________________________________________________________________\n",
            "block2_pool (MaxPooling2D)   (None, 56, 56, 128)       0         \n",
            "_________________________________________________________________\n",
            "block3_conv1 (Conv2D)        (None, 56, 56, 256)       295168    \n",
            "_________________________________________________________________\n",
            "block3_conv2 (Conv2D)        (None, 56, 56, 256)       590080    \n",
            "_________________________________________________________________\n",
            "block3_conv3 (Conv2D)        (None, 56, 56, 256)       590080    \n",
            "_________________________________________________________________\n",
            "block3_pool (MaxPooling2D)   (None, 28, 28, 256)       0         \n",
            "_________________________________________________________________\n",
            "block4_conv1 (Conv2D)        (None, 28, 28, 512)       1180160   \n",
            "_________________________________________________________________\n",
            "block4_conv2 (Conv2D)        (None, 28, 28, 512)       2359808   \n",
            "_________________________________________________________________\n",
            "block4_conv3 (Conv2D)        (None, 28, 28, 512)       2359808   \n",
            "_________________________________________________________________\n",
            "block4_pool (MaxPooling2D)   (None, 14, 14, 512)       0         \n",
            "_________________________________________________________________\n",
            "block5_conv1 (Conv2D)        (None, 14, 14, 512)       2359808   \n",
            "_________________________________________________________________\n",
            "block5_conv2 (Conv2D)        (None, 14, 14, 512)       2359808   \n",
            "_________________________________________________________________\n",
            "block5_conv3 (Conv2D)        (None, 14, 14, 512)       2359808   \n",
            "_________________________________________________________________\n",
            "block5_pool (MaxPooling2D)   (None, 7, 7, 512)         0         \n",
            "_________________________________________________________________\n",
            "flatten (Flatten)            (None, 25088)             0         \n",
            "_________________________________________________________________\n",
            "fc1 (Dense)                  (None, 4096)              102764544 \n",
            "_________________________________________________________________\n",
            "fc2 (Dense)                  (None, 4096)              16781312  \n",
            "_________________________________________________________________\n",
            "predictions (Dense)          (None, 1000)              4097000   \n",
            "=================================================================\n",
            "Total params: 138,357,544\n",
            "Trainable params: 138,357,544\n",
            "Non-trainable params: 0\n",
            "_________________________________________________________________\n"
          ],
          "name": "stdout"
        }
      ]
    },
    {
      "cell_type": "code",
      "metadata": {
        "id": "aK0GNbn6Qcj0"
      },
      "source": [
        "epocas = 30\n",
        "bs = 20\n",
        "lr = 0.0001\n",
        "optim = Adam(learning_rate = lr)\n",
        "model.compile(optimizer = optim, loss = 'categorical_crossentropy', metrics = ['accuracy'])\n",
        "reduce_lr = ReduceLROnPlateau(monitor='val_loss', factor=0.2, patience=3, min_lr=0.00001)\n",
        "callbacks = [reduce_lr]"
      ],
      "execution_count": 19,
      "outputs": []
    },
    {
      "cell_type": "code",
      "metadata": {
        "id": "TWxhoNU3QeIL",
        "outputId": "3d31ef56-cb43-4c11-f129-37905a193a1b",
        "colab": {
          "base_uri": "https://localhost:8080/"
        }
      },
      "source": [
        "historico = model.fit(datagen.flow(X_train, Y_train, batch_size = bs), epochs = epocas, batch_size = bs, validation_data = (X_val, Y_val), callbacks = callbacks)"
      ],
      "execution_count": 20,
      "outputs": [
        {
          "output_type": "stream",
          "text": [
            "Epoch 1/30\n",
            "321/321 [==============================] - 17s 54ms/step - loss: 0.9273 - accuracy: 0.6797 - val_loss: 0.8689 - val_accuracy: 0.6962\n",
            "Epoch 2/30\n",
            "321/321 [==============================] - 16s 51ms/step - loss: 0.7917 - accuracy: 0.7124 - val_loss: 0.7494 - val_accuracy: 0.7211\n",
            "Epoch 3/30\n",
            "321/321 [==============================] - 17s 52ms/step - loss: 0.7407 - accuracy: 0.7316 - val_loss: 0.8050 - val_accuracy: 0.7180\n",
            "Epoch 4/30\n",
            "321/321 [==============================] - 16s 51ms/step - loss: 0.7077 - accuracy: 0.7391 - val_loss: 0.7285 - val_accuracy: 0.7087\n",
            "Epoch 5/30\n",
            "321/321 [==============================] - 16s 51ms/step - loss: 0.6710 - accuracy: 0.7563 - val_loss: 0.7324 - val_accuracy: 0.7361\n",
            "Epoch 6/30\n",
            "321/321 [==============================] - 16s 51ms/step - loss: 0.6560 - accuracy: 0.7600 - val_loss: 0.6603 - val_accuracy: 0.7586\n",
            "Epoch 7/30\n",
            "321/321 [==============================] - 16s 51ms/step - loss: 0.6356 - accuracy: 0.7653 - val_loss: 0.7187 - val_accuracy: 0.7324\n",
            "Epoch 8/30\n",
            "321/321 [==============================] - 17s 52ms/step - loss: 0.6180 - accuracy: 0.7734 - val_loss: 0.6402 - val_accuracy: 0.7642\n",
            "Epoch 9/30\n",
            "321/321 [==============================] - 17s 52ms/step - loss: 0.6041 - accuracy: 0.7752 - val_loss: 0.6779 - val_accuracy: 0.7380\n",
            "Epoch 10/30\n",
            "321/321 [==============================] - 17s 52ms/step - loss: 0.5833 - accuracy: 0.7844 - val_loss: 0.6385 - val_accuracy: 0.7711\n",
            "Epoch 11/30\n",
            "321/321 [==============================] - 17s 52ms/step - loss: 0.5638 - accuracy: 0.7892 - val_loss: 0.6806 - val_accuracy: 0.7399\n",
            "Epoch 12/30\n",
            "321/321 [==============================] - 17s 52ms/step - loss: 0.5467 - accuracy: 0.8015 - val_loss: 0.6224 - val_accuracy: 0.7798\n",
            "Epoch 13/30\n",
            "321/321 [==============================] - 17s 53ms/step - loss: 0.5296 - accuracy: 0.8025 - val_loss: 0.6599 - val_accuracy: 0.7623\n",
            "Epoch 14/30\n",
            "321/321 [==============================] - 17s 52ms/step - loss: 0.5251 - accuracy: 0.8051 - val_loss: 0.5800 - val_accuracy: 0.8004\n",
            "Epoch 15/30\n",
            "321/321 [==============================] - 17s 52ms/step - loss: 0.5092 - accuracy: 0.8106 - val_loss: 0.6216 - val_accuracy: 0.7842\n",
            "Epoch 16/30\n",
            "321/321 [==============================] - 17s 52ms/step - loss: 0.4776 - accuracy: 0.8237 - val_loss: 0.6171 - val_accuracy: 0.7948\n",
            "Epoch 17/30\n",
            "321/321 [==============================] - 17s 52ms/step - loss: 0.4748 - accuracy: 0.8242 - val_loss: 0.6030 - val_accuracy: 0.7867\n",
            "Epoch 18/30\n",
            "321/321 [==============================] - 17s 53ms/step - loss: 0.3739 - accuracy: 0.8622 - val_loss: 0.5317 - val_accuracy: 0.8122\n",
            "Epoch 19/30\n",
            "321/321 [==============================] - 17s 54ms/step - loss: 0.3411 - accuracy: 0.8741 - val_loss: 0.5284 - val_accuracy: 0.8235\n",
            "Epoch 20/30\n",
            "321/321 [==============================] - 17s 53ms/step - loss: 0.3226 - accuracy: 0.8799 - val_loss: 0.5663 - val_accuracy: 0.8135\n",
            "Epoch 21/30\n",
            "321/321 [==============================] - 17s 53ms/step - loss: 0.3155 - accuracy: 0.8827 - val_loss: 0.5727 - val_accuracy: 0.8104\n",
            "Epoch 22/30\n",
            "321/321 [==============================] - 17s 53ms/step - loss: 0.2931 - accuracy: 0.8894 - val_loss: 0.5615 - val_accuracy: 0.8203\n",
            "Epoch 23/30\n",
            "321/321 [==============================] - 17s 53ms/step - loss: 0.2707 - accuracy: 0.8994 - val_loss: 0.5749 - val_accuracy: 0.8222\n",
            "Epoch 24/30\n",
            "321/321 [==============================] - 17s 53ms/step - loss: 0.2638 - accuracy: 0.9008 - val_loss: 0.5815 - val_accuracy: 0.8222\n",
            "Epoch 25/30\n",
            "321/321 [==============================] - 17s 53ms/step - loss: 0.2563 - accuracy: 0.9064 - val_loss: 0.5586 - val_accuracy: 0.8309\n",
            "Epoch 26/30\n",
            "321/321 [==============================] - 17s 53ms/step - loss: 0.2506 - accuracy: 0.9067 - val_loss: 0.5882 - val_accuracy: 0.8172\n",
            "Epoch 27/30\n",
            "321/321 [==============================] - 17s 53ms/step - loss: 0.2503 - accuracy: 0.9092 - val_loss: 0.5908 - val_accuracy: 0.8260\n",
            "Epoch 28/30\n",
            "321/321 [==============================] - 17s 53ms/step - loss: 0.2409 - accuracy: 0.9117 - val_loss: 0.6000 - val_accuracy: 0.8253\n",
            "Epoch 29/30\n",
            "321/321 [==============================] - 17s 53ms/step - loss: 0.2293 - accuracy: 0.9134 - val_loss: 0.6115 - val_accuracy: 0.8235\n",
            "Epoch 30/30\n",
            "321/321 [==============================] - 17s 53ms/step - loss: 0.2303 - accuracy: 0.9117 - val_loss: 0.6238 - val_accuracy: 0.8203\n"
          ],
          "name": "stdout"
        }
      ]
    },
    {
      "cell_type": "code",
      "metadata": {
        "id": "GgHwxyxScPYs",
        "outputId": "0fced77e-91b2-456e-8e3c-4e7cdd7211c1",
        "colab": {
          "base_uri": "https://localhost:8080/",
          "height": 295
        }
      },
      "source": [
        "plt.plot(historico.history['accuracy'], c = 'b')\n",
        "plt.plot(historico.history['val_accuracy'], c = 'r')\n",
        "plt.legend(['Train', 'Validacion'])\n",
        "plt.xlabel('Epocas')\n",
        "plt.ylabel('Medida')\n",
        "plt.title('Evolucion Entrenamiento')\n",
        "plt.show()"
      ],
      "execution_count": 21,
      "outputs": [
        {
          "output_type": "display_data",
          "data": {
            "image/png": "[encoded data removed]",
            "text/plain": [
              "<Figure size 432x288 with 1 Axes>"
            ]
          },
          "metadata": {
            "tags": [],
            "needs_background": "light"
          }
        }
      ]
    },
    {
      "cell_type": "code",
      "metadata": {
        "id": "MopYHtLIcPzy",
        "outputId": "f3368bde-f586-47d2-92b1-b505423c4488",
        "colab": {
          "base_uri": "https://localhost:8080/",
          "height": 295
        }
      },
      "source": [
        "plt.plot(historico.history['loss'], c = 'b')\n",
        "plt.plot(historico.history['val_loss'], c = 'r')\n",
        "plt.legend(['Train', 'Validacion'])\n",
        "plt.xlabel('Epocas')\n",
        "plt.ylabel('Medida')\n",
        "plt.title('Evolucion Entrenamiento')\n",
        "plt.show()"
      ],
      "execution_count": 22,
      "outputs": [
        {
          "output_type": "display_data",
          "data": {
            "image/png": "[encoded data removed]",
            "text/plain": [
              "<Figure size 432x288 with 1 Axes>"
            ]
          },
          "metadata": {
            "tags": [],
            "needs_background": "light"
          }
        }
      ]
    },
    {
      "cell_type": "code",
      "metadata": {
        "id": "qZepWyf8Qj3V",
        "outputId": "ecedb70f-c5ec-48e3-d7ea-2d58ef6a377a",
        "colab": {
          "base_uri": "https://localhost:8080/"
        }
      },
      "source": [
        "metricas = model.evaluate(X_test, Y_test)"
      ],
      "execution_count": 23,
      "outputs": [
        {
          "output_type": "stream",
          "text": [
            "63/63 [==============================] - 1s 17ms/step - loss: 0.5590 - accuracy: 0.8283\n"
          ],
          "name": "stdout"
        }
      ]
    },
    {
      "cell_type": "code",
      "metadata": {
        "id": "A_RbeR3OjfV9"
      },
      "source": [
        ""
      ],
      "execution_count": null,
      "outputs": []
    }
  ]
}