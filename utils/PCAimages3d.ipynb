{
  "nbformat": 4,
  "nbformat_minor": 0,
  "metadata": {
    "colab": {
      "name": "PCAimages3d.ipynb",
      "provenance": []
    },
    "kernelspec": {
      "name": "python3",
      "display_name": "Python 3"
    }
  },
  "cells": [
    {
      "cell_type": "code",
      "metadata": {
        "id": "qF3MURq37R19"
      },
      "source": [
        "#!pip install numpy==1.15.4\n",
        "#!pip install deepdish\n",
        "#!pip install tensorflow==1.15"
      ],
      "execution_count": null,
      "outputs": []
    },
    {
      "cell_type": "code",
      "metadata": {
        "id": "qTRg-4MI7aTt"
      },
      "source": [
        "%matplotlib inline\n",
        "import matplotlib.pyplot as plt\n",
        "import numpy as np\n",
        "import pandas as pd\n",
        "import os\n",
        "import deepdish as dd\n",
        "import tensorflow as tf\n",
        "from sklearn.model_selection import train_test_split"
      ],
      "execution_count": null,
      "outputs": []
    },
    {
      "cell_type": "code",
      "metadata": {
        "id": "W9EeNiUk7bm4"
      },
      "source": [
        "from google.colab import drive\n",
        "drive.mount('/content/drive')\n",
        "os.chdir('/content/drive/My Drive/ISIS_dataset')"
      ],
      "execution_count": null,
      "outputs": []
    },
    {
      "cell_type": "code",
      "metadata": {
        "id": "8kwfIIhP9DFn"
      },
      "source": [
        "#!pip install numpy==1.15.4"
      ],
      "execution_count": null,
      "outputs": []
    },
    {
      "cell_type": "code",
      "metadata": {
        "id": "9wpoltCc9Dp7"
      },
      "source": [
        "data = dd.io.load('ISIC_dataset.h5')\n",
        "data_df = pd.DataFrame(data)"
      ],
      "execution_count": null,
      "outputs": []
    },
    {
      "cell_type": "code",
      "metadata": {
        "id": "-21Px0vw9DtX"
      },
      "source": [
        "X_raw = data_df.image\n",
        "Y = data_df.cell_type_idx"
      ],
      "execution_count": null,
      "outputs": []
    },
    {
      "cell_type": "code",
      "metadata": {
        "id": "76T8vvXq9DwL"
      },
      "source": [
        "Y.iloc[:3]"
      ],
      "execution_count": null,
      "outputs": []
    },
    {
      "cell_type": "code",
      "metadata": {
        "id": "ZoqHUwwn9Dyo"
      },
      "source": [
        "#Asi se divide los labels\n",
        "prueba = Y[Y == 2]"
      ],
      "execution_count": null,
      "outputs": []
    },
    {
      "cell_type": "code",
      "metadata": {
        "id": "TL2hEPKa9D1A"
      },
      "source": [
        "prueba.value_counts()"
      ],
      "execution_count": null,
      "outputs": []
    },
    {
      "cell_type": "code",
      "metadata": {
        "id": "awuDE1vZ9D3h"
      },
      "source": [
        "Y.value_counts()"
      ],
      "execution_count": null,
      "outputs": []
    },
    {
      "cell_type": "code",
      "metadata": {
        "id": "Dc-KJWEA9D52"
      },
      "source": [
        "Y.unique()"
      ],
      "execution_count": null,
      "outputs": []
    },
    {
      "cell_type": "code",
      "metadata": {
        "id": "HxNN3c5w9D8M"
      },
      "source": [
        "Y.iloc[1]"
      ],
      "execution_count": null,
      "outputs": []
    },
    {
      "cell_type": "code",
      "metadata": {
        "id": "MD_jBxmY9P_v"
      },
      "source": [
        "New_X = []\n",
        "for i in range(len(Y)):\n",
        "  if Y.iloc[i] == 4:\n",
        "    New_X.append(X_raw.iloc[i])\n",
        "print(len(New_X))\n",
        "New_X_Array = np.array(New_X).reshape(-1,75,100,3)\n",
        "New_X_Array.shape\n",
        "plt.imshow(New_X_Array[1,:,:,:])"
      ],
      "execution_count": null,
      "outputs": []
    },
    {
      "cell_type": "code",
      "metadata": {
        "id": "3JIGksRc9QV8"
      },
      "source": [
        "New_X_Array = np.array(New_X).reshape(-1,75,100,3)"
      ],
      "execution_count": null,
      "outputs": []
    },
    {
      "cell_type": "code",
      "metadata": {
        "id": "NvoV37qo9QYN"
      },
      "source": [
        "print(New_X_Array.shape)\n",
        "plt.imshow(New_X_Array[1,:,:,:])"
      ],
      "execution_count": null,
      "outputs": []
    },
    {
      "cell_type": "code",
      "metadata": {
        "id": "0xjpc9Qt9Qa8"
      },
      "source": [
        "from sklearn.decomposition import PCA\n",
        "from sklearn.preprocessing import StandardScaler"
      ],
      "execution_count": null,
      "outputs": []
    },
    {
      "cell_type": "code",
      "metadata": {
        "id": "bgIB8Z1g9QdT"
      },
      "source": [
        "First_Channel = New_X_Array[:2000,:,:,0]\n",
        "Second_Channel = New_X_Array[:2000,:,:,1]\n",
        "Third_Channel = New_X_Array[:2000,:,:,2]"
      ],
      "execution_count": null,
      "outputs": []
    },
    {
      "cell_type": "code",
      "metadata": {
        "id": "kYUBaD919Qfv"
      },
      "source": [
        "print(First_Channel.shape)\n",
        "print(Second_Channel.shape)\n",
        "print(Third_Channel.shape)"
      ],
      "execution_count": null,
      "outputs": []
    },
    {
      "cell_type": "code",
      "metadata": {
        "id": "4KN0GJGi9QiK"
      },
      "source": [
        "First_Channel = First_Channel.reshape(-1,7500)\n",
        "Second_Channel = Second_Channel.reshape(-1,7500)\n",
        "Third_Channel = Third_Channel.reshape(-1,7500)"
      ],
      "execution_count": null,
      "outputs": []
    },
    {
      "cell_type": "code",
      "metadata": {
        "id": "qCm_f_ea9QkT"
      },
      "source": [
        "print(First_Channel.shape)\n",
        "print(Second_Channel.shape)\n",
        "print(Third_Channel.shape)"
      ],
      "execution_count": null,
      "outputs": []
    },
    {
      "cell_type": "code",
      "metadata": {
        "id": "i7hfYSP49ckD"
      },
      "source": [
        "scaler.fit(First_Channel)\n",
        "scaler.fit(Second_Channel)\n",
        "scaler.fit(Third_Channel)\n",
        "First_Channel_sc = scaler.transform(First_Channel)\n",
        "Second_Channel_sc= scaler.transform(Second_Channel)\n",
        "Third_Channel_sc= scaler.transform(Third_Channel)"
      ],
      "execution_count": null,
      "outputs": []
    },
    {
      "cell_type": "code",
      "metadata": {
        "id": "r-0-1FmN9ctH"
      },
      "source": [
        "DATOS = [First_Channel_sc,Second_Channel_sc,Third_Channel_sc]"
      ],
      "execution_count": null,
      "outputs": []
    },
    {
      "cell_type": "code",
      "metadata": {
        "id": "I2ie-sQs9cv7"
      },
      "source": [
        "def PCA_RGB (DATO):\n",
        "  pca = PCA(n_components=2000)\n",
        "  j=0\n",
        "  for i in DATO:\n",
        "    j+=1\n",
        "    pca.fit(i)\n",
        "    plt.plot(np.cumsum(pca.explained_variance_ratio_))\n",
        "    print(\"channel\",j)\n",
        "    plt.xlabel('Number of components')\n",
        "    plt.ylabel('Cumulative explained variance')\n",
        "    plt.show()"
      ],
      "execution_count": null,
      "outputs": []
    },
    {
      "cell_type": "code",
      "metadata": {
        "id": "_wzj3SMh9cyj"
      },
      "source": [
        "PCA_RGB(DATOS)"
      ],
      "execution_count": null,
      "outputs": []
    },
    {
      "cell_type": "code",
      "metadata": {
        "id": "pkA1wqCy9c1P"
      },
      "source": [
        "\n",
        "def NEW_PCA_ARRAY (DATOS,num_comp):\n",
        "  DATOS_PCA =[]\n",
        "  STD_PCA = []\n",
        "  j = 0 \n",
        "  for i in DATOS: \n",
        "    pca = PCA(n_components=num_comp[j])\n",
        "    X_pca_array = pca.fit_transform(i)\n",
        "    DATOS_PCA.append(X_pca_array)\n",
        "    pca_std = np.std(X_pca_array)\n",
        "    STD_PCA.append(pca_std)\n",
        "    j+=1\n",
        "  return (DATOS_PCA,STD_PCA)"
      ],
      "execution_count": null,
      "outputs": []
    },
    {
      "cell_type": "code",
      "metadata": {
        "id": "GM4r4GMW9c3h"
      },
      "source": [
        "NUM_COMP=[750,750,750]"
      ],
      "execution_count": null,
      "outputs": []
    },
    {
      "cell_type": "code",
      "metadata": {
        "id": "z2bUPDcQ9c56"
      },
      "source": [
        "ChannelNewComponents = NEW_PCA_ARRAY(DATOS,NUM_COMP)"
      ],
      "execution_count": null,
      "outputs": []
    },
    {
      "cell_type": "code",
      "metadata": {
        "id": "iMKdyvHK9qYI"
      },
      "source": [
        "NEW_CHANNELS = ChannelNewComponents[0]"
      ],
      "execution_count": null,
      "outputs": []
    },
    {
      "cell_type": "code",
      "metadata": {
        "id": "8z_nHj5Q9qoz"
      },
      "source": [
        "pca = PCA(n_components=6700)\n",
        "for i in DATO:\n",
        "   pca.fit(i)"
      ],
      "execution_count": null,
      "outputs": []
    },
    {
      "cell_type": "code",
      "metadata": {
        "id": "ScY4i36Z9qrV"
      },
      "source": [
        "def INVERSA_PCA_SC_to_IMAGE(datosPCA,DATO):\n",
        "  pca = PCA(n_components=750)\n",
        "  for i in DATO:\n",
        "   pca.fit(i)\n",
        "  INV_PCA = []\n",
        "  for i in datosPCA:\n",
        "    inv_pca = pca.inverse_transform(i)\n",
        "    inv_sc = scaler.inverse_transform(inv_pca)\n",
        "    INV_PCA.append(inv_sc)\n",
        "  return INV_PCA"
      ],
      "execution_count": null,
      "outputs": []
    },
    {
      "cell_type": "code",
      "metadata": {
        "id": "ylcKexrW9quA"
      },
      "source": [
        "NEW_CHANNELS_INV = INVERSA_PCA_SC_to_IMAGE(NEW_CHANNELS,DATOS)"
      ],
      "execution_count": null,
      "outputs": []
    },
    {
      "cell_type": "code",
      "metadata": {
        "id": "d4zmsz5n9xJz"
      },
      "source": [
        "print(NEW_CHANNELS_INV[0].shape)\n",
        "print(NEW_CHANNELS_INV[1].shape)\n",
        "print(NEW_CHANNELS_INV[2].shape)"
      ],
      "execution_count": null,
      "outputs": []
    },
    {
      "cell_type": "code",
      "metadata": {
        "id": "PcTiwQL49xMz"
      },
      "source": [
        "import cv2"
      ],
      "execution_count": null,
      "outputs": []
    },
    {
      "cell_type": "code",
      "metadata": {
        "id": "LsmhwXRI9xPX"
      },
      "source": [
        "images = cv2.merge((NEW_CHANNELS_INV[0],NEW_CHANNELS_INV[1],NEW_CHANNELS_INV[2]))"
      ],
      "execution_count": null,
      "outputs": []
    },
    {
      "cell_type": "code",
      "metadata": {
        "id": "lsFAucua9xR6"
      },
      "source": [
        "print(images.shape)\n",
        "images = images.reshape(-1,75,100,3)\n",
        "print(images.shape)"
      ],
      "execution_count": null,
      "outputs": []
    },
    {
      "cell_type": "code",
      "metadata": {
        "id": "MnYTyIbq9xUX"
      },
      "source": [
        "New_X_Array"
      ],
      "execution_count": null,
      "outputs": []
    },
    {
      "cell_type": "code",
      "metadata": {
        "id": "ax5ZBWjZ9xW3"
      },
      "source": [
        "plt.imshow(New_X_Array[0])"
      ],
      "execution_count": null,
      "outputs": []
    },
    {
      "cell_type": "code",
      "metadata": {
        "id": "_u_HwpS49xZV"
      },
      "source": [
        "images = images/images.max()"
      ],
      "execution_count": null,
      "outputs": []
    },
    {
      "cell_type": "code",
      "metadata": {
        "id": "Hr_UTHVA9qy8"
      },
      "source": [
        "plt.imshow(images[0])"
      ],
      "execution_count": null,
      "outputs": []
    },
    {
      "cell_type": "code",
      "metadata": {
        "id": "PRd66h6a99in"
      },
      "source": [
        "def side_by_side(indexes):\n",
        "    org = New_X_Array[indexes]/New_X_Array.max()\n",
        "    rec = images[indexes]\n",
        "    pair = np.concatenate((org, rec), axis=1)\n",
        "    plt.figure(figsize=(8,6))\n",
        "    plt.imshow(pair)\n",
        "    plt.show()\n",
        "    \n",
        "for index in range(5):\n",
        "    side_by_side(index)"
      ],
      "execution_count": null,
      "outputs": []
    }
  ]
}