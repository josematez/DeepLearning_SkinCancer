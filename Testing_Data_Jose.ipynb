{
  "nbformat": 4,
  "nbformat_minor": 0,
  "metadata": {
    "colab": {
      "name": "Testing_Data_Jose.ipynb",
      "provenance": [],
      "collapsed_sections": [],
      "mount_file_id": "1LVuRT39Ln6W9CiEWRmOVvj6qqab9c8RJ",
      "authorship_tag": "ABX9TyP3g1v1XkNhjOettHrrSeqi",
      "include_colab_link": true
    },
    "kernelspec": {
      "name": "python3",
      "display_name": "Python 3"
    },
    "accelerator": "GPU"
  },
  "cells": [
    {
      "cell_type": "markdown",
      "metadata": {
        "id": "view-in-github",
        "colab_type": "text"
      },
      "source": [
        "<a href=\"https://colab.research.google.com/github/josematez/DeepLearning_SkinCancer/blob/main/Testing_Data_Jose.ipynb\" target=\"_parent\"><img src=\"https://colab.research.google.com/assets/colab-badge.svg\" alt=\"Open In Colab\"/></a>"
      ]
    },
    {
      "cell_type": "code",
      "metadata": {
        "id": "46GSQ_3wuU8T",
        "outputId": "5fa31506-3390-48ac-fab3-cde06d01cf3b",
        "colab": {
          "base_uri": "https://localhost:8080/"
        }
      },
      "source": [
        "!pip install numpy==1.15.4\n",
        "!pip install deepdish\n",
        "#!pip install tensorflow==1.15\n",
        "#!pip install keras"
      ],
      "execution_count": 1,
      "outputs": [
        {
          "output_type": "stream",
          "text": [
            "Requirement already satisfied: numpy==1.15.4 in /usr/local/lib/python3.6/dist-packages (1.15.4)\n",
            "Requirement already satisfied: deepdish in /usr/local/lib/python3.6/dist-packages (0.3.6)\n",
            "Requirement already satisfied: tables in /usr/local/lib/python3.6/dist-packages (from deepdish) (3.4.4)\n",
            "Requirement already satisfied: scipy in /usr/local/lib/python3.6/dist-packages (from deepdish) (1.4.1)\n",
            "Requirement already satisfied: numpy in /usr/local/lib/python3.6/dist-packages (from deepdish) (1.15.4)\n",
            "Requirement already satisfied: numexpr>=2.5.2 in /usr/local/lib/python3.6/dist-packages (from tables->deepdish) (2.7.1)\n",
            "Requirement already satisfied: six>=1.9.0 in /usr/local/lib/python3.6/dist-packages (from tables->deepdish) (1.15.0)\n"
          ],
          "name": "stdout"
        }
      ]
    },
    {
      "cell_type": "code",
      "metadata": {
        "id": "R_m79alguZ9P"
      },
      "source": [
        "%matplotlib inline\n",
        "import matplotlib.pyplot as plt\n",
        "import numpy as np\n",
        "import pandas as pd\n",
        "import os\n",
        "import deepdish as dd\n",
        "from sklearn.model_selection import train_test_split\n",
        "from keras.models import Sequential\n",
        "from keras.layers import Dense, Conv2D, Dropout, Flatten, MaxPooling2D\n",
        "from keras.utils import to_categorical, plot_model\n",
        "from keras.optimizers import Adam, RMSprop, SGD\n",
        "from keras.callbacks import ReduceLROnPlateau"
      ],
      "execution_count": 2,
      "outputs": []
    },
    {
      "cell_type": "code",
      "metadata": {
        "id": "K3IKV5kvucC1",
        "outputId": "14943edd-5c33-4994-c986-986c2273ac7b",
        "colab": {
          "base_uri": "https://localhost:8080/"
        }
      },
      "source": [
        "from google.colab import drive\n",
        "drive.mount('/content/drive')\n",
        "os.chdir('/content/drive/My Drive/ISIC_Dataset')"
      ],
      "execution_count": 3,
      "outputs": [
        {
          "output_type": "stream",
          "text": [
            "Drive already mounted at /content/drive; to attempt to forcibly remount, call drive.mount(\"/content/drive\", force_remount=True).\n"
          ],
          "name": "stdout"
        }
      ]
    },
    {
      "cell_type": "code",
      "metadata": {
        "id": "kQlULaeIudf8"
      },
      "source": [
        "data = dd.io.load('ISIC_dataset.h5')\n",
        "data_df = pd.DataFrame(data)"
      ],
      "execution_count": 4,
      "outputs": []
    },
    {
      "cell_type": "code",
      "metadata": {
        "id": "j4LrYJwZuemq"
      },
      "source": [
        "X_raw = data_df.image\n",
        "Y = data_df.cell_type_idx"
      ],
      "execution_count": 5,
      "outputs": []
    },
    {
      "cell_type": "code",
      "metadata": {
        "id": "aPIuLWUK5JGe"
      },
      "source": [
        "X = np.zeros((10015, 75, 100, 3))\n",
        "\n",
        "for i in range(10015):\n",
        "  X[i,:,:,:] = X_raw[i]"
      ],
      "execution_count": 6,
      "outputs": []
    },
    {
      "cell_type": "code",
      "metadata": {
        "id": "fX-nCzguvbxT",
        "outputId": "c4b5b0d9-842e-49ce-9e81-b2acb9fef58b",
        "colab": {
          "base_uri": "https://localhost:8080/"
        }
      },
      "source": [
        "print(\"Tamaño datos X: {}\".format(X.shape))\n",
        "print(\"Tamaño datos Y: {}\".format(Y.shape))"
      ],
      "execution_count": 7,
      "outputs": [
        {
          "output_type": "stream",
          "text": [
            "Tamaño datos X: (10015, 75, 100, 3)\n",
            "Tamaño datos Y: (10015,)\n"
          ],
          "name": "stdout"
        }
      ]
    },
    {
      "cell_type": "code",
      "metadata": {
        "id": "TCFKQAkHvDrw"
      },
      "source": [
        "X_train, X_test, Y_train, Y_test = train_test_split(X, Y, test_size = 0.3, random_state = 123)"
      ],
      "execution_count": 8,
      "outputs": []
    },
    {
      "cell_type": "code",
      "metadata": {
        "id": "wDIKZ_QyDY-M"
      },
      "source": [
        "X_train = (X_train / np.max(X_train))\n",
        "X_test = (X_test / np.max(X_test))"
      ],
      "execution_count": 9,
      "outputs": []
    },
    {
      "cell_type": "code",
      "metadata": {
        "id": "OnJa21jVQxcz"
      },
      "source": [
        "Y_train = to_categorical(Y_train, num_classes = 7)\n",
        "Y_test = to_categorical(Y_test, num_classes = 7)"
      ],
      "execution_count": 10,
      "outputs": []
    },
    {
      "cell_type": "code",
      "metadata": {
        "id": "3h1miH4BP4NK"
      },
      "source": [
        "input_shape = (75, 100, 3)\n",
        "num_classes = 7\n",
        "\n",
        "model = Sequential()\n",
        "model.add(Conv2D(filters = 128, kernel_size=(5, 5),activation='relu',padding = 'Same',input_shape=input_shape))\n",
        "model.add(Conv2D(filters = 64, kernel_size=(4, 4), activation='relu',padding = 'Same',))\n",
        "model.add(MaxPooling2D(pool_size = 2))\n",
        "model.add(Dropout(0.4))\n",
        "\n",
        "model.add(Conv2D(64, (3, 3), activation='relu',padding = 'Same'))\n",
        "model.add(Conv2D(64, (3, 3), activation='relu',padding = 'Same'))\n",
        "model.add(MaxPooling2D(pool_size = 2))\n",
        "model.add(Dropout(0.5))\n",
        "\n",
        "model.add(Flatten())\n",
        "model.add(Dense(256, activation='relu'))\n",
        "model.add(Dropout(0.5))\n",
        "model.add(Dense(num_classes, activation='softmax'))"
      ],
      "execution_count": 11,
      "outputs": []
    },
    {
      "cell_type": "code",
      "metadata": {
        "id": "Sdn3UXHHQMBz",
        "outputId": "2db96425-04a3-4905-a666-ffd6666042bc",
        "colab": {
          "base_uri": "https://localhost:8080/"
        }
      },
      "source": [
        "model.summary()"
      ],
      "execution_count": 12,
      "outputs": [
        {
          "output_type": "stream",
          "text": [
            "Model: \"sequential\"\n",
            "_________________________________________________________________\n",
            "Layer (type)                 Output Shape              Param #   \n",
            "=================================================================\n",
            "conv2d (Conv2D)              (None, 75, 100, 128)      9728      \n",
            "_________________________________________________________________\n",
            "conv2d_1 (Conv2D)            (None, 75, 100, 64)       131136    \n",
            "_________________________________________________________________\n",
            "max_pooling2d (MaxPooling2D) (None, 37, 50, 64)        0         \n",
            "_________________________________________________________________\n",
            "dropout (Dropout)            (None, 37, 50, 64)        0         \n",
            "_________________________________________________________________\n",
            "conv2d_2 (Conv2D)            (None, 37, 50, 64)        36928     \n",
            "_________________________________________________________________\n",
            "conv2d_3 (Conv2D)            (None, 37, 50, 64)        36928     \n",
            "_________________________________________________________________\n",
            "max_pooling2d_1 (MaxPooling2 (None, 18, 25, 64)        0         \n",
            "_________________________________________________________________\n",
            "dropout_1 (Dropout)          (None, 18, 25, 64)        0         \n",
            "_________________________________________________________________\n",
            "flatten (Flatten)            (None, 28800)             0         \n",
            "_________________________________________________________________\n",
            "dense (Dense)                (None, 256)               7373056   \n",
            "_________________________________________________________________\n",
            "dropout_2 (Dropout)          (None, 256)               0         \n",
            "_________________________________________________________________\n",
            "dense_1 (Dense)              (None, 7)                 1799      \n",
            "=================================================================\n",
            "Total params: 7,589,575\n",
            "Trainable params: 7,589,575\n",
            "Non-trainable params: 0\n",
            "_________________________________________________________________\n"
          ],
          "name": "stdout"
        }
      ]
    },
    {
      "cell_type": "code",
      "metadata": {
        "id": "aK0GNbn6Qcj0"
      },
      "source": [
        "epocas = 50\n",
        "bs = 20\n",
        "lr = 0.0001\n",
        "optim = Adam(learning_rate = lr)\n",
        "model.compile(optimizer = optim, loss = 'categorical_crossentropy', metrics = ['accuracy'])\n",
        "reduce_lr = ReduceLROnPlateau(monitor='val_loss', factor=0.2, patience=3, min_lr=0.00001)\n",
        "callbacks = [reduce_lr]"
      ],
      "execution_count": 13,
      "outputs": []
    },
    {
      "cell_type": "code",
      "metadata": {
        "id": "TWxhoNU3QeIL",
        "outputId": "616d6079-8533-4f43-b40f-2c84c3f18f7d",
        "colab": {
          "base_uri": "https://localhost:8080/"
        }
      },
      "source": [
        "historico = model.fit(X_train, Y_train, epochs = epocas, batch_size = bs, validation_split = 0.2, callbacks = callbacks)"
      ],
      "execution_count": 14,
      "outputs": [
        {
          "output_type": "stream",
          "text": [
            "Epoch 1/50\n",
            "  1/281 [..............................] - ETA: 0s - loss: 1.9470 - accuracy: 0.1000WARNING:tensorflow:Callbacks method `on_train_batch_end` is slow compared to the batch time (batch time: 0.0155s vs `on_train_batch_end` time: 0.0298s). Check your callbacks.\n",
            "281/281 [==============================] - 14s 51ms/step - loss: 1.0686 - accuracy: 0.6742 - val_loss: 1.1024 - val_accuracy: 0.6583\n",
            "Epoch 2/50\n",
            "281/281 [==============================] - 14s 51ms/step - loss: 0.9665 - accuracy: 0.6760 - val_loss: 1.0677 - val_accuracy: 0.6569\n",
            "Epoch 3/50\n",
            "281/281 [==============================] - 14s 51ms/step - loss: 0.9235 - accuracy: 0.6762 - val_loss: 1.0220 - val_accuracy: 0.6548\n",
            "Epoch 4/50\n",
            "281/281 [==============================] - 14s 51ms/step - loss: 0.9038 - accuracy: 0.6842 - val_loss: 0.9525 - val_accuracy: 0.6698\n",
            "Epoch 5/50\n",
            "281/281 [==============================] - 14s 51ms/step - loss: 0.8800 - accuracy: 0.6896 - val_loss: 0.9155 - val_accuracy: 0.6790\n",
            "Epoch 6/50\n",
            "281/281 [==============================] - 14s 50ms/step - loss: 0.8567 - accuracy: 0.6908 - val_loss: 0.9139 - val_accuracy: 0.6762\n",
            "Epoch 7/50\n",
            "281/281 [==============================] - 14s 50ms/step - loss: 0.8387 - accuracy: 0.6960 - val_loss: 0.9056 - val_accuracy: 0.6733\n",
            "Epoch 8/50\n",
            "281/281 [==============================] - 14s 51ms/step - loss: 0.8229 - accuracy: 0.6985 - val_loss: 0.8558 - val_accuracy: 0.6969\n",
            "Epoch 9/50\n",
            "281/281 [==============================] - 14s 51ms/step - loss: 0.7988 - accuracy: 0.7134 - val_loss: 0.8487 - val_accuracy: 0.7019\n",
            "Epoch 10/50\n",
            "281/281 [==============================] - 14s 51ms/step - loss: 0.7758 - accuracy: 0.7181 - val_loss: 0.8396 - val_accuracy: 0.6961\n",
            "Epoch 11/50\n",
            "281/281 [==============================] - 14s 50ms/step - loss: 0.7596 - accuracy: 0.7211 - val_loss: 0.8049 - val_accuracy: 0.6961\n",
            "Epoch 12/50\n",
            "281/281 [==============================] - 14s 50ms/step - loss: 0.7260 - accuracy: 0.7274 - val_loss: 0.8026 - val_accuracy: 0.7161\n",
            "Epoch 13/50\n",
            "281/281 [==============================] - 14s 50ms/step - loss: 0.7107 - accuracy: 0.7356 - val_loss: 0.7701 - val_accuracy: 0.7161\n",
            "Epoch 14/50\n",
            "281/281 [==============================] - 14s 50ms/step - loss: 0.6853 - accuracy: 0.7471 - val_loss: 0.7538 - val_accuracy: 0.7218\n",
            "Epoch 15/50\n",
            "281/281 [==============================] - 14s 51ms/step - loss: 0.6640 - accuracy: 0.7512 - val_loss: 0.7546 - val_accuracy: 0.7154\n",
            "Epoch 16/50\n",
            "281/281 [==============================] - 14s 51ms/step - loss: 0.6572 - accuracy: 0.7618 - val_loss: 0.7834 - val_accuracy: 0.7183\n",
            "Epoch 17/50\n",
            "281/281 [==============================] - 14s 51ms/step - loss: 0.6240 - accuracy: 0.7732 - val_loss: 0.7535 - val_accuracy: 0.7261\n",
            "Epoch 18/50\n",
            "281/281 [==============================] - 14s 51ms/step - loss: 0.6135 - accuracy: 0.7737 - val_loss: 0.7430 - val_accuracy: 0.7211\n",
            "Epoch 19/50\n",
            "281/281 [==============================] - 14s 51ms/step - loss: 0.5972 - accuracy: 0.7778 - val_loss: 0.7414 - val_accuracy: 0.7347\n",
            "Epoch 20/50\n",
            "281/281 [==============================] - 14s 51ms/step - loss: 0.5665 - accuracy: 0.7919 - val_loss: 0.7591 - val_accuracy: 0.7225\n",
            "Epoch 21/50\n",
            "281/281 [==============================] - 14s 51ms/step - loss: 0.5533 - accuracy: 0.7989 - val_loss: 0.7682 - val_accuracy: 0.7304\n",
            "Epoch 22/50\n",
            "281/281 [==============================] - 14s 51ms/step - loss: 0.5297 - accuracy: 0.8022 - val_loss: 0.7494 - val_accuracy: 0.7261\n",
            "Epoch 23/50\n",
            "281/281 [==============================] - 14s 51ms/step - loss: 0.4642 - accuracy: 0.8352 - val_loss: 0.7434 - val_accuracy: 0.7425\n",
            "Epoch 24/50\n",
            "281/281 [==============================] - 14s 51ms/step - loss: 0.4442 - accuracy: 0.8329 - val_loss: 0.7588 - val_accuracy: 0.7425\n",
            "Epoch 25/50\n",
            "281/281 [==============================] - 14s 51ms/step - loss: 0.4282 - accuracy: 0.8454 - val_loss: 0.7466 - val_accuracy: 0.7425\n",
            "Epoch 26/50\n",
            "281/281 [==============================] - 14s 51ms/step - loss: 0.4136 - accuracy: 0.8506 - val_loss: 0.7699 - val_accuracy: 0.7439\n",
            "Epoch 27/50\n",
            "281/281 [==============================] - 14s 51ms/step - loss: 0.4075 - accuracy: 0.8516 - val_loss: 0.7498 - val_accuracy: 0.7439\n",
            "Epoch 28/50\n",
            "281/281 [==============================] - 14s 51ms/step - loss: 0.4108 - accuracy: 0.8477 - val_loss: 0.7621 - val_accuracy: 0.7389\n",
            "Epoch 29/50\n",
            "281/281 [==============================] - 14s 51ms/step - loss: 0.3947 - accuracy: 0.8538 - val_loss: 0.7678 - val_accuracy: 0.7439\n",
            "Epoch 30/50\n",
            "281/281 [==============================] - 14s 51ms/step - loss: 0.3979 - accuracy: 0.8527 - val_loss: 0.7696 - val_accuracy: 0.7439\n",
            "Epoch 31/50\n",
            "281/281 [==============================] - 14s 51ms/step - loss: 0.3958 - accuracy: 0.8534 - val_loss: 0.7696 - val_accuracy: 0.7411\n",
            "Epoch 32/50\n",
            "281/281 [==============================] - 14s 51ms/step - loss: 0.3937 - accuracy: 0.8524 - val_loss: 0.7709 - val_accuracy: 0.7425\n",
            "Epoch 33/50\n",
            "281/281 [==============================] - 14s 51ms/step - loss: 0.3852 - accuracy: 0.8586 - val_loss: 0.7701 - val_accuracy: 0.7461\n",
            "Epoch 34/50\n",
            "281/281 [==============================] - 14s 51ms/step - loss: 0.3818 - accuracy: 0.8565 - val_loss: 0.7791 - val_accuracy: 0.7425\n",
            "Epoch 35/50\n",
            "281/281 [==============================] - 14s 51ms/step - loss: 0.3886 - accuracy: 0.8557 - val_loss: 0.7775 - val_accuracy: 0.7411\n",
            "Epoch 36/50\n",
            "281/281 [==============================] - 14s 51ms/step - loss: 0.3832 - accuracy: 0.8588 - val_loss: 0.7763 - val_accuracy: 0.7482\n",
            "Epoch 37/50\n",
            "281/281 [==============================] - 14s 51ms/step - loss: 0.3714 - accuracy: 0.8643 - val_loss: 0.7809 - val_accuracy: 0.7397\n",
            "Epoch 38/50\n",
            "281/281 [==============================] - 14s 51ms/step - loss: 0.3683 - accuracy: 0.8670 - val_loss: 0.7880 - val_accuracy: 0.7447\n",
            "Epoch 39/50\n",
            "281/281 [==============================] - 14s 51ms/step - loss: 0.3715 - accuracy: 0.8627 - val_loss: 0.7886 - val_accuracy: 0.7404\n",
            "Epoch 40/50\n",
            "281/281 [==============================] - 14s 51ms/step - loss: 0.3609 - accuracy: 0.8670 - val_loss: 0.8081 - val_accuracy: 0.7432\n",
            "Epoch 41/50\n",
            "281/281 [==============================] - 14s 51ms/step - loss: 0.3634 - accuracy: 0.8659 - val_loss: 0.7999 - val_accuracy: 0.7454\n",
            "Epoch 42/50\n",
            "281/281 [==============================] - 14s 51ms/step - loss: 0.3717 - accuracy: 0.8593 - val_loss: 0.8061 - val_accuracy: 0.7454\n",
            "Epoch 43/50\n",
            "281/281 [==============================] - 14s 51ms/step - loss: 0.3491 - accuracy: 0.8714 - val_loss: 0.8022 - val_accuracy: 0.7454\n",
            "Epoch 44/50\n",
            "281/281 [==============================] - 14s 51ms/step - loss: 0.3524 - accuracy: 0.8689 - val_loss: 0.8094 - val_accuracy: 0.7475\n",
            "Epoch 45/50\n",
            "281/281 [==============================] - 14s 51ms/step - loss: 0.3417 - accuracy: 0.8746 - val_loss: 0.8144 - val_accuracy: 0.7411\n",
            "Epoch 46/50\n",
            "281/281 [==============================] - 14s 51ms/step - loss: 0.3466 - accuracy: 0.8730 - val_loss: 0.8119 - val_accuracy: 0.7461\n",
            "Epoch 47/50\n",
            "281/281 [==============================] - 14s 51ms/step - loss: 0.3432 - accuracy: 0.8725 - val_loss: 0.8268 - val_accuracy: 0.7454\n",
            "Epoch 48/50\n",
            "281/281 [==============================] - 14s 51ms/step - loss: 0.3483 - accuracy: 0.8750 - val_loss: 0.8248 - val_accuracy: 0.7447\n",
            "Epoch 49/50\n",
            "281/281 [==============================] - 14s 51ms/step - loss: 0.3378 - accuracy: 0.8745 - val_loss: 0.8181 - val_accuracy: 0.7468\n",
            "Epoch 50/50\n",
            "281/281 [==============================] - 14s 51ms/step - loss: 0.3298 - accuracy: 0.8820 - val_loss: 0.8325 - val_accuracy: 0.7468\n"
          ],
          "name": "stdout"
        }
      ]
    },
    {
      "cell_type": "code",
      "metadata": {
        "id": "GgHwxyxScPYs",
        "outputId": "847c4766-fd52-475a-d8f4-c7113b4051a0",
        "colab": {
          "base_uri": "https://localhost:8080/",
          "height": 295
        }
      },
      "source": [
        "plt.plot(historico.history['accuracy'], c = 'b')\n",
        "plt.plot(historico.history['val_accuracy'], c = 'r')\n",
        "plt.legend(['Train', 'Validacion'])\n",
        "plt.xlabel('Epocas')\n",
        "plt.ylabel('Medida')\n",
        "plt.title('Evolucion Entrenamiento')\n",
        "plt.show()"
      ],
      "execution_count": 15,
      "outputs": [
        {
          "output_type": "display_data",
          "data": {
            "image/png": "[encoded data removed]",
            "text/plain": [
              "<Figure size 432x288 with 1 Axes>"
            ]
          },
          "metadata": {
            "tags": [],
            "needs_background": "light"
          }
        }
      ]
    },
    {
      "cell_type": "code",
      "metadata": {
        "id": "MopYHtLIcPzy",
        "outputId": "fabb03cb-b834-40c8-b98e-14053b36ebcf",
        "colab": {
          "base_uri": "https://localhost:8080/",
          "height": 295
        }
      },
      "source": [
        "plt.plot(historico.history['loss'], c = 'b')\n",
        "plt.plot(historico.history['val_loss'], c = 'r')\n",
        "plt.legend(['Train', 'Validacion'])\n",
        "plt.xlabel('Epocas')\n",
        "plt.ylabel('Medida')\n",
        "plt.title('Evolucion Entrenamiento')\n",
        "plt.show()"
      ],
      "execution_count": 16,
      "outputs": [
        {
          "output_type": "display_data",
          "data": {
            "image/png": "[encoded data removed]",
            "text/plain": [
              "<Figure size 432x288 with 1 Axes>"
            ]
          },
          "metadata": {
            "tags": [],
            "needs_background": "light"
          }
        }
      ]
    },
    {
      "cell_type": "code",
      "metadata": {
        "id": "qZepWyf8Qj3V",
        "outputId": "b5f513b0-0ccf-426a-eed8-9d60cb362db8",
        "colab": {
          "base_uri": "https://localhost:8080/"
        }
      },
      "source": [
        "metricas = model.evaluate(X_test, Y_test)"
      ],
      "execution_count": 17,
      "outputs": [
        {
          "output_type": "stream",
          "text": [
            "94/94 [==============================] - 2s 19ms/step - loss: 0.7954 - accuracy: 0.7501\n"
          ],
          "name": "stdout"
        }
      ]
    }
  ]
}