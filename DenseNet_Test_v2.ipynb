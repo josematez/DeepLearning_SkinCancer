{
  "nbformat": 4,
  "nbformat_minor": 0,
  "metadata": {
    "colab": {
      "name": "DenseNet_Test.ipynb",
      "provenance": [],
      "collapsed_sections": [],
      "authorship_tag": "ABX9TyN9P7SPrSxbIhzbp8iqIstr",
      "include_colab_link": true
    },
    "kernelspec": {
      "name": "python3",
      "display_name": "Python 3"
    },
    "accelerator": "GPU"
  },
  "cells": [
    {
      "cell_type": "markdown",
      "metadata": {
        "id": "view-in-github",
        "colab_type": "text"
      },
      "source": [
        "<a href=\"https://colab.research.google.com/github/josematez/DeepLearning_SkinCancer/blob/main/DenseNet_Test_v2.ipynb\" target=\"_parent\"><img src=\"https://colab.research.google.com/assets/colab-badge.svg\" alt=\"Open In Colab\"/></a>"
      ]
    },
    {
      "cell_type": "code",
      "metadata": {
        "id": "O_Fa9CYiV0Ok",
        "outputId": "92d3d3b0-89c8-4e50-aa73-3d862ba27ced",
        "colab": {
          "base_uri": "https://localhost:8080/",
          "height": 514
        }
      },
      "source": [
        "!pip install deepdish\n",
        "!pip install numpy==1.15.4"
      ],
      "execution_count": 1,
      "outputs": [
        {
          "output_type": "stream",
          "text": [
            "Collecting deepdish\n",
            "  Downloading https://files.pythonhosted.org/packages/6e/39/2a47c852651982bc5eb39212ac110284dd20126bdc7b49bde401a0139f5d/deepdish-0.3.6-py2.py3-none-any.whl\n",
            "Requirement already satisfied: scipy in /usr/local/lib/python3.6/dist-packages (from deepdish) (1.4.1)\n",
            "Requirement already satisfied: tables in /usr/local/lib/python3.6/dist-packages (from deepdish) (3.4.4)\n",
            "Requirement already satisfied: numpy in /usr/local/lib/python3.6/dist-packages (from deepdish) (1.18.5)\n",
            "Requirement already satisfied: six>=1.9.0 in /usr/local/lib/python3.6/dist-packages (from tables->deepdish) (1.15.0)\n",
            "Requirement already satisfied: numexpr>=2.5.2 in /usr/local/lib/python3.6/dist-packages (from tables->deepdish) (2.7.1)\n",
            "Installing collected packages: deepdish\n",
            "Successfully installed deepdish-0.3.6\n",
            "Collecting numpy==1.15.4\n",
            "\u001b[?25l  Downloading https://files.pythonhosted.org/packages/ff/7f/9d804d2348471c67a7d8b5f84f9bc59fd1cefa148986f2b74552f8573555/numpy-1.15.4-cp36-cp36m-manylinux1_x86_64.whl (13.9MB)\n",
            "\u001b[K     |████████████████████████████████| 13.9MB 250kB/s \n",
            "\u001b[31mERROR: umap-learn 0.4.6 has requirement numpy>=1.17, but you'll have numpy 1.15.4 which is incompatible.\u001b[0m\n",
            "\u001b[31mERROR: tensorflow 2.3.0 has requirement numpy<1.19.0,>=1.16.0, but you'll have numpy 1.15.4 which is incompatible.\u001b[0m\n",
            "\u001b[31mERROR: plotnine 0.6.0 has requirement numpy>=1.16.0, but you'll have numpy 1.15.4 which is incompatible.\u001b[0m\n",
            "\u001b[31mERROR: datascience 0.10.6 has requirement folium==0.2.1, but you'll have folium 0.8.3 which is incompatible.\u001b[0m\n",
            "\u001b[31mERROR: astropy 4.1 has requirement numpy>=1.16, but you'll have numpy 1.15.4 which is incompatible.\u001b[0m\n",
            "\u001b[31mERROR: albumentations 0.1.12 has requirement imgaug<0.2.7,>=0.2.5, but you'll have imgaug 0.2.9 which is incompatible.\u001b[0m\n",
            "\u001b[?25hInstalling collected packages: numpy\n",
            "  Found existing installation: numpy 1.18.5\n",
            "    Uninstalling numpy-1.18.5:\n",
            "      Successfully uninstalled numpy-1.18.5\n",
            "Successfully installed numpy-1.15.4\n"
          ],
          "name": "stdout"
        },
        {
          "output_type": "display_data",
          "data": {
            "application/vnd.colab-display-data+json": {
              "pip_warning": {
                "packages": [
                  "numpy"
                ]
              }
            }
          },
          "metadata": {
            "tags": []
          }
        }
      ]
    },
    {
      "cell_type": "code",
      "metadata": {
        "id": "2SJTaYpGU0HX"
      },
      "source": [
        "%matplotlib inline\n",
        "import matplotlib.pyplot as plt\n",
        "import numpy as np\n",
        "import pandas as pd\n",
        "import os\n",
        "import deepdish as dd\n",
        "#from tqdm import tqdm\n",
        "#from glob import glob\n",
        "#import seaborn as sns\n",
        "#import pprint as pp\n",
        "\n",
        "from sklearn.model_selection import train_test_split\n",
        "from sklearn.metrics import confusion_matrix\n",
        "from sklearn.utils import resample\n",
        "\n",
        "import tensorflow as tf\n",
        "from tensorflow import keras\n",
        "from tensorflow.keras import layers\n",
        "from keras.utils import np_utils, to_categorical, plot_model\n",
        "from keras.callbacks import ReduceLROnPlateau\n",
        "from keras.optimizers import Adam, RMSprop, SGD\n",
        "from keras.preprocessing.image import ImageDataGenerator\n",
        "\n",
        "#import itertools\n",
        "\n",
        "#import cv2\n",
        "#from PIL import Image"
      ],
      "execution_count": 1,
      "outputs": []
    },
    {
      "cell_type": "code",
      "metadata": {
        "id": "myUH8aqdVKhe",
        "outputId": "fee77537-0dce-4f1f-be95-6727de3cb84d",
        "colab": {
          "base_uri": "https://localhost:8080/"
        }
      },
      "source": [
        "from google.colab import drive\n",
        "drive.mount('/content/drive')\n",
        "os.chdir('/content/drive/My Drive/ISIC_Dataset')"
      ],
      "execution_count": 2,
      "outputs": [
        {
          "output_type": "stream",
          "text": [
            "Mounted at /content/drive\n"
          ],
          "name": "stdout"
        }
      ]
    },
    {
      "cell_type": "code",
      "metadata": {
        "id": "3c_BhAXmVNGK"
      },
      "source": [
        "data = dd.io.load('ISIC_dataset.h5')\n",
        "data_df = pd.DataFrame(data)"
      ],
      "execution_count": 3,
      "outputs": []
    },
    {
      "cell_type": "code",
      "metadata": {
        "id": "tN93FJHiVOeS"
      },
      "source": [
        "X_raw = data_df.image\n",
        "Y = data_df.cell_type_idx"
      ],
      "execution_count": 4,
      "outputs": []
    },
    {
      "cell_type": "code",
      "metadata": {
        "id": "8VpzhNkEVPie"
      },
      "source": [
        "X = np.zeros((10015, 75, 100, 3))\n",
        "\n",
        "for i in range(10015):\n",
        "  X[i,:,:,:] = X_raw[i]"
      ],
      "execution_count": 5,
      "outputs": []
    },
    {
      "cell_type": "code",
      "metadata": {
        "id": "u_-udVWjVQzw"
      },
      "source": [
        "X_train, X_test, Y_train, Y_test = train_test_split(X, Y, test_size=0.1)\n",
        "X_train, X_val, Y_train, Y_val = train_test_split(X_train, Y_train, test_size=0.1)"
      ],
      "execution_count": 6,
      "outputs": []
    },
    {
      "cell_type": "code",
      "metadata": {
        "id": "e1ETV3chVTgD"
      },
      "source": [
        "X_train = (X_train / np.max(X_train))\n",
        "X_test = (X_test / np.max(X_test))\n",
        "X_val = (X_val / np.max(X_val))"
      ],
      "execution_count": 7,
      "outputs": []
    },
    {
      "cell_type": "code",
      "metadata": {
        "id": "5C_lLx6lWTWp"
      },
      "source": [
        "Y_train = to_categorical(Y_train, num_classes = 7)\n",
        "Y_test = to_categorical(Y_test, num_classes = 7)\n",
        "Y_val = to_categorical(Y_val, num_classes = 7)"
      ],
      "execution_count": 8,
      "outputs": []
    },
    {
      "cell_type": "code",
      "metadata": {
        "id": "4gFpao9MxuMh"
      },
      "source": [
        "# DATA AUGMENTATION\n",
        "datagen = ImageDataGenerator(\n",
        "        featurewise_center=False,  # set input mean to 0 over the dataset\n",
        "        samplewise_center=False,  # set each sample mean to 0\n",
        "        featurewise_std_normalization=False,  # divide inputs by std of the dataset\n",
        "        samplewise_std_normalization=False,  # divide each input by its std\n",
        "        zca_whitening=False,  # apply ZCA whitening\n",
        "        rotation_range=60,  # randomly rotate images in the range (degrees, 0 to 180)\n",
        "        zoom_range = 0.4, # Randomly zoom image \n",
        "        width_shift_range=0.2,  # randomly shift images horizontally (fraction of total width)\n",
        "        height_shift_range=0.2,  # randomly shift images vertically (fraction of total height)\n",
        "        horizontal_flip=False,  # randomly flip images\n",
        "        vertical_flip=False)  # randomly flip images\n",
        "\n",
        "datagen.fit(X_train)"
      ],
      "execution_count": 9,
      "outputs": []
    },
    {
      "cell_type": "code",
      "metadata": {
        "id": "pXernv2LZcAi",
        "outputId": "fa949cd2-6dab-42a6-f869-9b82dc52b135",
        "colab": {
          "base_uri": "https://localhost:8080/"
        }
      },
      "source": [
        "# DENSENET201 MODEL\n",
        "input_shape = X_train[0].shape\n",
        "n_classes = len(Y_train[0])\n",
        "\n",
        "densenet = tf.keras.applications.DenseNet201(weights='imagenet', include_top=False, input_shape=input_shape)\n",
        "densenet.trainable = False\n",
        "\n",
        "model = tf.keras.models.Sequential()\n",
        "model.add(densenet)\n",
        "model.add(tf.keras.layers.Flatten())\n",
        "model.add(tf.keras.layers.Dropout(0.25))\n",
        "model.add(tf.keras.layers.Dense(512, activation='relu'))\n",
        "model.add(tf.keras.layers.BatchNormalization())\n",
        "model.add(tf.keras.layers.Dropout(0.46))\n",
        "model.add(tf.keras.layers.Dense(128, activation='relu'))\n",
        "model.add(tf.keras.layers.BatchNormalization())\n",
        "model.add(tf.keras.layers.Dropout(0.46))    \n",
        "model.add(tf.keras.layers.Dense(n_classes, activation='softmax'))"
      ],
      "execution_count": 10,
      "outputs": [
        {
          "output_type": "stream",
          "text": [
            "Downloading data from https://storage.googleapis.com/tensorflow/keras-applications/densenet/densenet201_weights_tf_dim_ordering_tf_kernels_notop.h5\n",
            "74842112/74836368 [==============================] - 1s 0us/step\n"
          ],
          "name": "stdout"
        }
      ]
    },
    {
      "cell_type": "code",
      "metadata": {
        "id": "85KpND-odOfa"
      },
      "source": [
        "epocas = 30\n",
        "bs = 20\n",
        "lr = 0.001\n",
        "optim = Adam(learning_rate = lr)\n",
        "model.compile(optimizer = optim, loss = 'categorical_crossentropy', metrics = ['accuracy'])\n",
        "reduce_lr = ReduceLROnPlateau(monitor='val_loss', factor=0.2, patience=3, min_lr=0.00001)\n",
        "# Define checkpoint to save best Phase 1 weights\n",
        "best_weights_ph1 = \"ph1_weights.hdf5\"\n",
        "checkpoint = tf.keras.callbacks.ModelCheckpoint(best_weights_ph1, monitor=\"val_loss\", mode=\"min\", save_best_only=True, verbose=1)\n",
        "callbacks = [reduce_lr, checkpoint]"
      ],
      "execution_count": 11,
      "outputs": []
    },
    {
      "cell_type": "code",
      "metadata": {
        "id": "nzvLzj3Dda_T",
        "outputId": "67e5966e-9ff3-4547-a986-b32eba10460c",
        "colab": {
          "base_uri": "https://localhost:8080/"
        }
      },
      "source": [
        "historico = model.fit(datagen.flow(X_train, Y_train, batch_size = bs), epochs = epocas, batch_size = bs, validation_data = (X_val, Y_val), callbacks = callbacks)\n",
        "#historico = model.fit(X_train, Y_train, epochs = epocas, batch_size = bs, validation_split = 0.1, callbacks = callbacks)"
      ],
      "execution_count": 12,
      "outputs": [
        {
          "output_type": "stream",
          "text": [
            "Epoch 1/30\n",
            "406/406 [==============================] - ETA: 0s - loss: 1.4479 - accuracy: 0.5870\n",
            "Epoch 00001: val_loss improved from inf to 0.77182, saving model to ph1_weights.hdf5\n",
            "406/406 [==============================] - 28s 68ms/step - loss: 1.4479 - accuracy: 0.5870 - val_loss: 0.7718 - val_accuracy: 0.7494\n",
            "Epoch 2/30\n",
            "406/406 [==============================] - ETA: 0s - loss: 0.9592 - accuracy: 0.6918\n",
            "Epoch 00002: val_loss improved from 0.77182 to 0.71731, saving model to ph1_weights.hdf5\n",
            "406/406 [==============================] - 23s 58ms/step - loss: 0.9592 - accuracy: 0.6918 - val_loss: 0.7173 - val_accuracy: 0.7472\n",
            "Epoch 3/30\n",
            "406/406 [==============================] - ETA: 0s - loss: 0.8789 - accuracy: 0.7000\n",
            "Epoch 00003: val_loss improved from 0.71731 to 0.71423, saving model to ph1_weights.hdf5\n",
            "406/406 [==============================] - 24s 58ms/step - loss: 0.8789 - accuracy: 0.7000 - val_loss: 0.7142 - val_accuracy: 0.7472\n",
            "Epoch 4/30\n",
            "406/406 [==============================] - ETA: 0s - loss: 0.8211 - accuracy: 0.7111\n",
            "Epoch 00004: val_loss improved from 0.71423 to 0.70168, saving model to ph1_weights.hdf5\n",
            "406/406 [==============================] - 24s 58ms/step - loss: 0.8211 - accuracy: 0.7111 - val_loss: 0.7017 - val_accuracy: 0.7605\n",
            "Epoch 5/30\n",
            "405/406 [============================>.] - ETA: 0s - loss: 0.7924 - accuracy: 0.7192\n",
            "Epoch 00005: val_loss improved from 0.70168 to 0.69071, saving model to ph1_weights.hdf5\n",
            "406/406 [==============================] - 23s 58ms/step - loss: 0.7915 - accuracy: 0.7195 - val_loss: 0.6907 - val_accuracy: 0.7472\n",
            "Epoch 6/30\n",
            "406/406 [==============================] - ETA: 0s - loss: 0.7631 - accuracy: 0.7243\n",
            "Epoch 00006: val_loss did not improve from 0.69071\n",
            "406/406 [==============================] - 21s 52ms/step - loss: 0.7631 - accuracy: 0.7243 - val_loss: 0.6913 - val_accuracy: 0.7483\n",
            "Epoch 7/30\n",
            "405/406 [============================>.] - ETA: 0s - loss: 0.7638 - accuracy: 0.7214\n",
            "Epoch 00007: val_loss improved from 0.69071 to 0.66857, saving model to ph1_weights.hdf5\n",
            "406/406 [==============================] - 23s 57ms/step - loss: 0.7651 - accuracy: 0.7210 - val_loss: 0.6686 - val_accuracy: 0.7627\n",
            "Epoch 8/30\n",
            "406/406 [==============================] - ETA: 0s - loss: 0.7484 - accuracy: 0.7316\n",
            "Epoch 00008: val_loss improved from 0.66857 to 0.65838, saving model to ph1_weights.hdf5\n",
            "406/406 [==============================] - 24s 58ms/step - loss: 0.7484 - accuracy: 0.7316 - val_loss: 0.6584 - val_accuracy: 0.7738\n",
            "Epoch 9/30\n",
            "406/406 [==============================] - ETA: 0s - loss: 0.7447 - accuracy: 0.7295\n",
            "Epoch 00009: val_loss improved from 0.65838 to 0.65019, saving model to ph1_weights.hdf5\n",
            "406/406 [==============================] - 23s 57ms/step - loss: 0.7447 - accuracy: 0.7295 - val_loss: 0.6502 - val_accuracy: 0.7672\n",
            "Epoch 10/30\n",
            "406/406 [==============================] - ETA: 0s - loss: 0.7304 - accuracy: 0.7346\n",
            "Epoch 00010: val_loss did not improve from 0.65019\n",
            "406/406 [==============================] - 20s 50ms/step - loss: 0.7304 - accuracy: 0.7346 - val_loss: 0.6693 - val_accuracy: 0.7605\n",
            "Epoch 11/30\n",
            "405/406 [============================>.] - ETA: 0s - loss: 0.7386 - accuracy: 0.7375\n",
            "Epoch 00011: val_loss did not improve from 0.65019\n",
            "406/406 [==============================] - 20s 49ms/step - loss: 0.7385 - accuracy: 0.7375 - val_loss: 0.6521 - val_accuracy: 0.7627\n",
            "Epoch 12/30\n",
            "406/406 [==============================] - ETA: 0s - loss: 0.7318 - accuracy: 0.7358\n",
            "Epoch 00012: val_loss did not improve from 0.65019\n",
            "406/406 [==============================] - 20s 48ms/step - loss: 0.7318 - accuracy: 0.7358 - val_loss: 0.6700 - val_accuracy: 0.7639\n",
            "Epoch 13/30\n",
            "405/406 [============================>.] - ETA: 0s - loss: 0.7111 - accuracy: 0.7439\n",
            "Epoch 00013: val_loss improved from 0.65019 to 0.64422, saving model to ph1_weights.hdf5\n",
            "406/406 [==============================] - 22s 54ms/step - loss: 0.7112 - accuracy: 0.7438 - val_loss: 0.6442 - val_accuracy: 0.7639\n",
            "Epoch 14/30\n",
            "406/406 [==============================] - ETA: 0s - loss: 0.7041 - accuracy: 0.7417\n",
            "Epoch 00014: val_loss did not improve from 0.64422\n",
            "406/406 [==============================] - 20s 49ms/step - loss: 0.7041 - accuracy: 0.7417 - val_loss: 0.6459 - val_accuracy: 0.7650\n",
            "Epoch 15/30\n",
            "406/406 [==============================] - ETA: 0s - loss: 0.7004 - accuracy: 0.7411\n",
            "Epoch 00015: val_loss did not improve from 0.64422\n",
            "406/406 [==============================] - 20s 49ms/step - loss: 0.7004 - accuracy: 0.7411 - val_loss: 0.6473 - val_accuracy: 0.7705\n",
            "Epoch 16/30\n",
            "406/406 [==============================] - ETA: 0s - loss: 0.6943 - accuracy: 0.7465\n",
            "Epoch 00016: val_loss improved from 0.64422 to 0.64407, saving model to ph1_weights.hdf5\n",
            "406/406 [==============================] - 22s 55ms/step - loss: 0.6943 - accuracy: 0.7465 - val_loss: 0.6441 - val_accuracy: 0.7716\n",
            "Epoch 17/30\n",
            "406/406 [==============================] - ETA: 0s - loss: 0.6853 - accuracy: 0.7465\n",
            "Epoch 00017: val_loss improved from 0.64407 to 0.63414, saving model to ph1_weights.hdf5\n",
            "406/406 [==============================] - 23s 56ms/step - loss: 0.6853 - accuracy: 0.7465 - val_loss: 0.6341 - val_accuracy: 0.7749\n",
            "Epoch 18/30\n",
            "405/406 [============================>.] - ETA: 0s - loss: 0.6986 - accuracy: 0.7473\n",
            "Epoch 00018: val_loss did not improve from 0.63414\n",
            "406/406 [==============================] - 21s 51ms/step - loss: 0.6981 - accuracy: 0.7474 - val_loss: 0.6361 - val_accuracy: 0.7727\n",
            "Epoch 19/30\n",
            "405/406 [============================>.] - ETA: 0s - loss: 0.6863 - accuracy: 0.7523\n",
            "Epoch 00019: val_loss did not improve from 0.63414\n",
            "406/406 [==============================] - 20s 50ms/step - loss: 0.6865 - accuracy: 0.7523 - val_loss: 0.6421 - val_accuracy: 0.7738\n",
            "Epoch 20/30\n",
            "405/406 [============================>.] - ETA: 0s - loss: 0.6825 - accuracy: 0.7468\n",
            "Epoch 00020: val_loss did not improve from 0.63414\n",
            "406/406 [==============================] - 20s 50ms/step - loss: 0.6827 - accuracy: 0.7466 - val_loss: 0.6368 - val_accuracy: 0.7783\n",
            "Epoch 21/30\n",
            "405/406 [============================>.] - ETA: 0s - loss: 0.6751 - accuracy: 0.7574\n",
            "Epoch 00021: val_loss did not improve from 0.63414\n",
            "406/406 [==============================] - 20s 49ms/step - loss: 0.6756 - accuracy: 0.7570 - val_loss: 0.6366 - val_accuracy: 0.7772\n",
            "Epoch 22/30\n",
            "405/406 [============================>.] - ETA: 0s - loss: 0.6584 - accuracy: 0.7545\n",
            "Epoch 00022: val_loss did not improve from 0.63414\n",
            "406/406 [==============================] - 20s 50ms/step - loss: 0.6582 - accuracy: 0.7548 - val_loss: 0.6355 - val_accuracy: 0.7738\n",
            "Epoch 23/30\n",
            "405/406 [============================>.] - ETA: 0s - loss: 0.6684 - accuracy: 0.7554\n",
            "Epoch 00023: val_loss did not improve from 0.63414\n",
            "406/406 [==============================] - 20s 48ms/step - loss: 0.6687 - accuracy: 0.7553 - val_loss: 0.6353 - val_accuracy: 0.7761\n",
            "Epoch 24/30\n",
            "405/406 [============================>.] - ETA: 0s - loss: 0.6707 - accuracy: 0.7600\n",
            "Epoch 00024: val_loss did not improve from 0.63414\n",
            "406/406 [==============================] - 20s 49ms/step - loss: 0.6701 - accuracy: 0.7602 - val_loss: 0.6345 - val_accuracy: 0.7716\n",
            "Epoch 25/30\n",
            "406/406 [==============================] - ETA: 0s - loss: 0.6691 - accuracy: 0.7570\n",
            "Epoch 00025: val_loss did not improve from 0.63414\n",
            "406/406 [==============================] - 20s 50ms/step - loss: 0.6691 - accuracy: 0.7570 - val_loss: 0.6361 - val_accuracy: 0.7738\n",
            "Epoch 26/30\n",
            "405/406 [============================>.] - ETA: 0s - loss: 0.6844 - accuracy: 0.7500\n",
            "Epoch 00026: val_loss did not improve from 0.63414\n",
            "406/406 [==============================] - 20s 50ms/step - loss: 0.6839 - accuracy: 0.7502 - val_loss: 0.6343 - val_accuracy: 0.7727\n",
            "Epoch 27/30\n",
            "405/406 [============================>.] - ETA: 0s - loss: 0.6739 - accuracy: 0.7508\n",
            "Epoch 00027: val_loss improved from 0.63414 to 0.63389, saving model to ph1_weights.hdf5\n",
            "406/406 [==============================] - 22s 55ms/step - loss: 0.6734 - accuracy: 0.7511 - val_loss: 0.6339 - val_accuracy: 0.7738\n",
            "Epoch 28/30\n",
            "405/406 [============================>.] - ETA: 0s - loss: 0.6717 - accuracy: 0.7557\n",
            "Epoch 00028: val_loss did not improve from 0.63389\n",
            "406/406 [==============================] - 21s 52ms/step - loss: 0.6713 - accuracy: 0.7560 - val_loss: 0.6340 - val_accuracy: 0.7727\n",
            "Epoch 29/30\n",
            "406/406 [==============================] - ETA: 0s - loss: 0.6820 - accuracy: 0.7519\n",
            "Epoch 00029: val_loss did not improve from 0.63389\n",
            "406/406 [==============================] - 21s 51ms/step - loss: 0.6820 - accuracy: 0.7519 - val_loss: 0.6342 - val_accuracy: 0.7727\n",
            "Epoch 30/30\n",
            "405/406 [============================>.] - ETA: 0s - loss: 0.6671 - accuracy: 0.7570\n",
            "Epoch 00030: val_loss improved from 0.63389 to 0.63304, saving model to ph1_weights.hdf5\n",
            "406/406 [==============================] - 23s 57ms/step - loss: 0.6664 - accuracy: 0.7574 - val_loss: 0.6330 - val_accuracy: 0.7772\n"
          ],
          "name": "stdout"
        }
      ]
    },
    {
      "cell_type": "code",
      "metadata": {
        "id": "guL1T4WHoJXi"
      },
      "source": [
        "model.load_weights(best_weights_ph1)"
      ],
      "execution_count": 13,
      "outputs": []
    },
    {
      "cell_type": "code",
      "metadata": {
        "id": "_qLgJ-7wdzCa",
        "outputId": "2bb47ebf-36ba-4069-ff01-380920bbef29",
        "colab": {
          "base_uri": "https://localhost:8080/"
        }
      },
      "source": [
        "metricas = model.evaluate(X_test, Y_test)"
      ],
      "execution_count": 14,
      "outputs": [
        {
          "output_type": "stream",
          "text": [
            "32/32 [==============================] - 2s 57ms/step - loss: 0.6124 - accuracy: 0.7784\n"
          ],
          "name": "stdout"
        }
      ]
    },
    {
      "cell_type": "code",
      "metadata": {
        "id": "OAL1_jc7oYur"
      },
      "source": [
        "densenet.trainable = True\n",
        "\n",
        "epocas = 30\n",
        "bs = 20\n",
        "lr = 0.0001\n",
        "optim = Adam(learning_rate = lr)\n",
        "model.compile(optimizer = optim, loss = 'categorical_crossentropy', metrics = ['accuracy'])\n",
        "reduce_lr = ReduceLROnPlateau(monitor='val_loss', factor=0.2, patience=3, min_lr=0.00001)\n",
        "# Define checkpoint to save best Phase 1 weights\n",
        "best_weights_ph2 = \"ph2_weights.hdf5\"\n",
        "checkpoint = tf.keras.callbacks.ModelCheckpoint(best_weights_ph2, monitor=\"val_loss\", mode=\"min\", save_best_only=True, verbose=1)\n",
        "callbacks = [reduce_lr, checkpoint]"
      ],
      "execution_count": 15,
      "outputs": []
    },
    {
      "cell_type": "code",
      "metadata": {
        "id": "UmkHTyXvo-av",
        "outputId": "e82cd2cc-d102-4554-c0a7-81901ac2daa5",
        "colab": {
          "base_uri": "https://localhost:8080/"
        }
      },
      "source": [
        "historico = model.fit(datagen.flow(X_train, Y_train, batch_size = bs), epochs = epocas, batch_size = bs, validation_data = (X_val, Y_val), callbacks = callbacks)"
      ],
      "execution_count": 16,
      "outputs": [
        {
          "output_type": "stream",
          "text": [
            "Epoch 1/30\n",
            "406/406 [==============================] - ETA: 0s - loss: 0.7550 - accuracy: 0.7283\n",
            "Epoch 00001: val_loss improved from inf to 0.65528, saving model to ph2_weights.hdf5\n",
            "406/406 [==============================] - 48s 118ms/step - loss: 0.7550 - accuracy: 0.7283 - val_loss: 0.6553 - val_accuracy: 0.7583\n",
            "Epoch 2/30\n",
            "406/406 [==============================] - ETA: 0s - loss: 0.6621 - accuracy: 0.7616\n",
            "Epoch 00002: val_loss improved from 0.65528 to 0.59197, saving model to ph2_weights.hdf5\n",
            "406/406 [==============================] - 43s 106ms/step - loss: 0.6621 - accuracy: 0.7616 - val_loss: 0.5920 - val_accuracy: 0.7916\n",
            "Epoch 3/30\n",
            "406/406 [==============================] - ETA: 0s - loss: 0.6195 - accuracy: 0.7768\n",
            "Epoch 00003: val_loss did not improve from 0.59197\n",
            "406/406 [==============================] - 38s 93ms/step - loss: 0.6195 - accuracy: 0.7768 - val_loss: 0.6259 - val_accuracy: 0.7683\n",
            "Epoch 4/30\n",
            "406/406 [==============================] - ETA: 0s - loss: 0.6004 - accuracy: 0.7820\n",
            "Epoch 00004: val_loss did not improve from 0.59197\n",
            "406/406 [==============================] - 36s 89ms/step - loss: 0.6004 - accuracy: 0.7820 - val_loss: 0.6588 - val_accuracy: 0.7616\n",
            "Epoch 5/30\n",
            "406/406 [==============================] - ETA: 0s - loss: 0.5675 - accuracy: 0.7947\n",
            "Epoch 00005: val_loss improved from 0.59197 to 0.54248, saving model to ph2_weights.hdf5\n",
            "406/406 [==============================] - 41s 102ms/step - loss: 0.5675 - accuracy: 0.7947 - val_loss: 0.5425 - val_accuracy: 0.7960\n",
            "Epoch 6/30\n",
            "406/406 [==============================] - ETA: 0s - loss: 0.5505 - accuracy: 0.8043\n",
            "Epoch 00006: val_loss improved from 0.54248 to 0.50417, saving model to ph2_weights.hdf5\n",
            "406/406 [==============================] - 42s 103ms/step - loss: 0.5505 - accuracy: 0.8043 - val_loss: 0.5042 - val_accuracy: 0.8082\n",
            "Epoch 7/30\n",
            "406/406 [==============================] - ETA: 0s - loss: 0.5268 - accuracy: 0.8105\n",
            "Epoch 00007: val_loss did not improve from 0.50417\n",
            "406/406 [==============================] - 37s 90ms/step - loss: 0.5268 - accuracy: 0.8105 - val_loss: 0.5220 - val_accuracy: 0.8149\n",
            "Epoch 8/30\n",
            "406/406 [==============================] - ETA: 0s - loss: 0.5247 - accuracy: 0.8112\n",
            "Epoch 00008: val_loss did not improve from 0.50417\n",
            "406/406 [==============================] - 37s 91ms/step - loss: 0.5247 - accuracy: 0.8112 - val_loss: 0.5902 - val_accuracy: 0.7949\n",
            "Epoch 9/30\n",
            "406/406 [==============================] - ETA: 0s - loss: 0.4905 - accuracy: 0.8205\n",
            "Epoch 00009: val_loss did not improve from 0.50417\n",
            "406/406 [==============================] - 37s 92ms/step - loss: 0.4905 - accuracy: 0.8205 - val_loss: 0.5072 - val_accuracy: 0.8082\n",
            "Epoch 10/30\n",
            "406/406 [==============================] - ETA: 0s - loss: 0.4331 - accuracy: 0.8459\n",
            "Epoch 00010: val_loss improved from 0.50417 to 0.45340, saving model to ph2_weights.hdf5\n",
            "406/406 [==============================] - 41s 101ms/step - loss: 0.4331 - accuracy: 0.8459 - val_loss: 0.4534 - val_accuracy: 0.8404\n",
            "Epoch 11/30\n",
            "406/406 [==============================] - ETA: 0s - loss: 0.4136 - accuracy: 0.8528\n",
            "Epoch 00011: val_loss improved from 0.45340 to 0.45090, saving model to ph2_weights.hdf5\n",
            "406/406 [==============================] - 44s 108ms/step - loss: 0.4136 - accuracy: 0.8528 - val_loss: 0.4509 - val_accuracy: 0.8370\n",
            "Epoch 12/30\n",
            "406/406 [==============================] - ETA: 0s - loss: 0.3830 - accuracy: 0.8651\n",
            "Epoch 00012: val_loss did not improve from 0.45090\n",
            "406/406 [==============================] - 38s 94ms/step - loss: 0.3830 - accuracy: 0.8651 - val_loss: 0.4592 - val_accuracy: 0.8514\n",
            "Epoch 13/30\n",
            "406/406 [==============================] - ETA: 0s - loss: 0.3812 - accuracy: 0.8649\n",
            "Epoch 00013: val_loss improved from 0.45090 to 0.44211, saving model to ph2_weights.hdf5\n",
            "406/406 [==============================] - 42s 104ms/step - loss: 0.3812 - accuracy: 0.8649 - val_loss: 0.4421 - val_accuracy: 0.8537\n",
            "Epoch 14/30\n",
            "406/406 [==============================] - ETA: 0s - loss: 0.3718 - accuracy: 0.8652\n",
            "Epoch 00014: val_loss did not improve from 0.44211\n",
            "406/406 [==============================] - 37s 90ms/step - loss: 0.3718 - accuracy: 0.8652 - val_loss: 0.4549 - val_accuracy: 0.8381\n",
            "Epoch 15/30\n",
            "406/406 [==============================] - ETA: 0s - loss: 0.3446 - accuracy: 0.8818\n",
            "Epoch 00015: val_loss did not improve from 0.44211\n",
            "406/406 [==============================] - 37s 90ms/step - loss: 0.3446 - accuracy: 0.8818 - val_loss: 0.4655 - val_accuracy: 0.8359\n",
            "Epoch 16/30\n",
            "406/406 [==============================] - ETA: 0s - loss: 0.3414 - accuracy: 0.8791\n",
            "Epoch 00016: val_loss improved from 0.44211 to 0.42609, saving model to ph2_weights.hdf5\n",
            "406/406 [==============================] - 43s 105ms/step - loss: 0.3414 - accuracy: 0.8791 - val_loss: 0.4261 - val_accuracy: 0.8481\n",
            "Epoch 17/30\n",
            "406/406 [==============================] - ETA: 0s - loss: 0.3275 - accuracy: 0.8850\n",
            "Epoch 00017: val_loss did not improve from 0.42609\n",
            "406/406 [==============================] - 38s 95ms/step - loss: 0.3275 - accuracy: 0.8850 - val_loss: 0.4538 - val_accuracy: 0.8570\n",
            "Epoch 18/30\n",
            "406/406 [==============================] - ETA: 0s - loss: 0.3195 - accuracy: 0.8898\n",
            "Epoch 00018: val_loss did not improve from 0.42609\n",
            "406/406 [==============================] - 38s 92ms/step - loss: 0.3195 - accuracy: 0.8898 - val_loss: 0.4773 - val_accuracy: 0.8404\n",
            "Epoch 19/30\n",
            "406/406 [==============================] - ETA: 0s - loss: 0.3224 - accuracy: 0.8882\n",
            "Epoch 00019: val_loss did not improve from 0.42609\n",
            "406/406 [==============================] - 36s 90ms/step - loss: 0.3224 - accuracy: 0.8882 - val_loss: 0.4367 - val_accuracy: 0.8492\n",
            "Epoch 20/30\n",
            "406/406 [==============================] - ETA: 0s - loss: 0.3048 - accuracy: 0.8956\n",
            "Epoch 00020: val_loss did not improve from 0.42609\n",
            "406/406 [==============================] - 36s 88ms/step - loss: 0.3048 - accuracy: 0.8956 - val_loss: 0.4583 - val_accuracy: 0.8481\n",
            "Epoch 21/30\n",
            "406/406 [==============================] - ETA: 0s - loss: 0.2947 - accuracy: 0.8951\n",
            "Epoch 00021: val_loss did not improve from 0.42609\n",
            "406/406 [==============================] - 36s 88ms/step - loss: 0.2947 - accuracy: 0.8951 - val_loss: 0.4560 - val_accuracy: 0.8514\n",
            "Epoch 22/30\n",
            "406/406 [==============================] - ETA: 0s - loss: 0.2763 - accuracy: 0.9056\n",
            "Epoch 00022: val_loss improved from 0.42609 to 0.42151, saving model to ph2_weights.hdf5\n",
            "406/406 [==============================] - 41s 101ms/step - loss: 0.2763 - accuracy: 0.9056 - val_loss: 0.4215 - val_accuracy: 0.8603\n",
            "Epoch 23/30\n",
            "406/406 [==============================] - ETA: 0s - loss: 0.2815 - accuracy: 0.9031\n",
            "Epoch 00023: val_loss did not improve from 0.42151\n",
            "406/406 [==============================] - 36s 89ms/step - loss: 0.2815 - accuracy: 0.9031 - val_loss: 0.4509 - val_accuracy: 0.8537\n",
            "Epoch 24/30\n",
            "406/406 [==============================] - ETA: 0s - loss: 0.2694 - accuracy: 0.9059\n",
            "Epoch 00024: val_loss did not improve from 0.42151\n",
            "406/406 [==============================] - 36s 88ms/step - loss: 0.2694 - accuracy: 0.9059 - val_loss: 0.4345 - val_accuracy: 0.8570\n",
            "Epoch 25/30\n",
            "406/406 [==============================] - ETA: 0s - loss: 0.2607 - accuracy: 0.9094\n",
            "Epoch 00025: val_loss did not improve from 0.42151\n",
            "406/406 [==============================] - 36s 88ms/step - loss: 0.2607 - accuracy: 0.9094 - val_loss: 0.4499 - val_accuracy: 0.8570\n",
            "Epoch 26/30\n",
            "406/406 [==============================] - ETA: 0s - loss: 0.2557 - accuracy: 0.9135\n",
            "Epoch 00026: val_loss did not improve from 0.42151\n",
            "406/406 [==============================] - 35s 87ms/step - loss: 0.2557 - accuracy: 0.9135 - val_loss: 0.4717 - val_accuracy: 0.8614\n",
            "Epoch 27/30\n",
            "406/406 [==============================] - ETA: 0s - loss: 0.2489 - accuracy: 0.9157\n",
            "Epoch 00027: val_loss did not improve from 0.42151\n",
            "406/406 [==============================] - 35s 87ms/step - loss: 0.2489 - accuracy: 0.9157 - val_loss: 0.4527 - val_accuracy: 0.8581\n",
            "Epoch 28/30\n",
            "406/406 [==============================] - ETA: 0s - loss: 0.2468 - accuracy: 0.9152\n",
            "Epoch 00028: val_loss did not improve from 0.42151\n",
            "406/406 [==============================] - 35s 87ms/step - loss: 0.2468 - accuracy: 0.9152 - val_loss: 0.4634 - val_accuracy: 0.8603\n",
            "Epoch 29/30\n",
            "406/406 [==============================] - ETA: 0s - loss: 0.2488 - accuracy: 0.9135\n",
            "Epoch 00029: val_loss did not improve from 0.42151\n",
            "406/406 [==============================] - 35s 87ms/step - loss: 0.2488 - accuracy: 0.9135 - val_loss: 0.4577 - val_accuracy: 0.8525\n",
            "Epoch 30/30\n",
            "406/406 [==============================] - ETA: 0s - loss: 0.2369 - accuracy: 0.9200\n",
            "Epoch 00030: val_loss did not improve from 0.42151\n",
            "406/406 [==============================] - 36s 88ms/step - loss: 0.2369 - accuracy: 0.9200 - val_loss: 0.4630 - val_accuracy: 0.8514\n"
          ],
          "name": "stdout"
        }
      ]
    },
    {
      "cell_type": "code",
      "metadata": {
        "id": "TkD6sKyGpANM"
      },
      "source": [
        "model.load_weights(best_weights_ph2)"
      ],
      "execution_count": 17,
      "outputs": []
    },
    {
      "cell_type": "code",
      "metadata": {
        "id": "opYQBOHuvQL6",
        "outputId": "f6835af7-dc53-4caa-c0a0-6b48fbbc4e68",
        "colab": {
          "base_uri": "https://localhost:8080/",
          "height": 295
        }
      },
      "source": [
        "plt.plot(historico.history['accuracy'], c = 'b')\n",
        "plt.plot(historico.history['val_accuracy'], c = 'r')\n",
        "plt.legend(['Train', 'Validacion'])\n",
        "plt.xlabel('Epocas')\n",
        "plt.ylabel('Medida')\n",
        "plt.title('Evolucion Entrenamiento')\n",
        "plt.show()"
      ],
      "execution_count": 18,
      "outputs": [
        {
          "output_type": "display_data",
          "data": {
            "image/png": "[encoded data removed]",
            "text/plain": [
              "<Figure size 432x288 with 1 Axes>"
            ]
          },
          "metadata": {
            "tags": [],
            "needs_background": "light"
          }
        }
      ]
    },
    {
      "cell_type": "code",
      "metadata": {
        "id": "J-1Y8SjmvRtG",
        "outputId": "1e8eb033-71f6-45dd-d646-cd9a16970bf1",
        "colab": {
          "base_uri": "https://localhost:8080/",
          "height": 295
        }
      },
      "source": [
        "plt.plot(historico.history['loss'], c = 'b')\n",
        "plt.plot(historico.history['val_loss'], c = 'r')\n",
        "plt.legend(['Train', 'Validacion'])\n",
        "plt.xlabel('Epocas')\n",
        "plt.ylabel('Medida')\n",
        "plt.title('Evolucion Entrenamiento')\n",
        "plt.show()"
      ],
      "execution_count": 19,
      "outputs": [
        {
          "output_type": "display_data",
          "data": {
            "image/png": "[encoded data removed]",
            "text/plain": [
              "<Figure size 432x288 with 1 Axes>"
            ]
          },
          "metadata": {
            "tags": [],
            "needs_background": "light"
          }
        }
      ]
    },
    {
      "cell_type": "code",
      "metadata": {
        "id": "1EMCnVRcpCbw",
        "outputId": "6d773c14-9071-4c92-9a1b-d4d41565be9c",
        "colab": {
          "base_uri": "https://localhost:8080/"
        }
      },
      "source": [
        "metricas = model.evaluate(X_test, Y_test)"
      ],
      "execution_count": 20,
      "outputs": [
        {
          "output_type": "stream",
          "text": [
            "32/32 [==============================] - 1s 33ms/step - loss: 0.3882 - accuracy: 0.8693\n"
          ],
          "name": "stdout"
        }
      ]
    },
    {
      "cell_type": "code",
      "metadata": {
        "id": "piwDNUj06HdY",
        "outputId": "413c65f4-3b18-4cf8-a0fa-085775040266",
        "colab": {
          "base_uri": "https://localhost:8080/"
        }
      },
      "source": [
        "from sklearn import metrics\n",
        "\n",
        "Y_pred = model.predict(X_test)\n",
        "print('Confusion Matrix')\n",
        "print(metrics.confusion_matrix(Y_test.argmax(axis=1), Y_pred.argmax(axis=1)))"
      ],
      "execution_count": 24,
      "outputs": [
        {
          "output_type": "stream",
          "text": [
            "Confusion Matrix\n",
            "[[ 19   5   2   1   1   2   0]\n",
            " [  0  33   3   0   4   1   0]\n",
            " [  4   1  85   0  19   7   0]\n",
            " [  0   1   0   4   0   0   0]\n",
            " [  0   3  13   0 655  12   0]\n",
            " [  4   1  13   1  31  63   0]\n",
            " [  0   0   0   0   2   0  12]]\n"
          ],
          "name": "stdout"
        }
      ]
    }
  ]
}