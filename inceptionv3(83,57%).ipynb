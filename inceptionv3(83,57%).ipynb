{
  "nbformat": 4,
  "nbformat_minor": 0,
  "metadata": {
    "accelerator": "GPU",
    "colab": {
      "name": "inceptionv3_data(1).ipynb",
      "provenance": [],
      "collapsed_sections": []
    },
    "kernelspec": {
      "display_name": "proyecto",
      "language": "python",
      "name": "gpu"
    },
    "language_info": {
      "codemirror_mode": {
        "name": "ipython",
        "version": 3
      },
      "file_extension": ".py",
      "mimetype": "text/x-python",
      "name": "python",
      "nbconvert_exporter": "python",
      "pygments_lexer": "ipython3",
      "version": "3.7.9"
    }
  },
  "cells": [
    {
      "cell_type": "markdown",
      "metadata": {
        "id": "view-in-github"
      },
      "source": [
        "<a href=\"https://colab.research.google.com/github/josematez/DeepLearning_SkinCancer/blob/main/Testing_Data_Jose.ipynb\" target=\"_parent\"><img src=\"https://colab.research.google.com/assets/colab-badge.svg\" alt=\"Open In Colab\"/></a>"
      ]
    },
    {
      "cell_type": "code",
      "metadata": {
        "id": "46GSQ_3wuU8T",
        "outputId": "03d6f146-7e2d-44c9-aac2-a0af0051e937",
        "colab": {
          "base_uri": "https://localhost:8080/",
          "height": 553
        }
      },
      "source": [
        "!pip install numpy==1.15.4\n",
        "!pip install deepdish\n",
        "#!pip install tensorflow==1.15\n",
        "#!pip install keras"
      ],
      "execution_count": 1,
      "outputs": [
        {
          "output_type": "stream",
          "text": [
            "Collecting numpy==1.15.4\n",
            "\u001b[?25l  Downloading https://files.pythonhosted.org/packages/ff/7f/9d804d2348471c67a7d8b5f84f9bc59fd1cefa148986f2b74552f8573555/numpy-1.15.4-cp36-cp36m-manylinux1_x86_64.whl (13.9MB)\n",
            "\u001b[K     |████████████████████████████████| 13.9MB 241kB/s \n",
            "\u001b[31mERROR: umap-learn 0.4.6 has requirement numpy>=1.17, but you'll have numpy 1.15.4 which is incompatible.\u001b[0m\n",
            "\u001b[31mERROR: tensorflow 2.3.0 has requirement numpy<1.19.0,>=1.16.0, but you'll have numpy 1.15.4 which is incompatible.\u001b[0m\n",
            "\u001b[31mERROR: plotnine 0.6.0 has requirement numpy>=1.16.0, but you'll have numpy 1.15.4 which is incompatible.\u001b[0m\n",
            "\u001b[31mERROR: datascience 0.10.6 has requirement folium==0.2.1, but you'll have folium 0.8.3 which is incompatible.\u001b[0m\n",
            "\u001b[31mERROR: astropy 4.1 has requirement numpy>=1.16, but you'll have numpy 1.15.4 which is incompatible.\u001b[0m\n",
            "\u001b[31mERROR: albumentations 0.1.12 has requirement imgaug<0.2.7,>=0.2.5, but you'll have imgaug 0.2.9 which is incompatible.\u001b[0m\n",
            "\u001b[?25hInstalling collected packages: numpy\n",
            "  Found existing installation: numpy 1.18.5\n",
            "    Uninstalling numpy-1.18.5:\n",
            "      Successfully uninstalled numpy-1.18.5\n",
            "Successfully installed numpy-1.15.4\n"
          ],
          "name": "stdout"
        },
        {
          "output_type": "display_data",
          "data": {
            "application/vnd.colab-display-data+json": {
              "pip_warning": {
                "packages": [
                  "numpy"
                ]
              }
            }
          },
          "metadata": {
            "tags": []
          }
        },
        {
          "output_type": "stream",
          "text": [
            "Collecting deepdish\n",
            "  Downloading https://files.pythonhosted.org/packages/6e/39/2a47c852651982bc5eb39212ac110284dd20126bdc7b49bde401a0139f5d/deepdish-0.3.6-py2.py3-none-any.whl\n",
            "Requirement already satisfied: numpy in /usr/local/lib/python3.6/dist-packages (from deepdish) (1.15.4)\n",
            "Requirement already satisfied: scipy in /usr/local/lib/python3.6/dist-packages (from deepdish) (1.4.1)\n",
            "Requirement already satisfied: tables in /usr/local/lib/python3.6/dist-packages (from deepdish) (3.4.4)\n",
            "Requirement already satisfied: numexpr>=2.5.2 in /usr/local/lib/python3.6/dist-packages (from tables->deepdish) (2.7.1)\n",
            "Requirement already satisfied: six>=1.9.0 in /usr/local/lib/python3.6/dist-packages (from tables->deepdish) (1.15.0)\n",
            "Installing collected packages: deepdish\n",
            "Successfully installed deepdish-0.3.6\n"
          ],
          "name": "stdout"
        }
      ]
    },
    {
      "cell_type": "code",
      "metadata": {
        "id": "R_m79alguZ9P"
      },
      "source": [
        "%matplotlib inline\n",
        "import matplotlib.pyplot as plt\n",
        "import numpy as np\n",
        "import pandas as pd\n",
        "import os\n",
        "import deepdish as dd\n",
        "from sklearn.model_selection import train_test_split\n",
        "from tensorflow.keras.models import Sequential, Model\n",
        "from tensorflow.keras.layers import Dense, Conv2D, Dropout, Flatten, MaxPooling2D, GlobalAveragePooling2D\n",
        "from tensorflow.keras.utils import to_categorical, plot_model\n",
        "from tensorflow.keras.optimizers import Adam, RMSprop, SGD\n",
        "from tensorflow.keras.callbacks import ReduceLROnPlateau\n",
        "from tensorflow.keras.preprocessing.image import ImageDataGenerator\n",
        "\n",
        "from tensorflow.keras.applications.inception_v3 import InceptionV3"
      ],
      "execution_count": 1,
      "outputs": []
    },
    {
      "cell_type": "code",
      "metadata": {
        "id": "0e2SVXyVZrxe",
        "outputId": "cd4e8d96-894a-49ce-f2ad-39c2dab58771",
        "colab": {
          "base_uri": "https://localhost:8080/",
          "height": 36
        }
      },
      "source": [
        "np.__version__"
      ],
      "execution_count": 2,
      "outputs": [
        {
          "output_type": "execute_result",
          "data": {
            "application/vnd.google.colaboratory.intrinsic+json": {
              "type": "string"
            },
            "text/plain": [
              "'1.15.4'"
            ]
          },
          "metadata": {
            "tags": []
          },
          "execution_count": 2
        }
      ]
    },
    {
      "cell_type": "code",
      "metadata": {
        "id": "K3IKV5kvucC1",
        "outputId": "a4adbce6-a9f4-4b0f-8952-f33a12d75cca",
        "colab": {
          "base_uri": "https://localhost:8080/"
        }
      },
      "source": [
        "from google.colab import drive\n",
        "drive.mount('/content/drive')\n",
        "os.chdir('/content/drive/My Drive/Colab Notebooks/Data')"
      ],
      "execution_count": 3,
      "outputs": [
        {
          "output_type": "stream",
          "text": [
            "Drive already mounted at /content/drive; to attempt to forcibly remount, call drive.mount(\"/content/drive\", force_remount=True).\n"
          ],
          "name": "stdout"
        }
      ]
    },
    {
      "cell_type": "code",
      "metadata": {
        "id": "kQlULaeIudf8"
      },
      "source": [
        "data = dd.io.load('ISIC_dataset.h5')\n",
        "data_df = pd.DataFrame(data)"
      ],
      "execution_count": 4,
      "outputs": []
    },
    {
      "cell_type": "code",
      "metadata": {
        "id": "j4LrYJwZuemq"
      },
      "source": [
        "X_raw = data_df.image\n",
        "Y = data_df.cell_type_idx"
      ],
      "execution_count": 5,
      "outputs": []
    },
    {
      "cell_type": "code",
      "metadata": {
        "id": "aPIuLWUK5JGe"
      },
      "source": [
        "X = np.zeros((10015, 75, 100, 3))\n",
        "\n",
        "for i in range(10015):\n",
        "  X[i,:,:,:] = X_raw[i]"
      ],
      "execution_count": 6,
      "outputs": []
    },
    {
      "cell_type": "code",
      "metadata": {
        "id": "fX-nCzguvbxT",
        "outputId": "502af968-3473-478d-cdb6-2deb55235205",
        "colab": {
          "base_uri": "https://localhost:8080/"
        }
      },
      "source": [
        "print(\"Tamaño datos X: {}\".format(X.shape))\n",
        "print(\"Tamaño datos Y: {}\".format(Y.shape))"
      ],
      "execution_count": 7,
      "outputs": [
        {
          "output_type": "stream",
          "text": [
            "Tamaño datos X: (10015, 75, 100, 3)\n",
            "Tamaño datos Y: (10015,)\n"
          ],
          "name": "stdout"
        }
      ]
    },
    {
      "cell_type": "code",
      "metadata": {
        "id": "TCFKQAkHvDrw"
      },
      "source": [
        "X_train, X_test, Y_train, Y_test = train_test_split(X, Y, test_size = 0.2, random_state = 12345)\n",
        "X_train, X_val, Y_train, Y_val = train_test_split(X_train, Y_train, test_size=0.2, random_state = 12345)"
      ],
      "execution_count": 8,
      "outputs": []
    },
    {
      "cell_type": "code",
      "metadata": {
        "id": "wDIKZ_QyDY-M"
      },
      "source": [
        "X_train = (X_train / np.max(X_train))\n",
        "X_test = (X_test / np.max(X_test))\n",
        "X_val = (X_val / np.max(X_val))"
      ],
      "execution_count": 9,
      "outputs": []
    },
    {
      "cell_type": "code",
      "metadata": {
        "id": "OnJa21jVQxcz"
      },
      "source": [
        "Y_train = to_categorical(Y_train, num_classes = 7)\n",
        "Y_test = to_categorical(Y_test, num_classes = 7)\n",
        "Y_val = to_categorical(Y_val, num_classes = 7)"
      ],
      "execution_count": 10,
      "outputs": []
    },
    {
      "cell_type": "code",
      "metadata": {
        "id": "fItEHkc6tiTE"
      },
      "source": [
        "# DATA AUGMENTATION\n",
        "datagen = ImageDataGenerator(\n",
        "        featurewise_center=False,  # set input mean to 0 over the dataset\n",
        "        samplewise_center=False,  # set each sample mean to 0\n",
        "        featurewise_std_normalization=False,  # divide inputs by std of the dataset\n",
        "        samplewise_std_normalization=False,  # divide each input by its std\n",
        "        zca_whitening=False,  # apply ZCA whitening\n",
        "        rotation_range=60,  # randomly rotate images in the range (degrees, 0 to 180)\n",
        "        zoom_range = 0.4, # Randomly zoom image \n",
        "        width_shift_range=0.2,  # randomly shift images horizontally (fraction of total width)\n",
        "        height_shift_range=0.2,  # randomly shift images vertically (fraction of total height)\n",
        "        horizontal_flip=False,  # randomly flip images\n",
        "        vertical_flip=False)  # randomly flip images\n",
        "\n",
        "datagen.fit(X_train)"
      ],
      "execution_count": 11,
      "outputs": []
    },
    {
      "cell_type": "code",
      "metadata": {
        "id": "3h1miH4BP4NK",
        "outputId": "2aa56aac-e1d0-4f6d-9c55-0925c94d9c69",
        "colab": {
          "base_uri": "https://localhost:8080/",
          "height": 55
        }
      },
      "source": [
        "input_shape = (75, 100, 3)\n",
        "num_classes = 7\n",
        "\n",
        "#inceptionv3\n",
        "\n",
        "model = InceptionV3(weights='imagenet', include_top=False, input_shape=input_shape)\n",
        "\n",
        "new_output = GlobalAveragePooling2D()(model.output)\n",
        "new_output = Dense(128, activation='relu')(new_output)\n",
        "new_output = Dropout(0.5)(new_output)\n",
        "new_output = Dense(64, activation='relu')(new_output)\n",
        "new_output = Dropout(0.5)(new_output)\n",
        "new_output = Dense(num_classes, activation='softmax')(new_output)\n",
        "model = Model(model.inputs, new_output)"
      ],
      "execution_count": 12,
      "outputs": [
        {
          "output_type": "execute_result",
          "data": {
            "application/vnd.google.colaboratory.intrinsic+json": {
              "type": "string"
            },
            "text/plain": [
              "\"\\nx = base_model.output\\nx = GlobalAveragePooling2D()(x)\\nx = Dense(1024, activation='relu')(x)\\n\\npredictions = Dense(num_classes, activation='softmax')(x)\\n\\nmodel = Model(inputs=base_model.input, outputs=predictions)\\n\""
            ]
          },
          "metadata": {
            "tags": []
          },
          "execution_count": 12
        }
      ]
    },
    {
      "cell_type": "code",
      "metadata": {
        "id": "aK0GNbn6Qcj0"
      },
      "source": [
        "epocas = 50\n",
        "bs = 32\n",
        "bs2 = 64\n",
        "lr = 0.0001\n",
        "optim = Adam(learning_rate = lr)\n",
        "model.compile(optimizer = optim, loss = 'categorical_crossentropy', metrics = ['accuracy'])\n",
        "reduce_lr = ReduceLROnPlateau(monitor='val_loss', factor=0.3, patience=5, min_lr=0.00001)\n",
        "callbacks = [reduce_lr]"
      ],
      "execution_count": 13,
      "outputs": []
    },
    {
      "cell_type": "code",
      "metadata": {
        "id": "TWxhoNU3QeIL",
        "outputId": "8db8d14f-a4c4-4a92-c51a-bcf3b12c7f30",
        "colab": {
          "base_uri": "https://localhost:8080/"
        }
      },
      "source": [
        "historico = model.fit(datagen.flow(X_train, Y_train, batch_size = bs2), epochs = epocas, batch_size = bs, validation_data = (X_val, Y_val), callbacks = callbacks)"
      ],
      "execution_count": 14,
      "outputs": [
        {
          "output_type": "stream",
          "text": [
            "Epoch 1/50\n",
            "101/101 [==============================] - 16s 161ms/step - loss: 1.4264 - accuracy: 0.5385 - val_loss: 1.3440 - val_accuracy: 0.6544\n",
            "Epoch 2/50\n",
            "101/101 [==============================] - 14s 137ms/step - loss: 1.0707 - accuracy: 0.6591 - val_loss: 1.1424 - val_accuracy: 0.6544\n",
            "Epoch 3/50\n",
            "101/101 [==============================] - 14s 136ms/step - loss: 0.9794 - accuracy: 0.6698 - val_loss: 0.9348 - val_accuracy: 0.6762\n",
            "Epoch 4/50\n",
            "101/101 [==============================] - 14s 137ms/step - loss: 0.9312 - accuracy: 0.6847 - val_loss: 0.9282 - val_accuracy: 0.6906\n",
            "Epoch 5/50\n",
            "101/101 [==============================] - 14s 135ms/step - loss: 0.8917 - accuracy: 0.6918 - val_loss: 0.8401 - val_accuracy: 0.7093\n",
            "Epoch 6/50\n",
            "101/101 [==============================] - 14s 135ms/step - loss: 0.8703 - accuracy: 0.6942 - val_loss: 0.7890 - val_accuracy: 0.7268\n",
            "Epoch 7/50\n",
            "101/101 [==============================] - 14s 136ms/step - loss: 0.8102 - accuracy: 0.7134 - val_loss: 0.7546 - val_accuracy: 0.7411\n",
            "Epoch 8/50\n",
            "101/101 [==============================] - 14s 135ms/step - loss: 0.7921 - accuracy: 0.7234 - val_loss: 0.7360 - val_accuracy: 0.7461\n",
            "Epoch 9/50\n",
            "101/101 [==============================] - 14s 135ms/step - loss: 0.7532 - accuracy: 0.7390 - val_loss: 0.7108 - val_accuracy: 0.7536\n",
            "Epoch 10/50\n",
            "101/101 [==============================] - 14s 135ms/step - loss: 0.7427 - accuracy: 0.7446 - val_loss: 0.7094 - val_accuracy: 0.7548\n",
            "Epoch 11/50\n",
            "101/101 [==============================] - 14s 136ms/step - loss: 0.7006 - accuracy: 0.7589 - val_loss: 0.7100 - val_accuracy: 0.7511\n",
            "Epoch 12/50\n",
            "101/101 [==============================] - 14s 137ms/step - loss: 0.7071 - accuracy: 0.7532 - val_loss: 0.6746 - val_accuracy: 0.7711\n",
            "Epoch 13/50\n",
            "101/101 [==============================] - 14s 137ms/step - loss: 0.6730 - accuracy: 0.7656 - val_loss: 0.6850 - val_accuracy: 0.7810\n",
            "Epoch 14/50\n",
            "101/101 [==============================] - 14s 136ms/step - loss: 0.6507 - accuracy: 0.7764 - val_loss: 0.6513 - val_accuracy: 0.7991\n",
            "Epoch 15/50\n",
            "101/101 [==============================] - 14s 135ms/step - loss: 0.6409 - accuracy: 0.7825 - val_loss: 0.6747 - val_accuracy: 0.7810\n",
            "Epoch 16/50\n",
            "101/101 [==============================] - 14s 135ms/step - loss: 0.6287 - accuracy: 0.7851 - val_loss: 0.6542 - val_accuracy: 0.7842\n",
            "Epoch 17/50\n",
            "101/101 [==============================] - 14s 138ms/step - loss: 0.6107 - accuracy: 0.7908 - val_loss: 0.6789 - val_accuracy: 0.7810\n",
            "Epoch 18/50\n",
            "101/101 [==============================] - 14s 138ms/step - loss: 0.5953 - accuracy: 0.7968 - val_loss: 0.6190 - val_accuracy: 0.8079\n",
            "Epoch 19/50\n",
            "101/101 [==============================] - 14s 137ms/step - loss: 0.5832 - accuracy: 0.8000 - val_loss: 0.6492 - val_accuracy: 0.7891\n",
            "Epoch 20/50\n",
            "101/101 [==============================] - 14s 136ms/step - loss: 0.5695 - accuracy: 0.8039 - val_loss: 0.6153 - val_accuracy: 0.7941\n",
            "Epoch 21/50\n",
            "101/101 [==============================] - 14s 136ms/step - loss: 0.5698 - accuracy: 0.8087 - val_loss: 0.6428 - val_accuracy: 0.7948\n",
            "Epoch 22/50\n",
            "101/101 [==============================] - 14s 137ms/step - loss: 0.5434 - accuracy: 0.8165 - val_loss: 0.6511 - val_accuracy: 0.7973\n",
            "Epoch 23/50\n",
            "101/101 [==============================] - 14s 137ms/step - loss: 0.5307 - accuracy: 0.8192 - val_loss: 0.6722 - val_accuracy: 0.8110\n",
            "Epoch 24/50\n",
            "101/101 [==============================] - 14s 139ms/step - loss: 0.5246 - accuracy: 0.8259 - val_loss: 0.5979 - val_accuracy: 0.8085\n",
            "Epoch 25/50\n",
            "101/101 [==============================] - 14s 137ms/step - loss: 0.4926 - accuracy: 0.8323 - val_loss: 0.7649 - val_accuracy: 0.7935\n",
            "Epoch 26/50\n",
            "101/101 [==============================] - 14s 141ms/step - loss: 0.4885 - accuracy: 0.8327 - val_loss: 0.6368 - val_accuracy: 0.8091\n",
            "Epoch 27/50\n",
            "101/101 [==============================] - 14s 139ms/step - loss: 0.4703 - accuracy: 0.8412 - val_loss: 0.6601 - val_accuracy: 0.7985\n",
            "Epoch 28/50\n",
            "101/101 [==============================] - 14s 138ms/step - loss: 0.4680 - accuracy: 0.8398 - val_loss: 0.7093 - val_accuracy: 0.8022\n",
            "Epoch 29/50\n",
            "101/101 [==============================] - 14s 141ms/step - loss: 0.4715 - accuracy: 0.8447 - val_loss: 0.6940 - val_accuracy: 0.8054\n",
            "Epoch 30/50\n",
            "101/101 [==============================] - 14s 141ms/step - loss: 0.4202 - accuracy: 0.8593 - val_loss: 0.6344 - val_accuracy: 0.8216\n",
            "Epoch 31/50\n",
            "101/101 [==============================] - 14s 138ms/step - loss: 0.3997 - accuracy: 0.8633 - val_loss: 0.6250 - val_accuracy: 0.8129\n",
            "Epoch 32/50\n",
            "101/101 [==============================] - 14s 139ms/step - loss: 0.4021 - accuracy: 0.8677 - val_loss: 0.6130 - val_accuracy: 0.8166\n",
            "Epoch 33/50\n",
            "101/101 [==============================] - 14s 138ms/step - loss: 0.3865 - accuracy: 0.8717 - val_loss: 0.6832 - val_accuracy: 0.8166\n",
            "Epoch 34/50\n",
            "101/101 [==============================] - 14s 138ms/step - loss: 0.4029 - accuracy: 0.8671 - val_loss: 0.6069 - val_accuracy: 0.8309\n",
            "Epoch 35/50\n",
            "101/101 [==============================] - 14s 138ms/step - loss: 0.3626 - accuracy: 0.8788 - val_loss: 0.6046 - val_accuracy: 0.8272\n",
            "Epoch 36/50\n",
            "101/101 [==============================] - 14s 137ms/step - loss: 0.3762 - accuracy: 0.8767 - val_loss: 0.6030 - val_accuracy: 0.8272\n",
            "Epoch 37/50\n",
            "101/101 [==============================] - 14s 137ms/step - loss: 0.3709 - accuracy: 0.8755 - val_loss: 0.6203 - val_accuracy: 0.8272\n",
            "Epoch 38/50\n",
            "101/101 [==============================] - 14s 137ms/step - loss: 0.3655 - accuracy: 0.8753 - val_loss: 0.6322 - val_accuracy: 0.8291\n",
            "Epoch 39/50\n",
            "101/101 [==============================] - 14s 137ms/step - loss: 0.3717 - accuracy: 0.8738 - val_loss: 0.6392 - val_accuracy: 0.8278\n",
            "Epoch 40/50\n",
            "101/101 [==============================] - 14s 137ms/step - loss: 0.3527 - accuracy: 0.8836 - val_loss: 0.6471 - val_accuracy: 0.8297\n",
            "Epoch 41/50\n",
            "101/101 [==============================] - 14s 137ms/step - loss: 0.3509 - accuracy: 0.8819 - val_loss: 0.6313 - val_accuracy: 0.8284\n",
            "Epoch 42/50\n",
            "101/101 [==============================] - 14s 136ms/step - loss: 0.3556 - accuracy: 0.8824 - val_loss: 0.6306 - val_accuracy: 0.8297\n",
            "Epoch 43/50\n",
            "101/101 [==============================] - 14s 136ms/step - loss: 0.3519 - accuracy: 0.8848 - val_loss: 0.6337 - val_accuracy: 0.8322\n",
            "Epoch 44/50\n",
            "101/101 [==============================] - 14s 136ms/step - loss: 0.3432 - accuracy: 0.8855 - val_loss: 0.6506 - val_accuracy: 0.8309\n",
            "Epoch 45/50\n",
            "101/101 [==============================] - 14s 136ms/step - loss: 0.3498 - accuracy: 0.8897 - val_loss: 0.6595 - val_accuracy: 0.8266\n",
            "Epoch 46/50\n",
            "101/101 [==============================] - 14s 136ms/step - loss: 0.3473 - accuracy: 0.8852 - val_loss: 0.6449 - val_accuracy: 0.8260\n",
            "Epoch 47/50\n",
            "101/101 [==============================] - 14s 137ms/step - loss: 0.3398 - accuracy: 0.8912 - val_loss: 0.6397 - val_accuracy: 0.8284\n",
            "Epoch 48/50\n",
            "101/101 [==============================] - 14s 137ms/step - loss: 0.3350 - accuracy: 0.8875 - val_loss: 0.6450 - val_accuracy: 0.8309\n",
            "Epoch 49/50\n",
            "101/101 [==============================] - 14s 136ms/step - loss: 0.3354 - accuracy: 0.8906 - val_loss: 0.6482 - val_accuracy: 0.8309\n",
            "Epoch 50/50\n",
            "101/101 [==============================] - 14s 135ms/step - loss: 0.3259 - accuracy: 0.8883 - val_loss: 0.6403 - val_accuracy: 0.8303\n"
          ],
          "name": "stdout"
        }
      ]
    },
    {
      "cell_type": "code",
      "metadata": {
        "id": "GgHwxyxScPYs",
        "outputId": "146288f4-7d69-4946-e8a0-66671a9428fd",
        "colab": {
          "base_uri": "https://localhost:8080/",
          "height": 295
        }
      },
      "source": [
        "plt.plot(historico.history['accuracy'], c = 'b')\n",
        "plt.plot(historico.history['val_accuracy'], c = 'r')\n",
        "plt.legend(['Train', 'Validacion'])\n",
        "plt.xlabel('Epocas')\n",
        "plt.ylabel('Medida')\n",
        "plt.title('Evolucion Entrenamiento')\n",
        "plt.show()"
      ],
      "execution_count": 15,
      "outputs": [
        {
          "output_type": "display_data",
          "data": {
            "image/png": "[encoded data removed]",
            "text/plain": [
              "<Figure size 432x288 with 1 Axes>"
            ]
          },
          "metadata": {
            "tags": [],
            "needs_background": "light"
          }
        }
      ]
    },
    {
      "cell_type": "code",
      "metadata": {
        "id": "MopYHtLIcPzy",
        "outputId": "b41a7340-51e7-41a3-d1b1-24b553130fa4",
        "colab": {
          "base_uri": "https://localhost:8080/",
          "height": 295
        }
      },
      "source": [
        "plt.plot(historico.history['loss'], c = 'b')\n",
        "plt.plot(historico.history['val_loss'], c = 'r')\n",
        "plt.legend(['Train', 'Validacion'])\n",
        "plt.xlabel('Epocas')\n",
        "plt.ylabel('Medida')\n",
        "plt.title('Evolucion Entrenamiento')\n",
        "plt.show()"
      ],
      "execution_count": 16,
      "outputs": [
        {
          "output_type": "display_data",
          "data": {
            "image/png": "[encoded data removed]",
            "text/plain": [
              "<Figure size 432x288 with 1 Axes>"
            ]
          },
          "metadata": {
            "tags": [],
            "needs_background": "light"
          }
        }
      ]
    },
    {
      "cell_type": "code",
      "metadata": {
        "id": "qZepWyf8Qj3V",
        "outputId": "ff76866f-0278-455b-fce9-b9f943e24165",
        "colab": {
          "base_uri": "https://localhost:8080/"
        }
      },
      "source": [
        "metricas = model.evaluate(X_test, Y_test)"
      ],
      "execution_count": 17,
      "outputs": [
        {
          "output_type": "stream",
          "text": [
            "63/63 [==============================] - 1s 23ms/step - loss: 0.5508 - accuracy: 0.8357\n"
          ],
          "name": "stdout"
        }
      ]
    },
    {
      "cell_type": "code",
      "metadata": {
        "id": "A_RbeR3OjfV9"
      },
      "source": [
        ""
      ],
      "execution_count": null,
      "outputs": []
    }
  ]
}