{
  "nbformat": 4,
  "nbformat_minor": 0,
  "metadata": {
    "colab": {
      "name": "Data_Augmentation+Data_Balance.ipynb",
      "provenance": [],
      "collapsed_sections": [],
      "authorship_tag": "ABX9TyPr02fE/1ZLjElvydYr7CJp",
      "include_colab_link": true
    },
    "kernelspec": {
      "name": "python3",
      "display_name": "Python 3"
    }
  },
  "cells": [
    {
      "cell_type": "markdown",
      "metadata": {
        "id": "view-in-github",
        "colab_type": "text"
      },
      "source": [
        "<a href=\"https://colab.research.google.com/github/josematez/DeepLearning_SkinCancer/blob/main/Data_Augmentation%2BData_Balance.ipynb\" target=\"_parent\"><img src=\"https://colab.research.google.com/assets/colab-badge.svg\" alt=\"Open In Colab\"/></a>"
      ]
    },
    {
      "cell_type": "code",
      "metadata": {
        "id": "PSsH-P5c5g10",
        "outputId": "78e80824-06e6-42a0-ca2d-5262adfd6642",
        "colab": {
          "base_uri": "https://localhost:8080/",
          "height": 514
        }
      },
      "source": [
        "!pip install deepdish\n",
        "!pip install numpy==1.15.4"
      ],
      "execution_count": 1,
      "outputs": [
        {
          "output_type": "stream",
          "text": [
            "Collecting deepdish\n",
            "  Downloading https://files.pythonhosted.org/packages/6e/39/2a47c852651982bc5eb39212ac110284dd20126bdc7b49bde401a0139f5d/deepdish-0.3.6-py2.py3-none-any.whl\n",
            "Requirement already satisfied: tables in /usr/local/lib/python3.6/dist-packages (from deepdish) (3.4.4)\n",
            "Requirement already satisfied: numpy in /usr/local/lib/python3.6/dist-packages (from deepdish) (1.18.5)\n",
            "Requirement already satisfied: scipy in /usr/local/lib/python3.6/dist-packages (from deepdish) (1.4.1)\n",
            "Requirement already satisfied: numexpr>=2.5.2 in /usr/local/lib/python3.6/dist-packages (from tables->deepdish) (2.7.1)\n",
            "Requirement already satisfied: six>=1.9.0 in /usr/local/lib/python3.6/dist-packages (from tables->deepdish) (1.15.0)\n",
            "Installing collected packages: deepdish\n",
            "Successfully installed deepdish-0.3.6\n",
            "Collecting numpy==1.15.4\n",
            "\u001b[?25l  Downloading https://files.pythonhosted.org/packages/ff/7f/9d804d2348471c67a7d8b5f84f9bc59fd1cefa148986f2b74552f8573555/numpy-1.15.4-cp36-cp36m-manylinux1_x86_64.whl (13.9MB)\n",
            "\u001b[K     |████████████████████████████████| 13.9MB 323kB/s \n",
            "\u001b[31mERROR: umap-learn 0.4.6 has requirement numpy>=1.17, but you'll have numpy 1.15.4 which is incompatible.\u001b[0m\n",
            "\u001b[31mERROR: tensorflow 2.3.0 has requirement numpy<1.19.0,>=1.16.0, but you'll have numpy 1.15.4 which is incompatible.\u001b[0m\n",
            "\u001b[31mERROR: plotnine 0.6.0 has requirement numpy>=1.16.0, but you'll have numpy 1.15.4 which is incompatible.\u001b[0m\n",
            "\u001b[31mERROR: datascience 0.10.6 has requirement folium==0.2.1, but you'll have folium 0.8.3 which is incompatible.\u001b[0m\n",
            "\u001b[31mERROR: astropy 4.1 has requirement numpy>=1.16, but you'll have numpy 1.15.4 which is incompatible.\u001b[0m\n",
            "\u001b[31mERROR: albumentations 0.1.12 has requirement imgaug<0.2.7,>=0.2.5, but you'll have imgaug 0.2.9 which is incompatible.\u001b[0m\n",
            "\u001b[?25hInstalling collected packages: numpy\n",
            "  Found existing installation: numpy 1.18.5\n",
            "    Uninstalling numpy-1.18.5:\n",
            "      Successfully uninstalled numpy-1.18.5\n",
            "Successfully installed numpy-1.15.4\n"
          ],
          "name": "stdout"
        },
        {
          "output_type": "display_data",
          "data": {
            "application/vnd.colab-display-data+json": {
              "pip_warning": {
                "packages": [
                  "numpy"
                ]
              }
            }
          },
          "metadata": {
            "tags": []
          }
        }
      ]
    },
    {
      "cell_type": "code",
      "metadata": {
        "id": "4cgdOvWE5irx"
      },
      "source": [
        "%matplotlib inline\n",
        "import matplotlib.pyplot as plt\n",
        "import numpy as np\n",
        "import pandas as pd\n",
        "import os\n",
        "import deepdish as dd\n"
      ],
      "execution_count": 1,
      "outputs": []
    },
    {
      "cell_type": "code",
      "metadata": {
        "id": "PE6eTHy45k5n",
        "outputId": "cf6d2949-2524-4b7d-9a0c-982f958bbd37",
        "colab": {
          "base_uri": "https://localhost:8080/"
        }
      },
      "source": [
        "from google.colab import drive\n",
        "drive.mount('/content/drive')\n",
        "os.chdir('/content/drive/My Drive/ISIC_Dataset')"
      ],
      "execution_count": 2,
      "outputs": [
        {
          "output_type": "stream",
          "text": [
            "Mounted at /content/drive\n"
          ],
          "name": "stdout"
        }
      ]
    },
    {
      "cell_type": "code",
      "metadata": {
        "id": "FhIfrgtW5qEr"
      },
      "source": [
        "data = dd.io.load('ISIC_dataset.h5')\n",
        "data_df = pd.DataFrame(data)"
      ],
      "execution_count": 3,
      "outputs": []
    },
    {
      "cell_type": "code",
      "metadata": {
        "id": "KnrrES5T6Ozb"
      },
      "source": [
        "X_raw = data_df.image\n",
        "Y = data_df.cell_type_idx"
      ],
      "execution_count": 4,
      "outputs": []
    },
    {
      "cell_type": "code",
      "metadata": {
        "id": "ZtOuLMa96iNJ"
      },
      "source": [
        "from imgaug import augmenters as iaa\n",
        "from imgaug import parameters as iap\n",
        "\n",
        "\"\"\"\n",
        "Params de entrada: X, Y, num_muestras_clase\n",
        "Params de salida: X_bal, Y_bal\n",
        "\"\"\"\n",
        "def balance_and_augmentation_data(X, Y, num_muestras_clase): \n",
        "\n",
        "  rows, cols, depth = X[0].shape\n",
        "  num_clases = Y.nunique()\n",
        "  num_muestras_init = Y.value_counts()\n",
        "  print((num_clases*num_muestras_clase, rows, cols, depth))\n",
        "  X_bal = np.zeros((num_clases*num_muestras_clase, rows, cols, depth), dtype = np.uint8)\n",
        "  Y_bal = np.zeros((num_clases*num_muestras_clase,), dtype = np.uint8)\n",
        "\n",
        "  # Se define el operador para data augmentation\n",
        "  seq = iaa.Sequential([\n",
        "      iaa.GaussianBlur(\n",
        "          sigma=iap.Uniform(0.0, 1.0)\n",
        "      ),\n",
        "      iaa.Affine(\n",
        "          rotate=iap.Normal(0.0, 30),\n",
        "          translate_px=iap.RandomSign(iap.Poisson(3))\n",
        "      )\n",
        "  ])\n",
        "\n",
        "  next_idx = 0\n",
        "\n",
        "  for cat in range(num_clases):\n",
        "\n",
        "    n_imgs_generate = num_muestras_clase - num_muestras_init[cat]\n",
        "    idx_imgs_cat = np.where(Y == cat)[0]\n",
        "\n",
        "    for idx, img in enumerate(idx_imgs_cat):\n",
        "      if idx < num_muestras_clase:\n",
        "        X_bal[next_idx,:,:,:] = X[img]\n",
        "        Y_bal[next_idx] = Y[img]\n",
        "        next_idx += 1\n",
        "      else:\n",
        "        break\n",
        "\n",
        "    if n_imgs_generate > 0:\n",
        "      idx_new_imgs = np.random.randint(0, num_muestras_init[cat], n_imgs_generate)\n",
        "      for idx in idx_new_imgs:\n",
        "        X_bal[next_idx,:,:,:] = seq.augment_image(X_raw[idx])\n",
        "        Y_bal[next_idx] = Y[idx]\n",
        "        next_idx += 1\n",
        "\n",
        "  return X_bal, Y_bal "
      ],
      "execution_count": 123,
      "outputs": []
    },
    {
      "cell_type": "code",
      "metadata": {
        "id": "KSKvOXjM9DwR",
        "outputId": "1b78e68d-924f-4de7-a991-05c63e08b4f0",
        "colab": {
          "base_uri": "https://localhost:8080/"
        }
      },
      "source": [
        "X_bal, Y_bal = balance_and_augmentation_data(X_raw, Y, 2000)"
      ],
      "execution_count": 124,
      "outputs": [
        {
          "output_type": "stream",
          "text": [
            "(14000, 75, 100, 3)\n"
          ],
          "name": "stdout"
        }
      ]
    },
    {
      "cell_type": "code",
      "metadata": {
        "id": "NcERG7stYjTc",
        "outputId": "716353be-589a-4de8-ba6e-e2ff59ff7680",
        "colab": {
          "base_uri": "https://localhost:8080/"
        }
      },
      "source": [
        "print('X_bal shape: {}'.format(X_bal.shape))\n",
        "print('Y_bal shape: {}'.format(Y_bal.shape))"
      ],
      "execution_count": 130,
      "outputs": [
        {
          "output_type": "stream",
          "text": [
            "X_bal shape: (14000, 75, 100, 3)\n",
            "Y_bal shape: (14000,)\n"
          ],
          "name": "stdout"
        }
      ]
    }
  ]
}