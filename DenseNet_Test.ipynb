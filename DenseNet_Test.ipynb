{
  "nbformat": 4,
  "nbformat_minor": 0,
  "metadata": {
    "colab": {
      "name": "DenseNet_Test.ipynb",
      "provenance": [],
      "collapsed_sections": [],
      "authorship_tag": "ABX9TyMjz0ZbzC36CwJwPWVp8KNx",
      "include_colab_link": true
    },
    "kernelspec": {
      "name": "python3",
      "display_name": "Python 3"
    },
    "accelerator": "GPU"
  },
  "cells": [
    {
      "cell_type": "markdown",
      "metadata": {
        "id": "view-in-github",
        "colab_type": "text"
      },
      "source": [
        "<a href=\"https://colab.research.google.com/github/josematez/DeepLearning_SkinCancer/blob/main/DenseNet_Test.ipynb\" target=\"_parent\"><img src=\"https://colab.research.google.com/assets/colab-badge.svg\" alt=\"Open In Colab\"/></a>"
      ]
    },
    {
      "cell_type": "code",
      "metadata": {
        "id": "O_Fa9CYiV0Ok",
        "outputId": "b7814e1e-6d96-4b18-9208-1c5605cf720b",
        "colab": {
          "base_uri": "https://localhost:8080/",
          "height": 463
        }
      },
      "source": [
        "!pip install deepdish\n",
        "!pip install numpy==1.15.4"
      ],
      "execution_count": 10,
      "outputs": [
        {
          "output_type": "stream",
          "text": [
            "Requirement already satisfied: deepdish in /usr/local/lib/python3.6/dist-packages (0.3.6)\n",
            "Requirement already satisfied: numpy in /usr/local/lib/python3.6/dist-packages (from deepdish) (1.18.5)\n",
            "Requirement already satisfied: scipy in /usr/local/lib/python3.6/dist-packages (from deepdish) (1.4.1)\n",
            "Requirement already satisfied: tables in /usr/local/lib/python3.6/dist-packages (from deepdish) (3.4.4)\n",
            "Requirement already satisfied: six>=1.9.0 in /usr/local/lib/python3.6/dist-packages (from tables->deepdish) (1.15.0)\n",
            "Requirement already satisfied: numexpr>=2.5.2 in /usr/local/lib/python3.6/dist-packages (from tables->deepdish) (2.7.1)\n",
            "Collecting numpy==1.15.4\n",
            "\u001b[?25l  Downloading https://files.pythonhosted.org/packages/ff/7f/9d804d2348471c67a7d8b5f84f9bc59fd1cefa148986f2b74552f8573555/numpy-1.15.4-cp36-cp36m-manylinux1_x86_64.whl (13.9MB)\n",
            "\u001b[K     |████████████████████████████████| 13.9MB 242kB/s \n",
            "\u001b[31mERROR: umap-learn 0.4.6 has requirement numpy>=1.17, but you'll have numpy 1.15.4 which is incompatible.\u001b[0m\n",
            "\u001b[31mERROR: tensorflow 2.3.0 has requirement numpy<1.19.0,>=1.16.0, but you'll have numpy 1.15.4 which is incompatible.\u001b[0m\n",
            "\u001b[31mERROR: plotnine 0.6.0 has requirement numpy>=1.16.0, but you'll have numpy 1.15.4 which is incompatible.\u001b[0m\n",
            "\u001b[31mERROR: datascience 0.10.6 has requirement folium==0.2.1, but you'll have folium 0.8.3 which is incompatible.\u001b[0m\n",
            "\u001b[31mERROR: astropy 4.1 has requirement numpy>=1.16, but you'll have numpy 1.15.4 which is incompatible.\u001b[0m\n",
            "\u001b[31mERROR: albumentations 0.1.12 has requirement imgaug<0.2.7,>=0.2.5, but you'll have imgaug 0.2.9 which is incompatible.\u001b[0m\n",
            "\u001b[?25hInstalling collected packages: numpy\n",
            "  Found existing installation: numpy 1.18.5\n",
            "    Uninstalling numpy-1.18.5:\n",
            "      Successfully uninstalled numpy-1.18.5\n",
            "Successfully installed numpy-1.15.4\n"
          ],
          "name": "stdout"
        },
        {
          "output_type": "display_data",
          "data": {
            "application/vnd.colab-display-data+json": {
              "pip_warning": {
                "packages": [
                  "numpy"
                ]
              }
            }
          },
          "metadata": {
            "tags": []
          }
        }
      ]
    },
    {
      "cell_type": "code",
      "metadata": {
        "id": "2SJTaYpGU0HX"
      },
      "source": [
        "%matplotlib inline\n",
        "import matplotlib.pyplot as plt\n",
        "import numpy as np\n",
        "import pandas as pd\n",
        "import os\n",
        "import deepdish as dd\n",
        "#from tqdm import tqdm\n",
        "#from glob import glob\n",
        "#import seaborn as sns\n",
        "#import pprint as pp\n",
        "\n",
        "from sklearn.model_selection import train_test_split\n",
        "from sklearn.metrics import confusion_matrix\n",
        "from sklearn.utils import resample\n",
        "\n",
        "import tensorflow as tf\n",
        "from tensorflow import keras\n",
        "from tensorflow.keras import layers\n",
        "from keras.utils import np_utils, to_categorical, plot_model\n",
        "from keras.callbacks import ReduceLROnPlateau\n",
        "from keras.optimizers import Adam, RMSprop, SGD\n",
        "from keras.preprocessing.image import ImageDataGenerator\n",
        "\n",
        "#import itertools\n",
        "\n",
        "#import cv2\n",
        "#from PIL import Image"
      ],
      "execution_count": 67,
      "outputs": []
    },
    {
      "cell_type": "code",
      "metadata": {
        "id": "myUH8aqdVKhe",
        "outputId": "91f3ad2f-1142-4385-ec6b-9e49eee50b8e",
        "colab": {
          "base_uri": "https://localhost:8080/"
        }
      },
      "source": [
        "from google.colab import drive\n",
        "drive.mount('/content/drive')\n",
        "os.chdir('/content/drive/My Drive/ISIC_Dataset')"
      ],
      "execution_count": 2,
      "outputs": [
        {
          "output_type": "stream",
          "text": [
            "Drive already mounted at /content/drive; to attempt to forcibly remount, call drive.mount(\"/content/drive\", force_remount=True).\n"
          ],
          "name": "stdout"
        }
      ]
    },
    {
      "cell_type": "code",
      "metadata": {
        "id": "3c_BhAXmVNGK"
      },
      "source": [
        "data = dd.io.load('ISIC_dataset.h5')\n",
        "data_df = pd.DataFrame(data)"
      ],
      "execution_count": 3,
      "outputs": []
    },
    {
      "cell_type": "code",
      "metadata": {
        "id": "tN93FJHiVOeS"
      },
      "source": [
        "X_raw = data_df.image\n",
        "Y = data_df.cell_type_idx"
      ],
      "execution_count": 85,
      "outputs": []
    },
    {
      "cell_type": "code",
      "metadata": {
        "id": "8VpzhNkEVPie"
      },
      "source": [
        "X = np.zeros((10015, 75, 100, 3))\n",
        "\n",
        "for i in range(10015):\n",
        "  X[i,:,:,:] = X_raw[i]"
      ],
      "execution_count": 86,
      "outputs": []
    },
    {
      "cell_type": "code",
      "metadata": {
        "id": "u_-udVWjVQzw"
      },
      "source": [
        "X_train, X_test, Y_train, Y_test = train_test_split(X, Y, test_size=0.1)\n",
        "X_train, X_val, Y_train, Y_val = train_test_split(X_train, Y_train, test_size=0.1)"
      ],
      "execution_count": 87,
      "outputs": []
    },
    {
      "cell_type": "code",
      "metadata": {
        "id": "e1ETV3chVTgD"
      },
      "source": [
        "X_train = (X_train / np.max(X_train))\n",
        "X_test = (X_test / np.max(X_test))\n",
        "X_val = (X_val / np.max(X_val))"
      ],
      "execution_count": 88,
      "outputs": []
    },
    {
      "cell_type": "code",
      "metadata": {
        "id": "5C_lLx6lWTWp"
      },
      "source": [
        "Y_train = to_categorical(Y_train, num_classes = 7)\n",
        "Y_test = to_categorical(Y_test, num_classes = 7)\n",
        "Y_val = to_categorical(Y_val, num_classes = 7)"
      ],
      "execution_count": 89,
      "outputs": []
    },
    {
      "cell_type": "code",
      "metadata": {
        "id": "4gFpao9MxuMh"
      },
      "source": [
        "# DATA AUGMENTATION\n",
        "datagen = ImageDataGenerator(\n",
        "        featurewise_center=False,  # set input mean to 0 over the dataset\n",
        "        samplewise_center=False,  # set each sample mean to 0\n",
        "        featurewise_std_normalization=False,  # divide inputs by std of the dataset\n",
        "        samplewise_std_normalization=False,  # divide each input by its std\n",
        "        zca_whitening=False,  # apply ZCA whitening\n",
        "        rotation_range=60,  # randomly rotate images in the range (degrees, 0 to 180)\n",
        "        zoom_range = 0.4, # Randomly zoom image \n",
        "        width_shift_range=0.2,  # randomly shift images horizontally (fraction of total width)\n",
        "        height_shift_range=0.2,  # randomly shift images vertically (fraction of total height)\n",
        "        horizontal_flip=False,  # randomly flip images\n",
        "        vertical_flip=False)  # randomly flip images\n",
        "\n",
        "datagen.fit(X_train)"
      ],
      "execution_count": 90,
      "outputs": []
    },
    {
      "cell_type": "code",
      "metadata": {
        "id": "pXernv2LZcAi"
      },
      "source": [
        "# DENSENET201 MODEL\n",
        "input_shape = X_train[0].shape\n",
        "n_classes = len(Y_train[0])\n",
        "\n",
        "densenet = tf.keras.applications.DenseNet201(weights='imagenet', include_top=False, input_shape=input_shape)\n",
        "densenet.trainable = False\n",
        "\n",
        "model = tf.keras.models.Sequential()\n",
        "model.add(densenet)\n",
        "model.add(tf.keras.layers.Flatten())\n",
        "model.add(tf.keras.layers.Dropout(0.25))\n",
        "model.add(tf.keras.layers.Dense(512, activation='relu'))\n",
        "model.add(tf.keras.layers.BatchNormalization())\n",
        "model.add(tf.keras.layers.Dropout(0.46))\n",
        "model.add(tf.keras.layers.Dense(128, activation='relu'))\n",
        "model.add(tf.keras.layers.BatchNormalization())\n",
        "model.add(tf.keras.layers.Dropout(0.46))    \n",
        "model.add(tf.keras.layers.Dense(n_classes, activation='softmax'))"
      ],
      "execution_count": 91,
      "outputs": []
    },
    {
      "cell_type": "code",
      "metadata": {
        "id": "85KpND-odOfa"
      },
      "source": [
        "epocas = 30\n",
        "bs = 20\n",
        "lr = 0.001\n",
        "optim = Adam(learning_rate = lr)\n",
        "model.compile(optimizer = optim, loss = 'categorical_crossentropy', metrics = ['accuracy'])\n",
        "reduce_lr = ReduceLROnPlateau(monitor='val_loss', factor=0.2, patience=3, min_lr=0.00001)\n",
        "# Define checkpoint to save best Phase 1 weights\n",
        "best_weights_ph1 = \"ph1_weights.hdf5\"\n",
        "checkpoint = tf.keras.callbacks.ModelCheckpoint(best_weights_ph1, monitor=\"val_loss\", mode=\"min\", save_best_only=True, verbose=1)\n",
        "callbacks = [reduce_lr, checkpoint]"
      ],
      "execution_count": 92,
      "outputs": []
    },
    {
      "cell_type": "code",
      "metadata": {
        "id": "nzvLzj3Dda_T",
        "outputId": "776902e7-4acf-4f0d-a29d-5ef3ed7db318",
        "colab": {
          "base_uri": "https://localhost:8080/"
        }
      },
      "source": [
        "historico = model.fit(datagen.flow(X_train, Y_train, batch_size = bs), epochs = epocas, batch_size = bs, validation_data = (X_val, Y_val), callbacks = callbacks)\n",
        "#historico = model.fit(X_train, Y_train, epochs = epocas, batch_size = bs, validation_split = 0.1, callbacks = callbacks)"
      ],
      "execution_count": 93,
      "outputs": [
        {
          "output_type": "stream",
          "text": [
            "Epoch 1/30\n",
            "406/406 [==============================] - ETA: 0s - loss: 1.4246 - accuracy: 0.5818\n",
            "Epoch 00001: val_loss improved from inf to 0.85624, saving model to ph1_weights.hdf5\n",
            "406/406 [==============================] - 26s 65ms/step - loss: 1.4246 - accuracy: 0.5818 - val_loss: 0.8562 - val_accuracy: 0.7073\n",
            "Epoch 2/30\n",
            "406/406 [==============================] - ETA: 0s - loss: 0.9426 - accuracy: 0.6891\n",
            "Epoch 00002: val_loss improved from 0.85624 to 0.80451, saving model to ph1_weights.hdf5\n",
            "406/406 [==============================] - 23s 56ms/step - loss: 0.9426 - accuracy: 0.6891 - val_loss: 0.8045 - val_accuracy: 0.7151\n",
            "Epoch 3/30\n",
            "405/406 [============================>.] - ETA: 0s - loss: 0.8644 - accuracy: 0.7021\n",
            "Epoch 00003: val_loss improved from 0.80451 to 0.74977, saving model to ph1_weights.hdf5\n",
            "406/406 [==============================] - 22s 55ms/step - loss: 0.8647 - accuracy: 0.7019 - val_loss: 0.7498 - val_accuracy: 0.7118\n",
            "Epoch 4/30\n",
            "406/406 [==============================] - ETA: 0s - loss: 0.8037 - accuracy: 0.7169\n",
            "Epoch 00004: val_loss improved from 0.74977 to 0.74499, saving model to ph1_weights.hdf5\n",
            "406/406 [==============================] - 22s 55ms/step - loss: 0.8037 - accuracy: 0.7169 - val_loss: 0.7450 - val_accuracy: 0.7195\n",
            "Epoch 5/30\n",
            "406/406 [==============================] - ETA: 0s - loss: 0.7731 - accuracy: 0.7280\n",
            "Epoch 00005: val_loss improved from 0.74499 to 0.74034, saving model to ph1_weights.hdf5\n",
            "406/406 [==============================] - 22s 55ms/step - loss: 0.7731 - accuracy: 0.7280 - val_loss: 0.7403 - val_accuracy: 0.7239\n",
            "Epoch 6/30\n",
            "405/406 [============================>.] - ETA: 0s - loss: 0.7660 - accuracy: 0.7262\n",
            "Epoch 00006: val_loss improved from 0.74034 to 0.71464, saving model to ph1_weights.hdf5\n",
            "406/406 [==============================] - 22s 55ms/step - loss: 0.7655 - accuracy: 0.7263 - val_loss: 0.7146 - val_accuracy: 0.7361\n",
            "Epoch 7/30\n",
            "406/406 [==============================] - ETA: 0s - loss: 0.7542 - accuracy: 0.7337\n",
            "Epoch 00007: val_loss improved from 0.71464 to 0.70481, saving model to ph1_weights.hdf5\n",
            "406/406 [==============================] - 22s 54ms/step - loss: 0.7542 - accuracy: 0.7337 - val_loss: 0.7048 - val_accuracy: 0.7317\n",
            "Epoch 8/30\n",
            "406/406 [==============================] - ETA: 0s - loss: 0.7441 - accuracy: 0.7343\n",
            "Epoch 00008: val_loss did not improve from 0.70481\n",
            "406/406 [==============================] - 20s 48ms/step - loss: 0.7441 - accuracy: 0.7343 - val_loss: 0.7115 - val_accuracy: 0.7361\n",
            "Epoch 9/30\n",
            "405/406 [============================>.] - ETA: 0s - loss: 0.7437 - accuracy: 0.7317\n",
            "Epoch 00009: val_loss improved from 0.70481 to 0.69785, saving model to ph1_weights.hdf5\n",
            "406/406 [==============================] - 22s 53ms/step - loss: 0.7435 - accuracy: 0.7320 - val_loss: 0.6979 - val_accuracy: 0.7350\n",
            "Epoch 10/30\n",
            "405/406 [============================>.] - ETA: 0s - loss: 0.7369 - accuracy: 0.7323\n",
            "Epoch 00010: val_loss improved from 0.69785 to 0.69558, saving model to ph1_weights.hdf5\n",
            "406/406 [==============================] - 22s 54ms/step - loss: 0.7363 - accuracy: 0.7323 - val_loss: 0.6956 - val_accuracy: 0.7439\n",
            "Epoch 11/30\n",
            "406/406 [==============================] - ETA: 0s - loss: 0.7213 - accuracy: 0.7364\n",
            "Epoch 00011: val_loss improved from 0.69558 to 0.68696, saving model to ph1_weights.hdf5\n",
            "406/406 [==============================] - 22s 54ms/step - loss: 0.7213 - accuracy: 0.7364 - val_loss: 0.6870 - val_accuracy: 0.7328\n",
            "Epoch 12/30\n",
            "406/406 [==============================] - ETA: 0s - loss: 0.7372 - accuracy: 0.7371\n",
            "Epoch 00012: val_loss did not improve from 0.68696\n",
            "406/406 [==============================] - 19s 47ms/step - loss: 0.7372 - accuracy: 0.7371 - val_loss: 0.7042 - val_accuracy: 0.7284\n",
            "Epoch 13/30\n",
            "406/406 [==============================] - ETA: 0s - loss: 0.7209 - accuracy: 0.7410\n",
            "Epoch 00013: val_loss improved from 0.68696 to 0.67450, saving model to ph1_weights.hdf5\n",
            "406/406 [==============================] - 21s 52ms/step - loss: 0.7209 - accuracy: 0.7410 - val_loss: 0.6745 - val_accuracy: 0.7406\n",
            "Epoch 14/30\n",
            "406/406 [==============================] - ETA: 0s - loss: 0.7201 - accuracy: 0.7383\n",
            "Epoch 00014: val_loss did not improve from 0.67450\n",
            "406/406 [==============================] - 20s 48ms/step - loss: 0.7201 - accuracy: 0.7383 - val_loss: 0.6852 - val_accuracy: 0.7406\n",
            "Epoch 15/30\n",
            "405/406 [============================>.] - ETA: 0s - loss: 0.7166 - accuracy: 0.7454\n",
            "Epoch 00015: val_loss did not improve from 0.67450\n",
            "406/406 [==============================] - 19s 46ms/step - loss: 0.7169 - accuracy: 0.7453 - val_loss: 0.6861 - val_accuracy: 0.7406\n",
            "Epoch 16/30\n",
            "405/406 [============================>.] - ETA: 0s - loss: 0.7079 - accuracy: 0.7445\n",
            "Epoch 00016: val_loss did not improve from 0.67450\n",
            "406/406 [==============================] - 19s 47ms/step - loss: 0.7074 - accuracy: 0.7448 - val_loss: 0.6804 - val_accuracy: 0.7350\n",
            "Epoch 17/30\n",
            "405/406 [============================>.] - ETA: 0s - loss: 0.6991 - accuracy: 0.7438\n",
            "Epoch 00017: val_loss improved from 0.67450 to 0.66953, saving model to ph1_weights.hdf5\n",
            "406/406 [==============================] - 21s 53ms/step - loss: 0.6990 - accuracy: 0.7438 - val_loss: 0.6695 - val_accuracy: 0.7395\n",
            "Epoch 18/30\n",
            "406/406 [==============================] - ETA: 0s - loss: 0.6842 - accuracy: 0.7521\n",
            "Epoch 00018: val_loss improved from 0.66953 to 0.66269, saving model to ph1_weights.hdf5\n",
            "406/406 [==============================] - 21s 53ms/step - loss: 0.6842 - accuracy: 0.7521 - val_loss: 0.6627 - val_accuracy: 0.7461\n",
            "Epoch 19/30\n",
            "406/406 [==============================] - ETA: 0s - loss: 0.6883 - accuracy: 0.7480\n",
            "Epoch 00019: val_loss improved from 0.66269 to 0.66110, saving model to ph1_weights.hdf5\n",
            "406/406 [==============================] - 22s 53ms/step - loss: 0.6883 - accuracy: 0.7480 - val_loss: 0.6611 - val_accuracy: 0.7417\n",
            "Epoch 20/30\n",
            "405/406 [============================>.] - ETA: 0s - loss: 0.6807 - accuracy: 0.7482\n",
            "Epoch 00020: val_loss improved from 0.66110 to 0.65545, saving model to ph1_weights.hdf5\n",
            "406/406 [==============================] - 21s 52ms/step - loss: 0.6804 - accuracy: 0.7482 - val_loss: 0.6554 - val_accuracy: 0.7517\n",
            "Epoch 21/30\n",
            "405/406 [============================>.] - ETA: 0s - loss: 0.6782 - accuracy: 0.7544\n",
            "Epoch 00021: val_loss improved from 0.65545 to 0.65272, saving model to ph1_weights.hdf5\n",
            "406/406 [==============================] - 22s 54ms/step - loss: 0.6775 - accuracy: 0.7548 - val_loss: 0.6527 - val_accuracy: 0.7384\n",
            "Epoch 22/30\n",
            "406/406 [==============================] - ETA: 0s - loss: 0.6707 - accuracy: 0.7595\n",
            "Epoch 00022: val_loss did not improve from 0.65272\n",
            "406/406 [==============================] - 19s 48ms/step - loss: 0.6707 - accuracy: 0.7595 - val_loss: 0.6562 - val_accuracy: 0.7494\n",
            "Epoch 23/30\n",
            "406/406 [==============================] - ETA: 0s - loss: 0.6803 - accuracy: 0.7542\n",
            "Epoch 00023: val_loss did not improve from 0.65272\n",
            "406/406 [==============================] - 19s 46ms/step - loss: 0.6803 - accuracy: 0.7542 - val_loss: 0.6559 - val_accuracy: 0.7461\n",
            "Epoch 24/30\n",
            "405/406 [============================>.] - ETA: 0s - loss: 0.6699 - accuracy: 0.7560\n",
            "Epoch 00024: val_loss did not improve from 0.65272\n",
            "406/406 [==============================] - 19s 47ms/step - loss: 0.6695 - accuracy: 0.7563 - val_loss: 0.6548 - val_accuracy: 0.7428\n",
            "Epoch 25/30\n",
            "405/406 [============================>.] - ETA: 0s - loss: 0.6604 - accuracy: 0.7573\n",
            "Epoch 00025: val_loss improved from 0.65272 to 0.65174, saving model to ph1_weights.hdf5\n",
            "406/406 [==============================] - 21s 52ms/step - loss: 0.6604 - accuracy: 0.7571 - val_loss: 0.6517 - val_accuracy: 0.7472\n",
            "Epoch 26/30\n",
            "406/406 [==============================] - ETA: 0s - loss: 0.6767 - accuracy: 0.7492\n",
            "Epoch 00026: val_loss did not improve from 0.65174\n",
            "406/406 [==============================] - 19s 47ms/step - loss: 0.6767 - accuracy: 0.7492 - val_loss: 0.6519 - val_accuracy: 0.7461\n",
            "Epoch 27/30\n",
            "406/406 [==============================] - ETA: 0s - loss: 0.6664 - accuracy: 0.7582\n",
            "Epoch 00027: val_loss improved from 0.65174 to 0.65111, saving model to ph1_weights.hdf5\n",
            "406/406 [==============================] - 21s 53ms/step - loss: 0.6664 - accuracy: 0.7582 - val_loss: 0.6511 - val_accuracy: 0.7483\n",
            "Epoch 28/30\n",
            "405/406 [============================>.] - ETA: 0s - loss: 0.6609 - accuracy: 0.7592\n",
            "Epoch 00028: val_loss did not improve from 0.65111\n",
            "406/406 [==============================] - 19s 48ms/step - loss: 0.6612 - accuracy: 0.7592 - val_loss: 0.6514 - val_accuracy: 0.7428\n",
            "Epoch 29/30\n",
            "406/406 [==============================] - ETA: 0s - loss: 0.6626 - accuracy: 0.7585\n",
            "Epoch 00029: val_loss improved from 0.65111 to 0.65063, saving model to ph1_weights.hdf5\n",
            "406/406 [==============================] - 21s 52ms/step - loss: 0.6626 - accuracy: 0.7585 - val_loss: 0.6506 - val_accuracy: 0.7450\n",
            "Epoch 30/30\n",
            "405/406 [============================>.] - ETA: 0s - loss: 0.6680 - accuracy: 0.7532\n",
            "Epoch 00030: val_loss did not improve from 0.65063\n",
            "406/406 [==============================] - 19s 47ms/step - loss: 0.6671 - accuracy: 0.7535 - val_loss: 0.6511 - val_accuracy: 0.7450\n"
          ],
          "name": "stdout"
        }
      ]
    },
    {
      "cell_type": "code",
      "metadata": {
        "id": "guL1T4WHoJXi"
      },
      "source": [
        "model.load_weights(best_weights_ph1)"
      ],
      "execution_count": 94,
      "outputs": []
    },
    {
      "cell_type": "code",
      "metadata": {
        "id": "_qLgJ-7wdzCa",
        "outputId": "16b7c185-15b6-492e-aef0-6e36043c5e8e",
        "colab": {
          "base_uri": "https://localhost:8080/"
        }
      },
      "source": [
        "metricas = model.evaluate(X_test, Y_test)"
      ],
      "execution_count": 95,
      "outputs": [
        {
          "output_type": "stream",
          "text": [
            "32/32 [==============================] - 1s 35ms/step - loss: 0.6148 - accuracy: 0.7725\n"
          ],
          "name": "stdout"
        }
      ]
    },
    {
      "cell_type": "code",
      "metadata": {
        "id": "OAL1_jc7oYur"
      },
      "source": [
        "densenet.trainable = True\n",
        "\n",
        "epocas = 30\n",
        "bs = 20\n",
        "lr = 0.0001\n",
        "optim = Adam(learning_rate = lr)\n",
        "model.compile(optimizer = optim, loss = 'categorical_crossentropy', metrics = ['accuracy'])\n",
        "reduce_lr = ReduceLROnPlateau(monitor='val_loss', factor=0.2, patience=3, min_lr=0.00001)\n",
        "# Define checkpoint to save best Phase 1 weights\n",
        "best_weights_ph2 = \"ph2_weights.hdf5\"\n",
        "checkpoint = tf.keras.callbacks.ModelCheckpoint(best_weights_ph2, monitor=\"val_loss\", mode=\"min\", save_best_only=True, verbose=1)\n",
        "callbacks = [reduce_lr, checkpoint]"
      ],
      "execution_count": 96,
      "outputs": []
    },
    {
      "cell_type": "code",
      "metadata": {
        "id": "UmkHTyXvo-av",
        "outputId": "4ba0a278-7744-46b7-ae9c-9094ae9afcbc",
        "colab": {
          "base_uri": "https://localhost:8080/"
        }
      },
      "source": [
        "historico = model.fit(datagen.flow(X_train, Y_train, batch_size = bs), epochs = epocas, batch_size = bs, validation_data = (X_val, Y_val), callbacks = callbacks)"
      ],
      "execution_count": 97,
      "outputs": [
        {
          "output_type": "stream",
          "text": [
            "Epoch 1/30\n",
            "406/406 [==============================] - ETA: 0s - loss: 0.7789 - accuracy: 0.7187\n",
            "Epoch 00001: val_loss improved from inf to 0.66094, saving model to ph2_weights.hdf5\n",
            "406/406 [==============================] - 47s 116ms/step - loss: 0.7789 - accuracy: 0.7187 - val_loss: 0.6609 - val_accuracy: 0.7561\n",
            "Epoch 2/30\n",
            "406/406 [==============================] - ETA: 0s - loss: 0.6555 - accuracy: 0.7591\n",
            "Epoch 00002: val_loss improved from 0.66094 to 0.60945, saving model to ph2_weights.hdf5\n",
            "406/406 [==============================] - 42s 104ms/step - loss: 0.6555 - accuracy: 0.7591 - val_loss: 0.6095 - val_accuracy: 0.7583\n",
            "Epoch 3/30\n",
            "406/406 [==============================] - ETA: 0s - loss: 0.6325 - accuracy: 0.7669\n",
            "Epoch 00003: val_loss improved from 0.60945 to 0.55743, saving model to ph2_weights.hdf5\n",
            "406/406 [==============================] - 43s 106ms/step - loss: 0.6325 - accuracy: 0.7669 - val_loss: 0.5574 - val_accuracy: 0.7916\n",
            "Epoch 4/30\n",
            "406/406 [==============================] - ETA: 0s - loss: 0.5928 - accuracy: 0.7824\n",
            "Epoch 00004: val_loss did not improve from 0.55743\n",
            "406/406 [==============================] - 37s 92ms/step - loss: 0.5928 - accuracy: 0.7824 - val_loss: 0.5777 - val_accuracy: 0.7927\n",
            "Epoch 5/30\n",
            "406/406 [==============================] - ETA: 0s - loss: 0.5777 - accuracy: 0.7883\n",
            "Epoch 00005: val_loss improved from 0.55743 to 0.53857, saving model to ph2_weights.hdf5\n",
            "406/406 [==============================] - 42s 104ms/step - loss: 0.5777 - accuracy: 0.7883 - val_loss: 0.5386 - val_accuracy: 0.8171\n",
            "Epoch 6/30\n",
            "406/406 [==============================] - ETA: 0s - loss: 0.5542 - accuracy: 0.8000\n",
            "Epoch 00006: val_loss did not improve from 0.53857\n",
            "406/406 [==============================] - 37s 92ms/step - loss: 0.5542 - accuracy: 0.8000 - val_loss: 0.5500 - val_accuracy: 0.8082\n",
            "Epoch 7/30\n",
            "406/406 [==============================] - ETA: 0s - loss: 0.5272 - accuracy: 0.8117\n",
            "Epoch 00007: val_loss did not improve from 0.53857\n",
            "406/406 [==============================] - 36s 88ms/step - loss: 0.5272 - accuracy: 0.8117 - val_loss: 0.5426 - val_accuracy: 0.8027\n",
            "Epoch 8/30\n",
            "406/406 [==============================] - ETA: 0s - loss: 0.5303 - accuracy: 0.8034\n",
            "Epoch 00008: val_loss did not improve from 0.53857\n",
            "406/406 [==============================] - 36s 88ms/step - loss: 0.5303 - accuracy: 0.8034 - val_loss: 0.7134 - val_accuracy: 0.7783\n",
            "Epoch 9/30\n",
            "406/406 [==============================] - ETA: 0s - loss: 0.4646 - accuracy: 0.8360\n",
            "Epoch 00009: val_loss improved from 0.53857 to 0.45251, saving model to ph2_weights.hdf5\n",
            "406/406 [==============================] - 43s 107ms/step - loss: 0.4646 - accuracy: 0.8360 - val_loss: 0.4525 - val_accuracy: 0.8293\n",
            "Epoch 10/30\n",
            "406/406 [==============================] - ETA: 0s - loss: 0.4414 - accuracy: 0.8406\n",
            "Epoch 00010: val_loss did not improve from 0.45251\n",
            "406/406 [==============================] - 37s 91ms/step - loss: 0.4414 - accuracy: 0.8406 - val_loss: 0.4616 - val_accuracy: 0.8337\n",
            "Epoch 11/30\n",
            "406/406 [==============================] - ETA: 0s - loss: 0.4306 - accuracy: 0.8447\n",
            "Epoch 00011: val_loss did not improve from 0.45251\n",
            "406/406 [==============================] - 36s 88ms/step - loss: 0.4306 - accuracy: 0.8447 - val_loss: 0.4677 - val_accuracy: 0.8304\n",
            "Epoch 12/30\n",
            "406/406 [==============================] - ETA: 0s - loss: 0.4132 - accuracy: 0.8521\n",
            "Epoch 00012: val_loss improved from 0.45251 to 0.44781, saving model to ph2_weights.hdf5\n",
            "406/406 [==============================] - 42s 103ms/step - loss: 0.4132 - accuracy: 0.8521 - val_loss: 0.4478 - val_accuracy: 0.8359\n",
            "Epoch 13/30\n",
            "406/406 [==============================] - ETA: 0s - loss: 0.3899 - accuracy: 0.8592\n",
            "Epoch 00013: val_loss improved from 0.44781 to 0.44717, saving model to ph2_weights.hdf5\n",
            "406/406 [==============================] - 42s 103ms/step - loss: 0.3899 - accuracy: 0.8592 - val_loss: 0.4472 - val_accuracy: 0.8337\n",
            "Epoch 14/30\n",
            "406/406 [==============================] - ETA: 0s - loss: 0.3853 - accuracy: 0.8635\n",
            "Epoch 00014: val_loss did not improve from 0.44717\n",
            "406/406 [==============================] - 36s 89ms/step - loss: 0.3853 - accuracy: 0.8635 - val_loss: 0.4631 - val_accuracy: 0.8326\n",
            "Epoch 15/30\n",
            "406/406 [==============================] - ETA: 0s - loss: 0.3702 - accuracy: 0.8675\n",
            "Epoch 00015: val_loss did not improve from 0.44717\n",
            "406/406 [==============================] - 35s 87ms/step - loss: 0.3702 - accuracy: 0.8675 - val_loss: 0.4692 - val_accuracy: 0.8426\n",
            "Epoch 16/30\n",
            "406/406 [==============================] - ETA: 0s - loss: 0.3611 - accuracy: 0.8733\n",
            "Epoch 00016: val_loss did not improve from 0.44717\n",
            "406/406 [==============================] - 35s 87ms/step - loss: 0.3611 - accuracy: 0.8733 - val_loss: 0.4513 - val_accuracy: 0.8448\n",
            "Epoch 17/30\n",
            "406/406 [==============================] - ETA: 0s - loss: 0.3534 - accuracy: 0.8747\n",
            "Epoch 00017: val_loss improved from 0.44717 to 0.44409, saving model to ph2_weights.hdf5\n",
            "406/406 [==============================] - 42s 103ms/step - loss: 0.3534 - accuracy: 0.8747 - val_loss: 0.4441 - val_accuracy: 0.8326\n",
            "Epoch 18/30\n",
            "406/406 [==============================] - ETA: 0s - loss: 0.3352 - accuracy: 0.8803\n",
            "Epoch 00018: val_loss improved from 0.44409 to 0.42533, saving model to ph2_weights.hdf5\n",
            "406/406 [==============================] - 43s 107ms/step - loss: 0.3352 - accuracy: 0.8803 - val_loss: 0.4253 - val_accuracy: 0.8525\n",
            "Epoch 19/30\n",
            "406/406 [==============================] - ETA: 0s - loss: 0.3212 - accuracy: 0.8887\n",
            "Epoch 00019: val_loss did not improve from 0.42533\n",
            "406/406 [==============================] - 36s 89ms/step - loss: 0.3212 - accuracy: 0.8887 - val_loss: 0.4359 - val_accuracy: 0.8492\n",
            "Epoch 20/30\n",
            "406/406 [==============================] - ETA: 0s - loss: 0.3122 - accuracy: 0.8916\n",
            "Epoch 00020: val_loss improved from 0.42533 to 0.42262, saving model to ph2_weights.hdf5\n",
            "406/406 [==============================] - 42s 103ms/step - loss: 0.3122 - accuracy: 0.8916 - val_loss: 0.4226 - val_accuracy: 0.8481\n",
            "Epoch 21/30\n",
            "406/406 [==============================] - ETA: 0s - loss: 0.3138 - accuracy: 0.8894\n",
            "Epoch 00021: val_loss did not improve from 0.42262\n",
            "406/406 [==============================] - 36s 90ms/step - loss: 0.3138 - accuracy: 0.8894 - val_loss: 0.4408 - val_accuracy: 0.8470\n",
            "Epoch 22/30\n",
            "406/406 [==============================] - ETA: 0s - loss: 0.3129 - accuracy: 0.8914\n",
            "Epoch 00022: val_loss improved from 0.42262 to 0.42055, saving model to ph2_weights.hdf5\n",
            "406/406 [==============================] - 42s 104ms/step - loss: 0.3129 - accuracy: 0.8914 - val_loss: 0.4205 - val_accuracy: 0.8459\n",
            "Epoch 23/30\n",
            "406/406 [==============================] - ETA: 0s - loss: 0.3098 - accuracy: 0.8903\n",
            "Epoch 00023: val_loss did not improve from 0.42055\n",
            "406/406 [==============================] - 36s 89ms/step - loss: 0.3098 - accuracy: 0.8903 - val_loss: 0.4242 - val_accuracy: 0.8492\n",
            "Epoch 24/30\n",
            "406/406 [==============================] - ETA: 0s - loss: 0.2990 - accuracy: 0.8948\n",
            "Epoch 00024: val_loss did not improve from 0.42055\n",
            "406/406 [==============================] - 35s 87ms/step - loss: 0.2990 - accuracy: 0.8948 - val_loss: 0.4414 - val_accuracy: 0.8381\n",
            "Epoch 25/30\n",
            "406/406 [==============================] - ETA: 0s - loss: 0.2932 - accuracy: 0.8963\n",
            "Epoch 00025: val_loss did not improve from 0.42055\n",
            "406/406 [==============================] - 35s 87ms/step - loss: 0.2932 - accuracy: 0.8963 - val_loss: 0.4480 - val_accuracy: 0.8381\n",
            "Epoch 26/30\n",
            "406/406 [==============================] - ETA: 0s - loss: 0.2892 - accuracy: 0.9030\n",
            "Epoch 00026: val_loss did not improve from 0.42055\n",
            "406/406 [==============================] - 36s 88ms/step - loss: 0.2892 - accuracy: 0.9030 - val_loss: 0.4362 - val_accuracy: 0.8614\n",
            "Epoch 27/30\n",
            "406/406 [==============================] - ETA: 0s - loss: 0.2833 - accuracy: 0.9004\n",
            "Epoch 00027: val_loss did not improve from 0.42055\n",
            "406/406 [==============================] - 35s 87ms/step - loss: 0.2833 - accuracy: 0.9004 - val_loss: 0.4420 - val_accuracy: 0.8503\n",
            "Epoch 28/30\n",
            "406/406 [==============================] - ETA: 0s - loss: 0.2672 - accuracy: 0.9101\n",
            "Epoch 00028: val_loss did not improve from 0.42055\n",
            "406/406 [==============================] - 35s 87ms/step - loss: 0.2672 - accuracy: 0.9101 - val_loss: 0.4435 - val_accuracy: 0.8448\n",
            "Epoch 29/30\n",
            "406/406 [==============================] - ETA: 0s - loss: 0.2803 - accuracy: 0.9037\n",
            "Epoch 00029: val_loss did not improve from 0.42055\n",
            "406/406 [==============================] - 36s 88ms/step - loss: 0.2803 - accuracy: 0.9037 - val_loss: 0.4492 - val_accuracy: 0.8481\n",
            "Epoch 30/30\n",
            "406/406 [==============================] - ETA: 0s - loss: 0.2699 - accuracy: 0.9089\n",
            "Epoch 00030: val_loss improved from 0.42055 to 0.41677, saving model to ph2_weights.hdf5\n",
            "406/406 [==============================] - 42s 103ms/step - loss: 0.2699 - accuracy: 0.9089 - val_loss: 0.4168 - val_accuracy: 0.8503\n"
          ],
          "name": "stdout"
        }
      ]
    },
    {
      "cell_type": "code",
      "metadata": {
        "id": "TkD6sKyGpANM"
      },
      "source": [
        "model.load_weights(best_weights_ph2)"
      ],
      "execution_count": 98,
      "outputs": []
    },
    {
      "cell_type": "code",
      "metadata": {
        "id": "opYQBOHuvQL6",
        "outputId": "652e54ee-34e3-417b-9a21-c376917d8836",
        "colab": {
          "base_uri": "https://localhost:8080/",
          "height": 295
        }
      },
      "source": [
        "plt.plot(historico.history['accuracy'], c = 'b')\n",
        "plt.plot(historico.history['val_accuracy'], c = 'r')\n",
        "plt.legend(['Train', 'Validacion'])\n",
        "plt.xlabel('Epocas')\n",
        "plt.ylabel('Medida')\n",
        "plt.title('Evolucion Entrenamiento')\n",
        "plt.show()"
      ],
      "execution_count": 99,
      "outputs": [
        {
          "output_type": "display_data",
          "data": {
            "image/png": "[encoded data removed]",
            "text/plain": [
              "<Figure size 432x288 with 1 Axes>"
            ]
          },
          "metadata": {
            "tags": [],
            "needs_background": "light"
          }
        }
      ]
    },
    {
      "cell_type": "code",
      "metadata": {
        "id": "J-1Y8SjmvRtG",
        "outputId": "1c679513-a817-41d1-ba86-49c1d718f5d6",
        "colab": {
          "base_uri": "https://localhost:8080/",
          "height": 295
        }
      },
      "source": [
        "plt.plot(historico.history['loss'], c = 'b')\n",
        "plt.plot(historico.history['val_loss'], c = 'r')\n",
        "plt.legend(['Train', 'Validacion'])\n",
        "plt.xlabel('Epocas')\n",
        "plt.ylabel('Medida')\n",
        "plt.title('Evolucion Entrenamiento')\n",
        "plt.show()"
      ],
      "execution_count": 100,
      "outputs": [
        {
          "output_type": "display_data",
          "data": {
            "image/png": "[encoded data removed]",
            "text/plain": [
              "<Figure size 432x288 with 1 Axes>"
            ]
          },
          "metadata": {
            "tags": [],
            "needs_background": "light"
          }
        }
      ]
    },
    {
      "cell_type": "code",
      "metadata": {
        "id": "1EMCnVRcpCbw",
        "outputId": "28ce4400-8a8e-4ee1-cd91-74b32cdb4e3f",
        "colab": {
          "base_uri": "https://localhost:8080/"
        }
      },
      "source": [
        "metricas = model.evaluate(X_test, Y_test)"
      ],
      "execution_count": 101,
      "outputs": [
        {
          "output_type": "stream",
          "text": [
            "32/32 [==============================] - 1s 33ms/step - loss: 0.3773 - accuracy: 0.8633\n"
          ],
          "name": "stdout"
        }
      ]
    }
  ]
}