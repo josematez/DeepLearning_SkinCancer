{
  "nbformat": 4,
  "nbformat_minor": 0,
  "metadata": {
    "colab": {
      "name": "Testing_Data2.ipynb",
      "provenance": [],
      "collapsed_sections": []
    },
    "kernelspec": {
      "name": "python3",
      "display_name": "Python 3"
    },
    "accelerator": "GPU"
  },
  "cells": [
    {
      "cell_type": "code",
      "metadata": {
        "id": "46GSQ_3wuU8T"
      },
      "source": [
        "#!pip install numpy==1.15.4\n",
        "#!pip install deepdish\n",
        "#!pip install tensorflow==1.15"
      ],
      "execution_count": null,
      "outputs": []
    },
    {
      "cell_type": "code",
      "metadata": {
        "id": "R_m79alguZ9P"
      },
      "source": [
        "%matplotlib inline\n",
        "import matplotlib.pyplot as plt\n",
        "import numpy as np\n",
        "import pandas as pd\n",
        "import os\n",
        "import deepdish as dd\n",
        "import tensorflow as tf\n",
        "from sklearn.model_selection import train_test_split"
      ],
      "execution_count": 45,
      "outputs": []
    },
    {
      "cell_type": "code",
      "metadata": {
        "id": "kQlULaeIudf8",
        "outputId": "57782a75-a185-4ba8-9664-8d25cf75f0e6",
        "colab": {
          "base_uri": "https://localhost:8080/"
        }
      },
      "source": [
        "from google.colab import drive\n",
        "drive.mount('/content/drive')\n",
        "os.chdir('/content/drive/My Drive/ISIS_dataset')"
      ],
      "execution_count": 46,
      "outputs": [
        {
          "output_type": "stream",
          "text": [
            "Drive already mounted at /content/drive; to attempt to forcibly remount, call drive.mount(\"/content/drive\", force_remount=True).\n"
          ],
          "name": "stdout"
        }
      ]
    },
    {
      "cell_type": "code",
      "metadata": {
        "id": "ZcxUfPd0dMOD",
        "outputId": "cffc7673-e321-43d0-cba1-e9fdddd9965b",
        "colab": {
          "base_uri": "https://localhost:8080/",
          "height": 384
        }
      },
      "source": [
        "#!pip install numpy==1.15.4"
      ],
      "execution_count": 4,
      "outputs": [
        {
          "output_type": "stream",
          "text": [
            "Collecting numpy==1.15.4\n",
            "  Using cached https://files.pythonhosted.org/packages/ff/7f/9d804d2348471c67a7d8b5f84f9bc59fd1cefa148986f2b74552f8573555/numpy-1.15.4-cp36-cp36m-manylinux1_x86_64.whl\n",
            "\u001b[31mERROR: umap-learn 0.4.6 has requirement numpy>=1.17, but you'll have numpy 1.15.4 which is incompatible.\u001b[0m\n",
            "\u001b[31mERROR: tensorflow 1.15.0 has requirement numpy<2.0,>=1.16.0, but you'll have numpy 1.15.4 which is incompatible.\u001b[0m\n",
            "\u001b[31mERROR: tensorflow-probability 0.11.0 has requirement gast>=0.3.2, but you'll have gast 0.2.2 which is incompatible.\u001b[0m\n",
            "\u001b[31mERROR: plotnine 0.6.0 has requirement numpy>=1.16.0, but you'll have numpy 1.15.4 which is incompatible.\u001b[0m\n",
            "\u001b[31mERROR: datascience 0.10.6 has requirement folium==0.2.1, but you'll have folium 0.8.3 which is incompatible.\u001b[0m\n",
            "\u001b[31mERROR: astropy 4.1 has requirement numpy>=1.16, but you'll have numpy 1.15.4 which is incompatible.\u001b[0m\n",
            "\u001b[31mERROR: albumentations 0.1.12 has requirement imgaug<0.2.7,>=0.2.5, but you'll have imgaug 0.2.9 which is incompatible.\u001b[0m\n",
            "Installing collected packages: numpy\n",
            "  Found existing installation: numpy 1.19.4\n",
            "    Uninstalling numpy-1.19.4:\n",
            "      Successfully uninstalled numpy-1.19.4\n",
            "Successfully installed numpy-1.15.4\n"
          ],
          "name": "stdout"
        },
        {
          "output_type": "display_data",
          "data": {
            "application/vnd.colab-display-data+json": {
              "pip_warning": {
                "packages": [
                  "numpy"
                ]
              }
            }
          },
          "metadata": {
            "tags": []
          }
        }
      ]
    },
    {
      "cell_type": "code",
      "metadata": {
        "id": "yvqs3bYpcZKK"
      },
      "source": [
        "data = dd.io.load('ISIC_dataset.h5')\n",
        "data_df = pd.DataFrame(data)"
      ],
      "execution_count": 47,
      "outputs": []
    },
    {
      "cell_type": "code",
      "metadata": {
        "id": "j4LrYJwZuemq"
      },
      "source": [
        "X_raw = data_df.image\n",
        "Y = data_df.cell_type_idx"
      ],
      "execution_count": 48,
      "outputs": []
    },
    {
      "cell_type": "code",
      "metadata": {
        "id": "ply722PBXTdZ",
        "outputId": "038ca105-aad1-439e-fc5a-1bb5bc12d9fa",
        "colab": {
          "base_uri": "https://localhost:8080/"
        }
      },
      "source": [
        "X = np.array(list(X_raw)).reshape((len(X_raw),75,100,3))\n",
        "X.shape"
      ],
      "execution_count": 49,
      "outputs": [
        {
          "output_type": "execute_result",
          "data": {
            "text/plain": [
              "(10015, 75, 100, 3)"
            ]
          },
          "metadata": {
            "tags": []
          },
          "execution_count": 49
        }
      ]
    },
    {
      "cell_type": "code",
      "metadata": {
        "id": "VVuXoCyaZwoO"
      },
      "source": [
        "y_hot = np.array(pd.get_dummies(Y))"
      ],
      "execution_count": 50,
      "outputs": []
    },
    {
      "cell_type": "code",
      "metadata": {
        "id": "Qi_oyKV3Yq-F",
        "outputId": "97361e90-ba77-42a2-cbdb-68c725d8807d",
        "colab": {
          "base_uri": "https://localhost:8080/"
        }
      },
      "source": [
        "y_hot.shape"
      ],
      "execution_count": 51,
      "outputs": [
        {
          "output_type": "execute_result",
          "data": {
            "text/plain": [
              "(10015, 7)"
            ]
          },
          "metadata": {
            "tags": []
          },
          "execution_count": 51
        }
      ]
    },
    {
      "cell_type": "code",
      "metadata": {
        "id": "dqDSMFCvspIN"
      },
      "source": [
        "\n",
        "def incrementado_datos(imagenes_lista):\n",
        "  images = imagenes_lista\n",
        "  seq = iaa.Sequential([\n",
        "      iaa.Fliplr(0.5), # horizontal flips\n",
        "      iaa.Crop(percent=(0, 0.1)), # random crops\n",
        "      # Small gaussian blur with random sigma between 0 and 0.5.\n",
        "      # But we only blur about 50% of all images.\n",
        "      iaa.Sometimes(\n",
        "          0.5,\n",
        "          iaa.GaussianBlur(sigma=(0, 0.5))\n",
        "      ),\n",
        "      # Strengthen or weaken the contrast in each image.\n",
        "      iaa.LinearContrast((0.75, 1.5)),\n",
        "      # Add gaussian noise.\n",
        "      # For 50% of all images, we sample the noise once per pixel.\n",
        "      # For the other 50% of all images, we sample the noise per pixel AND\n",
        "      # channel. This can change the color (not only brightness) of the\n",
        "      # pixels.\n",
        "      iaa.AdditiveGaussianNoise(loc=0, scale=(0.0, 0.05*255), per_channel=0.5),\n",
        "      # Make some images brighter and some darker.\n",
        "      # In 20% of all cases, we sample the multiplier once per channel,\n",
        "      # which can end up changing the color of the images.\n",
        "      iaa.Multiply((0.8, 1.2), per_channel=0.2),\n",
        "      # Apply affine transformations to each image.\n",
        "      # Scale/zoom them, translate/move them, rotate them and shear them.\n",
        "      iaa.Affine(\n",
        "          #scale={\"x\": (0.8, 1.2), \"y\": (0.8, 1.2)},\n",
        "          translate_percent={\"x\": (-0.2, 0.2), \"y\": (-0.2, 0.2)},\n",
        "          rotate=(-180, 180),\n",
        "          shear=(-8, 8)\n",
        "      )\n",
        "  ], random_order=True) # apply augmenters in random order\n",
        "\n",
        "  return seq(images=images)"
      ],
      "execution_count": 52,
      "outputs": []
    },
    {
      "cell_type": "code",
      "metadata": {
        "id": "WOp9pqEJwpCw"
      },
      "source": [
        "\"\"\"print(Prueba_x.shape)\n",
        "lista_img = []\n",
        "for i in range(len(Prueba_x)):\n",
        "  images = np.array([ Prueba_x[i] for _ in range(5)],dtype=np.uint8)\n",
        "  nuevos_datos = incrementado_datos(images)\n",
        "  lista_img.append(nuevos_datos)\"\"\""
      ],
      "execution_count": null,
      "outputs": []
    },
    {
      "cell_type": "code",
      "metadata": {
        "id": "ebXe3Ufl7bTx"
      },
      "source": [
        "#new_images = np.array(lista_img).reshape(-1,75,100,3)"
      ],
      "execution_count": null,
      "outputs": []
    },
    {
      "cell_type": "code",
      "metadata": {
        "id": "nBO7YVHs70Bf",
        "outputId": "894cff49-6a3e-4e4f-c1a2-edca3d651095",
        "colab": {
          "base_uri": "https://localhost:8080/"
        }
      },
      "source": [
        "#new_images.shape"
      ],
      "execution_count": null,
      "outputs": [
        {
          "output_type": "execute_result",
          "data": {
            "text/plain": [
              "(25, 75, 100, 3)"
            ]
          },
          "metadata": {
            "tags": []
          },
          "execution_count": 44
        }
      ]
    },
    {
      "cell_type": "code",
      "metadata": {
        "id": "wulAs3ntrNBf"
      },
      "source": [
        "for i in range(len(new_images)):\n",
        "  if i%5 == 0:\n",
        "    plt.imshow(new_images[i])\n",
        "    plt.show()"
      ],
      "execution_count": null,
      "outputs": []
    },
    {
      "cell_type": "code",
      "metadata": {
        "id": "Yv8BRLjyYupC"
      },
      "source": [
        "import cv2\n",
        "import os\n",
        "\n",
        "def load_images_from_folder(folder):\n",
        "    images = []\n",
        "    for filename in os.listdir(folder):\n",
        "        img = cv2.imread(os.path.join(folder,filename))\n",
        "        if img is not None:\n",
        "            images.append(img)\n",
        "    return images\n",
        "folder=\"/content/prueba\""
      ],
      "execution_count": 23,
      "outputs": []
    },
    {
      "cell_type": "code",
      "metadata": {
        "id": "Ohe2A8ZAhqgp"
      },
      "source": [
        "image= load_images_from_folder(folder)"
      ],
      "execution_count": 24,
      "outputs": []
    },
    {
      "cell_type": "code",
      "metadata": {
        "id": "QVdudxHKdGOW"
      },
      "source": [
        "k = 1\n",
        "for i in image:\n",
        "  plt.imshow(i)\n",
        "  print(\"Num:\",k,i.shape, i.max(),i.min())\n",
        "  k+=1\n",
        "  plt.show()"
      ],
      "execution_count": null,
      "outputs": []
    },
    {
      "cell_type": "code",
      "metadata": {
        "id": "aC1q82j5_AbQ"
      },
      "source": [
        "import cv2"
      ],
      "execution_count": null,
      "outputs": []
    },
    {
      "cell_type": "code",
      "metadata": {
        "id": "EH5p8XDL_Fms",
        "outputId": "7b386982-1e1d-4e50-d5fc-b5e2a2f66fb2",
        "colab": {
          "base_uri": "https://localhost:8080/",
          "height": 324
        }
      },
      "source": [
        "img = X_raw[0]\n",
        " \n",
        "print('Original Dimensions : ',img.shape)\n",
        "width =227\n",
        "height = 227\n",
        "dim = (width, height)\n",
        "# resize image\n",
        "resized = cv2.resize(img, dim, interpolation = cv2.INTER_AREA)\n",
        "print('Resized Dimensions : ',resized.shape)\n",
        "plt.imshow(resized)"
      ],
      "execution_count": null,
      "outputs": [
        {
          "output_type": "stream",
          "text": [
            "Original Dimensions :  (75, 100, 3)\n",
            "Resized Dimensions :  (227, 227, 3)\n"
          ],
          "name": "stdout"
        },
        {
          "output_type": "execute_result",
          "data": {
            "text/plain": [
              "<matplotlib.image.AxesImage at 0x7f010f35ea90>"
            ]
          },
          "metadata": {
            "tags": []
          },
          "execution_count": 7
        },
        {
          "output_type": "display_data",
          "data": {
            "image/png": "[encoded data removed]",
            "text/plain": [
              "<Figure size 432x288 with 1 Axes>"
            ]
          },
          "metadata": {
            "tags": [],
            "needs_background": "light"
          }
        }
      ]
    },
    {
      "cell_type": "code",
      "metadata": {
        "id": "jWrxK1AHAME6",
        "outputId": "fa764307-0cd8-4f5d-b671-2abd5ec9eb90",
        "colab": {
          "base_uri": "https://localhost:8080/"
        }
      },
      "source": [
        "for i in range(len(X_raw)):\n",
        "  img = X_raw[i]\n",
        "  width = 227\n",
        "  height = 227\n",
        "  dim = (width, height)\n",
        "  img_resized = cv2.resize(img, dim , interpolation = cv2.INTER_AREA)\n",
        "  X_raw[i] = img_resized\n",
        "print(X_raw.shape)\n",
        "print(X_raw[0].shape)"
      ],
      "execution_count": null,
      "outputs": [
        {
          "output_type": "stream",
          "text": [
            "/usr/local/lib/python3.6/dist-packages/ipykernel_launcher.py:7: SettingWithCopyWarning: \n",
            "A value is trying to be set on a copy of a slice from a DataFrame\n",
            "\n",
            "See the caveats in the documentation: https://pandas.pydata.org/pandas-docs/stable/user_guide/indexing.html#returning-a-view-versus-a-copy\n",
            "  import sys\n"
          ],
          "name": "stderr"
        },
        {
          "output_type": "stream",
          "text": [
            "(10015,)\n",
            "(227, 227, 3)\n"
          ],
          "name": "stdout"
        }
      ]
    },
    {
      "cell_type": "code",
      "metadata": {
        "id": "0s5IOGU3jSis"
      },
      "source": [
        "#x_train2 = []\n",
        "#for img in X_1:\n",
        " #   if len(img.shape) == 3:\n",
        "  #      x_train2.append((cv2.resize(img,(227,227))))\n",
        "\n",
        "#X_1 = np.array(x_train2).reshape(len(x_train2),227,227,3) #Segun lo que lei esto transforma en un 4d de 1d es decir: de (n,) a (n,227,227,3)\n",
        "#El codigo de arriba, se aplica en caso de que no funcione, por lo visto si alguna imagen no tiene la dimesion correcta no se puede aplicar lo anterior."
      ],
      "execution_count": null,
      "outputs": []
    },
    {
      "cell_type": "code",
      "metadata": {
        "id": "aPIuLWUK5JGe"
      },
      "source": [
        "#Este codigo, es muy costoso cuando se incrementa el tamaño de la imagen\n",
        "#X_1 = np.zeros((10015, 75, 100, 3))\n",
        "\n",
        "#for i in range(10015):\n",
        " # X_1[i,:,:,:] = X[i]"
      ],
      "execution_count": null,
      "outputs": []
    },
    {
      "cell_type": "code",
      "metadata": {
        "id": "fX-nCzguvbxT",
        "outputId": "389bc567-e54f-4791-e240-dfa68dddc608",
        "colab": {
          "base_uri": "https://localhost:8080/"
        }
      },
      "source": [
        "print(\"Tamaño datos X: {}\".format(X.shape))\n",
        "print(\"Tamaño datos Y: {}\".format(y_hot.shape))"
      ],
      "execution_count": 53,
      "outputs": [
        {
          "output_type": "stream",
          "text": [
            "Tamaño datos X: (10015, 75, 100, 3)\n",
            "Tamaño datos Y: (10015, 7)\n"
          ],
          "name": "stdout"
        }
      ]
    },
    {
      "cell_type": "code",
      "metadata": {
        "id": "TCFKQAkHvDrw"
      },
      "source": [
        "X_train, X_test, Y_train, Y_test = train_test_split(X, y_hot, test_size = 0.2, random_state = 123)"
      ],
      "execution_count": 54,
      "outputs": []
    },
    {
      "cell_type": "code",
      "metadata": {
        "id": "FlDn73pqrxZO",
        "outputId": "1bfe91b5-4e86-42d1-806c-bc9e98b88b52",
        "colab": {
          "base_uri": "https://localhost:8080/"
        }
      },
      "source": [
        "print(X_train.shape)\n",
        "print(X_test.shape)"
      ],
      "execution_count": 55,
      "outputs": [
        {
          "output_type": "stream",
          "text": [
            "(8012, 75, 100, 3)\n",
            "(2003, 75, 100, 3)\n"
          ],
          "name": "stdout"
        }
      ]
    },
    {
      "cell_type": "code",
      "metadata": {
        "id": "Ji2dThcLLaui"
      },
      "source": [
        "X_train = X_train/np.max(X_train)\n",
        "X_test = X_test/np.max(X_test)"
      ],
      "execution_count": 16,
      "outputs": []
    },
    {
      "cell_type": "code",
      "metadata": {
        "id": "LVtkTh2LpLD7"
      },
      "source": [
        "from sklearn.preprocessing import MinMaxScaler"
      ],
      "execution_count": 13,
      "outputs": []
    },
    {
      "cell_type": "code",
      "metadata": {
        "id": "PAexm89TrDGM"
      },
      "source": [
        "Scaler = MinMaxScaler()"
      ],
      "execution_count": 14,
      "outputs": []
    },
    {
      "cell_type": "code",
      "metadata": {
        "id": "v3EtNFcZtZx8"
      },
      "source": [
        "#X_train = X_train.astype(np.float32)\n",
        "#X_test = X_test.astype(np.float32)"
      ],
      "execution_count": null,
      "outputs": []
    },
    {
      "cell_type": "code",
      "metadata": {
        "id": "Wls-SigCsPy8"
      },
      "source": [
        "#X_train_norm = X_train/255.0"
      ],
      "execution_count": null,
      "outputs": []
    },
    {
      "cell_type": "code",
      "metadata": {
        "id": "tjeINtNIrPsa"
      },
      "source": [
        "#X_train_norm = Scaler.fit_transform(X_train)\n",
        "#X_test_norm = Scaler.fit_transform(X_test)"
      ],
      "execution_count": null,
      "outputs": []
    },
    {
      "cell_type": "code",
      "metadata": {
        "id": "225qmHp8T6oY"
      },
      "source": [
        "X_train_new, X_train_split, Y_train_new, Y_train_split = train_test_split(X_train,Y_train,test_size = 0.2, random_state = 123)"
      ],
      "execution_count": 56,
      "outputs": []
    },
    {
      "cell_type": "code",
      "metadata": {
        "id": "JlRqYGcHdgyP",
        "outputId": "a29c387e-2d57-4dd8-8f2f-3ef9531defad",
        "colab": {
          "base_uri": "https://localhost:8080/"
        }
      },
      "source": [
        "\n",
        "print(X_train_new.max())\n",
        "print(X_train_new.min())"
      ],
      "execution_count": 57,
      "outputs": [
        {
          "output_type": "stream",
          "text": [
            "255\n",
            "0\n"
          ],
          "name": "stdout"
        }
      ]
    },
    {
      "cell_type": "code",
      "metadata": {
        "id": "5TLByNXJlm14"
      },
      "source": [
        "from tensorflow import keras\n",
        "from tensorflow import image"
      ],
      "execution_count": 58,
      "outputs": []
    },
    {
      "cell_type": "code",
      "metadata": {
        "id": "7USrobOxl2LX"
      },
      "source": [
        "from tensorflow.keras.models import Sequential\n",
        "from tensorflow.keras.layers import Dense, Dropout, Flatten, Conv2D, MaxPool2D,Input,Lambda"
      ],
      "execution_count": 59,
      "outputs": []
    },
    {
      "cell_type": "code",
      "metadata": {
        "id": "10NInHZ1e-tw"
      },
      "source": [
        "from tensorflow.keras.layers import BatchNormalization"
      ],
      "execution_count": 60,
      "outputs": []
    },
    {
      "cell_type": "code",
      "metadata": {
        "id": "q9OxtGV-ek5f",
        "outputId": "37eef48c-2ac1-41a4-fa6a-780676f6515b",
        "colab": {
          "base_uri": "https://localhost:8080/"
        }
      },
      "source": [
        "input_shape = (227, 227, 3)\n",
        "num_classes = 7\n",
        "original_dim = (75, 100, 3)\n",
        "target_size = (227, 227)\n",
        "\n",
        "classifier = Sequential()\n",
        "classifier.add(Input(original_dim))\n",
        "classifier.add(Lambda(lambda imagen: image.resize(imagen, target_size)))\n",
        "# Convolution Step 1\n",
        "classifier.add(Conv2D(96, 11, strides = (4, 4), padding = 'valid', input_shape=input_shape, activation = 'relu',))\n",
        "\n",
        "# Max Pooling Step 1\n",
        "classifier.add(MaxPool2D(pool_size = (3, 3), strides = (2, 2), padding = 'valid',))\n",
        "classifier.add(BatchNormalization())\n",
        "\n",
        "# Convolution Step 2\n",
        "classifier.add(Conv2D(256, 5, strides = (1, 1), padding='valid', activation = 'relu'))\n",
        "\n",
        "# Max Pooling Step 2\n",
        "classifier.add(MaxPool2D(pool_size = (3, 3), strides = (2, 2), padding='valid'))\n",
        "classifier.add(BatchNormalization())\n",
        "\n",
        "# Convolution Step 3\n",
        "classifier.add(Conv2D(384, 3, strides = (1, 1), padding='valid', activation = 'relu'))\n",
        "classifier.add(BatchNormalization())\n",
        "\n",
        "# Convolution Step 4\n",
        "classifier.add(Conv2D(384, 3, strides = (1, 1), padding='valid', activation = 'relu'))\n",
        "classifier.add(BatchNormalization())\n",
        "\n",
        " #Convolution Step 5\n",
        "classifier.add(Conv2D(256, 3, strides=(1,1), padding='valid', activation = 'relu'))\n",
        "\n",
        "# Max Pooling Step 3\n",
        "classifier.add(MaxPool2D(pool_size = (3, 3), strides = (2, 2), padding = 'valid'))\n",
        "classifier.add(BatchNormalization())\n",
        "\n",
        "# Flattening Step\n",
        "classifier.add(Flatten())\n",
        "\n",
        "# Full Connection Step\n",
        "classifier.add(Dense(units = 4096, activation = 'relu'))\n",
        "classifier.add(Dropout(0.4))\n",
        "classifier.add(BatchNormalization())\n",
        "classifier.add(Dense(units = 4096, activation = 'relu'))\n",
        "classifier.add(Dropout(0.4))\n",
        "classifier.add(BatchNormalization())\n",
        "classifier.add(Dense(units = 1000, activation = 'relu'))\n",
        "classifier.add(Dropout(0.4))\n",
        "classifier.add(BatchNormalization())\n",
        "classifier.add(Dense(units = num_classes, activation = 'softmax'))\n",
        "classifier.summary()"
      ],
      "execution_count": 61,
      "outputs": [
        {
          "output_type": "stream",
          "text": [
            "Model: \"sequential_1\"\n",
            "_________________________________________________________________\n",
            "Layer (type)                 Output Shape              Param #   \n",
            "=================================================================\n",
            "lambda_1 (Lambda)            (None, 227, 227, 3)       0         \n",
            "_________________________________________________________________\n",
            "conv2d_5 (Conv2D)            (None, 55, 55, 96)        34944     \n",
            "_________________________________________________________________\n",
            "max_pooling2d_3 (MaxPooling2 (None, 27, 27, 96)        0         \n",
            "_________________________________________________________________\n",
            "batch_normalization_8 (Batch (None, 27, 27, 96)        384       \n",
            "_________________________________________________________________\n",
            "conv2d_6 (Conv2D)            (None, 23, 23, 256)       614656    \n",
            "_________________________________________________________________\n",
            "max_pooling2d_4 (MaxPooling2 (None, 11, 11, 256)       0         \n",
            "_________________________________________________________________\n",
            "batch_normalization_9 (Batch (None, 11, 11, 256)       1024      \n",
            "_________________________________________________________________\n",
            "conv2d_7 (Conv2D)            (None, 9, 9, 384)         885120    \n",
            "_________________________________________________________________\n",
            "batch_normalization_10 (Batc (None, 9, 9, 384)         1536      \n",
            "_________________________________________________________________\n",
            "conv2d_8 (Conv2D)            (None, 7, 7, 384)         1327488   \n",
            "_________________________________________________________________\n",
            "batch_normalization_11 (Batc (None, 7, 7, 384)         1536      \n",
            "_________________________________________________________________\n",
            "conv2d_9 (Conv2D)            (None, 5, 5, 256)         884992    \n",
            "_________________________________________________________________\n",
            "max_pooling2d_5 (MaxPooling2 (None, 2, 2, 256)         0         \n",
            "_________________________________________________________________\n",
            "batch_normalization_12 (Batc (None, 2, 2, 256)         1024      \n",
            "_________________________________________________________________\n",
            "flatten_1 (Flatten)          (None, 1024)              0         \n",
            "_________________________________________________________________\n",
            "dense_4 (Dense)              (None, 4096)              4198400   \n",
            "_________________________________________________________________\n",
            "dropout_3 (Dropout)          (None, 4096)              0         \n",
            "_________________________________________________________________\n",
            "batch_normalization_13 (Batc (None, 4096)              16384     \n",
            "_________________________________________________________________\n",
            "dense_5 (Dense)              (None, 4096)              16781312  \n",
            "_________________________________________________________________\n",
            "dropout_4 (Dropout)          (None, 4096)              0         \n",
            "_________________________________________________________________\n",
            "batch_normalization_14 (Batc (None, 4096)              16384     \n",
            "_________________________________________________________________\n",
            "dense_6 (Dense)              (None, 1000)              4097000   \n",
            "_________________________________________________________________\n",
            "dropout_5 (Dropout)          (None, 1000)              0         \n",
            "_________________________________________________________________\n",
            "batch_normalization_15 (Batc (None, 1000)              4000      \n",
            "_________________________________________________________________\n",
            "dense_7 (Dense)              (None, 7)                 7007      \n",
            "=================================================================\n",
            "Total params: 28,873,191\n",
            "Trainable params: 28,852,055\n",
            "Non-trainable params: 21,136\n",
            "_________________________________________________________________\n"
          ],
          "name": "stdout"
        }
      ]
    },
    {
      "cell_type": "code",
      "metadata": {
        "id": "clZOCp1zl-V6"
      },
      "source": [
        "from tensorflow.keras.optimizers import Adam"
      ],
      "execution_count": 62,
      "outputs": []
    },
    {
      "cell_type": "code",
      "metadata": {
        "id": "tmss-YNUeohM"
      },
      "source": [
        "optimizer = Adam(lr=0.001,)"
      ],
      "execution_count": 63,
      "outputs": []
    },
    {
      "cell_type": "code",
      "metadata": {
        "id": "MXTRLbu3erC-"
      },
      "source": [
        "classifier.compile(optimizer = optimizer , loss = \"categorical_crossentropy\", metrics=[\"accuracy\"])"
      ],
      "execution_count": 64,
      "outputs": []
    },
    {
      "cell_type": "code",
      "metadata": {
        "id": "vAPOTZOZmVnG"
      },
      "source": [
        "from tensorflow.keras.preprocessing.image import ImageDataGenerator\n",
        "from tensorflow.keras.callbacks import ReduceLROnPlateau\n",
        "from imgaug import augmenters as iaa\n",
        "from imgaug import parameters as iap"
      ],
      "execution_count": 65,
      "outputs": []
    },
    {
      "cell_type": "code",
      "metadata": {
        "id": "SmOErjxLes34"
      },
      "source": [
        "learning_rate_reduction = ReduceLROnPlateau(monitor='val_loss', \n",
        "                                            patience=2, \n",
        "                                            verbose=1, \n",
        "                                            factor=0.3, \n",
        "                                            min_lr=0.00001)"
      ],
      "execution_count": 66,
      "outputs": []
    },
    {
      "cell_type": "code",
      "metadata": {
        "id": "7-Yo6E62BKJO"
      },
      "source": [
        "from imgaug import augmenters as iaa\n",
        "from imgaug import parameters as iap\n",
        "\n",
        "aug1 =  iaa.AdditiveGaussianNoise(scale=0.01 * 255)\n",
        "\n",
        "aug2 =  iaa.GaussianBlur(\n",
        "        sigma=iap.Uniform(0.0, 1.0)\n",
        "    )\n",
        "aug3 =  iaa.ContrastNormalization(\n",
        "        iap.Choice(\n",
        "            [1.0, 1.5, 3.0],\n",
        "            p=[0.5, 0.3, 0.2]\n",
        "        )\n",
        "    )\n",
        "aug4 =  iaa.Affine(\n",
        "        rotate=iap.Normal(0.0, 60),\n",
        "        translate_px=iap.RandomSign(iap.Poisson(3))\n",
        "    )\n",
        "\n",
        "\n",
        "def additional_augmenation(image):\n",
        "    image = aug1.augment_image(image)\n",
        "    image = aug2.augment_image(image)\n",
        "    image = aug3.augment_image(image)\n",
        "    image = aug4.augment_image(image)\n",
        "    return image"
      ],
      "execution_count": null,
      "outputs": []
    },
    {
      "cell_type": "code",
      "metadata": {
        "id": "kEOZ5wMce4Pp"
      },
      "source": [
        "datagen = ImageDataGenerator(\n",
        "        zoom_range = 0.2, # Randomly zoom image \n",
        "        width_shift_range=0.1,  # randomly shift images horizontally (fraction of total width)\n",
        "        height_shift_range=0.1,  # randomly shift images vertically (fraction of total height)\n",
        "        horizontal_flip=True,  # randomly flip images\n",
        "        preprocessing_function = incrementado_datos,\n",
        "        rotation_range = 60,\n",
        "        fill_mode = \"nearest\"\n",
        "        )  \n",
        "\n",
        "#datagen.fit(X_train_new)\n",
        "#datagen.fit(X_train_split)"
      ],
      "execution_count": 67,
      "outputs": []
    },
    {
      "cell_type": "code",
      "metadata": {
        "id": "7ZAPIlSo1u_C",
        "outputId": "53cb3a85-5c43-4d75-d7e6-26968ecf1125",
        "colab": {
          "base_uri": "https://localhost:8080/"
        }
      },
      "source": [
        "len(X_train_new)"
      ],
      "execution_count": 68,
      "outputs": [
        {
          "output_type": "execute_result",
          "data": {
            "text/plain": [
              "6409"
            ]
          },
          "metadata": {
            "tags": []
          },
          "execution_count": 68
        }
      ]
    },
    {
      "cell_type": "code",
      "metadata": {
        "id": "ncWwemEVe7QR",
        "outputId": "13ae5bf5-8117-44c3-e2f1-3455128914c3",
        "colab": {
          "base_uri": "https://localhost:8080/"
        }
      },
      "source": [
        "# Fit the model\n",
        "epochs = 30\n",
        "bs = 30\n",
        "historico = classifier.fit_generator(datagen.flow(X_train_new,Y_train_new, batch_size= bs),                                     \n",
        "                                     verbose = 1,\n",
        "                                     epochs = epochs,\n",
        "                                     callbacks = [learning_rate_reduction],\n",
        "                                     validation_data = datagen.flow(X_train_split,Y_train_split, batch_size = bs),\n",
        "                                     validation_steps = len(X_train_split)//bs,\n",
        "                                     steps_per_epoch = len(X_train_new) // bs,                                          \n",
        "                                     )"
      ],
      "execution_count": null,
      "outputs": [
        {
          "output_type": "stream",
          "text": [
            "Epoch 1/30\n",
            "212/213 [============================>.] - ETA: 1s - loss: 1.6224 - acc: 0.5242Epoch 1/30\n",
            "213/213 [==============================] - 312s 1s/step - loss: 1.6194 - acc: 0.5250 - val_loss: 1.4022 - val_acc: 0.5799\n",
            "Epoch 2/30\n",
            "212/213 [============================>.] - ETA: 1s - loss: 1.2542 - acc: 0.6283Epoch 1/30\n",
            "213/213 [==============================] - 324s 2s/step - loss: 1.2546 - acc: 0.6275 - val_loss: 1.3719 - val_acc: 0.6686\n",
            "Epoch 3/30\n",
            "212/213 [============================>.] - ETA: 1s - loss: 1.2115 - acc: 0.6448Epoch 1/30\n",
            "213/213 [==============================] - 327s 2s/step - loss: 1.2123 - acc: 0.6446 - val_loss: 1.1324 - val_acc: 0.6629\n",
            "Epoch 4/30\n",
            " 30/213 [===>..........................] - ETA: 3:24 - loss: 1.1881 - acc: 0.6567"
          ],
          "name": "stdout"
        }
      ]
    },
    {
      "cell_type": "code",
      "metadata": {
        "id": "5ZzAdy04nXDj",
        "outputId": "e48827b9-2ba7-4837-f024-b319e8270fd9",
        "colab": {
          "base_uri": "https://localhost:8080/",
          "height": 209
        }
      },
      "source": [
        "def plot_hist(hist):\n",
        "    \n",
        "    plt.plot(historico.history[\"loss\"])\n",
        "    plt.plot(historico.history[\"val_loss\"], c = \"g\")\n",
        "    plt.title(\"model loss\")\n",
        "    plt.ylabel(\"loss\")\n",
        "    plt.xlabel(\"epoch\")\n",
        "    plt.legend([\"train\", \"validation\"], loc=\"upper left\")\n",
        "    plt.show()\n",
        "\n",
        "\n",
        "plot_hist(history)"
      ],
      "execution_count": 1,
      "outputs": [
        {
          "output_type": "error",
          "ename": "NameError",
          "evalue": "ignored",
          "traceback": [
            "\u001b[0;31m---------------------------------------------------------------------------\u001b[0m",
            "\u001b[0;31mNameError\u001b[0m                                 Traceback (most recent call last)",
            "\u001b[0;32m<ipython-input-1-1f6a014c72d6>\u001b[0m in \u001b[0;36m<module>\u001b[0;34m()\u001b[0m\n\u001b[1;32m     10\u001b[0m \u001b[0;34m\u001b[0m\u001b[0m\n\u001b[1;32m     11\u001b[0m \u001b[0;34m\u001b[0m\u001b[0m\n\u001b[0;32m---> 12\u001b[0;31m \u001b[0mplot_hist\u001b[0m\u001b[0;34m(\u001b[0m\u001b[0mhistory\u001b[0m\u001b[0;34m)\u001b[0m\u001b[0;34m\u001b[0m\u001b[0;34m\u001b[0m\u001b[0m\n\u001b[0m",
            "\u001b[0;31mNameError\u001b[0m: name 'history' is not defined"
          ]
        }
      ]
    },
    {
      "cell_type": "code",
      "metadata": {
        "id": "jTVsFpWhLUXb"
      },
      "source": [
        "def plot_hist(hist):\n",
        "    #plt.plot(hist.history[\"loss\"])\n",
        "    plt.plot(hist.history[\"acc\"], c = \"r\")\n",
        "    plt.plot(hist.history[\"val_acc\"], c = \"g\")\n",
        "    plt.title(\"model acc\")\n",
        "    plt.ylabel(\"acc\")\n",
        "    plt.xlabel(\"epoch\")\n",
        "    plt.legend([\"train\", \"validation\"], loc=\"upper left\")\n",
        "    plt.show()\n",
        "\n",
        "\n",
        "plot_hist(history)"
      ],
      "execution_count": null,
      "outputs": []
    },
    {
      "cell_type": "code",
      "metadata": {
        "id": "CfgbwKDOn18h"
      },
      "source": [
        "history.history.keys()"
      ],
      "execution_count": null,
      "outputs": []
    },
    {
      "cell_type": "code",
      "metadata": {
        "id": "gp22YFBYnIjR",
        "outputId": "f9a9be80-ceae-4f46-8c91-38e65661b4b0",
        "colab": {
          "base_uri": "https://localhost:8080/"
        }
      },
      "source": [
        "loss, accuracy = classifier.evaluate(X_test, Y_test, verbose=1)\n",
        "print(\"Test: accuracy = %f  ;  loss = %f\" % (accuracy, loss))"
      ],
      "execution_count": null,
      "outputs": [
        {
          "output_type": "stream",
          "text": [
            "2003/2003 [==============================] - 2s 882us/sample - loss: 0.9737 - acc: 0.7773\n",
            "Test: accuracy = 0.777334  ;  loss = 0.973666\n"
          ],
          "name": "stdout"
        }
      ]
    },
    {
      "cell_type": "code",
      "metadata": {
        "id": "5Ep2mXmtnVIU"
      },
      "source": [
        ""
      ],
      "execution_count": null,
      "outputs": []
    }
  ]
}