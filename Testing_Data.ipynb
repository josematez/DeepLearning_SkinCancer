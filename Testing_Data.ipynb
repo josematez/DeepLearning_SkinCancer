{
  "nbformat": 4,
  "nbformat_minor": 0,
  "metadata": {
    "colab": {
      "name": "Testing_Data.ipynb",
      "provenance": [],
      "collapsed_sections": []
    },
    "kernelspec": {
      "name": "python3",
      "display_name": "Python 3"
    },
    "accelerator": "GPU"
  },
  "cells": [
    {
      "cell_type": "code",
      "metadata": {
        "id": "46GSQ_3wuU8T"
      },
      "source": [
        "#!pip install numpy==1.15.4\n",
        "#!pip install deepdish\n",
        "#!pip install tensorflow==1.15"
      ],
      "execution_count": 1,
      "outputs": []
    },
    {
      "cell_type": "code",
      "metadata": {
        "id": "R_m79alguZ9P"
      },
      "source": [
        "%matplotlib inline\n",
        "import matplotlib.pyplot as plt\n",
        "import numpy as np\n",
        "import pandas as pd\n",
        "import os\n",
        "import deepdish as dd\n",
        "import tensorflow as tf\n",
        "from sklearn.model_selection import train_test_split"
      ],
      "execution_count": 2,
      "outputs": []
    },
    {
      "cell_type": "code",
      "metadata": {
        "id": "kQlULaeIudf8",
        "outputId": "81f27342-19ae-47f6-cb39-4c73e7763905",
        "colab": {
          "base_uri": "https://localhost:8080/"
        }
      },
      "source": [
        "from google.colab import drive\n",
        "drive.mount('/content/drive')\n",
        "os.chdir('/content/drive/My Drive/ISIS_dataset')"
      ],
      "execution_count": 3,
      "outputs": [
        {
          "output_type": "stream",
          "text": [
            "Drive already mounted at /content/drive; to attempt to forcibly remount, call drive.mount(\"/content/drive\", force_remount=True).\n"
          ],
          "name": "stdout"
        }
      ]
    },
    {
      "cell_type": "code",
      "metadata": {
        "id": "ZcxUfPd0dMOD"
      },
      "source": [
        "#!pip install numpy==1.15.4"
      ],
      "execution_count": 4,
      "outputs": []
    },
    {
      "cell_type": "code",
      "metadata": {
        "id": "yvqs3bYpcZKK"
      },
      "source": [
        "data = dd.io.load('ISIC_dataset.h5')\n",
        "data_df = pd.DataFrame(data)"
      ],
      "execution_count": 5,
      "outputs": []
    },
    {
      "cell_type": "code",
      "metadata": {
        "id": "j4LrYJwZuemq"
      },
      "source": [
        "X_raw = data_df.image\n",
        "Y = data_df.cell_type_idx"
      ],
      "execution_count": 6,
      "outputs": []
    },
    {
      "cell_type": "code",
      "metadata": {
        "id": "T3zFAyGAhRFe"
      },
      "source": [
        "y_hot = pd.get_dummies(Y)"
      ],
      "execution_count": 7,
      "outputs": []
    },
    {
      "cell_type": "code",
      "metadata": {
        "id": "aPIuLWUK5JGe"
      },
      "source": [
        "X = np.zeros((10015, 75, 100, 3))\n",
        "\n",
        "for i in range(10015):\n",
        "  X[i,:,:,:] = X_raw[i]"
      ],
      "execution_count": 8,
      "outputs": []
    },
    {
      "cell_type": "code",
      "metadata": {
        "id": "fX-nCzguvbxT",
        "outputId": "c9a7f1ab-f83f-4205-e7aa-a9cf22a63ad7",
        "colab": {
          "base_uri": "https://localhost:8080/"
        }
      },
      "source": [
        "print(\"Tamaño datos X: {}\".format(X.shape))\n",
        "print(\"Tamaño datos Y: {}\".format(y_hot.shape))"
      ],
      "execution_count": 9,
      "outputs": [
        {
          "output_type": "stream",
          "text": [
            "Tamaño datos X: (10015, 75, 100, 3)\n",
            "Tamaño datos Y: (10015, 7)\n"
          ],
          "name": "stdout"
        }
      ]
    },
    {
      "cell_type": "code",
      "metadata": {
        "id": "TCFKQAkHvDrw"
      },
      "source": [
        "X_train, X_test, Y_train, Y_test = train_test_split(X, y_hot, test_size = 0.3, random_state = 123)"
      ],
      "execution_count": 10,
      "outputs": []
    },
    {
      "cell_type": "code",
      "metadata": {
        "id": "wDIKZ_QyDY-M"
      },
      "source": [
        "X_train_norm = (X_train / np.max(X_train))\n",
        "X_test_norm = (X_test / np.max(X_test))"
      ],
      "execution_count": 11,
      "outputs": []
    },
    {
      "cell_type": "code",
      "metadata": {
        "id": "JlRqYGcHdgyP",
        "outputId": "fb87be60-8333-47af-9cde-1c0c1e79f949",
        "colab": {
          "base_uri": "https://localhost:8080/"
        }
      },
      "source": [
        "\n",
        "X_train_norm.max()\n",
        "X_train_norm.min()"
      ],
      "execution_count": 12,
      "outputs": [
        {
          "output_type": "execute_result",
          "data": {
            "text/plain": [
              "0.0"
            ]
          },
          "metadata": {
            "tags": []
          },
          "execution_count": 12
        }
      ]
    },
    {
      "cell_type": "code",
      "metadata": {
        "id": "5TLByNXJlm14"
      },
      "source": [
        "from tensorflow import keras"
      ],
      "execution_count": 13,
      "outputs": []
    },
    {
      "cell_type": "code",
      "metadata": {
        "id": "7USrobOxl2LX"
      },
      "source": [
        "from tensorflow.keras.models import Sequential\n",
        "from tensorflow.keras.layers import Dense, Dropout, Flatten, Conv2D, MaxPool2D"
      ],
      "execution_count": 14,
      "outputs": []
    },
    {
      "cell_type": "code",
      "metadata": {
        "id": "10NInHZ1e-tw"
      },
      "source": [
        "from tensorflow.keras.layers import BatchNormalization"
      ],
      "execution_count": 15,
      "outputs": []
    },
    {
      "cell_type": "code",
      "metadata": {
        "id": "q9OxtGV-ek5f",
        "outputId": "9937199f-0774-486b-ad82-a025b7c796bb",
        "colab": {
          "base_uri": "https://localhost:8080/"
        }
      },
      "source": [
        "input_shape = (75, 100, 3)\n",
        "num_classes = 7\n",
        "\n",
        "classifier = Sequential()\n",
        "\n",
        "# Convolution Step 1\n",
        "classifier.add(Conv2D(96, 11, strides = (4, 4), padding = 'valid', input_shape=input_shape, activation = 'relu'))\n",
        "\n",
        "# Max Pooling Step 1\n",
        "classifier.add(MaxPool2D(pool_size = (2, 2), strides = (2, 2), padding = 'valid'))\n",
        "classifier.add(BatchNormalization())\n",
        "\n",
        "# Convolution Step 2\n",
        "classifier.add(Conv2D(256, 2, strides = (1, 1), padding='valid', activation = 'relu'))\n",
        "\n",
        "# Max Pooling Step 2\n",
        "classifier.add(MaxPool2D(pool_size = (2, 2), strides = (2, 2), padding='valid'))\n",
        "classifier.add(BatchNormalization())\n",
        "\n",
        "# Convolution Step 3\n",
        "classifier.add(Conv2D(384, 3, strides = (1, 1), padding='valid', activation = 'relu'))\n",
        "classifier.add(BatchNormalization())\n",
        "\n",
        "# Convolution Step 4\n",
        "#classifier.add(Conv2D(384, 3, strides = (1, 1), padding='valid', activation = 'relu'))\n",
        "#classifier.add(BatchNormalization())\n",
        "\n",
        "# Convolution Step 5\n",
        "#classifier.add(Conv2D(256, 3, strides=(1,1), padding='valid', activation = 'relu'))\n",
        "\n",
        "# Max Pooling Step 3\n",
        "classifier.add(MaxPool2D(pool_size = (1, 1), strides = (1, 1), padding = 'valid'))\n",
        "classifier.add(BatchNormalization())\n",
        "\n",
        "# Flattening Step\n",
        "classifier.add(Flatten())\n",
        "\n",
        "# Full Connection Step\n",
        "classifier.add(Dense(units = 4096, activation = 'relu'))\n",
        "classifier.add(Dropout(0.4))\n",
        "classifier.add(BatchNormalization())\n",
        "classifier.add(Dense(units = 4096, activation = 'relu'))\n",
        "classifier.add(Dropout(0.4))\n",
        "classifier.add(BatchNormalization())\n",
        "classifier.add(Dense(units = 1000, activation = 'relu'))\n",
        "classifier.add(Dropout(0.2))\n",
        "classifier.add(BatchNormalization())\n",
        "classifier.add(Dense(units = num_classes, activation = 'softmax'))\n",
        "classifier.summary()"
      ],
      "execution_count": 16,
      "outputs": [
        {
          "output_type": "stream",
          "text": [
            "WARNING:tensorflow:From /usr/local/lib/python3.6/dist-packages/tensorflow_core/python/ops/resource_variable_ops.py:1630: calling BaseResourceVariable.__init__ (from tensorflow.python.ops.resource_variable_ops) with constraint is deprecated and will be removed in a future version.\n",
            "Instructions for updating:\n",
            "If using Keras pass *_constraint arguments to layers.\n",
            "Model: \"sequential\"\n",
            "_________________________________________________________________\n",
            "Layer (type)                 Output Shape              Param #   \n",
            "=================================================================\n",
            "conv2d (Conv2D)              (None, 17, 23, 96)        34944     \n",
            "_________________________________________________________________\n",
            "max_pooling2d (MaxPooling2D) (None, 8, 11, 96)         0         \n",
            "_________________________________________________________________\n",
            "batch_normalization (BatchNo (None, 8, 11, 96)         384       \n",
            "_________________________________________________________________\n",
            "conv2d_1 (Conv2D)            (None, 7, 10, 256)        98560     \n",
            "_________________________________________________________________\n",
            "max_pooling2d_1 (MaxPooling2 (None, 3, 5, 256)         0         \n",
            "_________________________________________________________________\n",
            "batch_normalization_1 (Batch (None, 3, 5, 256)         1024      \n",
            "_________________________________________________________________\n",
            "conv2d_2 (Conv2D)            (None, 1, 3, 384)         885120    \n",
            "_________________________________________________________________\n",
            "batch_normalization_2 (Batch (None, 1, 3, 384)         1536      \n",
            "_________________________________________________________________\n",
            "max_pooling2d_2 (MaxPooling2 (None, 1, 3, 384)         0         \n",
            "_________________________________________________________________\n",
            "batch_normalization_3 (Batch (None, 1, 3, 384)         1536      \n",
            "_________________________________________________________________\n",
            "flatten (Flatten)            (None, 1152)              0         \n",
            "_________________________________________________________________\n",
            "dense (Dense)                (None, 4096)              4722688   \n",
            "_________________________________________________________________\n",
            "dropout (Dropout)            (None, 4096)              0         \n",
            "_________________________________________________________________\n",
            "batch_normalization_4 (Batch (None, 4096)              16384     \n",
            "_________________________________________________________________\n",
            "dense_1 (Dense)              (None, 4096)              16781312  \n",
            "_________________________________________________________________\n",
            "dropout_1 (Dropout)          (None, 4096)              0         \n",
            "_________________________________________________________________\n",
            "batch_normalization_5 (Batch (None, 4096)              16384     \n",
            "_________________________________________________________________\n",
            "dense_2 (Dense)              (None, 1000)              4097000   \n",
            "_________________________________________________________________\n",
            "dropout_2 (Dropout)          (None, 1000)              0         \n",
            "_________________________________________________________________\n",
            "batch_normalization_6 (Batch (None, 1000)              4000      \n",
            "_________________________________________________________________\n",
            "dense_3 (Dense)              (None, 7)                 7007      \n",
            "=================================================================\n",
            "Total params: 26,667,879\n",
            "Trainable params: 26,647,255\n",
            "Non-trainable params: 20,624\n",
            "_________________________________________________________________\n"
          ],
          "name": "stdout"
        }
      ]
    },
    {
      "cell_type": "code",
      "metadata": {
        "id": "clZOCp1zl-V6"
      },
      "source": [
        "from tensorflow.keras.optimizers import Adam"
      ],
      "execution_count": 17,
      "outputs": []
    },
    {
      "cell_type": "code",
      "metadata": {
        "id": "tmss-YNUeohM"
      },
      "source": [
        "optimizer = Adam(lr=0.001, beta_1=0.9, beta_2=0.999, epsilon=None, decay=0.0, amsgrad=False)"
      ],
      "execution_count": 18,
      "outputs": []
    },
    {
      "cell_type": "code",
      "metadata": {
        "id": "MXTRLbu3erC-"
      },
      "source": [
        "classifier.compile(optimizer = optimizer , loss = \"categorical_crossentropy\", metrics=[\"accuracy\"])"
      ],
      "execution_count": 19,
      "outputs": []
    },
    {
      "cell_type": "code",
      "metadata": {
        "id": "vAPOTZOZmVnG"
      },
      "source": [
        "from tensorflow.keras.preprocessing.image import ImageDataGenerator\n",
        "from tensorflow.keras.callbacks import ReduceLROnPlateau"
      ],
      "execution_count": 20,
      "outputs": []
    },
    {
      "cell_type": "code",
      "metadata": {
        "id": "SmOErjxLes34"
      },
      "source": [
        "learning_rate_reduction = ReduceLROnPlateau(monitor='val_acc', \n",
        "                                            patience=3, \n",
        "                                            verbose=1, \n",
        "                                            factor=0.5, \n",
        "                                            min_lr=0.00001)"
      ],
      "execution_count": 21,
      "outputs": []
    },
    {
      "cell_type": "code",
      "metadata": {
        "id": "kEOZ5wMce4Pp"
      },
      "source": [
        "datagen = ImageDataGenerator(\n",
        "        featurewise_center=False,  # set input mean to 0 over the dataset\n",
        "        samplewise_center=False,  # set each sample mean to 0\n",
        "        featurewise_std_normalization=False,  # divide inputs by std of the dataset\n",
        "        samplewise_std_normalization=False,  # divide each input by its std\n",
        "        zca_whitening=False,  # apply ZCA whitening\n",
        "        rotation_range=10,  # randomly rotate images in the range (degrees, 0 to 180)\n",
        "        zoom_range = 0.1, # Randomly zoom image \n",
        "        width_shift_range=0.1,  # randomly shift images horizontally (fraction of total width)\n",
        "        height_shift_range=0.1,  # randomly shift images vertically (fraction of total height)\n",
        "        horizontal_flip=False,  # randomly flip images\n",
        "        vertical_flip=False)  # randomly flip images\n",
        "\n",
        "datagen.fit(X_train)"
      ],
      "execution_count": 22,
      "outputs": []
    },
    {
      "cell_type": "code",
      "metadata": {
        "id": "ncWwemEVe7QR",
        "outputId": "155aa499-a4fd-4c07-db3c-8cc251ec7d3a",
        "colab": {
          "base_uri": "https://localhost:8080/"
        }
      },
      "source": [
        "# Fit the model\n",
        "epochs = 50\n",
        "batch_size = 30\n",
        "history = classifier.fit_generator(datagen.flow(X_train_norm,Y_train, batch_size=batch_size),\n",
        "                              epochs = epochs,\n",
        "                              verbose = 1, steps_per_epoch=X_train.shape[0] // batch_size\n",
        "                              , callbacks=[learning_rate_reduction])"
      ],
      "execution_count": 23,
      "outputs": [
        {
          "output_type": "stream",
          "text": [
            "Epoch 1/50\n",
            "232/233 [============================>.] - ETA: 0s - loss: 1.4041 - acc: 0.5803WARNING:tensorflow:Reduce LR on plateau conditioned on metric `val_acc` which is not available. Available metrics are: loss,acc,lr\n",
            "233/233 [==============================] - 16s 69ms/step - loss: 1.4027 - acc: 0.5805\n",
            "Epoch 2/50\n",
            "232/233 [============================>.] - ETA: 0s - loss: 0.9553 - acc: 0.6660WARNING:tensorflow:Reduce LR on plateau conditioned on metric `val_acc` which is not available. Available metrics are: loss,acc,lr\n",
            "233/233 [==============================] - 12s 54ms/step - loss: 0.9561 - acc: 0.6659\n",
            "Epoch 3/50\n",
            "232/233 [============================>.] - ETA: 0s - loss: 0.8948 - acc: 0.6909WARNING:tensorflow:Reduce LR on plateau conditioned on metric `val_acc` which is not available. Available metrics are: loss,acc,lr\n",
            "233/233 [==============================] - 13s 54ms/step - loss: 0.8937 - acc: 0.6914\n",
            "Epoch 4/50\n",
            "232/233 [============================>.] - ETA: 0s - loss: 0.8395 - acc: 0.6954WARNING:tensorflow:Reduce LR on plateau conditioned on metric `val_acc` which is not available. Available metrics are: loss,acc,lr\n",
            "233/233 [==============================] - 13s 54ms/step - loss: 0.8389 - acc: 0.6960\n",
            "Epoch 5/50\n",
            "232/233 [============================>.] - ETA: 0s - loss: 0.8025 - acc: 0.7029WARNING:tensorflow:Reduce LR on plateau conditioned on metric `val_acc` which is not available. Available metrics are: loss,acc,lr\n",
            "233/233 [==============================] - 12s 53ms/step - loss: 0.8031 - acc: 0.7024\n",
            "Epoch 6/50\n",
            "232/233 [============================>.] - ETA: 0s - loss: 0.7875 - acc: 0.7161WARNING:tensorflow:Reduce LR on plateau conditioned on metric `val_acc` which is not available. Available metrics are: loss,acc,lr\n",
            "233/233 [==============================] - 13s 54ms/step - loss: 0.7873 - acc: 0.7159\n",
            "Epoch 7/50\n",
            "232/233 [============================>.] - ETA: 0s - loss: 0.7640 - acc: 0.7214WARNING:tensorflow:Reduce LR on plateau conditioned on metric `val_acc` which is not available. Available metrics are: loss,acc,lr\n",
            "233/233 [==============================] - 12s 54ms/step - loss: 0.7638 - acc: 0.7216\n",
            "Epoch 8/50\n",
            "232/233 [============================>.] - ETA: 0s - loss: 0.7426 - acc: 0.7250WARNING:tensorflow:Reduce LR on plateau conditioned on metric `val_acc` which is not available. Available metrics are: loss,acc,lr\n",
            "233/233 [==============================] - 13s 55ms/step - loss: 0.7424 - acc: 0.7252\n",
            "Epoch 9/50\n",
            "232/233 [============================>.] - ETA: 0s - loss: 0.7272 - acc: 0.7325WARNING:tensorflow:Reduce LR on plateau conditioned on metric `val_acc` which is not available. Available metrics are: loss,acc,lr\n",
            "233/233 [==============================] - 13s 54ms/step - loss: 0.7272 - acc: 0.7328\n",
            "Epoch 10/50\n",
            "232/233 [============================>.] - ETA: 0s - loss: 0.7404 - acc: 0.7301WARNING:tensorflow:Reduce LR on plateau conditioned on metric `val_acc` which is not available. Available metrics are: loss,acc,lr\n",
            "233/233 [==============================] - 13s 54ms/step - loss: 0.7407 - acc: 0.7301\n",
            "Epoch 11/50\n",
            "232/233 [============================>.] - ETA: 0s - loss: 0.6971 - acc: 0.7437WARNING:tensorflow:Reduce LR on plateau conditioned on metric `val_acc` which is not available. Available metrics are: loss,acc,lr\n",
            "233/233 [==============================] - 13s 54ms/step - loss: 0.6968 - acc: 0.7443\n",
            "Epoch 12/50\n",
            "232/233 [============================>.] - ETA: 0s - loss: 0.6951 - acc: 0.7429WARNING:tensorflow:Reduce LR on plateau conditioned on metric `val_acc` which is not available. Available metrics are: loss,acc,lr\n",
            "233/233 [==============================] - 13s 54ms/step - loss: 0.6946 - acc: 0.7427\n",
            "Epoch 13/50\n",
            "232/233 [============================>.] - ETA: 0s - loss: 0.6912 - acc: 0.7496WARNING:tensorflow:Reduce LR on plateau conditioned on metric `val_acc` which is not available. Available metrics are: loss,acc,lr\n",
            "233/233 [==============================] - 13s 54ms/step - loss: 0.6930 - acc: 0.7494\n",
            "Epoch 14/50\n",
            "232/233 [============================>.] - ETA: 0s - loss: 0.6697 - acc: 0.7547WARNING:tensorflow:Reduce LR on plateau conditioned on metric `val_acc` which is not available. Available metrics are: loss,acc,lr\n",
            "233/233 [==============================] - 13s 54ms/step - loss: 0.6705 - acc: 0.7540\n",
            "Epoch 15/50\n",
            "232/233 [============================>.] - ETA: 0s - loss: 0.6661 - acc: 0.7567WARNING:tensorflow:Reduce LR on plateau conditioned on metric `val_acc` which is not available. Available metrics are: loss,acc,lr\n",
            "233/233 [==============================] - 13s 54ms/step - loss: 0.6651 - acc: 0.7570\n",
            "Epoch 16/50\n",
            "232/233 [============================>.] - ETA: 0s - loss: 0.6716 - acc: 0.7550WARNING:tensorflow:Reduce LR on plateau conditioned on metric `val_acc` which is not available. Available metrics are: loss,acc,lr\n",
            "233/233 [==============================] - 12s 53ms/step - loss: 0.6707 - acc: 0.7552\n",
            "Epoch 17/50\n",
            "232/233 [============================>.] - ETA: 0s - loss: 0.6417 - acc: 0.7683WARNING:tensorflow:Reduce LR on plateau conditioned on metric `val_acc` which is not available. Available metrics are: loss,acc,lr\n",
            "233/233 [==============================] - 13s 54ms/step - loss: 0.6425 - acc: 0.7681\n",
            "Epoch 18/50\n",
            "232/233 [============================>.] - ETA: 0s - loss: 0.6554 - acc: 0.7566WARNING:tensorflow:Reduce LR on plateau conditioned on metric `val_acc` which is not available. Available metrics are: loss,acc,lr\n",
            "233/233 [==============================] - 13s 54ms/step - loss: 0.6558 - acc: 0.7568\n",
            "Epoch 19/50\n",
            "232/233 [============================>.] - ETA: 0s - loss: 0.6314 - acc: 0.7660WARNING:tensorflow:Reduce LR on plateau conditioned on metric `val_acc` which is not available. Available metrics are: loss,acc,lr\n",
            "233/233 [==============================] - 13s 54ms/step - loss: 0.6330 - acc: 0.7653\n",
            "Epoch 20/50\n",
            "232/233 [============================>.] - ETA: 0s - loss: 0.6461 - acc: 0.7594WARNING:tensorflow:Reduce LR on plateau conditioned on metric `val_acc` which is not available. Available metrics are: loss,acc,lr\n",
            "233/233 [==============================] - 13s 55ms/step - loss: 0.6457 - acc: 0.7596\n",
            "Epoch 21/50\n",
            "232/233 [============================>.] - ETA: 0s - loss: 0.6273 - acc: 0.7635WARNING:tensorflow:Reduce LR on plateau conditioned on metric `val_acc` which is not available. Available metrics are: loss,acc,lr\n",
            "233/233 [==============================] - 13s 55ms/step - loss: 0.6269 - acc: 0.7638\n",
            "Epoch 22/50\n",
            "232/233 [============================>.] - ETA: 0s - loss: 0.6223 - acc: 0.7708WARNING:tensorflow:Reduce LR on plateau conditioned on metric `val_acc` which is not available. Available metrics are: loss,acc,lr\n",
            "233/233 [==============================] - 13s 54ms/step - loss: 0.6223 - acc: 0.7708\n",
            "Epoch 23/50\n",
            "232/233 [============================>.] - ETA: 0s - loss: 0.6055 - acc: 0.7750WARNING:tensorflow:Reduce LR on plateau conditioned on metric `val_acc` which is not available. Available metrics are: loss,acc,lr\n",
            "233/233 [==============================] - 13s 54ms/step - loss: 0.6051 - acc: 0.7751\n",
            "Epoch 24/50\n",
            "232/233 [============================>.] - ETA: 0s - loss: 0.6020 - acc: 0.7757WARNING:tensorflow:Reduce LR on plateau conditioned on metric `val_acc` which is not available. Available metrics are: loss,acc,lr\n",
            "233/233 [==============================] - 13s 54ms/step - loss: 0.6020 - acc: 0.7756\n",
            "Epoch 25/50\n",
            "232/233 [============================>.] - ETA: 0s - loss: 0.6000 - acc: 0.7761WARNING:tensorflow:Reduce LR on plateau conditioned on metric `val_acc` which is not available. Available metrics are: loss,acc,lr\n",
            "233/233 [==============================] - 13s 54ms/step - loss: 0.6006 - acc: 0.7761\n",
            "Epoch 26/50\n",
            "232/233 [============================>.] - ETA: 0s - loss: 0.5914 - acc: 0.7791WARNING:tensorflow:Reduce LR on plateau conditioned on metric `val_acc` which is not available. Available metrics are: loss,acc,lr\n",
            "233/233 [==============================] - 13s 54ms/step - loss: 0.5917 - acc: 0.7791\n",
            "Epoch 27/50\n",
            "232/233 [============================>.] - ETA: 0s - loss: 0.5982 - acc: 0.7765WARNING:tensorflow:Reduce LR on plateau conditioned on metric `val_acc` which is not available. Available metrics are: loss,acc,lr\n",
            "233/233 [==============================] - 13s 55ms/step - loss: 0.5979 - acc: 0.7766\n",
            "Epoch 28/50\n",
            "232/233 [============================>.] - ETA: 0s - loss: 0.5790 - acc: 0.7829WARNING:tensorflow:Reduce LR on plateau conditioned on metric `val_acc` which is not available. Available metrics are: loss,acc,lr\n",
            "233/233 [==============================] - 13s 55ms/step - loss: 0.5791 - acc: 0.7828\n",
            "Epoch 29/50\n",
            "232/233 [============================>.] - ETA: 0s - loss: 0.5622 - acc: 0.7928WARNING:tensorflow:Reduce LR on plateau conditioned on metric `val_acc` which is not available. Available metrics are: loss,acc,lr\n",
            "233/233 [==============================] - 13s 54ms/step - loss: 0.5623 - acc: 0.7927\n",
            "Epoch 30/50\n",
            "232/233 [============================>.] - ETA: 0s - loss: 0.5813 - acc: 0.7850WARNING:tensorflow:Reduce LR on plateau conditioned on metric `val_acc` which is not available. Available metrics are: loss,acc,lr\n",
            "233/233 [==============================] - 13s 54ms/step - loss: 0.5808 - acc: 0.7852\n",
            "Epoch 31/50\n",
            "232/233 [============================>.] - ETA: 0s - loss: 0.5338 - acc: 0.8076WARNING:tensorflow:Reduce LR on plateau conditioned on metric `val_acc` which is not available. Available metrics are: loss,acc,lr\n",
            "233/233 [==============================] - 13s 54ms/step - loss: 0.5341 - acc: 0.8073\n",
            "Epoch 32/50\n",
            "232/233 [============================>.] - ETA: 0s - loss: 0.5661 - acc: 0.7901WARNING:tensorflow:Reduce LR on plateau conditioned on metric `val_acc` which is not available. Available metrics are: loss,acc,lr\n",
            "233/233 [==============================] - 13s 54ms/step - loss: 0.5672 - acc: 0.7895\n",
            "Epoch 33/50\n",
            "232/233 [============================>.] - ETA: 0s - loss: 0.5651 - acc: 0.7931WARNING:tensorflow:Reduce LR on plateau conditioned on metric `val_acc` which is not available. Available metrics are: loss,acc,lr\n",
            "233/233 [==============================] - 13s 55ms/step - loss: 0.5649 - acc: 0.7933\n",
            "Epoch 34/50\n",
            "232/233 [============================>.] - ETA: 0s - loss: 0.5227 - acc: 0.8088WARNING:tensorflow:Reduce LR on plateau conditioned on metric `val_acc` which is not available. Available metrics are: loss,acc,lr\n",
            "233/233 [==============================] - 13s 54ms/step - loss: 0.5235 - acc: 0.8083\n",
            "Epoch 35/50\n",
            "232/233 [============================>.] - ETA: 0s - loss: 0.5241 - acc: 0.8049WARNING:tensorflow:Reduce LR on plateau conditioned on metric `val_acc` which is not available. Available metrics are: loss,acc,lr\n",
            "233/233 [==============================] - 13s 54ms/step - loss: 0.5255 - acc: 0.8044\n",
            "Epoch 36/50\n",
            "232/233 [============================>.] - ETA: 0s - loss: 0.5135 - acc: 0.8079WARNING:tensorflow:Reduce LR on plateau conditioned on metric `val_acc` which is not available. Available metrics are: loss,acc,lr\n",
            "233/233 [==============================] - 13s 54ms/step - loss: 0.5139 - acc: 0.8077\n",
            "Epoch 37/50\n",
            "232/233 [============================>.] - ETA: 0s - loss: 0.4982 - acc: 0.8174WARNING:tensorflow:Reduce LR on plateau conditioned on metric `val_acc` which is not available. Available metrics are: loss,acc,lr\n",
            "233/233 [==============================] - 13s 54ms/step - loss: 0.4975 - acc: 0.8178\n",
            "Epoch 38/50\n",
            "232/233 [============================>.] - ETA: 0s - loss: 0.4974 - acc: 0.8153WARNING:tensorflow:Reduce LR on plateau conditioned on metric `val_acc` which is not available. Available metrics are: loss,acc,lr\n",
            "233/233 [==============================] - 13s 54ms/step - loss: 0.4974 - acc: 0.8148\n",
            "Epoch 39/50\n",
            "232/233 [============================>.] - ETA: 0s - loss: 0.4907 - acc: 0.8219WARNING:tensorflow:Reduce LR on plateau conditioned on metric `val_acc` which is not available. Available metrics are: loss,acc,lr\n",
            "233/233 [==============================] - 13s 54ms/step - loss: 0.4913 - acc: 0.8219\n",
            "Epoch 40/50\n",
            "232/233 [============================>.] - ETA: 0s - loss: 0.4899 - acc: 0.8159WARNING:tensorflow:Reduce LR on plateau conditioned on metric `val_acc` which is not available. Available metrics are: loss,acc,lr\n",
            "233/233 [==============================] - 13s 55ms/step - loss: 0.4906 - acc: 0.8157\n",
            "Epoch 41/50\n",
            "232/233 [============================>.] - ETA: 0s - loss: 0.4962 - acc: 0.8177WARNING:tensorflow:Reduce LR on plateau conditioned on metric `val_acc` which is not available. Available metrics are: loss,acc,lr\n",
            "233/233 [==============================] - 13s 54ms/step - loss: 0.4975 - acc: 0.8174\n",
            "Epoch 42/50\n",
            "232/233 [============================>.] - ETA: 0s - loss: 0.4826 - acc: 0.8227WARNING:tensorflow:Reduce LR on plateau conditioned on metric `val_acc` which is not available. Available metrics are: loss,acc,lr\n",
            "233/233 [==============================] - 13s 55ms/step - loss: 0.4821 - acc: 0.8229\n",
            "Epoch 43/50\n",
            "232/233 [============================>.] - ETA: 0s - loss: 0.4811 - acc: 0.8200WARNING:tensorflow:Reduce LR on plateau conditioned on metric `val_acc` which is not available. Available metrics are: loss,acc,lr\n",
            "233/233 [==============================] - 13s 54ms/step - loss: 0.4821 - acc: 0.8199\n",
            "Epoch 44/50\n",
            "232/233 [============================>.] - ETA: 0s - loss: 0.4553 - acc: 0.8335WARNING:tensorflow:Reduce LR on plateau conditioned on metric `val_acc` which is not available. Available metrics are: loss,acc,lr\n",
            "233/233 [==============================] - 13s 55ms/step - loss: 0.4552 - acc: 0.8337\n",
            "Epoch 45/50\n",
            "232/233 [============================>.] - ETA: 0s - loss: 0.4618 - acc: 0.8286WARNING:tensorflow:Reduce LR on plateau conditioned on metric `val_acc` which is not available. Available metrics are: loss,acc,lr\n",
            "233/233 [==============================] - 13s 54ms/step - loss: 0.4617 - acc: 0.8285\n",
            "Epoch 46/50\n",
            "232/233 [============================>.] - ETA: 0s - loss: 0.4551 - acc: 0.8328WARNING:tensorflow:Reduce LR on plateau conditioned on metric `val_acc` which is not available. Available metrics are: loss,acc,lr\n",
            "233/233 [==============================] - 13s 55ms/step - loss: 0.4553 - acc: 0.8327\n",
            "Epoch 47/50\n",
            "232/233 [============================>.] - ETA: 0s - loss: 0.4495 - acc: 0.8319WARNING:tensorflow:Reduce LR on plateau conditioned on metric `val_acc` which is not available. Available metrics are: loss,acc,lr\n",
            "233/233 [==============================] - 13s 54ms/step - loss: 0.4509 - acc: 0.8317\n",
            "Epoch 48/50\n",
            "232/233 [============================>.] - ETA: 0s - loss: 0.4182 - acc: 0.8496WARNING:tensorflow:Reduce LR on plateau conditioned on metric `val_acc` which is not available. Available metrics are: loss,acc,lr\n",
            "233/233 [==============================] - 13s 54ms/step - loss: 0.4192 - acc: 0.8493\n",
            "Epoch 49/50\n",
            "232/233 [============================>.] - ETA: 0s - loss: 0.4313 - acc: 0.8420WARNING:tensorflow:Reduce LR on plateau conditioned on metric `val_acc` which is not available. Available metrics are: loss,acc,lr\n",
            "233/233 [==============================] - 13s 54ms/step - loss: 0.4311 - acc: 0.8421\n",
            "Epoch 50/50\n",
            "232/233 [============================>.] - ETA: 0s - loss: 0.4294 - acc: 0.8427WARNING:tensorflow:Reduce LR on plateau conditioned on metric `val_acc` which is not available. Available metrics are: loss,acc,lr\n",
            "233/233 [==============================] - 13s 55ms/step - loss: 0.4296 - acc: 0.8429\n"
          ],
          "name": "stdout"
        }
      ]
    },
    {
      "cell_type": "code",
      "metadata": {
        "id": "5ZzAdy04nXDj",
        "outputId": "a7a947ac-ebde-4088-f693-a12dc9beb547",
        "colab": {
          "base_uri": "https://localhost:8080/",
          "height": 295
        }
      },
      "source": [
        "def plot_hist(hist):\n",
        "    plt.plot(hist.history[\"loss\"])\n",
        "    #plt.plot(hist.history[\"acc\"], c = \"r\", name = \"acc\")\n",
        "    #plt.plot(hist.history[\"val_loss\"], c = \"g\")\n",
        "    plt.title(\"model loss\")\n",
        "    plt.ylabel(\"loss\")\n",
        "    plt.xlabel(\"epoch\")\n",
        "    plt.legend([\"train\", \"validation\"], loc=\"upper left\")\n",
        "    plt.show()\n",
        "\n",
        "\n",
        "plot_hist(history)"
      ],
      "execution_count": 28,
      "outputs": [
        {
          "output_type": "display_data",
          "data": {
            "image/png": "[encoded data removed]",
            "text/plain": [
              "<Figure size 432x288 with 1 Axes>"
            ]
          },
          "metadata": {
            "tags": [],
            "needs_background": "light"
          }
        }
      ]
    },
    {
      "cell_type": "code",
      "metadata": {
        "id": "jTVsFpWhLUXb",
        "outputId": "c218a0d0-2604-47e5-8477-fbb6e634cf30",
        "colab": {
          "base_uri": "https://localhost:8080/",
          "height": 295
        }
      },
      "source": [
        "def plot_hist(hist):\n",
        "    #plt.plot(hist.history[\"loss\"])\n",
        "    plt.plot(hist.history[\"acc\"], c = \"r\")\n",
        "    #plt.plot(hist.history[\"val_loss\"], c = \"g\")\n",
        "    plt.title(\"model loss\")\n",
        "    plt.ylabel(\"loss\")\n",
        "    plt.xlabel(\"epoch\")\n",
        "    plt.legend([\"train\", \"validation\"], loc=\"upper left\")\n",
        "    plt.show()\n",
        "\n",
        "\n",
        "plot_hist(history)"
      ],
      "execution_count": 29,
      "outputs": [
        {
          "output_type": "display_data",
          "data": {
            "image/png": "[encoded data removed]",
            "text/plain": [
              "<Figure size 432x288 with 1 Axes>"
            ]
          },
          "metadata": {
            "tags": [],
            "needs_background": "light"
          }
        }
      ]
    },
    {
      "cell_type": "code",
      "metadata": {
        "id": "CfgbwKDOn18h",
        "outputId": "be81d8c7-058c-4014-96c1-3005a1c8483f",
        "colab": {
          "base_uri": "https://localhost:8080/"
        }
      },
      "source": [
        "history.history.keys()"
      ],
      "execution_count": 30,
      "outputs": [
        {
          "output_type": "execute_result",
          "data": {
            "text/plain": [
              "dict_keys(['loss', 'acc', 'lr'])"
            ]
          },
          "metadata": {
            "tags": []
          },
          "execution_count": 30
        }
      ]
    },
    {
      "cell_type": "code",
      "metadata": {
        "id": "gp22YFBYnIjR",
        "outputId": "8b48b609-56d8-4198-b822-239a60e1e287",
        "colab": {
          "base_uri": "https://localhost:8080/"
        }
      },
      "source": [
        "loss, accuracy = classifier.evaluate(X_test_norm, Y_test, verbose=1)\n",
        "print(\"Test: accuracy = %f  ;  loss = %f\" % (accuracy, loss))"
      ],
      "execution_count": 31,
      "outputs": [
        {
          "output_type": "stream",
          "text": [
            "3005/3005 [==============================] - 1s 223us/sample - loss: 2.4167 - acc: 0.7311\n",
            "Test: accuracy = 0.731115  ;  loss = 2.416691\n"
          ],
          "name": "stdout"
        }
      ]
    },
    {
      "cell_type": "code",
      "metadata": {
        "id": "5Ep2mXmtnVIU"
      },
      "source": [
        ""
      ],
      "execution_count": 27,
      "outputs": []
    }
  ]
}