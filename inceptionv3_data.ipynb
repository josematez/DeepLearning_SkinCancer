{
  "nbformat": 4,
  "nbformat_minor": 0,
  "metadata": {
    "accelerator": "GPU",
    "colab": {
      "name": "Testing_Data_Javi2.ipynb",
      "provenance": [],
      "collapsed_sections": []
    },
    "kernelspec": {
      "display_name": "proyecto",
      "language": "python",
      "name": "gpu"
    },
    "language_info": {
      "codemirror_mode": {
        "name": "ipython",
        "version": 3
      },
      "file_extension": ".py",
      "mimetype": "text/x-python",
      "name": "python",
      "nbconvert_exporter": "python",
      "pygments_lexer": "ipython3",
      "version": "3.7.9"
    }
  },
  "cells": [
    {
      "cell_type": "markdown",
      "metadata": {
        "id": "view-in-github"
      },
      "source": [
        "<a href=\"https://colab.research.google.com/github/josematez/DeepLearning_SkinCancer/blob/main/Testing_Data_Jose.ipynb\" target=\"_parent\"><img src=\"https://colab.research.google.com/assets/colab-badge.svg\" alt=\"Open In Colab\"/></a>"
      ]
    },
    {
      "cell_type": "code",
      "metadata": {
        "id": "46GSQ_3wuU8T",
        "outputId": "9b89049e-3528-4a85-da1e-3fc75b57d9ad",
        "colab": {
          "base_uri": "https://localhost:8080/",
          "height": 533
        }
      },
      "source": [
        "!pip install numpy==1.15.4\n",
        "!pip install deepdish\n",
        "#!pip install tensorflow==1.15\n",
        "#!pip install keras"
      ],
      "execution_count": 1,
      "outputs": [
        {
          "output_type": "stream",
          "text": [
            "Collecting numpy==1.15.4\n",
            "\u001b[?25l  Downloading https://files.pythonhosted.org/packages/ff/7f/9d804d2348471c67a7d8b5f84f9bc59fd1cefa148986f2b74552f8573555/numpy-1.15.4-cp36-cp36m-manylinux1_x86_64.whl (13.9MB)\n",
            "\u001b[K     |████████████████████████████████| 13.9MB 233kB/s \n",
            "\u001b[31mERROR: umap-learn 0.4.6 has requirement numpy>=1.17, but you'll have numpy 1.15.4 which is incompatible.\u001b[0m\n",
            "\u001b[31mERROR: tensorflow 2.3.0 has requirement numpy<1.19.0,>=1.16.0, but you'll have numpy 1.15.4 which is incompatible.\u001b[0m\n",
            "\u001b[31mERROR: plotnine 0.6.0 has requirement numpy>=1.16.0, but you'll have numpy 1.15.4 which is incompatible.\u001b[0m\n",
            "\u001b[31mERROR: datascience 0.10.6 has requirement folium==0.2.1, but you'll have folium 0.8.3 which is incompatible.\u001b[0m\n",
            "\u001b[31mERROR: astropy 4.1 has requirement numpy>=1.16, but you'll have numpy 1.15.4 which is incompatible.\u001b[0m\n",
            "\u001b[31mERROR: albumentations 0.1.12 has requirement imgaug<0.2.7,>=0.2.5, but you'll have imgaug 0.2.9 which is incompatible.\u001b[0m\n",
            "\u001b[?25hInstalling collected packages: numpy\n",
            "  Found existing installation: numpy 1.18.5\n",
            "    Uninstalling numpy-1.18.5:\n",
            "      Successfully uninstalled numpy-1.18.5\n",
            "Successfully installed numpy-1.15.4\n"
          ],
          "name": "stdout"
        },
        {
          "output_type": "display_data",
          "data": {
            "application/vnd.colab-display-data+json": {
              "pip_warning": {
                "packages": [
                  "numpy"
                ]
              }
            }
          },
          "metadata": {
            "tags": []
          }
        },
        {
          "output_type": "stream",
          "text": [
            "Collecting deepdish\n",
            "  Downloading https://files.pythonhosted.org/packages/6e/39/2a47c852651982bc5eb39212ac110284dd20126bdc7b49bde401a0139f5d/deepdish-0.3.6-py2.py3-none-any.whl\n",
            "Requirement already satisfied: tables in /usr/local/lib/python3.6/dist-packages (from deepdish) (3.4.4)\n",
            "Requirement already satisfied: numpy in /usr/local/lib/python3.6/dist-packages (from deepdish) (1.15.4)\n",
            "Requirement already satisfied: scipy in /usr/local/lib/python3.6/dist-packages (from deepdish) (1.4.1)\n",
            "Requirement already satisfied: numexpr>=2.5.2 in /usr/local/lib/python3.6/dist-packages (from tables->deepdish) (2.7.1)\n",
            "Requirement already satisfied: six>=1.9.0 in /usr/local/lib/python3.6/dist-packages (from tables->deepdish) (1.15.0)\n",
            "Installing collected packages: deepdish\n",
            "Successfully installed deepdish-0.3.6\n"
          ],
          "name": "stdout"
        }
      ]
    },
    {
      "cell_type": "code",
      "metadata": {
        "id": "R_m79alguZ9P"
      },
      "source": [
        "%matplotlib inline\n",
        "import matplotlib.pyplot as plt\n",
        "import numpy as np\n",
        "import pandas as pd\n",
        "import os\n",
        "import deepdish as dd\n",
        "from sklearn.model_selection import train_test_split\n",
        "from tensorflow.keras.models import Sequential, Model\n",
        "from tensorflow.keras.layers import Dense, Conv2D, Dropout, Flatten, MaxPooling2D, GlobalAveragePooling2D\n",
        "from tensorflow.keras.utils import to_categorical, plot_model\n",
        "from tensorflow.keras.optimizers import Adam, RMSprop, SGD\n",
        "from tensorflow.keras.callbacks import ReduceLROnPlateau\n",
        "\n",
        "from tensorflow.keras.applications.inception_v3 import InceptionV3"
      ],
      "execution_count": 84,
      "outputs": []
    },
    {
      "cell_type": "code",
      "metadata": {
        "id": "0e2SVXyVZrxe",
        "outputId": "c32fc544-3935-480e-c078-6493a7540e92",
        "colab": {
          "base_uri": "https://localhost:8080/",
          "height": 36
        }
      },
      "source": [
        "np.__version__"
      ],
      "execution_count": 2,
      "outputs": [
        {
          "output_type": "execute_result",
          "data": {
            "application/vnd.google.colaboratory.intrinsic+json": {
              "type": "string"
            },
            "text/plain": [
              "'1.15.4'"
            ]
          },
          "metadata": {
            "tags": []
          },
          "execution_count": 2
        }
      ]
    },
    {
      "cell_type": "code",
      "metadata": {
        "id": "K3IKV5kvucC1",
        "outputId": "f8ce1544-fbcc-43ba-b2e9-a6c6ef6a2f1e",
        "colab": {
          "base_uri": "https://localhost:8080/"
        }
      },
      "source": [
        "from google.colab import drive\n",
        "drive.mount('/content/drive')\n",
        "os.chdir('/content/drive/My Drive/Colab Notebooks/Data')"
      ],
      "execution_count": 3,
      "outputs": [
        {
          "output_type": "stream",
          "text": [
            "Mounted at /content/drive\n"
          ],
          "name": "stdout"
        }
      ]
    },
    {
      "cell_type": "code",
      "metadata": {
        "id": "kQlULaeIudf8"
      },
      "source": [
        "data = dd.io.load('ISIC_dataset.h5')\n",
        "data_df = pd.DataFrame(data)"
      ],
      "execution_count": 5,
      "outputs": []
    },
    {
      "cell_type": "code",
      "metadata": {
        "id": "j4LrYJwZuemq"
      },
      "source": [
        "X_raw = data_df.image\n",
        "Y = data_df.cell_type_idx"
      ],
      "execution_count": 6,
      "outputs": []
    },
    {
      "cell_type": "code",
      "metadata": {
        "id": "aPIuLWUK5JGe"
      },
      "source": [
        "X = np.zeros((10015, 75, 100, 3))\n",
        "\n",
        "for i in range(10015):\n",
        "  X[i,:,:,:] = X_raw[i]"
      ],
      "execution_count": 7,
      "outputs": []
    },
    {
      "cell_type": "code",
      "metadata": {
        "id": "fX-nCzguvbxT",
        "outputId": "caa4eac4-83b7-4f35-9d8e-89c7110b40c8",
        "colab": {
          "base_uri": "https://localhost:8080/"
        }
      },
      "source": [
        "print(\"Tamaño datos X: {}\".format(X.shape))\n",
        "print(\"Tamaño datos Y: {}\".format(Y.shape))"
      ],
      "execution_count": 8,
      "outputs": [
        {
          "output_type": "stream",
          "text": [
            "Tamaño datos X: (10015, 75, 100, 3)\n",
            "Tamaño datos Y: (10015,)\n"
          ],
          "name": "stdout"
        }
      ]
    },
    {
      "cell_type": "code",
      "metadata": {
        "id": "TCFKQAkHvDrw"
      },
      "source": [
        "X_train, X_test, Y_train, Y_test = train_test_split(X, Y, test_size = 0.3, random_state = 123)"
      ],
      "execution_count": 9,
      "outputs": []
    },
    {
      "cell_type": "code",
      "metadata": {
        "id": "wDIKZ_QyDY-M"
      },
      "source": [
        "X_train = (X_train / np.max(X_train))\n",
        "X_test = (X_test / np.max(X_test))"
      ],
      "execution_count": 10,
      "outputs": []
    },
    {
      "cell_type": "code",
      "metadata": {
        "id": "OnJa21jVQxcz"
      },
      "source": [
        "Y_train = to_categorical(Y_train, num_classes = 7)\n",
        "Y_test = to_categorical(Y_test, num_classes = 7)"
      ],
      "execution_count": 11,
      "outputs": []
    },
    {
      "cell_type": "code",
      "metadata": {
        "id": "3h1miH4BP4NK",
        "outputId": "06be0f9f-3b09-4596-cf5d-2fe92b3be613",
        "colab": {
          "base_uri": "https://localhost:8080/",
          "height": 1000
        }
      },
      "source": [
        "input_shape = (75, 100, 3)\n",
        "num_classes = 7\n",
        "\n",
        "#InceptionV3\n",
        "\n",
        "base_model = InceptionV3(weights='imagenet', include_top=False)\n",
        "\n",
        "model = InceptionV3()\n",
        "model.summary()\n",
        "\n",
        "# add a global spatial average pooling layer\n",
        "x = base_model.output\n",
        "x = GlobalAveragePooling2D()(x)\n",
        "# let's add a fully-connected layer\n",
        "x = Dense(1024, activation='relu')(x)\n",
        "# and a logistic layer -- we have NUM_CLASSES classes\n",
        "predictions = Dense(num_classes, activation='softmax')(x)\n",
        "\n",
        "model = Model(inputs=base_model.input, outputs=predictions)"
      ],
      "execution_count": 90,
      "outputs": [
        {
          "output_type": "stream",
          "text": [
            "Model: \"inception_v3\"\n",
            "__________________________________________________________________________________________________\n",
            "Layer (type)                    Output Shape         Param #     Connected to                     \n",
            "==================================================================================================\n",
            "input_11 (InputLayer)           [(None, 299, 299, 3) 0                                            \n",
            "__________________________________________________________________________________________________\n",
            "conv2d_757 (Conv2D)             (None, 149, 149, 32) 864         input_11[0][0]                   \n",
            "__________________________________________________________________________________________________\n",
            "batch_normalization_658 (BatchN (None, 149, 149, 32) 96          conv2d_757[0][0]                 \n",
            "__________________________________________________________________________________________________\n",
            "activation_658 (Activation)     (None, 149, 149, 32) 0           batch_normalization_658[0][0]    \n",
            "__________________________________________________________________________________________________\n",
            "conv2d_758 (Conv2D)             (None, 147, 147, 32) 9216        activation_658[0][0]             \n",
            "__________________________________________________________________________________________________\n",
            "batch_normalization_659 (BatchN (None, 147, 147, 32) 96          conv2d_758[0][0]                 \n",
            "__________________________________________________________________________________________________\n",
            "activation_659 (Activation)     (None, 147, 147, 32) 0           batch_normalization_659[0][0]    \n",
            "__________________________________________________________________________________________________\n",
            "conv2d_759 (Conv2D)             (None, 147, 147, 64) 18432       activation_659[0][0]             \n",
            "__________________________________________________________________________________________________\n",
            "batch_normalization_660 (BatchN (None, 147, 147, 64) 192         conv2d_759[0][0]                 \n",
            "__________________________________________________________________________________________________\n",
            "activation_660 (Activation)     (None, 147, 147, 64) 0           batch_normalization_660[0][0]    \n",
            "__________________________________________________________________________________________________\n",
            "max_pooling2d_66 (MaxPooling2D) (None, 73, 73, 64)   0           activation_660[0][0]             \n",
            "__________________________________________________________________________________________________\n",
            "conv2d_760 (Conv2D)             (None, 73, 73, 80)   5120        max_pooling2d_66[0][0]           \n",
            "__________________________________________________________________________________________________\n",
            "batch_normalization_661 (BatchN (None, 73, 73, 80)   240         conv2d_760[0][0]                 \n",
            "__________________________________________________________________________________________________\n",
            "activation_661 (Activation)     (None, 73, 73, 80)   0           batch_normalization_661[0][0]    \n",
            "__________________________________________________________________________________________________\n",
            "conv2d_761 (Conv2D)             (None, 71, 71, 192)  138240      activation_661[0][0]             \n",
            "__________________________________________________________________________________________________\n",
            "batch_normalization_662 (BatchN (None, 71, 71, 192)  576         conv2d_761[0][0]                 \n",
            "__________________________________________________________________________________________________\n",
            "activation_662 (Activation)     (None, 71, 71, 192)  0           batch_normalization_662[0][0]    \n",
            "__________________________________________________________________________________________________\n",
            "max_pooling2d_67 (MaxPooling2D) (None, 35, 35, 192)  0           activation_662[0][0]             \n",
            "__________________________________________________________________________________________________\n",
            "conv2d_765 (Conv2D)             (None, 35, 35, 64)   12288       max_pooling2d_67[0][0]           \n",
            "__________________________________________________________________________________________________\n",
            "batch_normalization_666 (BatchN (None, 35, 35, 64)   192         conv2d_765[0][0]                 \n",
            "__________________________________________________________________________________________________\n",
            "activation_666 (Activation)     (None, 35, 35, 64)   0           batch_normalization_666[0][0]    \n",
            "__________________________________________________________________________________________________\n",
            "conv2d_763 (Conv2D)             (None, 35, 35, 48)   9216        max_pooling2d_67[0][0]           \n",
            "__________________________________________________________________________________________________\n",
            "conv2d_766 (Conv2D)             (None, 35, 35, 96)   55296       activation_666[0][0]             \n",
            "__________________________________________________________________________________________________\n",
            "batch_normalization_664 (BatchN (None, 35, 35, 48)   144         conv2d_763[0][0]                 \n",
            "__________________________________________________________________________________________________\n",
            "batch_normalization_667 (BatchN (None, 35, 35, 96)   288         conv2d_766[0][0]                 \n",
            "__________________________________________________________________________________________________\n",
            "activation_664 (Activation)     (None, 35, 35, 48)   0           batch_normalization_664[0][0]    \n",
            "__________________________________________________________________________________________________\n",
            "activation_667 (Activation)     (None, 35, 35, 96)   0           batch_normalization_667[0][0]    \n",
            "__________________________________________________________________________________________________\n",
            "average_pooling2d_63 (AveragePo (None, 35, 35, 192)  0           max_pooling2d_67[0][0]           \n",
            "__________________________________________________________________________________________________\n",
            "conv2d_762 (Conv2D)             (None, 35, 35, 64)   12288       max_pooling2d_67[0][0]           \n",
            "__________________________________________________________________________________________________\n",
            "conv2d_764 (Conv2D)             (None, 35, 35, 64)   76800       activation_664[0][0]             \n",
            "__________________________________________________________________________________________________\n",
            "conv2d_767 (Conv2D)             (None, 35, 35, 96)   82944       activation_667[0][0]             \n",
            "__________________________________________________________________________________________________\n",
            "conv2d_768 (Conv2D)             (None, 35, 35, 32)   6144        average_pooling2d_63[0][0]       \n",
            "__________________________________________________________________________________________________\n",
            "batch_normalization_663 (BatchN (None, 35, 35, 64)   192         conv2d_762[0][0]                 \n",
            "__________________________________________________________________________________________________\n",
            "batch_normalization_665 (BatchN (None, 35, 35, 64)   192         conv2d_764[0][0]                 \n",
            "__________________________________________________________________________________________________\n",
            "batch_normalization_668 (BatchN (None, 35, 35, 96)   288         conv2d_767[0][0]                 \n",
            "__________________________________________________________________________________________________\n",
            "batch_normalization_669 (BatchN (None, 35, 35, 32)   96          conv2d_768[0][0]                 \n",
            "__________________________________________________________________________________________________\n",
            "activation_663 (Activation)     (None, 35, 35, 64)   0           batch_normalization_663[0][0]    \n",
            "__________________________________________________________________________________________________\n",
            "activation_665 (Activation)     (None, 35, 35, 64)   0           batch_normalization_665[0][0]    \n",
            "__________________________________________________________________________________________________\n",
            "activation_668 (Activation)     (None, 35, 35, 96)   0           batch_normalization_668[0][0]    \n",
            "__________________________________________________________________________________________________\n",
            "activation_669 (Activation)     (None, 35, 35, 32)   0           batch_normalization_669[0][0]    \n",
            "__________________________________________________________________________________________________\n",
            "mixed0 (Concatenate)            (None, 35, 35, 256)  0           activation_663[0][0]             \n",
            "                                                                 activation_665[0][0]             \n",
            "                                                                 activation_668[0][0]             \n",
            "                                                                 activation_669[0][0]             \n",
            "__________________________________________________________________________________________________\n",
            "conv2d_772 (Conv2D)             (None, 35, 35, 64)   16384       mixed0[0][0]                     \n",
            "__________________________________________________________________________________________________\n",
            "batch_normalization_673 (BatchN (None, 35, 35, 64)   192         conv2d_772[0][0]                 \n",
            "__________________________________________________________________________________________________\n",
            "activation_673 (Activation)     (None, 35, 35, 64)   0           batch_normalization_673[0][0]    \n",
            "__________________________________________________________________________________________________\n",
            "conv2d_770 (Conv2D)             (None, 35, 35, 48)   12288       mixed0[0][0]                     \n",
            "__________________________________________________________________________________________________\n",
            "conv2d_773 (Conv2D)             (None, 35, 35, 96)   55296       activation_673[0][0]             \n",
            "__________________________________________________________________________________________________\n",
            "batch_normalization_671 (BatchN (None, 35, 35, 48)   144         conv2d_770[0][0]                 \n",
            "__________________________________________________________________________________________________\n",
            "batch_normalization_674 (BatchN (None, 35, 35, 96)   288         conv2d_773[0][0]                 \n",
            "__________________________________________________________________________________________________\n",
            "activation_671 (Activation)     (None, 35, 35, 48)   0           batch_normalization_671[0][0]    \n",
            "__________________________________________________________________________________________________\n",
            "activation_674 (Activation)     (None, 35, 35, 96)   0           batch_normalization_674[0][0]    \n",
            "__________________________________________________________________________________________________\n",
            "average_pooling2d_64 (AveragePo (None, 35, 35, 256)  0           mixed0[0][0]                     \n",
            "__________________________________________________________________________________________________\n",
            "conv2d_769 (Conv2D)             (None, 35, 35, 64)   16384       mixed0[0][0]                     \n",
            "__________________________________________________________________________________________________\n",
            "conv2d_771 (Conv2D)             (None, 35, 35, 64)   76800       activation_671[0][0]             \n",
            "__________________________________________________________________________________________________\n",
            "conv2d_774 (Conv2D)             (None, 35, 35, 96)   82944       activation_674[0][0]             \n",
            "__________________________________________________________________________________________________\n",
            "conv2d_775 (Conv2D)             (None, 35, 35, 64)   16384       average_pooling2d_64[0][0]       \n",
            "__________________________________________________________________________________________________\n",
            "batch_normalization_670 (BatchN (None, 35, 35, 64)   192         conv2d_769[0][0]                 \n",
            "__________________________________________________________________________________________________\n",
            "batch_normalization_672 (BatchN (None, 35, 35, 64)   192         conv2d_771[0][0]                 \n",
            "__________________________________________________________________________________________________\n",
            "batch_normalization_675 (BatchN (None, 35, 35, 96)   288         conv2d_774[0][0]                 \n",
            "__________________________________________________________________________________________________\n",
            "batch_normalization_676 (BatchN (None, 35, 35, 64)   192         conv2d_775[0][0]                 \n",
            "__________________________________________________________________________________________________\n",
            "activation_670 (Activation)     (None, 35, 35, 64)   0           batch_normalization_670[0][0]    \n",
            "__________________________________________________________________________________________________\n",
            "activation_672 (Activation)     (None, 35, 35, 64)   0           batch_normalization_672[0][0]    \n",
            "__________________________________________________________________________________________________\n",
            "activation_675 (Activation)     (None, 35, 35, 96)   0           batch_normalization_675[0][0]    \n",
            "__________________________________________________________________________________________________\n",
            "activation_676 (Activation)     (None, 35, 35, 64)   0           batch_normalization_676[0][0]    \n",
            "__________________________________________________________________________________________________\n",
            "mixed1 (Concatenate)            (None, 35, 35, 288)  0           activation_670[0][0]             \n",
            "                                                                 activation_672[0][0]             \n",
            "                                                                 activation_675[0][0]             \n",
            "                                                                 activation_676[0][0]             \n",
            "__________________________________________________________________________________________________\n",
            "conv2d_779 (Conv2D)             (None, 35, 35, 64)   18432       mixed1[0][0]                     \n",
            "__________________________________________________________________________________________________\n",
            "batch_normalization_680 (BatchN (None, 35, 35, 64)   192         conv2d_779[0][0]                 \n",
            "__________________________________________________________________________________________________\n",
            "activation_680 (Activation)     (None, 35, 35, 64)   0           batch_normalization_680[0][0]    \n",
            "__________________________________________________________________________________________________\n",
            "conv2d_777 (Conv2D)             (None, 35, 35, 48)   13824       mixed1[0][0]                     \n",
            "__________________________________________________________________________________________________\n",
            "conv2d_780 (Conv2D)             (None, 35, 35, 96)   55296       activation_680[0][0]             \n",
            "__________________________________________________________________________________________________\n",
            "batch_normalization_678 (BatchN (None, 35, 35, 48)   144         conv2d_777[0][0]                 \n",
            "__________________________________________________________________________________________________\n",
            "batch_normalization_681 (BatchN (None, 35, 35, 96)   288         conv2d_780[0][0]                 \n",
            "__________________________________________________________________________________________________\n",
            "activation_678 (Activation)     (None, 35, 35, 48)   0           batch_normalization_678[0][0]    \n",
            "__________________________________________________________________________________________________\n",
            "activation_681 (Activation)     (None, 35, 35, 96)   0           batch_normalization_681[0][0]    \n",
            "__________________________________________________________________________________________________\n",
            "average_pooling2d_65 (AveragePo (None, 35, 35, 288)  0           mixed1[0][0]                     \n",
            "__________________________________________________________________________________________________\n",
            "conv2d_776 (Conv2D)             (None, 35, 35, 64)   18432       mixed1[0][0]                     \n",
            "__________________________________________________________________________________________________\n",
            "conv2d_778 (Conv2D)             (None, 35, 35, 64)   76800       activation_678[0][0]             \n",
            "__________________________________________________________________________________________________\n",
            "conv2d_781 (Conv2D)             (None, 35, 35, 96)   82944       activation_681[0][0]             \n",
            "__________________________________________________________________________________________________\n",
            "conv2d_782 (Conv2D)             (None, 35, 35, 64)   18432       average_pooling2d_65[0][0]       \n",
            "__________________________________________________________________________________________________\n",
            "batch_normalization_677 (BatchN (None, 35, 35, 64)   192         conv2d_776[0][0]                 \n",
            "__________________________________________________________________________________________________\n",
            "batch_normalization_679 (BatchN (None, 35, 35, 64)   192         conv2d_778[0][0]                 \n",
            "__________________________________________________________________________________________________\n",
            "batch_normalization_682 (BatchN (None, 35, 35, 96)   288         conv2d_781[0][0]                 \n",
            "__________________________________________________________________________________________________\n",
            "batch_normalization_683 (BatchN (None, 35, 35, 64)   192         conv2d_782[0][0]                 \n",
            "__________________________________________________________________________________________________\n",
            "activation_677 (Activation)     (None, 35, 35, 64)   0           batch_normalization_677[0][0]    \n",
            "__________________________________________________________________________________________________\n",
            "activation_679 (Activation)     (None, 35, 35, 64)   0           batch_normalization_679[0][0]    \n",
            "__________________________________________________________________________________________________\n",
            "activation_682 (Activation)     (None, 35, 35, 96)   0           batch_normalization_682[0][0]    \n",
            "__________________________________________________________________________________________________\n",
            "activation_683 (Activation)     (None, 35, 35, 64)   0           batch_normalization_683[0][0]    \n",
            "__________________________________________________________________________________________________\n",
            "mixed2 (Concatenate)            (None, 35, 35, 288)  0           activation_677[0][0]             \n",
            "                                                                 activation_679[0][0]             \n",
            "                                                                 activation_682[0][0]             \n",
            "                                                                 activation_683[0][0]             \n",
            "__________________________________________________________________________________________________\n",
            "conv2d_784 (Conv2D)             (None, 35, 35, 64)   18432       mixed2[0][0]                     \n",
            "__________________________________________________________________________________________________\n",
            "batch_normalization_685 (BatchN (None, 35, 35, 64)   192         conv2d_784[0][0]                 \n",
            "__________________________________________________________________________________________________\n",
            "activation_685 (Activation)     (None, 35, 35, 64)   0           batch_normalization_685[0][0]    \n",
            "__________________________________________________________________________________________________\n",
            "conv2d_785 (Conv2D)             (None, 35, 35, 96)   55296       activation_685[0][0]             \n",
            "__________________________________________________________________________________________________\n",
            "batch_normalization_686 (BatchN (None, 35, 35, 96)   288         conv2d_785[0][0]                 \n",
            "__________________________________________________________________________________________________\n",
            "activation_686 (Activation)     (None, 35, 35, 96)   0           batch_normalization_686[0][0]    \n",
            "__________________________________________________________________________________________________\n",
            "conv2d_783 (Conv2D)             (None, 17, 17, 384)  995328      mixed2[0][0]                     \n",
            "__________________________________________________________________________________________________\n",
            "conv2d_786 (Conv2D)             (None, 17, 17, 96)   82944       activation_686[0][0]             \n",
            "__________________________________________________________________________________________________\n",
            "batch_normalization_684 (BatchN (None, 17, 17, 384)  1152        conv2d_783[0][0]                 \n",
            "__________________________________________________________________________________________________\n",
            "batch_normalization_687 (BatchN (None, 17, 17, 96)   288         conv2d_786[0][0]                 \n",
            "__________________________________________________________________________________________________\n",
            "activation_684 (Activation)     (None, 17, 17, 384)  0           batch_normalization_684[0][0]    \n",
            "__________________________________________________________________________________________________\n",
            "activation_687 (Activation)     (None, 17, 17, 96)   0           batch_normalization_687[0][0]    \n",
            "__________________________________________________________________________________________________\n",
            "max_pooling2d_68 (MaxPooling2D) (None, 17, 17, 288)  0           mixed2[0][0]                     \n",
            "__________________________________________________________________________________________________\n",
            "mixed3 (Concatenate)            (None, 17, 17, 768)  0           activation_684[0][0]             \n",
            "                                                                 activation_687[0][0]             \n",
            "                                                                 max_pooling2d_68[0][0]           \n",
            "__________________________________________________________________________________________________\n",
            "conv2d_791 (Conv2D)             (None, 17, 17, 128)  98304       mixed3[0][0]                     \n",
            "__________________________________________________________________________________________________\n",
            "batch_normalization_692 (BatchN (None, 17, 17, 128)  384         conv2d_791[0][0]                 \n",
            "__________________________________________________________________________________________________\n",
            "activation_692 (Activation)     (None, 17, 17, 128)  0           batch_normalization_692[0][0]    \n",
            "__________________________________________________________________________________________________\n",
            "conv2d_792 (Conv2D)             (None, 17, 17, 128)  114688      activation_692[0][0]             \n",
            "__________________________________________________________________________________________________\n",
            "batch_normalization_693 (BatchN (None, 17, 17, 128)  384         conv2d_792[0][0]                 \n",
            "__________________________________________________________________________________________________\n",
            "activation_693 (Activation)     (None, 17, 17, 128)  0           batch_normalization_693[0][0]    \n",
            "__________________________________________________________________________________________________\n",
            "conv2d_788 (Conv2D)             (None, 17, 17, 128)  98304       mixed3[0][0]                     \n",
            "__________________________________________________________________________________________________\n",
            "conv2d_793 (Conv2D)             (None, 17, 17, 128)  114688      activation_693[0][0]             \n",
            "__________________________________________________________________________________________________\n",
            "batch_normalization_689 (BatchN (None, 17, 17, 128)  384         conv2d_788[0][0]                 \n",
            "__________________________________________________________________________________________________\n",
            "batch_normalization_694 (BatchN (None, 17, 17, 128)  384         conv2d_793[0][0]                 \n",
            "__________________________________________________________________________________________________\n",
            "activation_689 (Activation)     (None, 17, 17, 128)  0           batch_normalization_689[0][0]    \n",
            "__________________________________________________________________________________________________\n",
            "activation_694 (Activation)     (None, 17, 17, 128)  0           batch_normalization_694[0][0]    \n",
            "__________________________________________________________________________________________________\n",
            "conv2d_789 (Conv2D)             (None, 17, 17, 128)  114688      activation_689[0][0]             \n",
            "__________________________________________________________________________________________________\n",
            "conv2d_794 (Conv2D)             (None, 17, 17, 128)  114688      activation_694[0][0]             \n",
            "__________________________________________________________________________________________________\n",
            "batch_normalization_690 (BatchN (None, 17, 17, 128)  384         conv2d_789[0][0]                 \n",
            "__________________________________________________________________________________________________\n",
            "batch_normalization_695 (BatchN (None, 17, 17, 128)  384         conv2d_794[0][0]                 \n",
            "__________________________________________________________________________________________________\n",
            "activation_690 (Activation)     (None, 17, 17, 128)  0           batch_normalization_690[0][0]    \n",
            "__________________________________________________________________________________________________\n",
            "activation_695 (Activation)     (None, 17, 17, 128)  0           batch_normalization_695[0][0]    \n",
            "__________________________________________________________________________________________________\n",
            "average_pooling2d_66 (AveragePo (None, 17, 17, 768)  0           mixed3[0][0]                     \n",
            "__________________________________________________________________________________________________\n",
            "conv2d_787 (Conv2D)             (None, 17, 17, 192)  147456      mixed3[0][0]                     \n",
            "__________________________________________________________________________________________________\n",
            "conv2d_790 (Conv2D)             (None, 17, 17, 192)  172032      activation_690[0][0]             \n",
            "__________________________________________________________________________________________________\n",
            "conv2d_795 (Conv2D)             (None, 17, 17, 192)  172032      activation_695[0][0]             \n",
            "__________________________________________________________________________________________________\n",
            "conv2d_796 (Conv2D)             (None, 17, 17, 192)  147456      average_pooling2d_66[0][0]       \n",
            "__________________________________________________________________________________________________\n",
            "batch_normalization_688 (BatchN (None, 17, 17, 192)  576         conv2d_787[0][0]                 \n",
            "__________________________________________________________________________________________________\n",
            "batch_normalization_691 (BatchN (None, 17, 17, 192)  576         conv2d_790[0][0]                 \n",
            "__________________________________________________________________________________________________\n",
            "batch_normalization_696 (BatchN (None, 17, 17, 192)  576         conv2d_795[0][0]                 \n",
            "__________________________________________________________________________________________________\n",
            "batch_normalization_697 (BatchN (None, 17, 17, 192)  576         conv2d_796[0][0]                 \n",
            "__________________________________________________________________________________________________\n",
            "activation_688 (Activation)     (None, 17, 17, 192)  0           batch_normalization_688[0][0]    \n",
            "__________________________________________________________________________________________________\n",
            "activation_691 (Activation)     (None, 17, 17, 192)  0           batch_normalization_691[0][0]    \n",
            "__________________________________________________________________________________________________\n",
            "activation_696 (Activation)     (None, 17, 17, 192)  0           batch_normalization_696[0][0]    \n",
            "__________________________________________________________________________________________________\n",
            "activation_697 (Activation)     (None, 17, 17, 192)  0           batch_normalization_697[0][0]    \n",
            "__________________________________________________________________________________________________\n",
            "mixed4 (Concatenate)            (None, 17, 17, 768)  0           activation_688[0][0]             \n",
            "                                                                 activation_691[0][0]             \n",
            "                                                                 activation_696[0][0]             \n",
            "                                                                 activation_697[0][0]             \n",
            "__________________________________________________________________________________________________\n",
            "conv2d_801 (Conv2D)             (None, 17, 17, 160)  122880      mixed4[0][0]                     \n",
            "__________________________________________________________________________________________________\n",
            "batch_normalization_702 (BatchN (None, 17, 17, 160)  480         conv2d_801[0][0]                 \n",
            "__________________________________________________________________________________________________\n",
            "activation_702 (Activation)     (None, 17, 17, 160)  0           batch_normalization_702[0][0]    \n",
            "__________________________________________________________________________________________________\n",
            "conv2d_802 (Conv2D)             (None, 17, 17, 160)  179200      activation_702[0][0]             \n",
            "__________________________________________________________________________________________________\n",
            "batch_normalization_703 (BatchN (None, 17, 17, 160)  480         conv2d_802[0][0]                 \n",
            "__________________________________________________________________________________________________\n",
            "activation_703 (Activation)     (None, 17, 17, 160)  0           batch_normalization_703[0][0]    \n",
            "__________________________________________________________________________________________________\n",
            "conv2d_798 (Conv2D)             (None, 17, 17, 160)  122880      mixed4[0][0]                     \n",
            "__________________________________________________________________________________________________\n",
            "conv2d_803 (Conv2D)             (None, 17, 17, 160)  179200      activation_703[0][0]             \n",
            "__________________________________________________________________________________________________\n",
            "batch_normalization_699 (BatchN (None, 17, 17, 160)  480         conv2d_798[0][0]                 \n",
            "__________________________________________________________________________________________________\n",
            "batch_normalization_704 (BatchN (None, 17, 17, 160)  480         conv2d_803[0][0]                 \n",
            "__________________________________________________________________________________________________\n",
            "activation_699 (Activation)     (None, 17, 17, 160)  0           batch_normalization_699[0][0]    \n",
            "__________________________________________________________________________________________________\n",
            "activation_704 (Activation)     (None, 17, 17, 160)  0           batch_normalization_704[0][0]    \n",
            "__________________________________________________________________________________________________\n",
            "conv2d_799 (Conv2D)             (None, 17, 17, 160)  179200      activation_699[0][0]             \n",
            "__________________________________________________________________________________________________\n",
            "conv2d_804 (Conv2D)             (None, 17, 17, 160)  179200      activation_704[0][0]             \n",
            "__________________________________________________________________________________________________\n",
            "batch_normalization_700 (BatchN (None, 17, 17, 160)  480         conv2d_799[0][0]                 \n",
            "__________________________________________________________________________________________________\n",
            "batch_normalization_705 (BatchN (None, 17, 17, 160)  480         conv2d_804[0][0]                 \n",
            "__________________________________________________________________________________________________\n",
            "activation_700 (Activation)     (None, 17, 17, 160)  0           batch_normalization_700[0][0]    \n",
            "__________________________________________________________________________________________________\n",
            "activation_705 (Activation)     (None, 17, 17, 160)  0           batch_normalization_705[0][0]    \n",
            "__________________________________________________________________________________________________\n",
            "average_pooling2d_67 (AveragePo (None, 17, 17, 768)  0           mixed4[0][0]                     \n",
            "__________________________________________________________________________________________________\n",
            "conv2d_797 (Conv2D)             (None, 17, 17, 192)  147456      mixed4[0][0]                     \n",
            "__________________________________________________________________________________________________\n",
            "conv2d_800 (Conv2D)             (None, 17, 17, 192)  215040      activation_700[0][0]             \n",
            "__________________________________________________________________________________________________\n",
            "conv2d_805 (Conv2D)             (None, 17, 17, 192)  215040      activation_705[0][0]             \n",
            "__________________________________________________________________________________________________\n",
            "conv2d_806 (Conv2D)             (None, 17, 17, 192)  147456      average_pooling2d_67[0][0]       \n",
            "__________________________________________________________________________________________________\n",
            "batch_normalization_698 (BatchN (None, 17, 17, 192)  576         conv2d_797[0][0]                 \n",
            "__________________________________________________________________________________________________\n",
            "batch_normalization_701 (BatchN (None, 17, 17, 192)  576         conv2d_800[0][0]                 \n",
            "__________________________________________________________________________________________________\n",
            "batch_normalization_706 (BatchN (None, 17, 17, 192)  576         conv2d_805[0][0]                 \n",
            "__________________________________________________________________________________________________\n",
            "batch_normalization_707 (BatchN (None, 17, 17, 192)  576         conv2d_806[0][0]                 \n",
            "__________________________________________________________________________________________________\n",
            "activation_698 (Activation)     (None, 17, 17, 192)  0           batch_normalization_698[0][0]    \n",
            "__________________________________________________________________________________________________\n",
            "activation_701 (Activation)     (None, 17, 17, 192)  0           batch_normalization_701[0][0]    \n",
            "__________________________________________________________________________________________________\n",
            "activation_706 (Activation)     (None, 17, 17, 192)  0           batch_normalization_706[0][0]    \n",
            "__________________________________________________________________________________________________\n",
            "activation_707 (Activation)     (None, 17, 17, 192)  0           batch_normalization_707[0][0]    \n",
            "__________________________________________________________________________________________________\n",
            "mixed5 (Concatenate)            (None, 17, 17, 768)  0           activation_698[0][0]             \n",
            "                                                                 activation_701[0][0]             \n",
            "                                                                 activation_706[0][0]             \n",
            "                                                                 activation_707[0][0]             \n",
            "__________________________________________________________________________________________________\n",
            "conv2d_811 (Conv2D)             (None, 17, 17, 160)  122880      mixed5[0][0]                     \n",
            "__________________________________________________________________________________________________\n",
            "batch_normalization_712 (BatchN (None, 17, 17, 160)  480         conv2d_811[0][0]                 \n",
            "__________________________________________________________________________________________________\n",
            "activation_712 (Activation)     (None, 17, 17, 160)  0           batch_normalization_712[0][0]    \n",
            "__________________________________________________________________________________________________\n",
            "conv2d_812 (Conv2D)             (None, 17, 17, 160)  179200      activation_712[0][0]             \n",
            "__________________________________________________________________________________________________\n",
            "batch_normalization_713 (BatchN (None, 17, 17, 160)  480         conv2d_812[0][0]                 \n",
            "__________________________________________________________________________________________________\n",
            "activation_713 (Activation)     (None, 17, 17, 160)  0           batch_normalization_713[0][0]    \n",
            "__________________________________________________________________________________________________\n",
            "conv2d_808 (Conv2D)             (None, 17, 17, 160)  122880      mixed5[0][0]                     \n",
            "__________________________________________________________________________________________________\n",
            "conv2d_813 (Conv2D)             (None, 17, 17, 160)  179200      activation_713[0][0]             \n",
            "__________________________________________________________________________________________________\n",
            "batch_normalization_709 (BatchN (None, 17, 17, 160)  480         conv2d_808[0][0]                 \n",
            "__________________________________________________________________________________________________\n",
            "batch_normalization_714 (BatchN (None, 17, 17, 160)  480         conv2d_813[0][0]                 \n",
            "__________________________________________________________________________________________________\n",
            "activation_709 (Activation)     (None, 17, 17, 160)  0           batch_normalization_709[0][0]    \n",
            "__________________________________________________________________________________________________\n",
            "activation_714 (Activation)     (None, 17, 17, 160)  0           batch_normalization_714[0][0]    \n",
            "__________________________________________________________________________________________________\n",
            "conv2d_809 (Conv2D)             (None, 17, 17, 160)  179200      activation_709[0][0]             \n",
            "__________________________________________________________________________________________________\n",
            "conv2d_814 (Conv2D)             (None, 17, 17, 160)  179200      activation_714[0][0]             \n",
            "__________________________________________________________________________________________________\n",
            "batch_normalization_710 (BatchN (None, 17, 17, 160)  480         conv2d_809[0][0]                 \n",
            "__________________________________________________________________________________________________\n",
            "batch_normalization_715 (BatchN (None, 17, 17, 160)  480         conv2d_814[0][0]                 \n",
            "__________________________________________________________________________________________________\n",
            "activation_710 (Activation)     (None, 17, 17, 160)  0           batch_normalization_710[0][0]    \n",
            "__________________________________________________________________________________________________\n",
            "activation_715 (Activation)     (None, 17, 17, 160)  0           batch_normalization_715[0][0]    \n",
            "__________________________________________________________________________________________________\n",
            "average_pooling2d_68 (AveragePo (None, 17, 17, 768)  0           mixed5[0][0]                     \n",
            "__________________________________________________________________________________________________\n",
            "conv2d_807 (Conv2D)             (None, 17, 17, 192)  147456      mixed5[0][0]                     \n",
            "__________________________________________________________________________________________________\n",
            "conv2d_810 (Conv2D)             (None, 17, 17, 192)  215040      activation_710[0][0]             \n",
            "__________________________________________________________________________________________________\n",
            "conv2d_815 (Conv2D)             (None, 17, 17, 192)  215040      activation_715[0][0]             \n",
            "__________________________________________________________________________________________________\n",
            "conv2d_816 (Conv2D)             (None, 17, 17, 192)  147456      average_pooling2d_68[0][0]       \n",
            "__________________________________________________________________________________________________\n",
            "batch_normalization_708 (BatchN (None, 17, 17, 192)  576         conv2d_807[0][0]                 \n",
            "__________________________________________________________________________________________________\n",
            "batch_normalization_711 (BatchN (None, 17, 17, 192)  576         conv2d_810[0][0]                 \n",
            "__________________________________________________________________________________________________\n",
            "batch_normalization_716 (BatchN (None, 17, 17, 192)  576         conv2d_815[0][0]                 \n",
            "__________________________________________________________________________________________________\n",
            "batch_normalization_717 (BatchN (None, 17, 17, 192)  576         conv2d_816[0][0]                 \n",
            "__________________________________________________________________________________________________\n",
            "activation_708 (Activation)     (None, 17, 17, 192)  0           batch_normalization_708[0][0]    \n",
            "__________________________________________________________________________________________________\n",
            "activation_711 (Activation)     (None, 17, 17, 192)  0           batch_normalization_711[0][0]    \n",
            "__________________________________________________________________________________________________\n",
            "activation_716 (Activation)     (None, 17, 17, 192)  0           batch_normalization_716[0][0]    \n",
            "__________________________________________________________________________________________________\n",
            "activation_717 (Activation)     (None, 17, 17, 192)  0           batch_normalization_717[0][0]    \n",
            "__________________________________________________________________________________________________\n",
            "mixed6 (Concatenate)            (None, 17, 17, 768)  0           activation_708[0][0]             \n",
            "                                                                 activation_711[0][0]             \n",
            "                                                                 activation_716[0][0]             \n",
            "                                                                 activation_717[0][0]             \n",
            "__________________________________________________________________________________________________\n",
            "conv2d_821 (Conv2D)             (None, 17, 17, 192)  147456      mixed6[0][0]                     \n",
            "__________________________________________________________________________________________________\n",
            "batch_normalization_722 (BatchN (None, 17, 17, 192)  576         conv2d_821[0][0]                 \n",
            "__________________________________________________________________________________________________\n",
            "activation_722 (Activation)     (None, 17, 17, 192)  0           batch_normalization_722[0][0]    \n",
            "__________________________________________________________________________________________________\n",
            "conv2d_822 (Conv2D)             (None, 17, 17, 192)  258048      activation_722[0][0]             \n",
            "__________________________________________________________________________________________________\n",
            "batch_normalization_723 (BatchN (None, 17, 17, 192)  576         conv2d_822[0][0]                 \n",
            "__________________________________________________________________________________________________\n",
            "activation_723 (Activation)     (None, 17, 17, 192)  0           batch_normalization_723[0][0]    \n",
            "__________________________________________________________________________________________________\n",
            "conv2d_818 (Conv2D)             (None, 17, 17, 192)  147456      mixed6[0][0]                     \n",
            "__________________________________________________________________________________________________\n",
            "conv2d_823 (Conv2D)             (None, 17, 17, 192)  258048      activation_723[0][0]             \n",
            "__________________________________________________________________________________________________\n",
            "batch_normalization_719 (BatchN (None, 17, 17, 192)  576         conv2d_818[0][0]                 \n",
            "__________________________________________________________________________________________________\n",
            "batch_normalization_724 (BatchN (None, 17, 17, 192)  576         conv2d_823[0][0]                 \n",
            "__________________________________________________________________________________________________\n",
            "activation_719 (Activation)     (None, 17, 17, 192)  0           batch_normalization_719[0][0]    \n",
            "__________________________________________________________________________________________________\n",
            "activation_724 (Activation)     (None, 17, 17, 192)  0           batch_normalization_724[0][0]    \n",
            "__________________________________________________________________________________________________\n",
            "conv2d_819 (Conv2D)             (None, 17, 17, 192)  258048      activation_719[0][0]             \n",
            "__________________________________________________________________________________________________\n",
            "conv2d_824 (Conv2D)             (None, 17, 17, 192)  258048      activation_724[0][0]             \n",
            "__________________________________________________________________________________________________\n",
            "batch_normalization_720 (BatchN (None, 17, 17, 192)  576         conv2d_819[0][0]                 \n",
            "__________________________________________________________________________________________________\n",
            "batch_normalization_725 (BatchN (None, 17, 17, 192)  576         conv2d_824[0][0]                 \n",
            "__________________________________________________________________________________________________\n",
            "activation_720 (Activation)     (None, 17, 17, 192)  0           batch_normalization_720[0][0]    \n",
            "__________________________________________________________________________________________________\n",
            "activation_725 (Activation)     (None, 17, 17, 192)  0           batch_normalization_725[0][0]    \n",
            "__________________________________________________________________________________________________\n",
            "average_pooling2d_69 (AveragePo (None, 17, 17, 768)  0           mixed6[0][0]                     \n",
            "__________________________________________________________________________________________________\n",
            "conv2d_817 (Conv2D)             (None, 17, 17, 192)  147456      mixed6[0][0]                     \n",
            "__________________________________________________________________________________________________\n",
            "conv2d_820 (Conv2D)             (None, 17, 17, 192)  258048      activation_720[0][0]             \n",
            "__________________________________________________________________________________________________\n",
            "conv2d_825 (Conv2D)             (None, 17, 17, 192)  258048      activation_725[0][0]             \n",
            "__________________________________________________________________________________________________\n",
            "conv2d_826 (Conv2D)             (None, 17, 17, 192)  147456      average_pooling2d_69[0][0]       \n",
            "__________________________________________________________________________________________________\n",
            "batch_normalization_718 (BatchN (None, 17, 17, 192)  576         conv2d_817[0][0]                 \n",
            "__________________________________________________________________________________________________\n",
            "batch_normalization_721 (BatchN (None, 17, 17, 192)  576         conv2d_820[0][0]                 \n",
            "__________________________________________________________________________________________________\n",
            "batch_normalization_726 (BatchN (None, 17, 17, 192)  576         conv2d_825[0][0]                 \n",
            "__________________________________________________________________________________________________\n",
            "batch_normalization_727 (BatchN (None, 17, 17, 192)  576         conv2d_826[0][0]                 \n",
            "__________________________________________________________________________________________________\n",
            "activation_718 (Activation)     (None, 17, 17, 192)  0           batch_normalization_718[0][0]    \n",
            "__________________________________________________________________________________________________\n",
            "activation_721 (Activation)     (None, 17, 17, 192)  0           batch_normalization_721[0][0]    \n",
            "__________________________________________________________________________________________________\n",
            "activation_726 (Activation)     (None, 17, 17, 192)  0           batch_normalization_726[0][0]    \n",
            "__________________________________________________________________________________________________\n",
            "activation_727 (Activation)     (None, 17, 17, 192)  0           batch_normalization_727[0][0]    \n",
            "__________________________________________________________________________________________________\n",
            "mixed7 (Concatenate)            (None, 17, 17, 768)  0           activation_718[0][0]             \n",
            "                                                                 activation_721[0][0]             \n",
            "                                                                 activation_726[0][0]             \n",
            "                                                                 activation_727[0][0]             \n",
            "__________________________________________________________________________________________________\n",
            "conv2d_829 (Conv2D)             (None, 17, 17, 192)  147456      mixed7[0][0]                     \n",
            "__________________________________________________________________________________________________\n",
            "batch_normalization_730 (BatchN (None, 17, 17, 192)  576         conv2d_829[0][0]                 \n",
            "__________________________________________________________________________________________________\n",
            "activation_730 (Activation)     (None, 17, 17, 192)  0           batch_normalization_730[0][0]    \n",
            "__________________________________________________________________________________________________\n",
            "conv2d_830 (Conv2D)             (None, 17, 17, 192)  258048      activation_730[0][0]             \n",
            "__________________________________________________________________________________________________\n",
            "batch_normalization_731 (BatchN (None, 17, 17, 192)  576         conv2d_830[0][0]                 \n",
            "__________________________________________________________________________________________________\n",
            "activation_731 (Activation)     (None, 17, 17, 192)  0           batch_normalization_731[0][0]    \n",
            "__________________________________________________________________________________________________\n",
            "conv2d_827 (Conv2D)             (None, 17, 17, 192)  147456      mixed7[0][0]                     \n",
            "__________________________________________________________________________________________________\n",
            "conv2d_831 (Conv2D)             (None, 17, 17, 192)  258048      activation_731[0][0]             \n",
            "__________________________________________________________________________________________________\n",
            "batch_normalization_728 (BatchN (None, 17, 17, 192)  576         conv2d_827[0][0]                 \n",
            "__________________________________________________________________________________________________\n",
            "batch_normalization_732 (BatchN (None, 17, 17, 192)  576         conv2d_831[0][0]                 \n",
            "__________________________________________________________________________________________________\n",
            "activation_728 (Activation)     (None, 17, 17, 192)  0           batch_normalization_728[0][0]    \n",
            "__________________________________________________________________________________________________\n",
            "activation_732 (Activation)     (None, 17, 17, 192)  0           batch_normalization_732[0][0]    \n",
            "__________________________________________________________________________________________________\n",
            "conv2d_828 (Conv2D)             (None, 8, 8, 320)    552960      activation_728[0][0]             \n",
            "__________________________________________________________________________________________________\n",
            "conv2d_832 (Conv2D)             (None, 8, 8, 192)    331776      activation_732[0][0]             \n",
            "__________________________________________________________________________________________________\n",
            "batch_normalization_729 (BatchN (None, 8, 8, 320)    960         conv2d_828[0][0]                 \n",
            "__________________________________________________________________________________________________\n",
            "batch_normalization_733 (BatchN (None, 8, 8, 192)    576         conv2d_832[0][0]                 \n",
            "__________________________________________________________________________________________________\n",
            "activation_729 (Activation)     (None, 8, 8, 320)    0           batch_normalization_729[0][0]    \n",
            "__________________________________________________________________________________________________\n",
            "activation_733 (Activation)     (None, 8, 8, 192)    0           batch_normalization_733[0][0]    \n",
            "__________________________________________________________________________________________________\n",
            "max_pooling2d_69 (MaxPooling2D) (None, 8, 8, 768)    0           mixed7[0][0]                     \n",
            "__________________________________________________________________________________________________\n",
            "mixed8 (Concatenate)            (None, 8, 8, 1280)   0           activation_729[0][0]             \n",
            "                                                                 activation_733[0][0]             \n",
            "                                                                 max_pooling2d_69[0][0]           \n",
            "__________________________________________________________________________________________________\n",
            "conv2d_837 (Conv2D)             (None, 8, 8, 448)    573440      mixed8[0][0]                     \n",
            "__________________________________________________________________________________________________\n",
            "batch_normalization_738 (BatchN (None, 8, 8, 448)    1344        conv2d_837[0][0]                 \n",
            "__________________________________________________________________________________________________\n",
            "activation_738 (Activation)     (None, 8, 8, 448)    0           batch_normalization_738[0][0]    \n",
            "__________________________________________________________________________________________________\n",
            "conv2d_834 (Conv2D)             (None, 8, 8, 384)    491520      mixed8[0][0]                     \n",
            "__________________________________________________________________________________________________\n",
            "conv2d_838 (Conv2D)             (None, 8, 8, 384)    1548288     activation_738[0][0]             \n",
            "__________________________________________________________________________________________________\n",
            "batch_normalization_735 (BatchN (None, 8, 8, 384)    1152        conv2d_834[0][0]                 \n",
            "__________________________________________________________________________________________________\n",
            "batch_normalization_739 (BatchN (None, 8, 8, 384)    1152        conv2d_838[0][0]                 \n",
            "__________________________________________________________________________________________________\n",
            "activation_735 (Activation)     (None, 8, 8, 384)    0           batch_normalization_735[0][0]    \n",
            "__________________________________________________________________________________________________\n",
            "activation_739 (Activation)     (None, 8, 8, 384)    0           batch_normalization_739[0][0]    \n",
            "__________________________________________________________________________________________________\n",
            "conv2d_835 (Conv2D)             (None, 8, 8, 384)    442368      activation_735[0][0]             \n",
            "__________________________________________________________________________________________________\n",
            "conv2d_836 (Conv2D)             (None, 8, 8, 384)    442368      activation_735[0][0]             \n",
            "__________________________________________________________________________________________________\n",
            "conv2d_839 (Conv2D)             (None, 8, 8, 384)    442368      activation_739[0][0]             \n",
            "__________________________________________________________________________________________________\n",
            "conv2d_840 (Conv2D)             (None, 8, 8, 384)    442368      activation_739[0][0]             \n",
            "__________________________________________________________________________________________________\n",
            "average_pooling2d_70 (AveragePo (None, 8, 8, 1280)   0           mixed8[0][0]                     \n",
            "__________________________________________________________________________________________________\n",
            "conv2d_833 (Conv2D)             (None, 8, 8, 320)    409600      mixed8[0][0]                     \n",
            "__________________________________________________________________________________________________\n",
            "batch_normalization_736 (BatchN (None, 8, 8, 384)    1152        conv2d_835[0][0]                 \n",
            "__________________________________________________________________________________________________\n",
            "batch_normalization_737 (BatchN (None, 8, 8, 384)    1152        conv2d_836[0][0]                 \n",
            "__________________________________________________________________________________________________\n",
            "batch_normalization_740 (BatchN (None, 8, 8, 384)    1152        conv2d_839[0][0]                 \n",
            "__________________________________________________________________________________________________\n",
            "batch_normalization_741 (BatchN (None, 8, 8, 384)    1152        conv2d_840[0][0]                 \n",
            "__________________________________________________________________________________________________\n",
            "conv2d_841 (Conv2D)             (None, 8, 8, 192)    245760      average_pooling2d_70[0][0]       \n",
            "__________________________________________________________________________________________________\n",
            "batch_normalization_734 (BatchN (None, 8, 8, 320)    960         conv2d_833[0][0]                 \n",
            "__________________________________________________________________________________________________\n",
            "activation_736 (Activation)     (None, 8, 8, 384)    0           batch_normalization_736[0][0]    \n",
            "__________________________________________________________________________________________________\n",
            "activation_737 (Activation)     (None, 8, 8, 384)    0           batch_normalization_737[0][0]    \n",
            "__________________________________________________________________________________________________\n",
            "activation_740 (Activation)     (None, 8, 8, 384)    0           batch_normalization_740[0][0]    \n",
            "__________________________________________________________________________________________________\n",
            "activation_741 (Activation)     (None, 8, 8, 384)    0           batch_normalization_741[0][0]    \n",
            "__________________________________________________________________________________________________\n",
            "batch_normalization_742 (BatchN (None, 8, 8, 192)    576         conv2d_841[0][0]                 \n",
            "__________________________________________________________________________________________________\n",
            "activation_734 (Activation)     (None, 8, 8, 320)    0           batch_normalization_734[0][0]    \n",
            "__________________________________________________________________________________________________\n",
            "mixed9_0 (Concatenate)          (None, 8, 8, 768)    0           activation_736[0][0]             \n",
            "                                                                 activation_737[0][0]             \n",
            "__________________________________________________________________________________________________\n",
            "concatenate_14 (Concatenate)    (None, 8, 8, 768)    0           activation_740[0][0]             \n",
            "                                                                 activation_741[0][0]             \n",
            "__________________________________________________________________________________________________\n",
            "activation_742 (Activation)     (None, 8, 8, 192)    0           batch_normalization_742[0][0]    \n",
            "__________________________________________________________________________________________________\n",
            "mixed9 (Concatenate)            (None, 8, 8, 2048)   0           activation_734[0][0]             \n",
            "                                                                 mixed9_0[0][0]                   \n",
            "                                                                 concatenate_14[0][0]             \n",
            "                                                                 activation_742[0][0]             \n",
            "__________________________________________________________________________________________________\n",
            "conv2d_846 (Conv2D)             (None, 8, 8, 448)    917504      mixed9[0][0]                     \n",
            "__________________________________________________________________________________________________\n",
            "batch_normalization_747 (BatchN (None, 8, 8, 448)    1344        conv2d_846[0][0]                 \n",
            "__________________________________________________________________________________________________\n",
            "activation_747 (Activation)     (None, 8, 8, 448)    0           batch_normalization_747[0][0]    \n",
            "__________________________________________________________________________________________________\n",
            "conv2d_843 (Conv2D)             (None, 8, 8, 384)    786432      mixed9[0][0]                     \n",
            "__________________________________________________________________________________________________\n",
            "conv2d_847 (Conv2D)             (None, 8, 8, 384)    1548288     activation_747[0][0]             \n",
            "__________________________________________________________________________________________________\n",
            "batch_normalization_744 (BatchN (None, 8, 8, 384)    1152        conv2d_843[0][0]                 \n",
            "__________________________________________________________________________________________________\n",
            "batch_normalization_748 (BatchN (None, 8, 8, 384)    1152        conv2d_847[0][0]                 \n",
            "__________________________________________________________________________________________________\n",
            "activation_744 (Activation)     (None, 8, 8, 384)    0           batch_normalization_744[0][0]    \n",
            "__________________________________________________________________________________________________\n",
            "activation_748 (Activation)     (None, 8, 8, 384)    0           batch_normalization_748[0][0]    \n",
            "__________________________________________________________________________________________________\n",
            "conv2d_844 (Conv2D)             (None, 8, 8, 384)    442368      activation_744[0][0]             \n",
            "__________________________________________________________________________________________________\n",
            "conv2d_845 (Conv2D)             (None, 8, 8, 384)    442368      activation_744[0][0]             \n",
            "__________________________________________________________________________________________________\n",
            "conv2d_848 (Conv2D)             (None, 8, 8, 384)    442368      activation_748[0][0]             \n",
            "__________________________________________________________________________________________________\n",
            "conv2d_849 (Conv2D)             (None, 8, 8, 384)    442368      activation_748[0][0]             \n",
            "__________________________________________________________________________________________________\n",
            "average_pooling2d_71 (AveragePo (None, 8, 8, 2048)   0           mixed9[0][0]                     \n",
            "__________________________________________________________________________________________________\n",
            "conv2d_842 (Conv2D)             (None, 8, 8, 320)    655360      mixed9[0][0]                     \n",
            "__________________________________________________________________________________________________\n",
            "batch_normalization_745 (BatchN (None, 8, 8, 384)    1152        conv2d_844[0][0]                 \n",
            "__________________________________________________________________________________________________\n",
            "batch_normalization_746 (BatchN (None, 8, 8, 384)    1152        conv2d_845[0][0]                 \n",
            "__________________________________________________________________________________________________\n",
            "batch_normalization_749 (BatchN (None, 8, 8, 384)    1152        conv2d_848[0][0]                 \n",
            "__________________________________________________________________________________________________\n",
            "batch_normalization_750 (BatchN (None, 8, 8, 384)    1152        conv2d_849[0][0]                 \n",
            "__________________________________________________________________________________________________\n",
            "conv2d_850 (Conv2D)             (None, 8, 8, 192)    393216      average_pooling2d_71[0][0]       \n",
            "__________________________________________________________________________________________________\n",
            "batch_normalization_743 (BatchN (None, 8, 8, 320)    960         conv2d_842[0][0]                 \n",
            "__________________________________________________________________________________________________\n",
            "activation_745 (Activation)     (None, 8, 8, 384)    0           batch_normalization_745[0][0]    \n",
            "__________________________________________________________________________________________________\n",
            "activation_746 (Activation)     (None, 8, 8, 384)    0           batch_normalization_746[0][0]    \n",
            "__________________________________________________________________________________________________\n",
            "activation_749 (Activation)     (None, 8, 8, 384)    0           batch_normalization_749[0][0]    \n",
            "__________________________________________________________________________________________________\n",
            "activation_750 (Activation)     (None, 8, 8, 384)    0           batch_normalization_750[0][0]    \n",
            "__________________________________________________________________________________________________\n",
            "batch_normalization_751 (BatchN (None, 8, 8, 192)    576         conv2d_850[0][0]                 \n",
            "__________________________________________________________________________________________________\n",
            "activation_743 (Activation)     (None, 8, 8, 320)    0           batch_normalization_743[0][0]    \n",
            "__________________________________________________________________________________________________\n",
            "mixed9_1 (Concatenate)          (None, 8, 8, 768)    0           activation_745[0][0]             \n",
            "                                                                 activation_746[0][0]             \n",
            "__________________________________________________________________________________________________\n",
            "concatenate_15 (Concatenate)    (None, 8, 8, 768)    0           activation_749[0][0]             \n",
            "                                                                 activation_750[0][0]             \n",
            "__________________________________________________________________________________________________\n",
            "activation_751 (Activation)     (None, 8, 8, 192)    0           batch_normalization_751[0][0]    \n",
            "__________________________________________________________________________________________________\n",
            "mixed10 (Concatenate)           (None, 8, 8, 2048)   0           activation_743[0][0]             \n",
            "                                                                 mixed9_1[0][0]                   \n",
            "                                                                 concatenate_15[0][0]             \n",
            "                                                                 activation_751[0][0]             \n",
            "__________________________________________________________________________________________________\n",
            "avg_pool (GlobalAveragePooling2 (None, 2048)         0           mixed10[0][0]                    \n",
            "__________________________________________________________________________________________________\n",
            "predictions (Dense)             (None, 1000)         2049000     avg_pool[0][0]                   \n",
            "==================================================================================================\n",
            "Total params: 23,851,784\n",
            "Trainable params: 23,817,352\n",
            "Non-trainable params: 34,432\n",
            "__________________________________________________________________________________________________\n"
          ],
          "name": "stdout"
        },
        {
          "output_type": "execute_result",
          "data": {
            "application/vnd.google.colaboratory.intrinsic+json": {
              "type": "string"
            },
            "text/plain": [
              "\"\\n# VGG16\\nmodel = Sequential()\\nmodel.add(Conv2D(64, (3, 3), input_shape=input_shape, padding='same', activation='relu')),\\nmodel.add(Conv2D(64, (3, 3), activation='relu', padding='same')),\\nmodel.add(MaxPooling2D(pool_size=(2, 2), strides=(2, 2))),\\nmodel.add(Conv2D(128, (3, 3), activation='relu', padding='same')),\\nmodel.add(Conv2D(128, (3, 3), activation='relu', padding='same')),\\nmodel.add(MaxPooling2D(pool_size=(2, 2), strides=(2, 2))),\\nmodel.add(Conv2D(256, (3, 3), activation='relu', padding='same')),\\nmodel.add(Conv2D(256, (3, 3), activation='relu', padding='same')),\\nmodel.add(Conv2D(256, (3, 3), activation='relu', padding='same')),\\nmodel.add(MaxPooling2D(pool_size=(2, 2), strides=(2, 2))),\\nmodel.add(Conv2D(512, (3, 3), activation='relu', padding='same')),\\nmodel.add(Conv2D(512, (3, 3), activation='relu', padding='same')),\\nmodel.add(Conv2D(512, (3, 3), activation='relu', padding='same')),\\nmodel.add(MaxPooling2D(pool_size=(2, 2), strides=(2, 2))),\\nmodel.add(Conv2D(512, (3, 3), activation='relu', padding='same')),\\nmodel.add(Conv2D(512, (3, 3), activation='relu', padding='same')),\\nmodel.add(Conv2D(512, (3, 3), activation='relu', padding='same')),\\nmodel.add(MaxPooling2D(pool_size=(2, 2), strides=(2, 2))),\\nmodel.add(Flatten()),\\nmodel.add(Dense(units=4096, activation='relu')),\\nmodel.add(Dense(units=4096, activation='relu')),\\nmodel.add(Dense(units=num_classes, activation='softmax'))\\n\\nmodel.summary()\\n\""
            ]
          },
          "metadata": {
            "tags": []
          },
          "execution_count": 90
        }
      ]
    },
    {
      "cell_type": "code",
      "metadata": {
        "id": "aK0GNbn6Qcj0"
      },
      "source": [
        "epocas = 15\n",
        "bs = 32\n",
        "lr = 0.0001\n",
        "optim = Adam(learning_rate = lr)\n",
        "model.compile(optimizer = optim, loss = 'categorical_crossentropy', metrics = ['accuracy'])\n",
        "reduce_lr = ReduceLROnPlateau(monitor='val_loss', factor=0.2, patience=3, min_lr=0.00001)\n",
        "callbacks = [reduce_lr]"
      ],
      "execution_count": 91,
      "outputs": []
    },
    {
      "cell_type": "code",
      "metadata": {
        "id": "TWxhoNU3QeIL",
        "outputId": "d905d6d5-7109-4f7c-a2f1-be4cca9f155e",
        "colab": {
          "base_uri": "https://localhost:8080/"
        }
      },
      "source": [
        "historico = model.fit(X_train, Y_train, epochs = epocas, batch_size = bs, validation_split = 0.2, callbacks = callbacks)"
      ],
      "execution_count": 92,
      "outputs": [
        {
          "output_type": "stream",
          "text": [
            "Epoch 1/15\n",
            "176/176 [==============================] - 12s 68ms/step - loss: 0.9564 - accuracy: 0.6879 - val_loss: 1.2392 - val_accuracy: 0.6733\n",
            "Epoch 2/15\n",
            "176/176 [==============================] - 10s 57ms/step - loss: 0.7156 - accuracy: 0.7491 - val_loss: 0.7847 - val_accuracy: 0.7411\n",
            "Epoch 3/15\n",
            "176/176 [==============================] - 10s 56ms/step - loss: 0.5628 - accuracy: 0.8005 - val_loss: 0.7152 - val_accuracy: 0.7511\n",
            "Epoch 4/15\n",
            "176/176 [==============================] - 10s 56ms/step - loss: 0.4404 - accuracy: 0.8420 - val_loss: 0.7614 - val_accuracy: 0.7561\n",
            "Epoch 5/15\n",
            "176/176 [==============================] - 10s 56ms/step - loss: 0.3135 - accuracy: 0.8925 - val_loss: 0.8347 - val_accuracy: 0.7582\n",
            "Epoch 6/15\n",
            "176/176 [==============================] - 10s 56ms/step - loss: 0.2454 - accuracy: 0.9148 - val_loss: 0.8323 - val_accuracy: 0.7689\n",
            "Epoch 7/15\n",
            "176/176 [==============================] - 10s 56ms/step - loss: 0.1346 - accuracy: 0.9552 - val_loss: 0.8241 - val_accuracy: 0.7710\n",
            "Epoch 8/15\n",
            "176/176 [==============================] - 10s 56ms/step - loss: 0.0965 - accuracy: 0.9699 - val_loss: 0.8543 - val_accuracy: 0.7732\n",
            "Epoch 9/15\n",
            "176/176 [==============================] - 10s 57ms/step - loss: 0.0681 - accuracy: 0.9802 - val_loss: 0.8856 - val_accuracy: 0.7839\n",
            "Epoch 10/15\n",
            "176/176 [==============================] - 10s 56ms/step - loss: 0.0513 - accuracy: 0.9861 - val_loss: 0.8856 - val_accuracy: 0.7832\n",
            "Epoch 11/15\n",
            "176/176 [==============================] - 10s 56ms/step - loss: 0.0489 - accuracy: 0.9872 - val_loss: 0.9139 - val_accuracy: 0.7839\n",
            "Epoch 12/15\n",
            "176/176 [==============================] - 10s 56ms/step - loss: 0.0400 - accuracy: 0.9893 - val_loss: 0.9298 - val_accuracy: 0.7810\n",
            "Epoch 13/15\n",
            "176/176 [==============================] - 10s 56ms/step - loss: 0.0403 - accuracy: 0.9889 - val_loss: 0.9387 - val_accuracy: 0.7817\n",
            "Epoch 14/15\n",
            "176/176 [==============================] - 10s 56ms/step - loss: 0.0320 - accuracy: 0.9916 - val_loss: 0.9630 - val_accuracy: 0.7782\n",
            "Epoch 15/15\n",
            "176/176 [==============================] - 10s 56ms/step - loss: 0.0299 - accuracy: 0.9930 - val_loss: 0.9652 - val_accuracy: 0.7825\n"
          ],
          "name": "stdout"
        }
      ]
    },
    {
      "cell_type": "code",
      "metadata": {
        "id": "GgHwxyxScPYs",
        "outputId": "56007a74-583c-4538-c080-8e0e3f72e621",
        "colab": {
          "base_uri": "https://localhost:8080/",
          "height": 295
        }
      },
      "source": [
        "plt.plot(historico.history['accuracy'], c = 'b')\n",
        "plt.plot(historico.history['val_accuracy'], c = 'r')\n",
        "plt.legend(['Train', 'Validacion'])\n",
        "plt.xlabel('Epocas')\n",
        "plt.ylabel('Medida')\n",
        "plt.title('Evolucion Entrenamiento')\n",
        "plt.show()"
      ],
      "execution_count": 93,
      "outputs": [
        {
          "output_type": "display_data",
          "data": {
            "image/png": "[encoded data removed]",
            "text/plain": [
              "<Figure size 432x288 with 1 Axes>"
            ]
          },
          "metadata": {
            "tags": [],
            "needs_background": "light"
          }
        }
      ]
    },
    {
      "cell_type": "code",
      "metadata": {
        "id": "MopYHtLIcPzy",
        "outputId": "22a45dc7-2ae4-4ed7-9219-29e99ff8419f",
        "colab": {
          "base_uri": "https://localhost:8080/",
          "height": 295
        }
      },
      "source": [
        "plt.plot(historico.history['loss'], c = 'b')\n",
        "plt.plot(historico.history['val_loss'], c = 'r')\n",
        "plt.legend(['Train', 'Validacion'])\n",
        "plt.xlabel('Epocas')\n",
        "plt.ylabel('Medida')\n",
        "plt.title('Evolucion Entrenamiento')\n",
        "plt.show()"
      ],
      "execution_count": 94,
      "outputs": [
        {
          "output_type": "display_data",
          "data": {
            "image/png": "[encoded data removed]",
            "text/plain": [
              "<Figure size 432x288 with 1 Axes>"
            ]
          },
          "metadata": {
            "tags": [],
            "needs_background": "light"
          }
        }
      ]
    },
    {
      "cell_type": "code",
      "metadata": {
        "id": "qZepWyf8Qj3V",
        "outputId": "e2a099ae-83ea-4c4f-ac20-1ce914541992",
        "colab": {
          "base_uri": "https://localhost:8080/"
        }
      },
      "source": [
        "metricas = model.evaluate(X_test, Y_test)"
      ],
      "execution_count": 95,
      "outputs": [
        {
          "output_type": "stream",
          "text": [
            "94/94 [==============================] - 2s 22ms/step - loss: 0.9412 - accuracy: 0.7820\n"
          ],
          "name": "stdout"
        }
      ]
    },
    {
      "cell_type": "code",
      "metadata": {
        "id": "A_RbeR3OjfV9"
      },
      "source": [
        ""
      ],
      "execution_count": null,
      "outputs": []
    }
  ]
}