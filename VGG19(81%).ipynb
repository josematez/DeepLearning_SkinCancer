{
 "cells": [
  {
   "cell_type": "markdown",
   "metadata": {
    "id": "view-in-github"
   },
   "source": [
    "<a href=\"https://colab.research.google.com/github/josematez/DeepLearning_SkinCancer/blob/main/Testing_Data_Jose.ipynb\" target=\"_parent\"><img src=\"https://colab.research.google.com/assets/colab-badge.svg\" alt=\"Open In Colab\"/></a>"
   ]
  },
  {
   "cell_type": "code",
   "execution_count": 1,
   "metadata": {
    "colab": {
     "base_uri": "https://localhost:8080/",
     "height": 553
    },
    "id": "46GSQ_3wuU8T",
    "outputId": "7a591762-7cb7-4bae-ca91-2eabf8af3342"
   },
   "outputs": [
    {
     "name": "stdout",
     "output_type": "stream",
     "text": [
      "Collecting numpy==1.15.4\n",
      "\u001b[?25l  Downloading https://files.pythonhosted.org/packages/ff/7f/9d804d2348471c67a7d8b5f84f9bc59fd1cefa148986f2b74552f8573555/numpy-1.15.4-cp36-cp36m-manylinux1_x86_64.whl (13.9MB)\n",
      "\u001b[K     |████████████████████████████████| 13.9MB 247kB/s \n",
      "\u001b[31mERROR: umap-learn 0.4.6 has requirement numpy>=1.17, but you'll have numpy 1.15.4 which is incompatible.\u001b[0m\n",
      "\u001b[31mERROR: tensorflow 2.3.0 has requirement numpy<1.19.0,>=1.16.0, but you'll have numpy 1.15.4 which is incompatible.\u001b[0m\n",
      "\u001b[31mERROR: plotnine 0.6.0 has requirement numpy>=1.16.0, but you'll have numpy 1.15.4 which is incompatible.\u001b[0m\n",
      "\u001b[31mERROR: datascience 0.10.6 has requirement folium==0.2.1, but you'll have folium 0.8.3 which is incompatible.\u001b[0m\n",
      "\u001b[31mERROR: astropy 4.1 has requirement numpy>=1.16, but you'll have numpy 1.15.4 which is incompatible.\u001b[0m\n",
      "\u001b[31mERROR: albumentations 0.1.12 has requirement imgaug<0.2.7,>=0.2.5, but you'll have imgaug 0.2.9 which is incompatible.\u001b[0m\n",
      "\u001b[?25hInstalling collected packages: numpy\n",
      "  Found existing installation: numpy 1.18.5\n",
      "    Uninstalling numpy-1.18.5:\n",
      "      Successfully uninstalled numpy-1.18.5\n",
      "Successfully installed numpy-1.15.4\n"
     ]
    },
    {
     "data": {
      "application/vnd.colab-display-data+json": {
       "pip_warning": {
        "packages": [
         "numpy"
        ]
       }
      }
     },
     "metadata": {
      "tags": []
     },
     "output_type": "display_data"
    },
    {
     "name": "stdout",
     "output_type": "stream",
     "text": [
      "Collecting deepdish\n",
      "  Downloading https://files.pythonhosted.org/packages/6e/39/2a47c852651982bc5eb39212ac110284dd20126bdc7b49bde401a0139f5d/deepdish-0.3.6-py2.py3-none-any.whl\n",
      "Requirement already satisfied: numpy in /usr/local/lib/python3.6/dist-packages (from deepdish) (1.15.4)\n",
      "Requirement already satisfied: tables in /usr/local/lib/python3.6/dist-packages (from deepdish) (3.4.4)\n",
      "Requirement already satisfied: scipy in /usr/local/lib/python3.6/dist-packages (from deepdish) (1.4.1)\n",
      "Requirement already satisfied: six>=1.9.0 in /usr/local/lib/python3.6/dist-packages (from tables->deepdish) (1.15.0)\n",
      "Requirement already satisfied: numexpr>=2.5.2 in /usr/local/lib/python3.6/dist-packages (from tables->deepdish) (2.7.1)\n",
      "Installing collected packages: deepdish\n",
      "Successfully installed deepdish-0.3.6\n"
     ]
    }
   ],
   "source": [
    "!pip install numpy==1.15.4\n",
    "!pip install deepdish\n",
    "#!pip install tensorflow==1.15\n",
    "#!pip install keras"
   ]
  },
  {
   "cell_type": "code",
   "execution_count": 1,
   "metadata": {
    "id": "R_m79alguZ9P"
   },
   "outputs": [],
   "source": [
    "%matplotlib inline\n",
    "import matplotlib.pyplot as plt\n",
    "import numpy as np\n",
    "import pandas as pd\n",
    "import os\n",
    "import deepdish as dd\n",
    "from sklearn.model_selection import train_test_split\n",
    "from keras.models import Sequential, Model\n",
    "from keras.layers import Dense, Conv2D, Dropout, Flatten, MaxPooling2D, GlobalAveragePooling2D\n",
    "from keras.utils import to_categorical, plot_model\n",
    "from keras.optimizers import Adam, RMSprop, SGD\n",
    "from keras.callbacks import ReduceLROnPlateau\n",
    "\n",
    "from keras.applications.vgg19 import VGG19"
   ]
  },
  {
   "cell_type": "code",
   "execution_count": 2,
   "metadata": {
    "colab": {
     "base_uri": "https://localhost:8080/",
     "height": 36
    },
    "id": "IXMLSK5Bw-UI",
    "outputId": "ef70e4a9-f52f-4708-c51c-e8d9d3777eae"
   },
   "outputs": [
    {
     "data": {
      "application/vnd.google.colaboratory.intrinsic+json": {
       "type": "string"
      },
      "text/plain": [
       "'1.15.4'"
      ]
     },
     "execution_count": 2,
     "metadata": {
      "tags": []
     },
     "output_type": "execute_result"
    }
   ],
   "source": [
    "np.__version__"
   ]
  },
  {
   "cell_type": "code",
   "execution_count": 3,
   "metadata": {
    "colab": {
     "base_uri": "https://localhost:8080/"
    },
    "id": "K3IKV5kvucC1",
    "outputId": "a502b3a9-ceeb-4e4d-a410-eb6dd0f67110"
   },
   "outputs": [
    {
     "name": "stdout",
     "output_type": "stream",
     "text": [
      "Drive already mounted at /content/drive; to attempt to forcibly remount, call drive.mount(\"/content/drive\", force_remount=True).\n"
     ]
    }
   ],
   "source": [
    "from google.colab import drive\n",
    "drive.mount('/content/drive')\n",
    "os.chdir('/content/drive/My Drive/Colab Notebooks/Data')"
   ]
  },
  {
   "cell_type": "code",
   "execution_count": 4,
   "metadata": {
    "id": "kQlULaeIudf8"
   },
   "outputs": [],
   "source": [
    "data = dd.io.load('ISIC_dataset.h5')\n",
    "data_df = pd.DataFrame(data)"
   ]
  },
  {
   "cell_type": "code",
   "execution_count": 5,
   "metadata": {
    "id": "j4LrYJwZuemq"
   },
   "outputs": [],
   "source": [
    "X_raw = data_df.image\n",
    "Y = data_df.cell_type_idx"
   ]
  },
  {
   "cell_type": "code",
   "execution_count": 6,
   "metadata": {
    "id": "aPIuLWUK5JGe"
   },
   "outputs": [],
   "source": [
    "X = np.zeros((10015, 75, 100, 3))\n",
    "\n",
    "for i in range(10015):\n",
    "  X[i,:,:,:] = X_raw[i]"
   ]
  },
  {
   "cell_type": "code",
   "execution_count": 7,
   "metadata": {
    "colab": {
     "base_uri": "https://localhost:8080/"
    },
    "id": "fX-nCzguvbxT",
    "outputId": "c52ab7ab-0dd6-4086-ceeb-ad3395bed20f"
   },
   "outputs": [
    {
     "name": "stdout",
     "output_type": "stream",
     "text": [
      "Tamaño datos X: (10015, 75, 100, 3)\n",
      "Tamaño datos Y: (10015,)\n"
     ]
    }
   ],
   "source": [
    "print(\"Tamaño datos X: {}\".format(X.shape))\n",
    "print(\"Tamaño datos Y: {}\".format(Y.shape))"
   ]
  },
  {
   "cell_type": "code",
   "execution_count": 8,
   "metadata": {
    "id": "TCFKQAkHvDrw"
   },
   "outputs": [],
   "source": [
    "X_train, X_test, Y_train, Y_test = train_test_split(X, Y, test_size = 0.2, random_state = 123)"
   ]
  },
  {
   "cell_type": "code",
   "execution_count": 9,
   "metadata": {
    "id": "wDIKZ_QyDY-M"
   },
   "outputs": [],
   "source": [
    "X_train = (X_train / np.max(X_train))\n",
    "X_test = (X_test / np.max(X_test))"
   ]
  },
  {
   "cell_type": "code",
   "execution_count": 10,
   "metadata": {
    "id": "OnJa21jVQxcz"
   },
   "outputs": [],
   "source": [
    "Y_train = to_categorical(Y_train, num_classes = 7)\n",
    "Y_test = to_categorical(Y_test, num_classes = 7)"
   ]
  },
  {
   "cell_type": "code",
   "execution_count": 11,
   "metadata": {
    "colab": {
     "base_uri": "https://localhost:8080/"
    },
    "id": "3h1miH4BP4NK",
    "outputId": "c9f7e26e-9f13-4747-c9cc-fb9a46045759"
   },
   "outputs": [
    {
     "name": "stdout",
     "output_type": "stream",
     "text": [
      "Downloading data from https://storage.googleapis.com/tensorflow/keras-applications/vgg19/vgg19_weights_tf_dim_ordering_tf_kernels_notop.h5\n",
      "80142336/80134624 [==============================] - 1s 0us/step\n"
     ]
    }
   ],
   "source": [
    "input_shape = (75, 100, 3)\n",
    "num_classes = 7\n",
    "\n",
    "base_model = VGG19(weights='imagenet', include_top=False)\n",
    "\n",
    "x = base_model.output\n",
    "x = GlobalAveragePooling2D()(x)\n",
    "x = Dense(1024, activation='relu')(x)\n",
    "\n",
    "predictions = Dense(num_classes, activation='softmax')(x)\n",
    "\n",
    "model = Model(inputs=base_model.input, outputs=predictions)\n"
   ]
  },
  {
   "cell_type": "code",
   "execution_count": 12,
   "metadata": {
    "id": "aK0GNbn6Qcj0"
   },
   "outputs": [],
   "source": [
    "epocas = 20\n",
    "bs = 64\n",
    "lr = 0.0001\n",
    "optim = Adam(learning_rate = lr)\n",
    "model.compile(optimizer = optim, loss = 'categorical_crossentropy', metrics = ['accuracy'])\n",
    "reduce_lr = ReduceLROnPlateau(monitor='val_loss', factor=0.2, patience=3, min_lr=0.00001)\n",
    "callbacks = [reduce_lr]"
   ]
  },
  {
   "cell_type": "code",
   "execution_count": 13,
   "metadata": {
    "colab": {
     "base_uri": "https://localhost:8080/"
    },
    "id": "TWxhoNU3QeIL",
    "outputId": "9565dc9b-498b-476c-eb95-1e0dddafb102"
   },
   "outputs": [
    {
     "name": "stdout",
     "output_type": "stream",
     "text": [
      "Epoch 1/20\n",
      "  2/101 [..............................] - ETA: 8s - loss: 1.8146 - accuracy: 0.3047WARNING:tensorflow:Callbacks method `on_train_batch_end` is slow compared to the batch time (batch time: 0.0511s vs `on_train_batch_end` time: 0.1159s). Check your callbacks.\n",
      "101/101 [==============================] - 18s 182ms/step - loss: 0.9263 - accuracy: 0.6881 - val_loss: 0.7892 - val_accuracy: 0.6937\n",
      "Epoch 2/20\n",
      "101/101 [==============================] - 18s 177ms/step - loss: 0.7558 - accuracy: 0.7293 - val_loss: 0.7305 - val_accuracy: 0.7324\n",
      "Epoch 3/20\n",
      "101/101 [==============================] - 18s 181ms/step - loss: 0.6782 - accuracy: 0.7544 - val_loss: 0.7111 - val_accuracy: 0.7367\n",
      "Epoch 4/20\n",
      "101/101 [==============================] - 19s 186ms/step - loss: 0.6192 - accuracy: 0.7683 - val_loss: 0.7910 - val_accuracy: 0.7080\n",
      "Epoch 5/20\n",
      "101/101 [==============================] - 19s 192ms/step - loss: 0.5712 - accuracy: 0.7837 - val_loss: 0.8215 - val_accuracy: 0.7492\n",
      "Epoch 6/20\n",
      "101/101 [==============================] - 19s 189ms/step - loss: 0.5426 - accuracy: 0.8000 - val_loss: 0.6717 - val_accuracy: 0.7492\n",
      "Epoch 7/20\n",
      "101/101 [==============================] - 19s 185ms/step - loss: 0.4841 - accuracy: 0.8221 - val_loss: 0.5961 - val_accuracy: 0.7948\n",
      "Epoch 8/20\n",
      "101/101 [==============================] - 19s 186ms/step - loss: 0.4328 - accuracy: 0.8362 - val_loss: 0.6726 - val_accuracy: 0.7779\n",
      "Epoch 9/20\n",
      "101/101 [==============================] - 19s 188ms/step - loss: 0.3894 - accuracy: 0.8558 - val_loss: 0.6128 - val_accuracy: 0.7804\n",
      "Epoch 10/20\n",
      "101/101 [==============================] - 19s 188ms/step - loss: 0.3467 - accuracy: 0.8766 - val_loss: 0.6745 - val_accuracy: 0.8060\n",
      "Epoch 11/20\n",
      "101/101 [==============================] - 19s 187ms/step - loss: 0.1774 - accuracy: 0.9374 - val_loss: 0.6503 - val_accuracy: 0.7979\n",
      "Epoch 12/20\n",
      "101/101 [==============================] - 19s 187ms/step - loss: 0.1105 - accuracy: 0.9596 - val_loss: 0.7136 - val_accuracy: 0.8072\n",
      "Epoch 13/20\n",
      "101/101 [==============================] - 19s 187ms/step - loss: 0.0697 - accuracy: 0.9766 - val_loss: 0.7820 - val_accuracy: 0.8072\n",
      "Epoch 14/20\n",
      "101/101 [==============================] - 19s 188ms/step - loss: 0.0335 - accuracy: 0.9908 - val_loss: 0.9294 - val_accuracy: 0.8166\n",
      "Epoch 15/20\n",
      "101/101 [==============================] - 19s 188ms/step - loss: 0.0180 - accuracy: 0.9961 - val_loss: 1.0216 - val_accuracy: 0.8097\n",
      "Epoch 16/20\n",
      "101/101 [==============================] - 19s 188ms/step - loss: 0.0097 - accuracy: 0.9980 - val_loss: 1.1645 - val_accuracy: 0.8110\n",
      "Epoch 17/20\n",
      "101/101 [==============================] - 19s 188ms/step - loss: 0.0116 - accuracy: 0.9961 - val_loss: 1.2056 - val_accuracy: 0.8004\n",
      "Epoch 18/20\n",
      "101/101 [==============================] - 19s 188ms/step - loss: 0.0044 - accuracy: 0.9995 - val_loss: 1.2926 - val_accuracy: 0.8072\n",
      "Epoch 19/20\n",
      "101/101 [==============================] - 19s 188ms/step - loss: 0.0025 - accuracy: 0.9995 - val_loss: 1.3918 - val_accuracy: 0.8054\n",
      "Epoch 20/20\n",
      "101/101 [==============================] - 19s 188ms/step - loss: 9.7845e-04 - accuracy: 1.0000 - val_loss: 1.4711 - val_accuracy: 0.8079\n"
     ]
    }
   ],
   "source": [
    "historico = model.fit(X_train, Y_train, epochs = epocas, batch_size = bs, validation_split = 0.2, callbacks = callbacks)"
   ]
  },
  {
   "cell_type": "code",
   "execution_count": 1,
   "metadata": {
    "colab": {
     "base_uri": "https://localhost:8080/",
     "height": 295
    },
    "id": "GgHwxyxScPYs",
    "outputId": "d5fe2106-3cb3-4d62-8846-89704b2d5d44"
   },
   "outputs": [
    {
     "ename": "NameError",
     "evalue": "name 'plt' is not defined",
     "output_type": "error",
     "traceback": [
      "\u001b[1;31m---------------------------------------------------------------------------\u001b[0m",
      "\u001b[1;31mNameError\u001b[0m                                 Traceback (most recent call last)",
      "\u001b[1;32m<ipython-input-1-7bce099707f2>\u001b[0m in \u001b[0;36m<module>\u001b[1;34m\u001b[0m\n\u001b[1;32m----> 1\u001b[1;33m \u001b[0mplt\u001b[0m\u001b[1;33m.\u001b[0m\u001b[0mplot\u001b[0m\u001b[1;33m(\u001b[0m\u001b[0mhistorico\u001b[0m\u001b[1;33m.\u001b[0m\u001b[0mhistory\u001b[0m\u001b[1;33m[\u001b[0m\u001b[1;34m'accuracy'\u001b[0m\u001b[1;33m]\u001b[0m\u001b[1;33m,\u001b[0m \u001b[0mc\u001b[0m \u001b[1;33m=\u001b[0m \u001b[1;34m'b'\u001b[0m\u001b[1;33m)\u001b[0m\u001b[1;33m\u001b[0m\u001b[1;33m\u001b[0m\u001b[0m\n\u001b[0m\u001b[0;32m      2\u001b[0m \u001b[0mplt\u001b[0m\u001b[1;33m.\u001b[0m\u001b[0mplot\u001b[0m\u001b[1;33m(\u001b[0m\u001b[0mhistorico\u001b[0m\u001b[1;33m.\u001b[0m\u001b[0mhistory\u001b[0m\u001b[1;33m[\u001b[0m\u001b[1;34m'val_accuracy'\u001b[0m\u001b[1;33m]\u001b[0m\u001b[1;33m,\u001b[0m \u001b[0mc\u001b[0m \u001b[1;33m=\u001b[0m \u001b[1;34m'r'\u001b[0m\u001b[1;33m)\u001b[0m\u001b[1;33m\u001b[0m\u001b[1;33m\u001b[0m\u001b[0m\n\u001b[0;32m      3\u001b[0m \u001b[0mplt\u001b[0m\u001b[1;33m.\u001b[0m\u001b[0mlegend\u001b[0m\u001b[1;33m(\u001b[0m\u001b[1;33m[\u001b[0m\u001b[1;34m'Train'\u001b[0m\u001b[1;33m,\u001b[0m \u001b[1;34m'Validacion'\u001b[0m\u001b[1;33m]\u001b[0m\u001b[1;33m)\u001b[0m\u001b[1;33m\u001b[0m\u001b[1;33m\u001b[0m\u001b[0m\n\u001b[0;32m      4\u001b[0m \u001b[0mplt\u001b[0m\u001b[1;33m.\u001b[0m\u001b[0mxlabel\u001b[0m\u001b[1;33m(\u001b[0m\u001b[1;34m'Epocas'\u001b[0m\u001b[1;33m)\u001b[0m\u001b[1;33m\u001b[0m\u001b[1;33m\u001b[0m\u001b[0m\n\u001b[0;32m      5\u001b[0m \u001b[0mplt\u001b[0m\u001b[1;33m.\u001b[0m\u001b[0mylabel\u001b[0m\u001b[1;33m(\u001b[0m\u001b[1;34m'Medida'\u001b[0m\u001b[1;33m)\u001b[0m\u001b[1;33m\u001b[0m\u001b[1;33m\u001b[0m\u001b[0m\n",
      "\u001b[1;31mNameError\u001b[0m: name 'plt' is not defined"
     ]
    }
   ],
   "source": [
    "plt.plot(historico.history['accuracy'], c = 'b')\n",
    "plt.plot(historico.history['val_accuracy'], c = 'r')\n",
    "plt.legend(['Train', 'Validacion'])\n",
    "plt.xlabel('Epocas')\n",
    "plt.ylabel('Medida')\n",
    "plt.title('Evolucion Entrenamiento')\n",
    "plt.show()"
   ]
  },
  {
   "cell_type": "code",
   "execution_count": 15,
   "metadata": {
    "colab": {
     "base_uri": "https://localhost:8080/",
     "height": 295
    },
    "id": "MopYHtLIcPzy",
    "outputId": "02dfa905-e0e3-4ad3-dadc-6475d758f06b"
   },
   "outputs": [
    {
     "data": {
      "image/png": "[encoded data removed]",
      "text/plain": [
       "<Figure size 432x288 with 1 Axes>"
      ]
     },
     "metadata": {
      "needs_background": "light",
      "tags": []
     },
     "output_type": "display_data"
    }
   ],
   "source": [
    "plt.plot(historico.history['loss'], c = 'b')\n",
    "plt.plot(historico.history['val_loss'], c = 'r')\n",
    "plt.legend(['Train', 'Validacion'])\n",
    "plt.xlabel('Epocas')\n",
    "plt.ylabel('Medida')\n",
    "plt.title('Evolucion Entrenamiento')\n",
    "plt.show()"
   ]
  },
  {
   "cell_type": "code",
   "execution_count": 16,
   "metadata": {
    "colab": {
     "base_uri": "https://localhost:8080/"
    },
    "id": "qZepWyf8Qj3V",
    "outputId": "f69e6bff-847d-47c0-ecb0-2d2d8b27c44f"
   },
   "outputs": [
    {
     "name": "stdout",
     "output_type": "stream",
     "text": [
      "63/63 [==============================] - 2s 35ms/step - loss: 1.4374 - accuracy: 0.8163\n"
     ]
    }
   ],
   "source": [
    "metricas = model.evaluate(X_test, Y_test)"
   ]
  },
  {
   "cell_type": "code",
   "execution_count": null,
   "metadata": {
    "id": "LyELu8zf1Oiq"
   },
   "outputs": [],
   "source": []
  }
 ],
 "metadata": {
  "accelerator": "GPU",
  "colab": {
   "collapsed_sections": [],
   "name": "Testing_Data_Javi.ipynb",
   "provenance": []
  },
  "kernelspec": {
   "display_name": "Python 3",
   "language": "python",
   "name": "python3"
  },
  "language_info": {
   "codemirror_mode": {
    "name": "ipython",
    "version": 3
   },
   "file_extension": ".py",
   "mimetype": "text/x-python",
   "name": "python",
   "nbconvert_exporter": "python",
   "pygments_lexer": "ipython3",
   "version": "3.7.6"
  }
 },
 "nbformat": 4,
 "nbformat_minor": 1
}
