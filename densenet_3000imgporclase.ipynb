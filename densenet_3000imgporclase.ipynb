{
  "nbformat": 4,
  "nbformat_minor": 0,
  "metadata": {
    "colab": {
      "name": "probando_yo_lared.ipynb",
      "provenance": [],
      "collapsed_sections": []
    },
    "kernelspec": {
      "name": "python3",
      "display_name": "Python 3"
    },
    "accelerator": "GPU"
  },
  "cells": [
    {
      "cell_type": "markdown",
      "metadata": {
        "id": "view-in-github"
      },
      "source": [
        "<a href=\"https://colab.research.google.com/github/josematez/DeepLearning_SkinCancer/blob/main/DenseNet_Test.ipynb\" target=\"_parent\"><img src=\"https://colab.research.google.com/assets/colab-badge.svg\" alt=\"Open In Colab\"/></a>"
      ]
    },
    {
      "cell_type": "code",
      "metadata": {
        "id": "O_Fa9CYiV0Ok"
      },
      "source": [
        "#!pip install deepdish\n",
        "#!pip install numpy==1.15.4"
      ],
      "execution_count": 1,
      "outputs": []
    },
    {
      "cell_type": "code",
      "metadata": {
        "id": "2SJTaYpGU0HX"
      },
      "source": [
        "%matplotlib inline\n",
        "import matplotlib.pyplot as plt\n",
        "import numpy as np\n",
        "import pandas as pd\n",
        "import os\n",
        "import deepdish as dd\n",
        "#from tqdm import tqdm\n",
        "#from glob import glob\n",
        "#import seaborn as sns\n",
        "#import pprint as pp\n",
        "\n",
        "from sklearn.model_selection import train_test_split\n",
        "from sklearn.metrics import confusion_matrix\n",
        "from sklearn.utils import resample\n",
        "\n",
        "import tensorflow as tf\n",
        "from tensorflow import keras\n",
        "from tensorflow.keras import layers\n",
        "from keras.utils import np_utils, to_categorical, plot_model\n",
        "from keras.callbacks import ReduceLROnPlateau\n",
        "from keras.optimizers import Adam, RMSprop, SGD\n",
        "from keras.preprocessing.image import ImageDataGenerator\n",
        "\n",
        "#import itertools\n",
        "\n",
        "#import cv2\n",
        "#from PIL import Image"
      ],
      "execution_count": 2,
      "outputs": []
    },
    {
      "cell_type": "code",
      "metadata": {
        "id": "myUH8aqdVKhe",
        "colab": {
          "base_uri": "https://localhost:8080/"
        },
        "outputId": "277c3c09-eadc-4aee-f121-9e3567c6a956"
      },
      "source": [
        "from google.colab import drive\n",
        "drive.mount('/content/drive')"
      ],
      "execution_count": 3,
      "outputs": [
        {
          "output_type": "stream",
          "text": [
            "Drive already mounted at /content/drive; to attempt to forcibly remount, call drive.mount(\"/content/drive\", force_remount=True).\n"
          ],
          "name": "stdout"
        }
      ]
    },
    {
      "cell_type": "code",
      "metadata": {
        "id": "3c_BhAXmVNGK"
      },
      "source": [
        "data = dd.io.load('/content/drive/MyDrive/ISIS_dataset/ISIC_dataset.h5')\n",
        "data_df = pd.DataFrame(data)"
      ],
      "execution_count": 4,
      "outputs": []
    },
    {
      "cell_type": "code",
      "metadata": {
        "id": "tN93FJHiVOeS"
      },
      "source": [
        "X_raw = data_df.image\n",
        "Y = data_df.cell_type_idx"
      ],
      "execution_count": 5,
      "outputs": []
    },
    {
      "cell_type": "code",
      "metadata": {
        "id": "HCt5xQw3QUJ4",
        "colab": {
          "base_uri": "https://localhost:8080/"
        },
        "outputId": "eb62a562-8664-4fcc-988e-2607efa273e6"
      },
      "source": [
        "Y.value_counts()"
      ],
      "execution_count": 6,
      "outputs": [
        {
          "output_type": "execute_result",
          "data": {
            "text/plain": [
              "4    6705\n",
              "5    1113\n",
              "2    1099\n",
              "1     514\n",
              "0     327\n",
              "6     142\n",
              "3     115\n",
              "Name: cell_type_idx, dtype: int64"
            ]
          },
          "metadata": {
            "tags": []
          },
          "execution_count": 6
        }
      ]
    },
    {
      "cell_type": "code",
      "metadata": {
        "id": "5CSwDf2qVMsB"
      },
      "source": [
        "clases_lista = []\n",
        "clase =[]\n",
        "i=0\n",
        "while i < 7:\n",
        "  for j in range(len(X_raw)):\n",
        "    if Y.iloc[j] == i:\n",
        "      clase.append(X_raw.iloc[j])\n",
        "  clases_lista.append(clase)\n",
        "  clase = []\n",
        "  i+=1"
      ],
      "execution_count": 7,
      "outputs": []
    },
    {
      "cell_type": "code",
      "metadata": {
        "colab": {
          "base_uri": "https://localhost:8080/"
        },
        "id": "eD8FfdnmXIbz",
        "outputId": "cedfe608-568c-460b-f8d0-d799fbcc32ba"
      },
      "source": [
        "print([len(x) for x in clases_lista])"
      ],
      "execution_count": 8,
      "outputs": [
        {
          "output_type": "stream",
          "text": [
            "[327, 514, 1099, 115, 6705, 1113, 142]\n"
          ],
          "name": "stdout"
        }
      ]
    },
    {
      "cell_type": "code",
      "metadata": {
        "colab": {
          "base_uri": "https://localhost:8080/"
        },
        "id": "Q_lCk3XoccIW",
        "outputId": "45af082c-f4f8-4d4a-ac2c-0bb88e3a2cc6"
      },
      "source": [
        "dim_max = 1000\n",
        "clases_lista_dim_max = []\n",
        "for i in clases_lista:\n",
        "  if len(i) > dim_max:\n",
        "    if len(i) > 2000:\n",
        "      new_clase = i[ : dim_max*3]\n",
        "      clases_lista_dim_max.append(new_clase)\n",
        "    else:\n",
        "      new_clase = i[ : dim_max]\n",
        "      clases_lista_dim_max.append(new_clase)\n",
        "  else:\n",
        "    clases_lista_dim_max.append(i)\n",
        "print([len(x) for x in clases_lista_dim_max])"
      ],
      "execution_count": 9,
      "outputs": [
        {
          "output_type": "stream",
          "text": [
            "[327, 514, 1000, 115, 3000, 1000, 142]\n"
          ],
          "name": "stdout"
        }
      ]
    },
    {
      "cell_type": "code",
      "metadata": {
        "id": "7LvG4gOaMIM7"
      },
      "source": [
        "import numpy as np\n",
        "import imgaug as ia\n",
        "import imgaug.augmenters as iaa\n",
        "\n",
        "def aumento_imagenes(imagen_a_aumentar, num_de_aumentos):\n",
        "  ia.seed(1)\n",
        "\n",
        "  # Example batch of images.\n",
        "  # The array has shape (32, 64, 64, 3) and dtype uint8.\n",
        "  images = np.array(\n",
        "      [imagen_a_aumentar for _ in range(num_de_aumentos)],\n",
        "      dtype=np.uint8\n",
        "  )\n",
        "\n",
        "  seq = iaa.Sequential([\n",
        "      iaa.Fliplr(0.5), # horizontal flips\n",
        "      iaa.Crop(percent=(0, 0.1)), # random crops\n",
        "      # Small gaussian blur with random sigma between 0 and 0.5.\n",
        "      # But we only blur about 50% of all images.\n",
        "      iaa.Sometimes(\n",
        "          0.5,\n",
        "          iaa.GaussianBlur(sigma=(0, 0.5))\n",
        "      ),\n",
        "      # Strengthen or weaken the contrast in each image.\n",
        "      iaa.LinearContrast((0.75, 1.5)),\n",
        "      # Add gaussian noise.\n",
        "      # For 50% of all images, we sample the noise once per pixel.\n",
        "      # For the other 50% of all images, we sample the noise per pixel AND\n",
        "      # channel. This can change the color (not only brightness) of the\n",
        "      # pixels.\n",
        "      iaa.AdditiveGaussianNoise(loc=0, scale=(0.0, 0.05*255), per_channel=0.5),\n",
        "      # Make some images brighter and some darker.\n",
        "      # In 20% of all cases, we sample the multiplier once per channel,\n",
        "      # which can end up changing the color of the images.\n",
        "      iaa.Multiply((0.8, 1.2), per_channel=0.2),\n",
        "      # Apply affine transformations to each image.\n",
        "      # Scale/zoom them, translate/move them, rotate them and shear them.\n",
        "      iaa.Affine(\n",
        "          scale={\"x\": (0.8, 1.2), \"y\": (0.8, 1.2)},\n",
        "          translate_percent={\"x\": (-0.2, 0.2), \"y\": (-0.2, 0.2)},\n",
        "          rotate=(-25, 25),\n",
        "          shear=(-8, 8),\n",
        "          mode=ia.ALL,\n",
        "          order = 0,\n",
        "          cval=(0, 255),\n",
        "      )\n",
        "  ], random_order=True) # apply augmenters in random order\n",
        "\n",
        "  images_aug = seq(images=images)\n",
        "  return images_aug"
      ],
      "execution_count": 10,
      "outputs": []
    },
    {
      "cell_type": "code",
      "metadata": {
        "id": "wMt4j1CLcfvg"
      },
      "source": [
        "def generando_imagenes(clase_img, num_max):\n",
        "  img_faltantes = num_max - len(clase_img)\n",
        "  if img_faltantes == 0 or img_faltantes < 0:\n",
        "    clase_img = clase_img[:num_max]\n",
        "    return clase_img\n",
        "  else:\n",
        "    num_img_por_img = int(img_faltantes/len(clase_img))\n",
        "    img_a_agregar = []\n",
        "    for i in clase_img:\n",
        "      imagenes_aumentadas_por_img = list(aumento_imagenes(i,num_img_por_img))\n",
        "      img_a_agregar+=imagenes_aumentadas_por_img\n",
        "    clase_img+=img_a_agregar\n",
        "    return clase_img"
      ],
      "execution_count": 11,
      "outputs": []
    },
    {
      "cell_type": "code",
      "metadata": {
        "colab": {
          "base_uri": "https://localhost:8080/"
        },
        "id": "K0Ih628fmKSG",
        "outputId": "3c57b0a1-b429-4aed-bd37-aab19b577b54"
      },
      "source": [
        "nuevo_conjunto = []\n",
        "numero_maximo_imagenes = 3000\n",
        "for i in clases_lista_dim_max:\n",
        "  nuevo_conjunto.append(generando_imagenes(i,numero_maximo_imagenes))\n",
        "print([len(x) for x in nuevo_conjunto])\n"
      ],
      "execution_count": 12,
      "outputs": [
        {
          "output_type": "stream",
          "text": [
            "[2943, 2570, 3000, 2990, 3000, 3000, 2982]\n"
          ],
          "name": "stdout"
        }
      ]
    },
    {
      "cell_type": "code",
      "metadata": {
        "colab": {
          "base_uri": "https://localhost:8080/"
        },
        "id": "4whczyReDUf5",
        "outputId": "fe54c7bf-2e48-4266-f763-79e09e8a8a28"
      },
      "source": [
        "labels_ = []\n",
        "lab_num = 0\n",
        "for images in nuevo_conjunto:\n",
        "  clase_ = np.full_like(np.ones(len(images)),fill_value= lab_num, dtype= np.int)\n",
        "  clase_ = list(clase_)\n",
        "  labels_.append(clase_)\n",
        "  lab_num+=1\n",
        "print([np.max(x) for x in labels_])"
      ],
      "execution_count": 13,
      "outputs": [
        {
          "output_type": "stream",
          "text": [
            "[0, 1, 2, 3, 4, 5, 6]\n"
          ],
          "name": "stdout"
        }
      ]
    },
    {
      "cell_type": "code",
      "metadata": {
        "id": "pXWQRz1wGUqC"
      },
      "source": [
        "import itertools"
      ],
      "execution_count": 14,
      "outputs": []
    },
    {
      "cell_type": "code",
      "metadata": {
        "colab": {
          "base_uri": "https://localhost:8080/"
        },
        "id": "qh7DVXoLE4vy",
        "outputId": "c715c108-92d1-4e0e-9884-52ac1689261b"
      },
      "source": [
        "Y = list(itertools.chain.from_iterable(labels_))\n",
        "print(len(Y))\n",
        "Y = np.array(Y).reshape(-1)\n",
        "print(Y.shape)\n",
        "X = list(itertools.chain.from_iterable(nuevo_conjunto))\n",
        "print(len(X))\n",
        "X = np.array(X).reshape(-1,75,100,3)\n",
        "print(X.shape)"
      ],
      "execution_count": 15,
      "outputs": [
        {
          "output_type": "stream",
          "text": [
            "20485\n",
            "(20485,)\n",
            "20485\n",
            "(20485, 75, 100, 3)\n"
          ],
          "name": "stdout"
        }
      ]
    },
    {
      "cell_type": "code",
      "metadata": {
        "id": "u_-udVWjVQzw"
      },
      "source": [
        "X_train, X_test, Y_train, Y_test = train_test_split(X, Y, test_size=0.2, random_state = 321)\n",
        "#X_train, X_val, Y_train, Y_val = train_test_split(X_train, Y_train, test_size=0.1, random_state = 321)"
      ],
      "execution_count": 16,
      "outputs": []
    },
    {
      "cell_type": "code",
      "metadata": {
        "id": "e1ETV3chVTgD"
      },
      "source": [
        "X_train = (X_train / np.max(X_train))\n",
        "X_test = (X_test / np.max(X_test))\n",
        "#X_val = (X_val / np.max(X_val))"
      ],
      "execution_count": 17,
      "outputs": []
    },
    {
      "cell_type": "code",
      "metadata": {
        "id": "5C_lLx6lWTWp"
      },
      "source": [
        "Y_train = to_categorical(Y_train, num_classes = 7)\n",
        "Y_test = to_categorical(Y_test, num_classes = 7)\n",
        "#Y_val = to_categorical(Y_val, num_classes = 7)"
      ],
      "execution_count": 18,
      "outputs": []
    },
    {
      "cell_type": "code",
      "metadata": {
        "id": "Miz8_ZImfsAz"
      },
      "source": [
        "from tensorflow.keras.layers import BatchNormalization\n",
        "from tensorflow.keras.models import Sequential\n",
        "from tensorflow.keras.layers import Dense, Dropout, Flatten, Conv2D, MaxPool2D,Input,Lambda"
      ],
      "execution_count": 19,
      "outputs": []
    },
    {
      "cell_type": "code",
      "metadata": {
        "id": "pXernv2LZcAi",
        "colab": {
          "base_uri": "https://localhost:8080/",
          "height": 587
        },
        "outputId": "4e2912d5-794d-4ee1-f8c7-6b3421dd18a4"
      },
      "source": [
        "# DENSENET201 MODEL\n",
        "input_shape = X_train[0].shape\n",
        "n_classes = len(Y_train[0])\n",
        "\n",
        "densenet = tf.keras.applications.DenseNet201(weights='imagenet', include_top=False, input_shape=input_shape)\n",
        "densenet.trainable = False\n",
        "\n",
        "model = tf.keras.models.Sequential()\n",
        "model.add(densenet)\n",
        "model.add(Flatten())\n",
        "#model.add(Dense(units = 4096, activation = 'relu'))\n",
        "model.add(Dropout(0.4))\n",
        "#model.add(BatchNormalization())\n",
        "model.add(Dense(units = 4096, activation = 'relu'))\n",
        "model.add(Dropout(0.6))\n",
        "model.add(BatchNormalization())\n",
        "model.add(Dense(units = 1000, activation = 'relu'))\n",
        "model.add(Dropout(0.5))\n",
        "model.add(BatchNormalization())\n",
        "model.add(Dense(units = n_classes, activation = 'softmax'))\n",
        "model.summary()\n",
        "\"\"\"model.add(tf.keras.layers.Flatten())\n",
        "model.add(tf.keras.layers.Dropout(0.25))\n",
        "model.add(tf.keras.layers.Dense(512, activation='relu'))\n",
        "model.add(tf.keras.layers.BatchNormalization())\n",
        "model.add(tf.keras.layers.Dropout(0.46))\n",
        "model.add(tf.keras.layers.Dense(128, activation='relu'))\n",
        "model.add(tf.keras.layers.BatchNormalization())\n",
        "model.add(tf.keras.layers.Dropout(0.46))    \n",
        "model.add(tf.keras.layers.Dense(n_classes, activation='softmax'))\"\"\""
      ],
      "execution_count": 20,
      "outputs": [
        {
          "output_type": "stream",
          "text": [
            "Model: \"sequential\"\n",
            "_________________________________________________________________\n",
            "Layer (type)                 Output Shape              Param #   \n",
            "=================================================================\n",
            "densenet201 (Functional)     (None, 2, 3, 1920)        18321984  \n",
            "_________________________________________________________________\n",
            "flatten (Flatten)            (None, 11520)             0         \n",
            "_________________________________________________________________\n",
            "dropout (Dropout)            (None, 11520)             0         \n",
            "_________________________________________________________________\n",
            "dense (Dense)                (None, 4096)              47190016  \n",
            "_________________________________________________________________\n",
            "dropout_1 (Dropout)          (None, 4096)              0         \n",
            "_________________________________________________________________\n",
            "batch_normalization (BatchNo (None, 4096)              16384     \n",
            "_________________________________________________________________\n",
            "dense_1 (Dense)              (None, 1000)              4097000   \n",
            "_________________________________________________________________\n",
            "dropout_2 (Dropout)          (None, 1000)              0         \n",
            "_________________________________________________________________\n",
            "batch_normalization_1 (Batch (None, 1000)              4000      \n",
            "_________________________________________________________________\n",
            "dense_2 (Dense)              (None, 7)                 7007      \n",
            "=================================================================\n",
            "Total params: 69,636,391\n",
            "Trainable params: 51,304,215\n",
            "Non-trainable params: 18,332,176\n",
            "_________________________________________________________________\n"
          ],
          "name": "stdout"
        },
        {
          "output_type": "execute_result",
          "data": {
            "application/vnd.google.colaboratory.intrinsic+json": {
              "type": "string"
            },
            "text/plain": [
              "\"model.add(tf.keras.layers.Flatten())\\nmodel.add(tf.keras.layers.Dropout(0.25))\\nmodel.add(tf.keras.layers.Dense(512, activation='relu'))\\nmodel.add(tf.keras.layers.BatchNormalization())\\nmodel.add(tf.keras.layers.Dropout(0.46))\\nmodel.add(tf.keras.layers.Dense(128, activation='relu'))\\nmodel.add(tf.keras.layers.BatchNormalization())\\nmodel.add(tf.keras.layers.Dropout(0.46))    \\nmodel.add(tf.keras.layers.Dense(n_classes, activation='softmax'))\""
            ]
          },
          "metadata": {
            "tags": []
          },
          "execution_count": 20
        }
      ]
    },
    {
      "cell_type": "code",
      "metadata": {
        "id": "6YT_qWK6KGNO"
      },
      "source": [
        "from tensorflow.keras.callbacks import EarlyStopping"
      ],
      "execution_count": 21,
      "outputs": []
    },
    {
      "cell_type": "code",
      "metadata": {
        "id": "nMpoMYJZKbGZ"
      },
      "source": [
        "early_stop = EarlyStopping(\n",
        "    monitor=\"val_accuracy\",\n",
        "    min_delta=0,\n",
        "    patience=3,\n",
        "    verbose=1,\n",
        "    mode=\"max\",\n",
        "    baseline=None,\n",
        "    restore_best_weights=True,\n",
        ")"
      ],
      "execution_count": 22,
      "outputs": []
    },
    {
      "cell_type": "code",
      "metadata": {
        "id": "85KpND-odOfa"
      },
      "source": [
        "epocas = 30\n",
        "bs = 35\n",
        "lr = 0.001\n",
        "optim = Adam(learning_rate = lr)\n",
        "model.compile(optimizer = optim, loss = 'categorical_crossentropy', metrics = ['accuracy'])\n",
        "reduce_lr = ReduceLROnPlateau(monitor='val_accuracy', factor=0.2, patience=1, min_lr=0.000001, verbose = 1)\n",
        "# Define checkpoint to save best Phase 1 weights\n",
        "best_weights_ph1 = \"ph1_weights.hdf5\"\n",
        "checkpoint = tf.keras.callbacks.ModelCheckpoint(best_weights_ph1, monitor=\"val_accuracy\", mode=\"max\", save_best_only=True, verbose=1)\n",
        "callbacks = [reduce_lr, checkpoint, early_stop]"
      ],
      "execution_count": 23,
      "outputs": []
    },
    {
      "cell_type": "code",
      "metadata": {
        "id": "nzvLzj3Dda_T",
        "colab": {
          "base_uri": "https://localhost:8080/"
        },
        "outputId": "0e222f1b-c116-4f25-efba-ad4859a8bfc5"
      },
      "source": [
        "historico = model.fit(X_train, Y_train, epochs = epocas, batch_size = bs, validation_split = 0.2, callbacks = callbacks)"
      ],
      "execution_count": 24,
      "outputs": [
        {
          "output_type": "stream",
          "text": [
            "Epoch 1/30\n",
            "375/375 [==============================] - ETA: 0s - loss: 1.2605 - accuracy: 0.5775\n",
            "Epoch 00001: val_accuracy improved from -inf to 0.73124, saving model to ph1_weights.hdf5\n",
            "375/375 [==============================] - 29s 78ms/step - loss: 1.2605 - accuracy: 0.5775 - val_loss: 0.7489 - val_accuracy: 0.7312\n",
            "Epoch 2/30\n",
            "374/375 [============================>.] - ETA: 0s - loss: 0.9053 - accuracy: 0.6710\n",
            "Epoch 00002: val_accuracy improved from 0.73124 to 0.75290, saving model to ph1_weights.hdf5\n",
            "375/375 [==============================] - 25s 66ms/step - loss: 0.9054 - accuracy: 0.6709 - val_loss: 0.6577 - val_accuracy: 0.7529\n",
            "Epoch 3/30\n",
            "375/375 [==============================] - ETA: 0s - loss: 0.8032 - accuracy: 0.6979\n",
            "Epoch 00003: val_accuracy improved from 0.75290 to 0.77029, saving model to ph1_weights.hdf5\n",
            "375/375 [==============================] - 25s 67ms/step - loss: 0.8032 - accuracy: 0.6979 - val_loss: 0.6327 - val_accuracy: 0.7703\n",
            "Epoch 4/30\n",
            "374/375 [============================>.] - ETA: 0s - loss: 0.7627 - accuracy: 0.7113\n",
            "Epoch 00004: val_accuracy improved from 0.77029 to 0.77761, saving model to ph1_weights.hdf5\n",
            "375/375 [==============================] - 26s 69ms/step - loss: 0.7624 - accuracy: 0.7114 - val_loss: 0.5996 - val_accuracy: 0.7776\n",
            "Epoch 5/30\n",
            "374/375 [============================>.] - ETA: 0s - loss: 0.7328 - accuracy: 0.7236\n",
            "Epoch 00005: val_accuracy improved from 0.77761 to 0.78005, saving model to ph1_weights.hdf5\n",
            "375/375 [==============================] - 25s 67ms/step - loss: 0.7331 - accuracy: 0.7236 - val_loss: 0.6018 - val_accuracy: 0.7800\n",
            "Epoch 6/30\n",
            "374/375 [============================>.] - ETA: 0s - loss: 0.7210 - accuracy: 0.7280\n",
            "Epoch 00006: ReduceLROnPlateau reducing learning rate to 0.00020000000949949026.\n",
            "\n",
            "Epoch 00006: val_accuracy did not improve from 0.78005\n",
            "375/375 [==============================] - 21s 57ms/step - loss: 0.7212 - accuracy: 0.7278 - val_loss: 0.6178 - val_accuracy: 0.7672\n",
            "Epoch 7/30\n",
            "375/375 [==============================] - ETA: 0s - loss: 0.6388 - accuracy: 0.7526\n",
            "Epoch 00007: val_accuracy improved from 0.78005 to 0.79591, saving model to ph1_weights.hdf5\n",
            "375/375 [==============================] - 26s 68ms/step - loss: 0.6388 - accuracy: 0.7526 - val_loss: 0.5393 - val_accuracy: 0.7959\n",
            "Epoch 8/30\n",
            "374/375 [============================>.] - ETA: 0s - loss: 0.5914 - accuracy: 0.7720\n",
            "Epoch 00008: val_accuracy improved from 0.79591 to 0.80781, saving model to ph1_weights.hdf5\n",
            "375/375 [==============================] - 25s 67ms/step - loss: 0.5911 - accuracy: 0.7722 - val_loss: 0.5250 - val_accuracy: 0.8078\n",
            "Epoch 9/30\n",
            "375/375 [==============================] - ETA: 0s - loss: 0.5694 - accuracy: 0.7840\n",
            "Epoch 00009: val_accuracy improved from 0.80781 to 0.80872, saving model to ph1_weights.hdf5\n",
            "375/375 [==============================] - 25s 67ms/step - loss: 0.5694 - accuracy: 0.7840 - val_loss: 0.5191 - val_accuracy: 0.8087\n",
            "Epoch 10/30\n",
            "374/375 [============================>.] - ETA: 0s - loss: 0.5550 - accuracy: 0.7897\n",
            "Epoch 00010: val_accuracy improved from 0.80872 to 0.80995, saving model to ph1_weights.hdf5\n",
            "375/375 [==============================] - 25s 67ms/step - loss: 0.5556 - accuracy: 0.7892 - val_loss: 0.5176 - val_accuracy: 0.8099\n",
            "Epoch 11/30\n",
            "375/375 [==============================] - ETA: 0s - loss: 0.5327 - accuracy: 0.7956\n",
            "Epoch 00011: val_accuracy improved from 0.80995 to 0.81178, saving model to ph1_weights.hdf5\n",
            "375/375 [==============================] - 25s 67ms/step - loss: 0.5327 - accuracy: 0.7956 - val_loss: 0.5065 - val_accuracy: 0.8118\n",
            "Epoch 12/30\n",
            "374/375 [============================>.] - ETA: 0s - loss: 0.5166 - accuracy: 0.8011\n",
            "Epoch 00012: ReduceLROnPlateau reducing learning rate to 4.0000001899898055e-05.\n",
            "\n",
            "Epoch 00012: val_accuracy did not improve from 0.81178\n",
            "375/375 [==============================] - 21s 57ms/step - loss: 0.5167 - accuracy: 0.8012 - val_loss: 0.4966 - val_accuracy: 0.8118\n",
            "Epoch 13/30\n",
            "374/375 [============================>.] - ETA: 0s - loss: 0.4918 - accuracy: 0.8090\n",
            "Epoch 00013: val_accuracy improved from 0.81178 to 0.81757, saving model to ph1_weights.hdf5\n",
            "375/375 [==============================] - 25s 67ms/step - loss: 0.4916 - accuracy: 0.8090 - val_loss: 0.4905 - val_accuracy: 0.8176\n",
            "Epoch 14/30\n",
            "375/375 [==============================] - ETA: 0s - loss: 0.4926 - accuracy: 0.8051\n",
            "Epoch 00014: val_accuracy improved from 0.81757 to 0.81910, saving model to ph1_weights.hdf5\n",
            "375/375 [==============================] - 25s 67ms/step - loss: 0.4926 - accuracy: 0.8051 - val_loss: 0.4870 - val_accuracy: 0.8191\n",
            "Epoch 15/30\n",
            "375/375 [==============================] - ETA: 0s - loss: 0.4884 - accuracy: 0.8124\n",
            "Epoch 00015: val_accuracy improved from 0.81910 to 0.82062, saving model to ph1_weights.hdf5\n",
            "375/375 [==============================] - 25s 68ms/step - loss: 0.4884 - accuracy: 0.8124 - val_loss: 0.4837 - val_accuracy: 0.8206\n",
            "Epoch 16/30\n",
            "374/375 [============================>.] - ETA: 0s - loss: 0.4944 - accuracy: 0.8075\n",
            "Epoch 00016: ReduceLROnPlateau reducing learning rate to 8.000000525498762e-06.\n",
            "\n",
            "Epoch 00016: val_accuracy did not improve from 0.82062\n",
            "375/375 [==============================] - 21s 57ms/step - loss: 0.4942 - accuracy: 0.8076 - val_loss: 0.4853 - val_accuracy: 0.8194\n",
            "Epoch 17/30\n",
            "374/375 [============================>.] - ETA: 0s - loss: 0.4759 - accuracy: 0.8134\n",
            "Epoch 00017: val_accuracy improved from 0.82062 to 0.82093, saving model to ph1_weights.hdf5\n",
            "375/375 [==============================] - 25s 68ms/step - loss: 0.4769 - accuracy: 0.8130 - val_loss: 0.4830 - val_accuracy: 0.8209\n",
            "Epoch 18/30\n",
            "374/375 [============================>.] - ETA: 0s - loss: 0.4680 - accuracy: 0.8190\n",
            "Epoch 00018: val_accuracy improved from 0.82093 to 0.82123, saving model to ph1_weights.hdf5\n",
            "375/375 [==============================] - 25s 67ms/step - loss: 0.4691 - accuracy: 0.8188 - val_loss: 0.4826 - val_accuracy: 0.8212\n",
            "Epoch 19/30\n",
            "374/375 [============================>.] - ETA: 0s - loss: 0.4748 - accuracy: 0.8170\n",
            "Epoch 00019: ReduceLROnPlateau reducing learning rate to 1.6000001778593287e-06.\n",
            "\n",
            "Epoch 00019: val_accuracy did not improve from 0.82123\n",
            "375/375 [==============================] - 21s 56ms/step - loss: 0.4748 - accuracy: 0.8169 - val_loss: 0.4828 - val_accuracy: 0.8212\n",
            "Epoch 20/30\n",
            "374/375 [============================>.] - ETA: 0s - loss: 0.4732 - accuracy: 0.8182\n",
            "Epoch 00020: ReduceLROnPlateau reducing learning rate to 1e-06.\n",
            "\n",
            "Epoch 00020: val_accuracy did not improve from 0.82123\n",
            "375/375 [==============================] - 21s 57ms/step - loss: 0.4735 - accuracy: 0.8182 - val_loss: 0.4821 - val_accuracy: 0.8206\n",
            "Epoch 21/30\n",
            "375/375 [==============================] - ETA: 0s - loss: 0.4709 - accuracy: 0.8184\n",
            "Epoch 00021: val_accuracy did not improve from 0.82123\n",
            "Restoring model weights from the end of the best epoch.\n",
            "375/375 [==============================] - 22s 58ms/step - loss: 0.4709 - accuracy: 0.8184 - val_loss: 0.4830 - val_accuracy: 0.8185\n",
            "Epoch 00021: early stopping\n"
          ],
          "name": "stdout"
        }
      ]
    },
    {
      "cell_type": "code",
      "metadata": {
        "id": "guL1T4WHoJXi"
      },
      "source": [
        "model.load_weights(best_weights_ph1)"
      ],
      "execution_count": 25,
      "outputs": []
    },
    {
      "cell_type": "code",
      "metadata": {
        "id": "_qLgJ-7wdzCa",
        "colab": {
          "base_uri": "https://localhost:8080/"
        },
        "outputId": "1ad93348-e382-4947-f45b-6d5458efc085"
      },
      "source": [
        "metricas = model.evaluate(X_test, Y_test)"
      ],
      "execution_count": 26,
      "outputs": [
        {
          "output_type": "stream",
          "text": [
            "129/129 [==============================] - 5s 39ms/step - loss: 0.4904 - accuracy: 0.8162\n"
          ],
          "name": "stdout"
        }
      ]
    },
    {
      "cell_type": "code",
      "metadata": {
        "id": "A6h2EbQCNBfO"
      },
      "source": [
        "early_stop = EarlyStopping(\n",
        "    monitor=\"val_accuracy\",\n",
        "    min_delta=0,\n",
        "    patience=4,\n",
        "    verbose=1,\n",
        "    mode=\"max\",\n",
        "    baseline=None,\n",
        "    restore_best_weights=True,\n",
        ")"
      ],
      "execution_count": 27,
      "outputs": []
    },
    {
      "cell_type": "code",
      "metadata": {
        "id": "OAL1_jc7oYur"
      },
      "source": [
        "densenet.trainable = True\n",
        "\n",
        "epocas = 30\n",
        "bs = 35\n",
        "lr = 0.0001\n",
        "optim = Adam(learning_rate = lr)\n",
        "model.compile(optimizer = optim, loss = 'categorical_crossentropy', metrics = ['accuracy'])\n",
        "reduce_lr = ReduceLROnPlateau(monitor='val_accuracy', factor=0.2, patience=1, min_lr=0.000001, verbose = 1)\n",
        "# Define checkpoint to save best Phase 1 weights\n",
        "best_weights_ph2 = \"ph2_weights.hdf5\"\n",
        "checkpoint = tf.keras.callbacks.ModelCheckpoint(best_weights_ph2, monitor=\"val_loss\", mode=\"min\", save_best_only=True, verbose=1)\n",
        "callbacks = [reduce_lr, checkpoint, early_stop]"
      ],
      "execution_count": 28,
      "outputs": []
    },
    {
      "cell_type": "code",
      "metadata": {
        "id": "UmkHTyXvo-av",
        "colab": {
          "base_uri": "https://localhost:8080/"
        },
        "outputId": "00770781-4db2-450d-ec7f-4e91cfe2d3fb"
      },
      "source": [
        "historico = model.fit(X_train,\n",
        "                      Y_train,\n",
        "                      epochs = epocas,\n",
        "                      batch_size = bs,\n",
        "                      validation_split = 0.2,\n",
        "                      callbacks = callbacks)"
      ],
      "execution_count": 29,
      "outputs": [
        {
          "output_type": "stream",
          "text": [
            "Epoch 1/30\n",
            "375/375 [==============================] - ETA: 0s - loss: 0.8157 - accuracy: 0.7099\n",
            "Epoch 00001: val_loss improved from inf to 0.58020, saving model to ph2_weights.hdf5\n",
            "375/375 [==============================] - 60s 160ms/step - loss: 0.8157 - accuracy: 0.7099 - val_loss: 0.5802 - val_accuracy: 0.7724\n",
            "Epoch 2/30\n",
            "375/375 [==============================] - ETA: 0s - loss: 0.4329 - accuracy: 0.8326\n",
            "Epoch 00002: val_loss improved from 0.58020 to 0.38834, saving model to ph2_weights.hdf5\n",
            "375/375 [==============================] - 56s 149ms/step - loss: 0.4329 - accuracy: 0.8326 - val_loss: 0.3883 - val_accuracy: 0.8511\n",
            "Epoch 3/30\n",
            "375/375 [==============================] - ETA: 0s - loss: 0.3204 - accuracy: 0.8761\n",
            "Epoch 00003: val_loss improved from 0.38834 to 0.34778, saving model to ph2_weights.hdf5\n",
            "375/375 [==============================] - 56s 149ms/step - loss: 0.3204 - accuracy: 0.8761 - val_loss: 0.3478 - val_accuracy: 0.8646\n",
            "Epoch 4/30\n",
            "375/375 [==============================] - ETA: 0s - loss: 0.2438 - accuracy: 0.9072\n",
            "Epoch 00004: val_loss improved from 0.34778 to 0.30272, saving model to ph2_weights.hdf5\n",
            "375/375 [==============================] - 56s 149ms/step - loss: 0.2438 - accuracy: 0.9072 - val_loss: 0.3027 - val_accuracy: 0.8905\n",
            "Epoch 5/30\n",
            "375/375 [==============================] - ETA: 0s - loss: 0.1989 - accuracy: 0.9262\n",
            "Epoch 00005: val_loss improved from 0.30272 to 0.30066, saving model to ph2_weights.hdf5\n",
            "375/375 [==============================] - 56s 149ms/step - loss: 0.1989 - accuracy: 0.9262 - val_loss: 0.3007 - val_accuracy: 0.8938\n",
            "Epoch 6/30\n",
            "375/375 [==============================] - ETA: 0s - loss: 0.1606 - accuracy: 0.9406\n",
            "Epoch 00006: ReduceLROnPlateau reducing learning rate to 1.9999999494757503e-05.\n",
            "\n",
            "Epoch 00006: val_loss did not improve from 0.30066\n",
            "375/375 [==============================] - 51s 137ms/step - loss: 0.1606 - accuracy: 0.9406 - val_loss: 0.5172 - val_accuracy: 0.8340\n",
            "Epoch 7/30\n",
            "375/375 [==============================] - ETA: 0s - loss: 0.0880 - accuracy: 0.9718\n",
            "Epoch 00007: val_loss improved from 0.30066 to 0.22438, saving model to ph2_weights.hdf5\n",
            "375/375 [==============================] - 56s 150ms/step - loss: 0.0880 - accuracy: 0.9718 - val_loss: 0.2244 - val_accuracy: 0.9185\n",
            "Epoch 8/30\n",
            "375/375 [==============================] - ETA: 0s - loss: 0.0563 - accuracy: 0.9843\n",
            "Epoch 00008: val_loss improved from 0.22438 to 0.22245, saving model to ph2_weights.hdf5\n",
            "375/375 [==============================] - 56s 150ms/step - loss: 0.0563 - accuracy: 0.9843 - val_loss: 0.2224 - val_accuracy: 0.9216\n",
            "Epoch 9/30\n",
            "375/375 [==============================] - ETA: 0s - loss: 0.0453 - accuracy: 0.9883\n",
            "Epoch 00009: ReduceLROnPlateau reducing learning rate to 3.999999898951501e-06.\n",
            "\n",
            "Epoch 00009: val_loss did not improve from 0.22245\n",
            "375/375 [==============================] - 51s 136ms/step - loss: 0.0453 - accuracy: 0.9883 - val_loss: 0.2321 - val_accuracy: 0.9216\n",
            "Epoch 10/30\n",
            "375/375 [==============================] - ETA: 0s - loss: 0.0344 - accuracy: 0.9917\n",
            "Epoch 00010: val_loss did not improve from 0.22245\n",
            "375/375 [==============================] - 51s 137ms/step - loss: 0.0344 - accuracy: 0.9917 - val_loss: 0.2249 - val_accuracy: 0.9228\n",
            "Epoch 11/30\n",
            "375/375 [==============================] - ETA: 0s - loss: 0.0315 - accuracy: 0.9930\n",
            "Epoch 00011: val_loss did not improve from 0.22245\n",
            "375/375 [==============================] - 52s 137ms/step - loss: 0.0315 - accuracy: 0.9930 - val_loss: 0.2241 - val_accuracy: 0.9262\n",
            "Epoch 12/30\n",
            "375/375 [==============================] - ETA: 0s - loss: 0.0296 - accuracy: 0.9931\n",
            "Epoch 00012: val_loss did not improve from 0.22245\n",
            "375/375 [==============================] - 51s 137ms/step - loss: 0.0296 - accuracy: 0.9931 - val_loss: 0.2243 - val_accuracy: 0.9274\n",
            "Epoch 13/30\n",
            "375/375 [==============================] - ETA: 0s - loss: 0.0262 - accuracy: 0.9935\n",
            "Epoch 00013: val_loss did not improve from 0.22245\n",
            "375/375 [==============================] - 51s 137ms/step - loss: 0.0262 - accuracy: 0.9935 - val_loss: 0.2253 - val_accuracy: 0.9292\n",
            "Epoch 14/30\n",
            "375/375 [==============================] - ETA: 0s - loss: 0.0244 - accuracy: 0.9953\n",
            "Epoch 00014: ReduceLROnPlateau reducing learning rate to 1e-06.\n",
            "\n",
            "Epoch 00014: val_loss did not improve from 0.22245\n",
            "375/375 [==============================] - 51s 135ms/step - loss: 0.0244 - accuracy: 0.9953 - val_loss: 0.2259 - val_accuracy: 0.9274\n",
            "Epoch 15/30\n",
            "375/375 [==============================] - ETA: 0s - loss: 0.0228 - accuracy: 0.9953\n",
            "Epoch 00015: val_loss did not improve from 0.22245\n",
            "375/375 [==============================] - 51s 136ms/step - loss: 0.0228 - accuracy: 0.9953 - val_loss: 0.2250 - val_accuracy: 0.9286\n",
            "Epoch 16/30\n",
            "375/375 [==============================] - ETA: 0s - loss: 0.0225 - accuracy: 0.9950\n",
            "Epoch 00016: val_loss did not improve from 0.22245\n",
            "375/375 [==============================] - 51s 136ms/step - loss: 0.0225 - accuracy: 0.9950 - val_loss: 0.2252 - val_accuracy: 0.9289\n",
            "Epoch 17/30\n",
            "375/375 [==============================] - ETA: 0s - loss: 0.0226 - accuracy: 0.9950\n",
            "Epoch 00017: val_loss did not improve from 0.22245\n",
            "Restoring model weights from the end of the best epoch.\n",
            "375/375 [==============================] - 51s 136ms/step - loss: 0.0226 - accuracy: 0.9950 - val_loss: 0.2251 - val_accuracy: 0.9271\n",
            "Epoch 00017: early stopping\n"
          ],
          "name": "stdout"
        }
      ]
    },
    {
      "cell_type": "code",
      "metadata": {
        "id": "TkD6sKyGpANM"
      },
      "source": [
        "model.load_weights(best_weights_ph2)"
      ],
      "execution_count": 30,
      "outputs": []
    },
    {
      "cell_type": "code",
      "metadata": {
        "id": "opYQBOHuvQL6",
        "colab": {
          "base_uri": "https://localhost:8080/",
          "height": 295
        },
        "outputId": "7b4761c0-ee4a-4604-8ba0-763f64baa97b"
      },
      "source": [
        "plt.plot(historico.history['accuracy'], c = 'b')\n",
        "plt.plot(historico.history['val_accuracy'], c = 'r')\n",
        "plt.legend(['Train', 'Validacion'])\n",
        "plt.xlabel('Epocas')\n",
        "plt.ylabel('Medida')\n",
        "plt.title('Evolucion Entrenamiento')\n",
        "plt.show()"
      ],
      "execution_count": 31,
      "outputs": [
        {
          "output_type": "display_data",
          "data": {
            "image/png": "[encoded data removed]",
            "text/plain": [
              "<Figure size 432x288 with 1 Axes>"
            ]
          },
          "metadata": {
            "tags": [],
            "needs_background": "light"
          }
        }
      ]
    },
    {
      "cell_type": "code",
      "metadata": {
        "id": "J-1Y8SjmvRtG",
        "colab": {
          "base_uri": "https://localhost:8080/",
          "height": 295
        },
        "outputId": "eaab17aa-bfa3-411e-92a1-a8f1a656b615"
      },
      "source": [
        "plt.plot(historico.history['loss'], c = 'b')\n",
        "plt.plot(historico.history['val_loss'], c = 'r')\n",
        "plt.legend(['Train', 'Validacion'])\n",
        "plt.xlabel('Epocas')\n",
        "plt.ylabel('Medida')\n",
        "plt.title('Evolucion Entrenamiento')\n",
        "plt.show()"
      ],
      "execution_count": 32,
      "outputs": [
        {
          "output_type": "display_data",
          "data": {
            "image/png": "[encoded data removed]",
            "text/plain": [
              "<Figure size 432x288 with 1 Axes>"
            ]
          },
          "metadata": {
            "tags": [],
            "needs_background": "light"
          }
        }
      ]
    },
    {
      "cell_type": "code",
      "metadata": {
        "id": "1EMCnVRcpCbw",
        "colab": {
          "base_uri": "https://localhost:8080/"
        },
        "outputId": "5414e014-8996-483f-f60b-d7c667d3410e"
      },
      "source": [
        "metricas = model.evaluate(X_test, Y_test)"
      ],
      "execution_count": 33,
      "outputs": [
        {
          "output_type": "stream",
          "text": [
            "129/129 [==============================] - 4s 34ms/step - loss: 0.2299 - accuracy: 0.9192\n"
          ],
          "name": "stdout"
        }
      ]
    },
    {
      "cell_type": "code",
      "metadata": {
        "id": "d30Xep38ION1"
      },
      "source": [
        "y_pred = model.predict(X_test)"
      ],
      "execution_count": 34,
      "outputs": []
    },
    {
      "cell_type": "code",
      "metadata": {
        "id": "S1FTipxMH7vT"
      },
      "source": [
        "import numpy as np\n",
        "import matplotlib.pyplot as plt\n",
        "\n",
        "from sklearn import svm, datasets\n",
        "from sklearn.model_selection import train_test_split\n",
        "from sklearn.metrics import confusion_matrix\n",
        "from sklearn.utils.multiclass import unique_labels"
      ],
      "execution_count": 35,
      "outputs": []
    },
    {
      "cell_type": "code",
      "metadata": {
        "colab": {
          "base_uri": "https://localhost:8080/",
          "height": 871
        },
        "id": "UCO9vT_lH8Qq",
        "outputId": "aa25b3cb-fb9d-4a8d-c16a-fd66ad14adf3"
      },
      "source": [
        "y = np.repeat(np.arange(0,10),15)\n",
        "def plot_confusion_matrix(y_true, y_pred, classes,\n",
        "                          normalize=False,\n",
        "                          title=None,\n",
        "                          cmap=plt.cm.Blues):\n",
        "    \"\"\"\n",
        "    This function prints and plots the confusion matrix.\n",
        "    Normalization can be applied by setting `normalize=True`.\n",
        "    \"\"\"\n",
        "    if not title:\n",
        "        if normalize:\n",
        "            title = 'Normalized confusion matrix'\n",
        "        else:\n",
        "            title = 'Confusion matrix, without normalization'\n",
        "\n",
        "    # Compute confusion matrix\n",
        "    \n",
        "    cm = confusion_matrix(y_true.argmax(axis=1), y_pred.argmax(axis=1))\n",
        "    # Only use the labels that appear in the data\n",
        "    classes = unique_labels([1,2,3,4,5,6,7], [1,2,3,4,5,6,7])\n",
        "    if normalize:\n",
        "        cm = cm.astype('float') / cm.sum(axis=1)[:, np.newaxis]\n",
        "        print(\"Normalized confusion matrix\")\n",
        "    else:\n",
        "        print('Confusion matrix, without normalization')\n",
        "\n",
        "    print(cm)\n",
        "\n",
        "    fig, ax = plt.subplots()\n",
        "    im = ax.imshow(cm, interpolation='nearest', cmap=cmap)\n",
        "    ax.figure.colorbar(im, ax=ax)\n",
        "    # We want to show all ticks...\n",
        "    ax.set(xticks=np.arange(cm.shape[1]),\n",
        "           yticks=np.arange(cm.shape[0]),\n",
        "           # ... and label them with the respective list entries\n",
        "           xticklabels=classes, yticklabels=classes,\n",
        "           title=title,\n",
        "           ylabel='True label',\n",
        "           xlabel='Predicted label')\n",
        "\n",
        "    # Rotate the tick labels and set their alignment.\n",
        "    plt.setp(ax.get_xticklabels(), rotation=45, ha=\"right\",\n",
        "             rotation_mode=\"anchor\")\n",
        "\n",
        "    # Loop over data dimensions and create text annotations.\n",
        "    fmt = '.2f' if normalize else 'd'\n",
        "    thresh = cm.max() / 2.\n",
        "    for i in range(cm.shape[0]):\n",
        "        for j in range(cm.shape[1]):\n",
        "            ax.text(j, i, format(cm[i, j], fmt),\n",
        "                    ha=\"center\", va=\"center\",\n",
        "                    color=\"white\" if cm[i, j] > thresh else \"black\")\n",
        "    fig.tight_layout()\n",
        "\n",
        "    return ax\n",
        "\n",
        "\n",
        "np.set_printoptions(precision=2)\n",
        "\n",
        "# Plot non-normalized confusion matrix\n",
        "plot_confusion_matrix(Y_test, y_pred, classes=7,\n",
        "                      title='Confusion matrix')\n",
        "\n",
        "# Plot normalized confusion matrix\n",
        "plot_confusion_matrix(Y_test, y_pred, classes=7, normalize=True,\n",
        "                      title='Normalized confusion matrix')\n",
        "\n",
        "plt.show()"
      ],
      "execution_count": 36,
      "outputs": [
        {
          "output_type": "stream",
          "text": [
            "Confusion matrix, without normalization\n",
            "[[522  12  12  13   0   5   0]\n",
            " [  5 480  34   3   0  10   0]\n",
            " [  4  22 501   5   3  88   2]\n",
            " [  9   1   0 575   0   0   0]\n",
            " [  0   1   0   1 601   0   1]\n",
            " [  1  13  74   3   5 512   2]\n",
            " [  1   1   0   0   0   0 575]]\n",
            "Normalized confusion matrix\n",
            "[[0.93 0.02 0.02 0.02 0.   0.01 0.  ]\n",
            " [0.01 0.9  0.06 0.01 0.   0.02 0.  ]\n",
            " [0.01 0.04 0.8  0.01 0.   0.14 0.  ]\n",
            " [0.02 0.   0.   0.98 0.   0.   0.  ]\n",
            " [0.   0.   0.   0.   1.   0.   0.  ]\n",
            " [0.   0.02 0.12 0.   0.01 0.84 0.  ]\n",
            " [0.   0.   0.   0.   0.   0.   1.  ]]\n"
          ],
          "name": "stdout"
        },
        {
          "output_type": "display_data",
          "data": {
            "image/png": "[encoded data removed]",
            "text/plain": [
              "<Figure size 432x288 with 2 Axes>"
            ]
          },
          "metadata": {
            "tags": [],
            "needs_background": "light"
          }
        },
        {
          "output_type": "display_data",
          "data": {
            "image/png": "[encoded data removed]",
            "text/plain": [
              "<Figure size 432x288 with 2 Axes>"
            ]
          },
          "metadata": {
            "tags": [],
            "needs_background": "light"
          }
        }
      ]
    },
    {
      "cell_type": "code",
      "metadata": {
        "id": "lpg9VxbO146x"
      },
      "source": [
        ""
      ],
      "execution_count": 36,
      "outputs": []
    }
  ]
}