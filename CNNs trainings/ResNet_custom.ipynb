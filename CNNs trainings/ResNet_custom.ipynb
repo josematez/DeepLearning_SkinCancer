{
  "nbformat": 4,
  "nbformat_minor": 0,
  "metadata": {
    "accelerator": "GPU",
    "colab": {
      "name": "ResNet_custom.ipynb",
      "provenance": [],
      "collapsed_sections": []
    },
    "kernelspec": {
      "display_name": "Python 3",
      "name": "python3"
    }
  },
  "cells": [
    {
      "cell_type": "code",
      "metadata": {
        "colab": {
          "base_uri": "https://localhost:8080/",
          "height": 505
        },
        "id": "O_Fa9CYiV0Ok",
        "outputId": "7f25ad67-d53b-4577-bec0-a122fc3e3edb"
      },
      "source": [
        "!pip install deepdish\n",
        "!pip install numpy==1.15.4"
      ],
      "execution_count": null,
      "outputs": [
        {
          "output_type": "stream",
          "text": [
            "Collecting deepdish\n",
            "  Downloading https://files.pythonhosted.org/packages/6e/39/2a47c852651982bc5eb39212ac110284dd20126bdc7b49bde401a0139f5d/deepdish-0.3.6-py2.py3-none-any.whl\n",
            "Requirement already satisfied: numpy in /usr/local/lib/python3.6/dist-packages (from deepdish) (1.18.5)\n",
            "Requirement already satisfied: tables in /usr/local/lib/python3.6/dist-packages (from deepdish) (3.4.4)\n",
            "Requirement already satisfied: scipy in /usr/local/lib/python3.6/dist-packages (from deepdish) (1.4.1)\n",
            "Requirement already satisfied: numexpr>=2.5.2 in /usr/local/lib/python3.6/dist-packages (from tables->deepdish) (2.7.1)\n",
            "Requirement already satisfied: six>=1.9.0 in /usr/local/lib/python3.6/dist-packages (from tables->deepdish) (1.15.0)\n",
            "Installing collected packages: deepdish\n",
            "Successfully installed deepdish-0.3.6\n",
            "Collecting numpy==1.15.4\n",
            "\u001b[?25l  Downloading https://files.pythonhosted.org/packages/ff/7f/9d804d2348471c67a7d8b5f84f9bc59fd1cefa148986f2b74552f8573555/numpy-1.15.4-cp36-cp36m-manylinux1_x86_64.whl (13.9MB)\n",
            "\u001b[K     |████████████████████████████████| 13.9MB 250kB/s \n",
            "\u001b[31mERROR: umap-learn 0.4.6 has requirement numpy>=1.17, but you'll have numpy 1.15.4 which is incompatible.\u001b[0m\n",
            "\u001b[31mERROR: tensorflow 2.3.0 has requirement numpy<1.19.0,>=1.16.0, but you'll have numpy 1.15.4 which is incompatible.\u001b[0m\n",
            "\u001b[31mERROR: plotnine 0.6.0 has requirement numpy>=1.16.0, but you'll have numpy 1.15.4 which is incompatible.\u001b[0m\n",
            "\u001b[31mERROR: datascience 0.10.6 has requirement folium==0.2.1, but you'll have folium 0.8.3 which is incompatible.\u001b[0m\n",
            "\u001b[31mERROR: astropy 4.1 has requirement numpy>=1.16, but you'll have numpy 1.15.4 which is incompatible.\u001b[0m\n",
            "\u001b[31mERROR: albumentations 0.1.12 has requirement imgaug<0.2.7,>=0.2.5, but you'll have imgaug 0.2.9 which is incompatible.\u001b[0m\n",
            "\u001b[?25hInstalling collected packages: numpy\n",
            "  Found existing installation: numpy 1.18.5\n",
            "    Uninstalling numpy-1.18.5:\n",
            "      Successfully uninstalled numpy-1.18.5\n",
            "Successfully installed numpy-1.15.4\n"
          ],
          "name": "stdout"
        },
        {
          "output_type": "display_data",
          "data": {
            "application/vnd.colab-display-data+json": {
              "pip_warning": {
                "packages": [
                  "numpy"
                ]
              }
            }
          },
          "metadata": {
            "tags": []
          }
        }
      ]
    },
    {
      "cell_type": "code",
      "metadata": {
        "id": "2SJTaYpGU0HX"
      },
      "source": [
        "%matplotlib inline\n",
        "import matplotlib.pyplot as plt\n",
        "import numpy as np\n",
        "import pandas as pd\n",
        "import os\n",
        "import deepdish as dd\n",
        "#from tqdm import tqdm\n",
        "#from glob import glob\n",
        "#import seaborn as sns\n",
        "#import pprint as pp\n",
        "\n",
        "from sklearn.model_selection import train_test_split\n",
        "from sklearn.metrics import confusion_matrix\n",
        "from sklearn.utils import resample\n",
        "\n",
        "import tensorflow as tf\n",
        "from tensorflow import keras\n",
        "from tensorflow.keras import layers\n",
        "from keras.utils import np_utils, to_categorical, plot_model\n",
        "from keras.callbacks import ReduceLROnPlateau\n",
        "from keras.optimizers import Adam, RMSprop, SGD\n",
        "from keras.preprocessing.image import ImageDataGenerator\n",
        "\n",
        "#import itertools\n",
        "\n",
        "#import cv2\n",
        "#from PIL import Image"
      ],
      "execution_count": 2,
      "outputs": []
    },
    {
      "cell_type": "code",
      "metadata": {
        "id": "myUH8aqdVKhe",
        "colab": {
          "base_uri": "https://localhost:8080/"
        },
        "outputId": "4937b178-b69c-4fe1-f7e3-a7b7dbbe2ff9"
      },
      "source": [
        "from google.colab import drive\n",
        "drive.mount('/content/drive')\n",
        "os.chdir('/content/drive/My Drive/Proyecto Curso Samsung')"
      ],
      "execution_count": 4,
      "outputs": [
        {
          "output_type": "stream",
          "text": [
            "Drive already mounted at /content/drive; to attempt to forcibly remount, call drive.mount(\"/content/drive\", force_remount=True).\n"
          ],
          "name": "stdout"
        }
      ]
    },
    {
      "cell_type": "code",
      "metadata": {
        "id": "3c_BhAXmVNGK"
      },
      "source": [
        "data = dd.io.load('ISIC_dataset.h5')\n",
        "data_df = pd.DataFrame(data)"
      ],
      "execution_count": 5,
      "outputs": []
    },
    {
      "cell_type": "code",
      "metadata": {
        "id": "tN93FJHiVOeS"
      },
      "source": [
        "X_raw = data_df.image\n",
        "Y = data_df.cell_type_idx"
      ],
      "execution_count": 6,
      "outputs": []
    },
    {
      "cell_type": "code",
      "metadata": {
        "id": "8VpzhNkEVPie"
      },
      "source": [
        "X = np.zeros((10015, 75, 100, 3))\n",
        "\n",
        "for i in range(10015):\n",
        "  X[i,:,:,:] = X_raw[i]"
      ],
      "execution_count": 7,
      "outputs": []
    },
    {
      "cell_type": "code",
      "metadata": {
        "id": "u_-udVWjVQzw"
      },
      "source": [
        "X_train, X_test, Y_train, Y_test = train_test_split(X, Y, test_size=0.2)\n",
        "X_train, X_val, Y_train, Y_val = train_test_split(X_train, Y_train, test_size=0.1)"
      ],
      "execution_count": 8,
      "outputs": []
    },
    {
      "cell_type": "code",
      "metadata": {
        "id": "e1ETV3chVTgD"
      },
      "source": [
        "X_train = (X_train / np.max(X_train))\n",
        "X_test = (X_test / np.max(X_test))\n",
        "X_val = (X_val / np.max(X_val))"
      ],
      "execution_count": 9,
      "outputs": []
    },
    {
      "cell_type": "code",
      "metadata": {
        "id": "5C_lLx6lWTWp"
      },
      "source": [
        "Y_train = to_categorical(Y_train, num_classes = 7)\n",
        "Y_test = to_categorical(Y_test, num_classes = 7)\n",
        "Y_val = to_categorical(Y_val, num_classes = 7)"
      ],
      "execution_count": 10,
      "outputs": []
    },
    {
      "cell_type": "code",
      "metadata": {
        "id": "4gFpao9MxuMh"
      },
      "source": [
        "# DATA AUGMENTATION\n",
        "datagen = ImageDataGenerator(\n",
        "        featurewise_center=False,  # set input mean to 0 over the dataset\n",
        "        samplewise_center=False,  # set each sample mean to 0\n",
        "        featurewise_std_normalization=False,  # divide inputs by std of the dataset\n",
        "        samplewise_std_normalization=False,  # divide each input by its std\n",
        "        zca_whitening=False,  # apply ZCA whitening\n",
        "        rotation_range=60,  # randomly rotate images in the range (degrees, 0 to 180)\n",
        "        zoom_range = 0.4, # Randomly zoom image \n",
        "        width_shift_range=0.2,  # randomly shift images horizontally (fraction of total width)\n",
        "        height_shift_range=0.2,  # randomly shift images vertically (fraction of total height)\n",
        "        horizontal_flip=False,  # randomly flip images\n",
        "        vertical_flip=False)  # randomly flip images\n",
        "\n",
        "datagen.fit(X_train)"
      ],
      "execution_count": 11,
      "outputs": []
    },
    {
      "cell_type": "code",
      "metadata": {
        "id": "pXernv2LZcAi",
        "colab": {
          "base_uri": "https://localhost:8080/"
        },
        "outputId": "338a8a95-f483-4169-c5c8-9ab9a32fdb40"
      },
      "source": [
        "\n",
        "input_shape = X_train[0].shape\n",
        "n_classes = len(Y_train[0])\n",
        "\n",
        "resnet = tf.keras.applications.ResNet152V2(weights='imagenet', include_top=False, input_shape=input_shape)\n",
        "resnet.trainable = False\n",
        "\n",
        "model = tf.keras.models.Sequential()\n",
        "model.add(resnet)\n",
        "model.add(tf.keras.layers.Flatten())\n",
        "model.add(tf.keras.layers.Dropout(0.25))\n",
        "model.add(tf.keras.layers.Dense(512, activation='relu'))\n",
        "model.add(tf.keras.layers.BatchNormalization())\n",
        "model.add(tf.keras.layers.Dropout(0.46))\n",
        "model.add(tf.keras.layers.Dense(128, activation='relu'))\n",
        "model.add(tf.keras.layers.BatchNormalization())\n",
        "model.add(tf.keras.layers.Dropout(0.46))    \n",
        "model.add(tf.keras.layers.Dense(n_classes, activation='softmax'))"
      ],
      "execution_count": 12,
      "outputs": [
        {
          "output_type": "stream",
          "text": [
            "Downloading data from https://storage.googleapis.com/tensorflow/keras-applications/resnet/resnet152v2_weights_tf_dim_ordering_tf_kernels_notop.h5\n",
            "234553344/234545216 [==============================] - 2s 0us/step\n"
          ],
          "name": "stdout"
        }
      ]
    },
    {
      "cell_type": "code",
      "metadata": {
        "id": "85KpND-odOfa"
      },
      "source": [
        "epocas = 50\n",
        "bs = 20\n",
        "lr = 0.001\n",
        "optim = Adam(learning_rate = lr)\n",
        "model.compile(optimizer = optim, loss = 'categorical_crossentropy', metrics = ['accuracy'])\n",
        "reduce_lr = ReduceLROnPlateau(monitor='val_loss', factor=0.2, patience=3, min_lr=0.00001)\n",
        "# Define checkpoint to save best Phase 1 weights\n",
        "best_weights_ph1 = \"ph1_weights.hdf5\"\n",
        "checkpoint = tf.keras.callbacks.ModelCheckpoint(best_weights_ph1, monitor=\"val_loss\", mode=\"min\", save_best_only=True, verbose=1)\n",
        "callbacks = [reduce_lr, checkpoint]"
      ],
      "execution_count": 13,
      "outputs": []
    },
    {
      "cell_type": "code",
      "metadata": {
        "id": "nzvLzj3Dda_T",
        "colab": {
          "base_uri": "https://localhost:8080/"
        },
        "outputId": "beac7b94-2c41-4a8d-9887-576f0888740c"
      },
      "source": [
        "historico = model.fit(datagen.flow(X_train, Y_train, batch_size = bs), epochs = epocas, batch_size = bs, validation_data = (X_val, Y_val), callbacks = callbacks)\n",
        "#historico = model.fit(X_train, Y_train, epochs = epocas, batch_size = bs, validation_split = 0.1, callbacks = callbacks)"
      ],
      "execution_count": 14,
      "outputs": [
        {
          "output_type": "stream",
          "text": [
            "Epoch 1/50\n",
            "361/361 [==============================] - ETA: 0s - loss: 1.5970 - accuracy: 0.5236\n",
            "Epoch 00001: val_loss improved from inf to 0.90617, saving model to ph1_weights.hdf5\n",
            "361/361 [==============================] - 31s 85ms/step - loss: 1.5970 - accuracy: 0.5236 - val_loss: 0.9062 - val_accuracy: 0.6983\n",
            "Epoch 2/50\n",
            "361/361 [==============================] - ETA: 0s - loss: 1.0757 - accuracy: 0.6506\n",
            "Epoch 00002: val_loss improved from 0.90617 to 0.82311, saving model to ph1_weights.hdf5\n",
            "361/361 [==============================] - 26s 72ms/step - loss: 1.0757 - accuracy: 0.6506 - val_loss: 0.8231 - val_accuracy: 0.7107\n",
            "Epoch 3/50\n",
            "361/361 [==============================] - ETA: 0s - loss: 0.9848 - accuracy: 0.6728\n",
            "Epoch 00003: val_loss did not improve from 0.82311\n",
            "361/361 [==============================] - 22s 61ms/step - loss: 0.9848 - accuracy: 0.6728 - val_loss: 0.8248 - val_accuracy: 0.7219\n",
            "Epoch 4/50\n",
            "361/361 [==============================] - ETA: 0s - loss: 0.9308 - accuracy: 0.6813\n",
            "Epoch 00004: val_loss improved from 0.82311 to 0.76586, saving model to ph1_weights.hdf5\n",
            "361/361 [==============================] - 25s 70ms/step - loss: 0.9308 - accuracy: 0.6813 - val_loss: 0.7659 - val_accuracy: 0.7219\n",
            "Epoch 5/50\n",
            "361/361 [==============================] - ETA: 0s - loss: 0.9189 - accuracy: 0.6779\n",
            "Epoch 00005: val_loss did not improve from 0.76586\n",
            "361/361 [==============================] - 22s 61ms/step - loss: 0.9189 - accuracy: 0.6779 - val_loss: 0.8030 - val_accuracy: 0.7207\n",
            "Epoch 6/50\n",
            "361/361 [==============================] - ETA: 0s - loss: 0.8977 - accuracy: 0.6878\n",
            "Epoch 00006: val_loss did not improve from 0.76586\n",
            "361/361 [==============================] - 22s 60ms/step - loss: 0.8977 - accuracy: 0.6878 - val_loss: 0.7942 - val_accuracy: 0.7307\n",
            "Epoch 7/50\n",
            "361/361 [==============================] - ETA: 0s - loss: 0.8781 - accuracy: 0.6856\n",
            "Epoch 00007: val_loss did not improve from 0.76586\n",
            "361/361 [==============================] - 22s 60ms/step - loss: 0.8781 - accuracy: 0.6856 - val_loss: 0.7680 - val_accuracy: 0.7307\n",
            "Epoch 8/50\n",
            "361/361 [==============================] - ETA: 0s - loss: 0.8606 - accuracy: 0.6913\n",
            "Epoch 00008: val_loss improved from 0.76586 to 0.75809, saving model to ph1_weights.hdf5\n",
            "361/361 [==============================] - 24s 68ms/step - loss: 0.8606 - accuracy: 0.6913 - val_loss: 0.7581 - val_accuracy: 0.7369\n",
            "Epoch 9/50\n",
            "361/361 [==============================] - ETA: 0s - loss: 0.8428 - accuracy: 0.6947\n",
            "Epoch 00009: val_loss did not improve from 0.75809\n",
            "361/361 [==============================] - 23s 63ms/step - loss: 0.8428 - accuracy: 0.6947 - val_loss: 0.7635 - val_accuracy: 0.7269\n",
            "Epoch 10/50\n",
            "361/361 [==============================] - ETA: 0s - loss: 0.8338 - accuracy: 0.6972\n",
            "Epoch 00010: val_loss improved from 0.75809 to 0.74406, saving model to ph1_weights.hdf5\n",
            "361/361 [==============================] - 26s 71ms/step - loss: 0.8338 - accuracy: 0.6972 - val_loss: 0.7441 - val_accuracy: 0.7369\n",
            "Epoch 11/50\n",
            "361/361 [==============================] - ETA: 0s - loss: 0.8484 - accuracy: 0.6969\n",
            "Epoch 00011: val_loss did not improve from 0.74406\n",
            "361/361 [==============================] - 23s 63ms/step - loss: 0.8484 - accuracy: 0.6969 - val_loss: 0.7477 - val_accuracy: 0.7344\n",
            "Epoch 12/50\n",
            "360/361 [============================>.] - ETA: 0s - loss: 0.8286 - accuracy: 0.7011\n",
            "Epoch 00012: val_loss improved from 0.74406 to 0.73166, saving model to ph1_weights.hdf5\n",
            "361/361 [==============================] - 26s 71ms/step - loss: 0.8283 - accuracy: 0.7011 - val_loss: 0.7317 - val_accuracy: 0.7394\n",
            "Epoch 13/50\n",
            "361/361 [==============================] - ETA: 0s - loss: 0.8249 - accuracy: 0.7037\n",
            "Epoch 00013: val_loss improved from 0.73166 to 0.72604, saving model to ph1_weights.hdf5\n",
            "361/361 [==============================] - 25s 70ms/step - loss: 0.8249 - accuracy: 0.7037 - val_loss: 0.7260 - val_accuracy: 0.7369\n",
            "Epoch 14/50\n",
            "361/361 [==============================] - ETA: 0s - loss: 0.8194 - accuracy: 0.7061\n",
            "Epoch 00014: val_loss did not improve from 0.72604\n",
            "361/361 [==============================] - 23s 63ms/step - loss: 0.8194 - accuracy: 0.7061 - val_loss: 0.7270 - val_accuracy: 0.7332\n",
            "Epoch 15/50\n",
            "361/361 [==============================] - ETA: 0s - loss: 0.8126 - accuracy: 0.7079\n",
            "Epoch 00015: val_loss did not improve from 0.72604\n",
            "361/361 [==============================] - 22s 61ms/step - loss: 0.8126 - accuracy: 0.7079 - val_loss: 0.7263 - val_accuracy: 0.7444\n",
            "Epoch 16/50\n",
            "361/361 [==============================] - ETA: 0s - loss: 0.8141 - accuracy: 0.7012\n",
            "Epoch 00016: val_loss did not improve from 0.72604\n",
            "361/361 [==============================] - 22s 61ms/step - loss: 0.8141 - accuracy: 0.7012 - val_loss: 0.7284 - val_accuracy: 0.7394\n",
            "Epoch 17/50\n",
            "361/361 [==============================] - ETA: 0s - loss: 0.8050 - accuracy: 0.7089\n",
            "Epoch 00017: val_loss improved from 0.72604 to 0.72200, saving model to ph1_weights.hdf5\n",
            "361/361 [==============================] - 24s 68ms/step - loss: 0.8050 - accuracy: 0.7089 - val_loss: 0.7220 - val_accuracy: 0.7369\n",
            "Epoch 18/50\n",
            "361/361 [==============================] - ETA: 0s - loss: 0.8081 - accuracy: 0.7060\n",
            "Epoch 00018: val_loss did not improve from 0.72200\n",
            "361/361 [==============================] - 23s 62ms/step - loss: 0.8081 - accuracy: 0.7060 - val_loss: 0.7232 - val_accuracy: 0.7382\n",
            "Epoch 19/50\n",
            "361/361 [==============================] - ETA: 0s - loss: 0.8107 - accuracy: 0.7121\n",
            "Epoch 00019: val_loss improved from 0.72200 to 0.72171, saving model to ph1_weights.hdf5\n",
            "361/361 [==============================] - 26s 71ms/step - loss: 0.8107 - accuracy: 0.7121 - val_loss: 0.7217 - val_accuracy: 0.7419\n",
            "Epoch 20/50\n",
            "361/361 [==============================] - ETA: 0s - loss: 0.8052 - accuracy: 0.7058\n",
            "Epoch 00020: val_loss improved from 0.72171 to 0.72099, saving model to ph1_weights.hdf5\n",
            "361/361 [==============================] - 24s 67ms/step - loss: 0.8052 - accuracy: 0.7058 - val_loss: 0.7210 - val_accuracy: 0.7431\n",
            "Epoch 21/50\n",
            "361/361 [==============================] - ETA: 0s - loss: 0.8136 - accuracy: 0.7055\n",
            "Epoch 00021: val_loss did not improve from 0.72099\n",
            "361/361 [==============================] - 22s 60ms/step - loss: 0.8136 - accuracy: 0.7055 - val_loss: 0.7248 - val_accuracy: 0.7431\n",
            "Epoch 22/50\n",
            "361/361 [==============================] - ETA: 0s - loss: 0.8037 - accuracy: 0.7096\n",
            "Epoch 00022: val_loss did not improve from 0.72099\n",
            "361/361 [==============================] - 21s 59ms/step - loss: 0.8037 - accuracy: 0.7096 - val_loss: 0.7251 - val_accuracy: 0.7406\n",
            "Epoch 23/50\n",
            "361/361 [==============================] - ETA: 0s - loss: 0.7943 - accuracy: 0.7140\n",
            "Epoch 00023: val_loss did not improve from 0.72099\n",
            "361/361 [==============================] - 21s 59ms/step - loss: 0.7943 - accuracy: 0.7140 - val_loss: 0.7215 - val_accuracy: 0.7431\n",
            "Epoch 24/50\n",
            "361/361 [==============================] - ETA: 0s - loss: 0.7898 - accuracy: 0.7154\n",
            "Epoch 00024: val_loss improved from 0.72099 to 0.72009, saving model to ph1_weights.hdf5\n",
            "361/361 [==============================] - 24s 65ms/step - loss: 0.7898 - accuracy: 0.7154 - val_loss: 0.7201 - val_accuracy: 0.7456\n",
            "Epoch 25/50\n",
            "361/361 [==============================] - ETA: 0s - loss: 0.8067 - accuracy: 0.7092\n",
            "Epoch 00025: val_loss improved from 0.72009 to 0.71980, saving model to ph1_weights.hdf5\n",
            "361/361 [==============================] - 24s 67ms/step - loss: 0.8067 - accuracy: 0.7092 - val_loss: 0.7198 - val_accuracy: 0.7406\n",
            "Epoch 26/50\n",
            "361/361 [==============================] - ETA: 0s - loss: 0.8031 - accuracy: 0.7092\n",
            "Epoch 00026: val_loss improved from 0.71980 to 0.71804, saving model to ph1_weights.hdf5\n",
            "361/361 [==============================] - 25s 70ms/step - loss: 0.8031 - accuracy: 0.7092 - val_loss: 0.7180 - val_accuracy: 0.7419\n",
            "Epoch 27/50\n",
            "361/361 [==============================] - ETA: 0s - loss: 0.8022 - accuracy: 0.7082\n",
            "Epoch 00027: val_loss did not improve from 0.71804\n",
            "361/361 [==============================] - 22s 60ms/step - loss: 0.8022 - accuracy: 0.7082 - val_loss: 0.7184 - val_accuracy: 0.7469\n",
            "Epoch 28/50\n",
            "361/361 [==============================] - ETA: 0s - loss: 0.7970 - accuracy: 0.7093\n",
            "Epoch 00028: val_loss did not improve from 0.71804\n",
            "361/361 [==============================] - 21s 59ms/step - loss: 0.7970 - accuracy: 0.7093 - val_loss: 0.7181 - val_accuracy: 0.7394\n",
            "Epoch 29/50\n",
            "361/361 [==============================] - ETA: 0s - loss: 0.8058 - accuracy: 0.7115\n",
            "Epoch 00029: val_loss improved from 0.71804 to 0.71626, saving model to ph1_weights.hdf5\n",
            "361/361 [==============================] - 24s 66ms/step - loss: 0.8058 - accuracy: 0.7115 - val_loss: 0.7163 - val_accuracy: 0.7456\n",
            "Epoch 30/50\n",
            "361/361 [==============================] - ETA: 0s - loss: 0.8047 - accuracy: 0.7096\n",
            "Epoch 00030: val_loss did not improve from 0.71626\n",
            "361/361 [==============================] - 22s 60ms/step - loss: 0.8047 - accuracy: 0.7096 - val_loss: 0.7175 - val_accuracy: 0.7444\n",
            "Epoch 31/50\n",
            "361/361 [==============================] - ETA: 0s - loss: 0.7932 - accuracy: 0.7126\n",
            "Epoch 00031: val_loss did not improve from 0.71626\n",
            "361/361 [==============================] - 21s 58ms/step - loss: 0.7932 - accuracy: 0.7126 - val_loss: 0.7178 - val_accuracy: 0.7419\n",
            "Epoch 32/50\n",
            "361/361 [==============================] - ETA: 0s - loss: 0.8026 - accuracy: 0.7105\n",
            "Epoch 00032: val_loss improved from 0.71626 to 0.71529, saving model to ph1_weights.hdf5\n",
            "361/361 [==============================] - 23s 64ms/step - loss: 0.8026 - accuracy: 0.7105 - val_loss: 0.7153 - val_accuracy: 0.7444\n",
            "Epoch 33/50\n",
            "361/361 [==============================] - ETA: 0s - loss: 0.8022 - accuracy: 0.7146\n",
            "Epoch 00033: val_loss did not improve from 0.71529\n",
            "361/361 [==============================] - 21s 59ms/step - loss: 0.8022 - accuracy: 0.7146 - val_loss: 0.7156 - val_accuracy: 0.7406\n",
            "Epoch 34/50\n",
            "361/361 [==============================] - ETA: 0s - loss: 0.7983 - accuracy: 0.7114\n",
            "Epoch 00034: val_loss did not improve from 0.71529\n",
            "361/361 [==============================] - 21s 58ms/step - loss: 0.7983 - accuracy: 0.7114 - val_loss: 0.7176 - val_accuracy: 0.7406\n",
            "Epoch 35/50\n",
            "361/361 [==============================] - ETA: 0s - loss: 0.8088 - accuracy: 0.7069\n",
            "Epoch 00035: val_loss did not improve from 0.71529\n",
            "361/361 [==============================] - 21s 58ms/step - loss: 0.8088 - accuracy: 0.7069 - val_loss: 0.7178 - val_accuracy: 0.7431\n",
            "Epoch 36/50\n",
            "361/361 [==============================] - ETA: 0s - loss: 0.7918 - accuracy: 0.7110\n",
            "Epoch 00036: val_loss did not improve from 0.71529\n",
            "361/361 [==============================] - 21s 58ms/step - loss: 0.7918 - accuracy: 0.7110 - val_loss: 0.7181 - val_accuracy: 0.7406\n",
            "Epoch 37/50\n",
            "361/361 [==============================] - ETA: 0s - loss: 0.8029 - accuracy: 0.7072\n",
            "Epoch 00037: val_loss did not improve from 0.71529\n",
            "361/361 [==============================] - 21s 58ms/step - loss: 0.8029 - accuracy: 0.7072 - val_loss: 0.7183 - val_accuracy: 0.7481\n",
            "Epoch 38/50\n",
            "361/361 [==============================] - ETA: 0s - loss: 0.7936 - accuracy: 0.7101\n",
            "Epoch 00038: val_loss did not improve from 0.71529\n",
            "361/361 [==============================] - 21s 58ms/step - loss: 0.7936 - accuracy: 0.7101 - val_loss: 0.7167 - val_accuracy: 0.7444\n",
            "Epoch 39/50\n",
            "361/361 [==============================] - ETA: 0s - loss: 0.7975 - accuracy: 0.7146\n",
            "Epoch 00039: val_loss did not improve from 0.71529\n",
            "361/361 [==============================] - 21s 58ms/step - loss: 0.7975 - accuracy: 0.7146 - val_loss: 0.7170 - val_accuracy: 0.7394\n",
            "Epoch 40/50\n",
            "361/361 [==============================] - ETA: 0s - loss: 0.7975 - accuracy: 0.7123\n",
            "Epoch 00040: val_loss did not improve from 0.71529\n",
            "361/361 [==============================] - 21s 58ms/step - loss: 0.7975 - accuracy: 0.7123 - val_loss: 0.7163 - val_accuracy: 0.7419\n",
            "Epoch 41/50\n",
            "361/361 [==============================] - ETA: 0s - loss: 0.7966 - accuracy: 0.7089\n",
            "Epoch 00041: val_loss did not improve from 0.71529\n",
            "361/361 [==============================] - 21s 58ms/step - loss: 0.7966 - accuracy: 0.7089 - val_loss: 0.7167 - val_accuracy: 0.7431\n",
            "Epoch 42/50\n",
            "361/361 [==============================] - ETA: 0s - loss: 0.7981 - accuracy: 0.7079\n",
            "Epoch 00042: val_loss did not improve from 0.71529\n",
            "361/361 [==============================] - 21s 58ms/step - loss: 0.7981 - accuracy: 0.7079 - val_loss: 0.7169 - val_accuracy: 0.7406\n",
            "Epoch 43/50\n",
            "361/361 [==============================] - ETA: 0s - loss: 0.7938 - accuracy: 0.7098\n",
            "Epoch 00043: val_loss did not improve from 0.71529\n",
            "361/361 [==============================] - 21s 57ms/step - loss: 0.7938 - accuracy: 0.7098 - val_loss: 0.7173 - val_accuracy: 0.7369\n",
            "Epoch 44/50\n",
            "361/361 [==============================] - ETA: 0s - loss: 0.8009 - accuracy: 0.7140\n",
            "Epoch 00044: val_loss did not improve from 0.71529\n",
            "361/361 [==============================] - 21s 58ms/step - loss: 0.8009 - accuracy: 0.7140 - val_loss: 0.7161 - val_accuracy: 0.7419\n",
            "Epoch 45/50\n",
            "361/361 [==============================] - ETA: 0s - loss: 0.8026 - accuracy: 0.7147\n",
            "Epoch 00045: val_loss did not improve from 0.71529\n",
            "361/361 [==============================] - 21s 58ms/step - loss: 0.8026 - accuracy: 0.7147 - val_loss: 0.7161 - val_accuracy: 0.7431\n",
            "Epoch 46/50\n",
            "361/361 [==============================] - ETA: 0s - loss: 0.7964 - accuracy: 0.7117\n",
            "Epoch 00046: val_loss did not improve from 0.71529\n",
            "361/361 [==============================] - 21s 57ms/step - loss: 0.7964 - accuracy: 0.7117 - val_loss: 0.7172 - val_accuracy: 0.7382\n",
            "Epoch 47/50\n",
            "361/361 [==============================] - ETA: 0s - loss: 0.8065 - accuracy: 0.7108\n",
            "Epoch 00047: val_loss did not improve from 0.71529\n",
            "361/361 [==============================] - 21s 58ms/step - loss: 0.8065 - accuracy: 0.7108 - val_loss: 0.7157 - val_accuracy: 0.7431\n",
            "Epoch 48/50\n",
            "361/361 [==============================] - ETA: 0s - loss: 0.7954 - accuracy: 0.7078\n",
            "Epoch 00048: val_loss did not improve from 0.71529\n",
            "361/361 [==============================] - 21s 57ms/step - loss: 0.7954 - accuracy: 0.7078 - val_loss: 0.7155 - val_accuracy: 0.7394\n",
            "Epoch 49/50\n",
            "360/361 [============================>.] - ETA: 0s - loss: 0.7992 - accuracy: 0.7118\n",
            "Epoch 00049: val_loss did not improve from 0.71529\n",
            "361/361 [==============================] - 21s 58ms/step - loss: 0.7986 - accuracy: 0.7119 - val_loss: 0.7169 - val_accuracy: 0.7382\n",
            "Epoch 50/50\n",
            "361/361 [==============================] - ETA: 0s - loss: 0.7991 - accuracy: 0.7096\n",
            "Epoch 00050: val_loss did not improve from 0.71529\n",
            "361/361 [==============================] - 21s 58ms/step - loss: 0.7991 - accuracy: 0.7096 - val_loss: 0.7160 - val_accuracy: 0.7369\n"
          ],
          "name": "stdout"
        }
      ]
    },
    {
      "cell_type": "code",
      "metadata": {
        "id": "guL1T4WHoJXi"
      },
      "source": [
        "model.load_weights(best_weights_ph1)"
      ],
      "execution_count": 15,
      "outputs": []
    },
    {
      "cell_type": "code",
      "metadata": {
        "id": "_qLgJ-7wdzCa",
        "colab": {
          "base_uri": "https://localhost:8080/"
        },
        "outputId": "0f9ebf61-301b-40bd-82c2-b216ae12ac53"
      },
      "source": [
        "metricas = model.evaluate(X_test, Y_test)"
      ],
      "execution_count": 16,
      "outputs": [
        {
          "output_type": "stream",
          "text": [
            "63/63 [==============================] - 4s 61ms/step - loss: 0.7516 - accuracy: 0.7329\n"
          ],
          "name": "stdout"
        }
      ]
    },
    {
      "cell_type": "code",
      "metadata": {
        "id": "OAL1_jc7oYur"
      },
      "source": [
        "resnet.trainable = True\n",
        "\n",
        "epocas = 30\n",
        "bs = 20\n",
        "lr = 0.0001\n",
        "optim = Adam(learning_rate = lr)\n",
        "model.compile(optimizer = optim, loss = 'categorical_crossentropy', metrics = ['accuracy'])\n",
        "reduce_lr = ReduceLROnPlateau(monitor='val_loss', factor=0.2, patience=3, min_lr=0.00001)\n",
        "# Define checkpoint to save best Phase 1 weights\n",
        "best_weights_ph2 = \"ph2_weights.hdf5\"\n",
        "checkpoint = tf.keras.callbacks.ModelCheckpoint(best_weights_ph2, monitor=\"val_loss\", mode=\"min\", save_best_only=True, verbose=1)\n",
        "callbacks = [reduce_lr, checkpoint]"
      ],
      "execution_count": 17,
      "outputs": []
    },
    {
      "cell_type": "code",
      "metadata": {
        "id": "UmkHTyXvo-av",
        "colab": {
          "base_uri": "https://localhost:8080/"
        },
        "outputId": "b75ae92a-9dcc-491c-fb75-f8623c5e1350"
      },
      "source": [
        "historico = model.fit(datagen.flow(X_train, Y_train, batch_size = bs), epochs = epocas, batch_size = bs, validation_data = (X_val, Y_val), callbacks = callbacks)"
      ],
      "execution_count": 18,
      "outputs": [
        {
          "output_type": "stream",
          "text": [
            "Epoch 1/30\n",
            "361/361 [==============================] - ETA: 0s - loss: 0.8630 - accuracy: 0.6908\n",
            "Epoch 00001: val_loss improved from inf to 0.70584, saving model to ph2_weights.hdf5\n",
            "361/361 [==============================] - 76s 210ms/step - loss: 0.8630 - accuracy: 0.6908 - val_loss: 0.7058 - val_accuracy: 0.7456\n",
            "Epoch 2/30\n",
            "361/361 [==============================] - ETA: 0s - loss: 0.7625 - accuracy: 0.7209\n",
            "Epoch 00002: val_loss improved from 0.70584 to 0.64263, saving model to ph2_weights.hdf5\n",
            "361/361 [==============================] - 65s 181ms/step - loss: 0.7625 - accuracy: 0.7209 - val_loss: 0.6426 - val_accuracy: 0.7693\n",
            "Epoch 3/30\n",
            "361/361 [==============================] - ETA: 0s - loss: 0.7289 - accuracy: 0.7344\n",
            "Epoch 00003: val_loss improved from 0.64263 to 0.61073, saving model to ph2_weights.hdf5\n",
            "361/361 [==============================] - 65s 180ms/step - loss: 0.7289 - accuracy: 0.7344 - val_loss: 0.6107 - val_accuracy: 0.7805\n",
            "Epoch 4/30\n",
            "361/361 [==============================] - ETA: 0s - loss: 0.6959 - accuracy: 0.7458\n",
            "Epoch 00004: val_loss improved from 0.61073 to 0.57131, saving model to ph2_weights.hdf5\n",
            "361/361 [==============================] - 65s 180ms/step - loss: 0.6959 - accuracy: 0.7458 - val_loss: 0.5713 - val_accuracy: 0.8080\n",
            "Epoch 5/30\n",
            "361/361 [==============================] - ETA: 0s - loss: 0.6724 - accuracy: 0.7534\n",
            "Epoch 00005: val_loss did not improve from 0.57131\n",
            "361/361 [==============================] - 59s 163ms/step - loss: 0.6724 - accuracy: 0.7534 - val_loss: 0.6577 - val_accuracy: 0.7781\n",
            "Epoch 6/30\n",
            "361/361 [==============================] - ETA: 0s - loss: 0.6491 - accuracy: 0.7680\n",
            "Epoch 00006: val_loss improved from 0.57131 to 0.56726, saving model to ph2_weights.hdf5\n",
            "361/361 [==============================] - 65s 179ms/step - loss: 0.6491 - accuracy: 0.7680 - val_loss: 0.5673 - val_accuracy: 0.7980\n",
            "Epoch 7/30\n",
            "361/361 [==============================] - ETA: 0s - loss: 0.6415 - accuracy: 0.7696\n",
            "Epoch 00007: val_loss did not improve from 0.56726\n",
            "361/361 [==============================] - 59s 163ms/step - loss: 0.6415 - accuracy: 0.7696 - val_loss: 0.6761 - val_accuracy: 0.7569\n",
            "Epoch 8/30\n",
            "361/361 [==============================] - ETA: 0s - loss: 0.6114 - accuracy: 0.7798\n",
            "Epoch 00008: val_loss did not improve from 0.56726\n",
            "361/361 [==============================] - 58s 162ms/step - loss: 0.6114 - accuracy: 0.7798 - val_loss: 0.6287 - val_accuracy: 0.7868\n",
            "Epoch 9/30\n",
            "361/361 [==============================] - ETA: 0s - loss: 0.6147 - accuracy: 0.7756\n",
            "Epoch 00009: val_loss did not improve from 0.56726\n",
            "361/361 [==============================] - 58s 162ms/step - loss: 0.6147 - accuracy: 0.7756 - val_loss: 0.6439 - val_accuracy: 0.7805\n",
            "Epoch 10/30\n",
            "361/361 [==============================] - ETA: 0s - loss: 0.5596 - accuracy: 0.7986\n",
            "Epoch 00010: val_loss improved from 0.56726 to 0.48894, saving model to ph2_weights.hdf5\n",
            "361/361 [==============================] - 65s 179ms/step - loss: 0.5596 - accuracy: 0.7986 - val_loss: 0.4889 - val_accuracy: 0.8117\n",
            "Epoch 11/30\n",
            "361/361 [==============================] - ETA: 0s - loss: 0.5282 - accuracy: 0.8083\n",
            "Epoch 00011: val_loss did not improve from 0.48894\n",
            "361/361 [==============================] - 59s 163ms/step - loss: 0.5282 - accuracy: 0.8083 - val_loss: 0.4904 - val_accuracy: 0.8242\n",
            "Epoch 12/30\n",
            "361/361 [==============================] - ETA: 0s - loss: 0.5030 - accuracy: 0.8166\n",
            "Epoch 00012: val_loss did not improve from 0.48894\n",
            "361/361 [==============================] - 58s 162ms/step - loss: 0.5030 - accuracy: 0.8166 - val_loss: 0.5283 - val_accuracy: 0.8155\n",
            "Epoch 13/30\n",
            "361/361 [==============================] - ETA: 0s - loss: 0.4884 - accuracy: 0.8240\n",
            "Epoch 00013: val_loss improved from 0.48894 to 0.47075, saving model to ph2_weights.hdf5\n",
            "361/361 [==============================] - 65s 180ms/step - loss: 0.4884 - accuracy: 0.8240 - val_loss: 0.4708 - val_accuracy: 0.8267\n",
            "Epoch 14/30\n",
            "361/361 [==============================] - ETA: 0s - loss: 0.4841 - accuracy: 0.8315\n",
            "Epoch 00014: val_loss did not improve from 0.47075\n",
            "361/361 [==============================] - 59s 163ms/step - loss: 0.4841 - accuracy: 0.8315 - val_loss: 0.4843 - val_accuracy: 0.8204\n",
            "Epoch 15/30\n",
            "361/361 [==============================] - ETA: 0s - loss: 0.4733 - accuracy: 0.8313\n",
            "Epoch 00015: val_loss did not improve from 0.47075\n",
            "361/361 [==============================] - 59s 163ms/step - loss: 0.4733 - accuracy: 0.8313 - val_loss: 0.4785 - val_accuracy: 0.8279\n",
            "Epoch 16/30\n",
            "361/361 [==============================] - ETA: 0s - loss: 0.4414 - accuracy: 0.8465\n",
            "Epoch 00016: val_loss did not improve from 0.47075\n",
            "361/361 [==============================] - 59s 163ms/step - loss: 0.4414 - accuracy: 0.8465 - val_loss: 0.4872 - val_accuracy: 0.8217\n",
            "Epoch 17/30\n",
            "361/361 [==============================] - ETA: 0s - loss: 0.4362 - accuracy: 0.8505\n",
            "Epoch 00017: val_loss improved from 0.47075 to 0.46743, saving model to ph2_weights.hdf5\n",
            "361/361 [==============================] - 65s 181ms/step - loss: 0.4362 - accuracy: 0.8505 - val_loss: 0.4674 - val_accuracy: 0.8329\n",
            "Epoch 18/30\n",
            "361/361 [==============================] - ETA: 0s - loss: 0.4232 - accuracy: 0.8495\n",
            "Epoch 00018: val_loss improved from 0.46743 to 0.45083, saving model to ph2_weights.hdf5\n",
            "361/361 [==============================] - 66s 182ms/step - loss: 0.4232 - accuracy: 0.8495 - val_loss: 0.4508 - val_accuracy: 0.8441\n",
            "Epoch 19/30\n",
            "361/361 [==============================] - ETA: 0s - loss: 0.4100 - accuracy: 0.8553\n",
            "Epoch 00019: val_loss improved from 0.45083 to 0.44524, saving model to ph2_weights.hdf5\n",
            "361/361 [==============================] - 66s 182ms/step - loss: 0.4100 - accuracy: 0.8553 - val_loss: 0.4452 - val_accuracy: 0.8516\n",
            "Epoch 20/30\n",
            "361/361 [==============================] - ETA: 0s - loss: 0.3967 - accuracy: 0.8626\n",
            "Epoch 00020: val_loss did not improve from 0.44524\n",
            "361/361 [==============================] - 59s 164ms/step - loss: 0.3967 - accuracy: 0.8626 - val_loss: 0.4551 - val_accuracy: 0.8441\n",
            "Epoch 21/30\n",
            "361/361 [==============================] - ETA: 0s - loss: 0.4059 - accuracy: 0.8577\n",
            "Epoch 00021: val_loss did not improve from 0.44524\n",
            "361/361 [==============================] - 59s 163ms/step - loss: 0.4059 - accuracy: 0.8577 - val_loss: 0.4517 - val_accuracy: 0.8392\n",
            "Epoch 22/30\n",
            "361/361 [==============================] - ETA: 0s - loss: 0.3864 - accuracy: 0.8671\n",
            "Epoch 00022: val_loss did not improve from 0.44524\n",
            "361/361 [==============================] - 59s 163ms/step - loss: 0.3864 - accuracy: 0.8671 - val_loss: 0.4627 - val_accuracy: 0.8466\n",
            "Epoch 23/30\n",
            "361/361 [==============================] - ETA: 0s - loss: 0.3877 - accuracy: 0.8667\n",
            "Epoch 00023: val_loss did not improve from 0.44524\n",
            "361/361 [==============================] - 59s 163ms/step - loss: 0.3877 - accuracy: 0.8667 - val_loss: 0.4600 - val_accuracy: 0.8404\n",
            "Epoch 24/30\n",
            "361/361 [==============================] - ETA: 0s - loss: 0.3654 - accuracy: 0.8749\n",
            "Epoch 00024: val_loss improved from 0.44524 to 0.43749, saving model to ph2_weights.hdf5\n",
            "361/361 [==============================] - 65s 180ms/step - loss: 0.3654 - accuracy: 0.8749 - val_loss: 0.4375 - val_accuracy: 0.8566\n",
            "Epoch 25/30\n",
            "361/361 [==============================] - ETA: 0s - loss: 0.3557 - accuracy: 0.8774\n",
            "Epoch 00025: val_loss did not improve from 0.43749\n",
            "361/361 [==============================] - 59s 163ms/step - loss: 0.3557 - accuracy: 0.8774 - val_loss: 0.4428 - val_accuracy: 0.8479\n",
            "Epoch 26/30\n",
            "361/361 [==============================] - ETA: 0s - loss: 0.3640 - accuracy: 0.8743\n",
            "Epoch 00026: val_loss improved from 0.43749 to 0.43662, saving model to ph2_weights.hdf5\n",
            "361/361 [==============================] - 65s 179ms/step - loss: 0.3640 - accuracy: 0.8743 - val_loss: 0.4366 - val_accuracy: 0.8516\n",
            "Epoch 27/30\n",
            "361/361 [==============================] - ETA: 0s - loss: 0.3554 - accuracy: 0.8757\n",
            "Epoch 00027: val_loss did not improve from 0.43662\n",
            "361/361 [==============================] - 59s 163ms/step - loss: 0.3554 - accuracy: 0.8757 - val_loss: 0.4625 - val_accuracy: 0.8416\n",
            "Epoch 28/30\n",
            "361/361 [==============================] - ETA: 0s - loss: 0.3374 - accuracy: 0.8917\n",
            "Epoch 00028: val_loss did not improve from 0.43662\n",
            "361/361 [==============================] - 59s 162ms/step - loss: 0.3374 - accuracy: 0.8917 - val_loss: 0.4445 - val_accuracy: 0.8504\n",
            "Epoch 29/30\n",
            "361/361 [==============================] - ETA: 0s - loss: 0.3333 - accuracy: 0.8882\n",
            "Epoch 00029: val_loss did not improve from 0.43662\n",
            "361/361 [==============================] - 58s 162ms/step - loss: 0.3333 - accuracy: 0.8882 - val_loss: 0.4430 - val_accuracy: 0.8529\n",
            "Epoch 30/30\n",
            "361/361 [==============================] - ETA: 0s - loss: 0.3280 - accuracy: 0.8834\n",
            "Epoch 00030: val_loss improved from 0.43662 to 0.43375, saving model to ph2_weights.hdf5\n",
            "361/361 [==============================] - 65s 180ms/step - loss: 0.3280 - accuracy: 0.8834 - val_loss: 0.4337 - val_accuracy: 0.8466\n"
          ],
          "name": "stdout"
        }
      ]
    },
    {
      "cell_type": "code",
      "metadata": {
        "id": "TkD6sKyGpANM"
      },
      "source": [
        "model.load_weights(best_weights_ph2)"
      ],
      "execution_count": 19,
      "outputs": []
    },
    {
      "cell_type": "code",
      "metadata": {
        "id": "opYQBOHuvQL6",
        "colab": {
          "base_uri": "https://localhost:8080/",
          "height": 295
        },
        "outputId": "38ef4ac4-ceb6-41f1-e4df-781b3cbfdccb"
      },
      "source": [
        "plt.plot(historico.history['accuracy'], c = 'b')\n",
        "plt.plot(historico.history['val_accuracy'], c = 'r')\n",
        "plt.legend(['Train', 'Validacion'])\n",
        "plt.xlabel('Epocas')\n",
        "plt.ylabel('Medida')\n",
        "plt.title('Evolucion Entrenamiento')\n",
        "plt.show()"
      ],
      "execution_count": 20,
      "outputs": [
        {
          "output_type": "display_data",
          "data": {
            "image/png": "[encoded data removed]",
            "text/plain": [
              "<Figure size 432x288 with 1 Axes>"
            ]
          },
          "metadata": {
            "tags": [],
            "needs_background": "light"
          }
        }
      ]
    },
    {
      "cell_type": "code",
      "metadata": {
        "id": "J-1Y8SjmvRtG",
        "colab": {
          "base_uri": "https://localhost:8080/",
          "height": 295
        },
        "outputId": "4e3cda3c-e45f-40de-be56-eacd9ef8c08d"
      },
      "source": [
        "plt.plot(historico.history['loss'], c = 'b')\n",
        "plt.plot(historico.history['val_loss'], c = 'r')\n",
        "plt.legend(['Train', 'Validacion'])\n",
        "plt.xlabel('Epocas')\n",
        "plt.ylabel('Medida')\n",
        "plt.title('Evolucion Entrenamiento')\n",
        "plt.show()"
      ],
      "execution_count": 21,
      "outputs": [
        {
          "output_type": "display_data",
          "data": {
            "image/png": "[encoded data removed]",
            "text/plain": [
              "<Figure size 432x288 with 1 Axes>"
            ]
          },
          "metadata": {
            "tags": [],
            "needs_background": "light"
          }
        }
      ]
    },
    {
      "cell_type": "code",
      "metadata": {
        "id": "1EMCnVRcpCbw",
        "colab": {
          "base_uri": "https://localhost:8080/"
        },
        "outputId": "6c7e82a0-3ee4-4041-f1ef-ab95cc91daf6"
      },
      "source": [
        "metricas = model.evaluate(X_test, Y_test)"
      ],
      "execution_count": 22,
      "outputs": [
        {
          "output_type": "stream",
          "text": [
            "63/63 [==============================] - 4s 58ms/step - loss: 0.4776 - accuracy: 0.8402\n"
          ],
          "name": "stdout"
        }
      ]
    }
  ]
}