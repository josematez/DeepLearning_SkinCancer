{
  "nbformat": 4,
  "nbformat_minor": 0,
  "metadata": {
    "accelerator": "GPU",
    "colab": {
      "name": "DenseNet_BalancedData+DataAugmentation.ipynb",
      "provenance": [],
      "collapsed_sections": [],
      "machine_shape": "hm"
    },
    "kernelspec": {
      "display_name": "Python 3",
      "name": "python3"
    }
  },
  "cells": [
    {
      "cell_type": "markdown",
      "metadata": {
        "id": "HXftL75774Ht"
      },
      "source": [
        "**LIBRARY MANAGEMENT**"
      ]
    },
    {
      "cell_type": "code",
      "metadata": {
        "colab": {
          "base_uri": "https://localhost:8080/"
        },
        "id": "PSsH-P5c5g10",
        "outputId": "5e59fa3f-f4ff-4269-8b85-a7ba21b256c7"
      },
      "source": [
        "# Installing necessary packages that are not pre-installed in Google Colab\n",
        "!pip install deepdish\n",
        "!pip install numpy==1.15.4"
      ],
      "execution_count": 1,
      "outputs": [
        {
          "output_type": "stream",
          "text": [
            "Requirement already satisfied: deepdish in /usr/local/lib/python3.6/dist-packages (0.3.6)\n",
            "Requirement already satisfied: scipy in /usr/local/lib/python3.6/dist-packages (from deepdish) (1.4.1)\n",
            "Requirement already satisfied: numpy in /usr/local/lib/python3.6/dist-packages (from deepdish) (1.15.4)\n",
            "Requirement already satisfied: tables in /usr/local/lib/python3.6/dist-packages (from deepdish) (3.4.4)\n",
            "Requirement already satisfied: six>=1.9.0 in /usr/local/lib/python3.6/dist-packages (from tables->deepdish) (1.15.0)\n",
            "Requirement already satisfied: numexpr>=2.5.2 in /usr/local/lib/python3.6/dist-packages (from tables->deepdish) (2.7.1)\n",
            "Requirement already satisfied: numpy==1.15.4 in /usr/local/lib/python3.6/dist-packages (1.15.4)\n"
          ],
          "name": "stdout"
        }
      ]
    },
    {
      "cell_type": "code",
      "metadata": {
        "id": "4cgdOvWE5irx"
      },
      "source": [
        "# Importing required libraries\n",
        "%matplotlib inline\n",
        "import matplotlib.pyplot as plt\n",
        "import numpy as np\n",
        "import pandas as pd\n",
        "import os\n",
        "import deepdish as dd\n",
        "\n",
        "from sklearn.model_selection import train_test_split\n",
        "from sklearn.metrics import confusion_matrix\n",
        "\n",
        "import tensorflow as tf\n",
        "from tensorflow import keras\n",
        "from tensorflow.keras import layers\n",
        "from keras.utils import np_utils, to_categorical, plot_model\n",
        "from keras.callbacks import ReduceLROnPlateau\n",
        "from keras.optimizers import Adam, RMSprop, SGD\n",
        "from keras.preprocessing.image import ImageDataGenerator\n",
        "from tensorflow.keras.layers.experimental import preprocessing\n",
        "from tensorflow.keras.models import Sequential\n",
        "\n",
        "from imgaug import augmenters as iaa\n",
        "from imgaug import parameters as iap"
      ],
      "execution_count": 2,
      "outputs": []
    },
    {
      "cell_type": "markdown",
      "metadata": {
        "id": "hs0Jk6ht8A26"
      },
      "source": [
        "**DATA ACQUISITION**"
      ]
    },
    {
      "cell_type": "code",
      "metadata": {
        "colab": {
          "base_uri": "https://localhost:8080/"
        },
        "id": "PE6eTHy45k5n",
        "outputId": "be530da7-80cc-4fc9-b885-95f1024ad1e5"
      },
      "source": [
        "# Connection with Google Drive for Data Acquisition\n",
        "from google.colab import drive\n",
        "drive.mount('/content/drive')\n",
        "os.chdir('/content/drive/My Drive/ISIC_Dataset')"
      ],
      "execution_count": 3,
      "outputs": [
        {
          "output_type": "stream",
          "text": [
            "Drive already mounted at /content/drive; to attempt to forcibly remount, call drive.mount(\"/content/drive\", force_remount=True).\n"
          ],
          "name": "stdout"
        }
      ]
    },
    {
      "cell_type": "code",
      "metadata": {
        "id": "FhIfrgtW5qEr"
      },
      "source": [
        "# Data Acquisition\n",
        "data = dd.io.load('ISIC_dataset.h5')\n",
        "data_df = pd.DataFrame(data)"
      ],
      "execution_count": 4,
      "outputs": []
    },
    {
      "cell_type": "code",
      "metadata": {
        "id": "KnrrES5T6Ozb"
      },
      "source": [
        "# Separating data into images (X) and labels (Y)\n",
        "X = data_df.image\n",
        "Y = data_df.cell_type_idx"
      ],
      "execution_count": 5,
      "outputs": []
    },
    {
      "cell_type": "markdown",
      "metadata": {
        "id": "r7pnMb_C8IYK"
      },
      "source": [
        "**DATA PREPROCESSING**"
      ]
    },
    {
      "cell_type": "code",
      "metadata": {
        "colab": {
          "base_uri": "https://localhost:8080/"
        },
        "id": "8u3bJKRqmqMU",
        "outputId": "16b77549-13c7-4b56-94ed-5c73df2a0289"
      },
      "source": [
        "# EDA: Value count of data categories\n",
        "data_df.cell_type.value_counts()"
      ],
      "execution_count": 6,
      "outputs": [
        {
          "output_type": "execute_result",
          "data": {
            "text/plain": [
              "Melanocytic nevi                  6705\n",
              "Melanoma                          1113\n",
              "Benign keratosis-like lesions     1099\n",
              "Basal cell carcinoma               514\n",
              "Actinic keratoses                  327\n",
              "Vascular lesions                   142\n",
              "Dermatofibroma                     115\n",
              "Name: cell_type, dtype: int64"
            ]
          },
          "metadata": {
            "tags": []
          },
          "execution_count": 6
        }
      ]
    },
    {
      "cell_type": "code",
      "metadata": {
        "id": "ZtOuLMa96iNJ"
      },
      "source": [
        "# Function definition: balance_and_augmentation_data\n",
        "## Given a unbalanced dataset, this function carries out a data balance by \n",
        "## applying data augmentation. Given a number of images per class, the function\n",
        "## returns a dataset with all the categories with the same number of data.\n",
        "\n",
        "def balance_and_augmentation_data(X, Y, num_muestras_clase): \n",
        "\n",
        "  \"\"\"\n",
        "  Input params: X, Y, num_muestras_clase\n",
        "  Output params: X_bal, Y_bal\n",
        "  \"\"\"\n",
        "\n",
        "  X = np.array(X)\n",
        "  Y = Y.to_numpy()\n",
        "\n",
        "  # Definition of basic information: images size, number of categories and\n",
        "  # inital number of samples per category.\n",
        "  rows, cols, depth = X[0].shape\n",
        "  num_clases = pd.DataFrame(Y).nunique()[0]\n",
        "  num_muestras_init = pd.DataFrame(Y).value_counts()\n",
        "\n",
        "  # Initializing the new dataset\n",
        "  X_bal = np.zeros((num_clases*num_muestras_clase, rows, cols, depth), \n",
        "                   dtype = np.uint8)\n",
        "  Y_bal = np.zeros((num_clases*num_muestras_clase,), dtype = np.uint8)\n",
        "  '''\n",
        "  # Se define el operador para data augmentation\n",
        "  seq = iaa.Sequential([\n",
        "      iaa.GaussianBlur(\n",
        "          sigma=iap.Uniform(0.0, 1.0)\n",
        "      ),\n",
        "      iaa.Affine(\n",
        "          rotate=iap.Normal(0.0, 30),\n",
        "          translate_px=iap.RandomSign(iap.Poisson(3))\n",
        "      )\n",
        "  ])\n",
        "  '''\n",
        "  # Definition of Data Augmentation operator\n",
        "  seq = iaa.Sequential([\n",
        "      #iaa.Fliplr(0.5), # horizontal flips\n",
        "      #iaa.Crop(percent=(0, 0.1)), # random crops\n",
        "      iaa.Sometimes(0.5,iaa.GaussianBlur(sigma=(0, 1.0))), # small gausian blur\n",
        "      # Add gaussian noise.\n",
        "      iaa.AdditiveGaussianNoise(loc=0, scale=(0.0, 0.05*255), per_channel=0.5)\n",
        "      # Apply affine transformations to each image.\n",
        "      # Scale/zoom them, translate/move them, rotate them and shear them.\n",
        "      #iaa.Affine(\n",
        "      #    scale={\"x\": (0.8, 1.2), \"y\": (0.8, 1.2)},\n",
        "      #    translate_percent={\"x\": (-0.2, 0.2), \"y\": (-0.2, 0.2)},\n",
        "      #    rotate=(-40, 40),\n",
        "      #    shear=(-8, 8),\n",
        "      #    order = 0,\n",
        "      #    cval=(0, 255),\n",
        "      #)\n",
        "  ], random_order=True)\n",
        "\n",
        "  # Definition of another Data Augmentation operator\n",
        "  img_augmentation = Sequential(\n",
        "      [\n",
        "          preprocessing.RandomRotation(factor=0.15),\n",
        "          preprocessing.RandomTranslation(height_factor=0.1, width_factor=0.1),\n",
        "          preprocessing.RandomFlip(),\n",
        "          preprocessing.RandomContrast(factor=0.1),\n",
        "      ],\n",
        "      name=\"img_augmentation\",\n",
        "  )\n",
        "\n",
        "  # Initializing counter\n",
        "  next_idx = 0\n",
        "  \n",
        "  # For each category, we iterate filling the new dataset with existing data and\n",
        "  # complete to the desired number of data per class with data augmentation\n",
        "  # images from the previously defined operator.\n",
        "  for cat in range(num_clases):\n",
        "\n",
        "    print('Data Balance for Class {} with {} original images'.format(cat, \n",
        "                                              num_muestras_init[cat].values[0]))\n",
        "\n",
        "    # Number images to generate with data augmentation operator.\n",
        "    n_imgs_generate = num_muestras_clase - num_muestras_init[cat].values[0]\n",
        "    # Indexes of original images of current category in the original dataset.\n",
        "    idx_imgs_cat = np.where(Y == cat)[0]\n",
        "    \n",
        "    # Complete the new dataset with original data\n",
        "    for idx, img in enumerate(idx_imgs_cat):\n",
        "      if idx < num_muestras_clase:\n",
        "        X_bal[next_idx,:,:,:] = X[img]\n",
        "        Y_bal[next_idx] = Y[img]\n",
        "        next_idx += 1\n",
        "      else:\n",
        "        break\n",
        "\n",
        "    # Complete the new dataset with new data generated by data augmentation\n",
        "    # operator.\n",
        "    if n_imgs_generate > 0:\n",
        "      idx_new_imgs = np.random.randint(0, num_muestras_init[cat].values[0], \n",
        "                                       n_imgs_generate)\n",
        "      for idx in idx_new_imgs:\n",
        "        modified_image = seq.augment_image(X[idx_imgs_cat[idx]])\n",
        "        X_bal[next_idx,:,:,:] = img_augmentation(tf.expand_dims(modified_image,\n",
        "                                                                axis=0))\n",
        "        Y_bal[next_idx] = cat\n",
        "        next_idx += 1\n",
        "\n",
        "  return X_bal, Y_bal "
      ],
      "execution_count": 7,
      "outputs": []
    },
    {
      "cell_type": "code",
      "metadata": {
        "id": "FvJ28h2ifpSe"
      },
      "source": [
        "# Separate the original dataset into train set and test set\n",
        "X_train, X_test, Y_train, Y_test = train_test_split(X, Y, test_size=0.2, random_state = 1997)"
      ],
      "execution_count": 8,
      "outputs": []
    },
    {
      "cell_type": "code",
      "metadata": {
        "id": "S7bBBZIErOIu"
      },
      "source": [
        "# Resizing the test set into shape (None, 75, 100, 3)\n",
        "X_test_old = np.array(X_test)\n",
        "num_test_muestras = X_test_old.shape[0]\n",
        "X_test = np.zeros((num_test_muestras, 75, 100, 3), dtype = np.uint8)\n",
        "\n",
        "for i in range(num_test_muestras):\n",
        "  X_test[i,:,:,:] = X_test_old[i]"
      ],
      "execution_count": 9,
      "outputs": []
    },
    {
      "cell_type": "code",
      "metadata": {
        "id": "sNRSweOB0SIR",
        "colab": {
          "base_uri": "https://localhost:8080/"
        },
        "outputId": "6e9d258c-cdbd-4139-e64c-1f605ddf72e9"
      },
      "source": [
        "# Balancing the train set\n",
        "X_train, Y_train = balance_and_augmentation_data(X_train, Y_train, 6000)\n",
        "pd.Series(Y_train).value_counts()"
      ],
      "execution_count": 10,
      "outputs": [
        {
          "output_type": "stream",
          "text": [
            "Data Balance for Class 0 with 268 original images\n",
            "Data Balance for Class 1 with 401 original images\n",
            "Data Balance for Class 2 with 881 original images\n",
            "Data Balance for Class 3 with 89 original images\n",
            "Data Balance for Class 4 with 5371 original images\n",
            "Data Balance for Class 5 with 891 original images\n",
            "Data Balance for Class 6 with 111 original images\n"
          ],
          "name": "stdout"
        },
        {
          "output_type": "execute_result",
          "data": {
            "text/plain": [
              "6    6000\n",
              "5    6000\n",
              "4    6000\n",
              "3    6000\n",
              "2    6000\n",
              "1    6000\n",
              "0    6000\n",
              "dtype: int64"
            ]
          },
          "metadata": {
            "tags": []
          },
          "execution_count": 10
        }
      ]
    },
    {
      "cell_type": "code",
      "metadata": {
        "id": "hIMns1k_gXSC"
      },
      "source": [
        "# Separate train set into train and validation set\n",
        "X_train, X_val, Y_train, Y_val = train_test_split(X_train, Y_train, test_size=0.1, random_state = 2020)"
      ],
      "execution_count": 11,
      "outputs": []
    },
    {
      "cell_type": "code",
      "metadata": {
        "colab": {
          "base_uri": "https://localhost:8080/"
        },
        "id": "0ezRWDnppny4",
        "outputId": "6f71feaf-76ac-4764-f825-9515f10c4df7"
      },
      "source": [
        "print('X_train shape: {}'.format(X_train.shape))\n",
        "print('Y_train shape: {}'.format(Y_train.shape))\n",
        "print('-'*30)\n",
        "print('X_test shape: {}'.format(X_test.shape))\n",
        "print('Y_test shape: {}'.format(Y_test.shape))"
      ],
      "execution_count": 12,
      "outputs": [
        {
          "output_type": "stream",
          "text": [
            "X_train shape: (37800, 75, 100, 3)\n",
            "Y_train shape: (37800,)\n",
            "------------------------------\n",
            "X_test shape: (2003, 75, 100, 3)\n",
            "Y_test shape: (2003,)\n"
          ],
          "name": "stdout"
        }
      ]
    },
    {
      "cell_type": "code",
      "metadata": {
        "colab": {
          "base_uri": "https://localhost:8080/",
          "height": 269
        },
        "id": "VftO-P520xsh",
        "outputId": "e70a25c0-c460-44e8-a18d-7b5a6762b33e"
      },
      "source": [
        "# Showing some train and test images\n",
        "fig = plt.figure()\n",
        "\n",
        "plt.subplot(221)\n",
        "plt.imshow(X_train[100], cmap = 'Greys')\n",
        "plt.subplot(222)\n",
        "plt.imshow(X_train[600], cmap = 'Greys')\n",
        "plt.subplot(223)\n",
        "plt.imshow(X_test[100], cmap = 'Greys')\n",
        "plt.subplot(224)\n",
        "plt.imshow(X_test[600], cmap = 'Greys')\n",
        "\n",
        "plt.show()"
      ],
      "execution_count": 13,
      "outputs": [
        {
          "output_type": "display_data",
          "data": {
            "image/png": "[encoded data removed]",
            "text/plain": [
              "<Figure size 432x288 with 4 Axes>"
            ]
          },
          "metadata": {
            "tags": [],
            "needs_background": "light"
          }
        }
      ]
    },
    {
      "cell_type": "code",
      "metadata": {
        "id": "U2a_Ls6IZBTo"
      },
      "source": [
        "# Data preprocessing\n",
        "\n",
        "# Image normalization\n",
        "X_train = (X_train / np.max(X_train))\n",
        "X_test = (X_test / np.max(X_test))\n",
        "X_val = (X_val / np.max(X_val))\n",
        "\n",
        "# Converting labels to one hot encoding\n",
        "n_classes = len(np.unique(Y_train))\n",
        "Y_train = to_categorical(Y_train, num_classes = n_classes)\n",
        "Y_test = to_categorical(Y_test, num_classes = n_classes)\n",
        "Y_val = to_categorical(Y_val, num_classes = n_classes)"
      ],
      "execution_count": 14,
      "outputs": []
    },
    {
      "cell_type": "code",
      "metadata": {
        "id": "CJSH0edMgN9x"
      },
      "source": [
        "# Definition of Data Augmentation operator\n",
        "datagen = ImageDataGenerator(\n",
        "        featurewise_center=False,  # set input mean to 0 over the dataset\n",
        "        samplewise_center=False,  # set each sample mean to 0\n",
        "        featurewise_std_normalization=False,  # divide inputs by std of the dataset\n",
        "        samplewise_std_normalization=False,  # divide each input by its std\n",
        "        zca_whitening=False,  # apply ZCA whitening\n",
        "        rotation_range=60,  # randomly rotate images in the range (degrees, 0 to 180)\n",
        "        zoom_range = 0.4, # Randomly zoom image \n",
        "        width_shift_range=0.2,  # randomly shift images horizontally (fraction of total width)\n",
        "        height_shift_range=0.2,  # randomly shift images vertically (fraction of total height)\n",
        "        horizontal_flip=False,  # randomly flip images\n",
        "        vertical_flip=False)  # randomly flip images\n",
        "\n",
        "datagen.fit(X_train)"
      ],
      "execution_count": 15,
      "outputs": []
    },
    {
      "cell_type": "markdown",
      "metadata": {
        "id": "HHQKWJkb8TYK"
      },
      "source": [
        "**MODEL DEFINITION**"
      ]
    },
    {
      "cell_type": "code",
      "metadata": {
        "id": "E6FV3L9RZBZ7"
      },
      "source": [
        "# Model definition\n",
        "\n",
        "# Definition of image shape\n",
        "input_shape = X_train[0].shape\n",
        "\n",
        "# Getting a ready-made CNN architecture: DenseNet 201\n",
        "densenet = tf.keras.applications.DenseNet201(weights='imagenet', include_top=False, input_shape=input_shape)\n",
        "\n",
        "# First Training Iteration: Only training top layers\n",
        "densenet.trainable = False\n",
        "\n",
        "# Top layers definition\n",
        "model = tf.keras.models.Sequential()\n",
        "model.add(densenet)\n",
        "model.add(tf.keras.layers.Flatten())\n",
        "model.add(tf.keras.layers.Dropout(0.25))\n",
        "model.add(tf.keras.layers.Dense(512, activation='relu'))\n",
        "model.add(tf.keras.layers.BatchNormalization())\n",
        "model.add(tf.keras.layers.Dropout(0.46))\n",
        "model.add(tf.keras.layers.Dense(128, activation='relu'))\n",
        "model.add(tf.keras.layers.BatchNormalization())\n",
        "model.add(tf.keras.layers.Dropout(0.46))    \n",
        "model.add(tf.keras.layers.Dense(n_classes, activation=None))\n",
        "model.add(tf.keras.layers.Softmax(name=\"probs\"))"
      ],
      "execution_count": 16,
      "outputs": []
    },
    {
      "cell_type": "markdown",
      "metadata": {
        "id": "AQNJ6iqE8Xpi"
      },
      "source": [
        "**SETTING HYPERPARAMETERS AND TRAINING**"
      ]
    },
    {
      "cell_type": "code",
      "metadata": {
        "id": "FTWpFDdrZBcl"
      },
      "source": [
        "# Hyperparameters definition\n",
        "epocas = 50   # number of epochs\n",
        "bs = 20       # batch size\n",
        "lr = 0.01   # learning rate\n",
        "\n",
        "# Model parameters definition\n",
        "optim = Adam(learning_rate = lr, amsgrad = True)\n",
        "model.compile(optimizer = optim, loss = 'categorical_crossentropy', \n",
        "              metrics = ['accuracy'])\n",
        "reduce_lr = ReduceLROnPlateau(monitor='val_loss', factor=0.2, patience=3, \n",
        "                              min_lr=0.00001)\n",
        "# Define checkpoint to save best Phase 1 weights\n",
        "best_weights_ph1 = \"ph1_weights_balanced.hdf5\"\n",
        "checkpoint = tf.keras.callbacks.ModelCheckpoint(best_weights_ph1,\n",
        "                                                monitor=\"val_loss\",\n",
        "                                                mode=\"min\",\n",
        "                                                save_best_only=True,\n",
        "                                                verbose=1)\n",
        "callbacks = [reduce_lr, checkpoint]"
      ],
      "execution_count": 17,
      "outputs": []
    },
    {
      "cell_type": "code",
      "metadata": {
        "colab": {
          "base_uri": "https://localhost:8080/"
        },
        "id": "0VX5C0_3ZBhg",
        "outputId": "0f5f97f9-9645-4255-bdb3-3246e6478763"
      },
      "source": [
        "# Training for first iteration model\n",
        "historico = model.fit(datagen.flow(X_train, Y_train, batch_size = bs), epochs = epocas, validation_data = (X_val, Y_val), callbacks = callbacks)\n",
        "#historico = model.fit(X_train, Y_train, epochs = epocas, batch_size = bs, validation_split = 0.1, callbacks = callbacks)"
      ],
      "execution_count": 18,
      "outputs": [
        {
          "output_type": "stream",
          "text": [
            "Epoch 1/50\n",
            "1890/1890 [==============================] - ETA: 0s - loss: 1.3409 - accuracy: 0.4944\n",
            "Epoch 00001: val_loss improved from inf to 1.09855, saving model to ph1_weights_balanced.hdf5\n",
            "1890/1890 [==============================] - 104s 55ms/step - loss: 1.3409 - accuracy: 0.4944 - val_loss: 1.0985 - val_accuracy: 0.5857\n",
            "Epoch 2/50\n",
            "1889/1890 [============================>.] - ETA: 0s - loss: 1.1913 - accuracy: 0.5503\n",
            "Epoch 00002: val_loss improved from 1.09855 to 0.97288, saving model to ph1_weights_balanced.hdf5\n",
            "1890/1890 [==============================] - 91s 48ms/step - loss: 1.1913 - accuracy: 0.5502 - val_loss: 0.9729 - val_accuracy: 0.6262\n",
            "Epoch 3/50\n",
            "1889/1890 [============================>.] - ETA: 0s - loss: 1.1551 - accuracy: 0.5645\n",
            "Epoch 00003: val_loss improved from 0.97288 to 0.93607, saving model to ph1_weights_balanced.hdf5\n",
            "1890/1890 [==============================] - 91s 48ms/step - loss: 1.1551 - accuracy: 0.5646 - val_loss: 0.9361 - val_accuracy: 0.6395\n",
            "Epoch 4/50\n",
            "1889/1890 [============================>.] - ETA: 0s - loss: 1.1308 - accuracy: 0.5754\n",
            "Epoch 00004: val_loss did not improve from 0.93607\n",
            "1890/1890 [==============================] - 88s 47ms/step - loss: 1.1308 - accuracy: 0.5753 - val_loss: 0.9400 - val_accuracy: 0.6381\n",
            "Epoch 5/50\n",
            "1890/1890 [==============================] - ETA: 0s - loss: 1.1207 - accuracy: 0.5801\n",
            "Epoch 00005: val_loss did not improve from 0.93607\n",
            "1890/1890 [==============================] - 88s 46ms/step - loss: 1.1207 - accuracy: 0.5801 - val_loss: 0.9665 - val_accuracy: 0.6369\n",
            "Epoch 6/50\n",
            "1890/1890 [==============================] - ETA: 0s - loss: 1.1087 - accuracy: 0.5851\n",
            "Epoch 00006: val_loss improved from 0.93607 to 0.91204, saving model to ph1_weights_balanced.hdf5\n",
            "1890/1890 [==============================] - 91s 48ms/step - loss: 1.1087 - accuracy: 0.5851 - val_loss: 0.9120 - val_accuracy: 0.6524\n",
            "Epoch 7/50\n",
            "1890/1890 [==============================] - ETA: 0s - loss: 1.1021 - accuracy: 0.5842\n",
            "Epoch 00007: val_loss improved from 0.91204 to 0.89509, saving model to ph1_weights_balanced.hdf5\n",
            "1890/1890 [==============================] - 92s 49ms/step - loss: 1.1021 - accuracy: 0.5842 - val_loss: 0.8951 - val_accuracy: 0.6536\n",
            "Epoch 8/50\n",
            "1889/1890 [============================>.] - ETA: 0s - loss: 1.0861 - accuracy: 0.5919\n",
            "Epoch 00008: val_loss did not improve from 0.89509\n",
            "1890/1890 [==============================] - 89s 47ms/step - loss: 1.0858 - accuracy: 0.5920 - val_loss: 0.9046 - val_accuracy: 0.6567\n",
            "Epoch 9/50\n",
            "1890/1890 [==============================] - ETA: 0s - loss: 1.0836 - accuracy: 0.5927\n",
            "Epoch 00009: val_loss did not improve from 0.89509\n",
            "1890/1890 [==============================] - 87s 46ms/step - loss: 1.0836 - accuracy: 0.5927 - val_loss: 0.9104 - val_accuracy: 0.6524\n",
            "Epoch 10/50\n",
            "1890/1890 [==============================] - ETA: 0s - loss: 1.0737 - accuracy: 0.5985\n",
            "Epoch 00010: val_loss did not improve from 0.89509\n",
            "1890/1890 [==============================] - 87s 46ms/step - loss: 1.0737 - accuracy: 0.5985 - val_loss: 0.8960 - val_accuracy: 0.6586\n",
            "Epoch 11/50\n",
            "1890/1890 [==============================] - ETA: 0s - loss: 1.0381 - accuracy: 0.6091\n",
            "Epoch 00011: val_loss improved from 0.89509 to 0.85472, saving model to ph1_weights_balanced.hdf5\n",
            "1890/1890 [==============================] - 90s 48ms/step - loss: 1.0381 - accuracy: 0.6091 - val_loss: 0.8547 - val_accuracy: 0.6752\n",
            "Epoch 12/50\n",
            "1889/1890 [============================>.] - ETA: 0s - loss: 1.0259 - accuracy: 0.6133\n",
            "Epoch 00012: val_loss improved from 0.85472 to 0.84343, saving model to ph1_weights_balanced.hdf5\n",
            "1890/1890 [==============================] - 90s 48ms/step - loss: 1.0260 - accuracy: 0.6133 - val_loss: 0.8434 - val_accuracy: 0.6743\n",
            "Epoch 13/50\n",
            "1889/1890 [============================>.] - ETA: 0s - loss: 1.0220 - accuracy: 0.6188\n",
            "Epoch 00013: val_loss did not improve from 0.84343\n",
            "1890/1890 [==============================] - 88s 47ms/step - loss: 1.0222 - accuracy: 0.6187 - val_loss: 0.8500 - val_accuracy: 0.6743\n",
            "Epoch 14/50\n",
            "1890/1890 [==============================] - ETA: 0s - loss: 1.0157 - accuracy: 0.6180\n",
            "Epoch 00014: val_loss improved from 0.84343 to 0.83488, saving model to ph1_weights_balanced.hdf5\n",
            "1890/1890 [==============================] - 90s 48ms/step - loss: 1.0157 - accuracy: 0.6180 - val_loss: 0.8349 - val_accuracy: 0.6824\n",
            "Epoch 15/50\n",
            "1889/1890 [============================>.] - ETA: 0s - loss: 1.0094 - accuracy: 0.6216\n",
            "Epoch 00015: val_loss improved from 0.83488 to 0.82736, saving model to ph1_weights_balanced.hdf5\n",
            "1890/1890 [==============================] - 91s 48ms/step - loss: 1.0093 - accuracy: 0.6217 - val_loss: 0.8274 - val_accuracy: 0.6871\n",
            "Epoch 16/50\n",
            "1890/1890 [==============================] - ETA: 0s - loss: 1.0077 - accuracy: 0.6194\n",
            "Epoch 00016: val_loss improved from 0.82736 to 0.81989, saving model to ph1_weights_balanced.hdf5\n",
            "1890/1890 [==============================] - 91s 48ms/step - loss: 1.0077 - accuracy: 0.6194 - val_loss: 0.8199 - val_accuracy: 0.6876\n",
            "Epoch 17/50\n",
            "1889/1890 [============================>.] - ETA: 0s - loss: 1.0049 - accuracy: 0.6260\n",
            "Epoch 00017: val_loss did not improve from 0.81989\n",
            "1890/1890 [==============================] - 89s 47ms/step - loss: 1.0049 - accuracy: 0.6260 - val_loss: 0.8260 - val_accuracy: 0.6840\n",
            "Epoch 18/50\n",
            "1890/1890 [==============================] - ETA: 0s - loss: 1.0021 - accuracy: 0.6200\n",
            "Epoch 00018: val_loss did not improve from 0.81989\n",
            "1890/1890 [==============================] - 89s 47ms/step - loss: 1.0021 - accuracy: 0.6200 - val_loss: 0.8207 - val_accuracy: 0.6862\n",
            "Epoch 19/50\n",
            "1890/1890 [==============================] - ETA: 0s - loss: 1.0000 - accuracy: 0.6209\n",
            "Epoch 00019: val_loss improved from 0.81989 to 0.81493, saving model to ph1_weights_balanced.hdf5\n",
            "1890/1890 [==============================] - 91s 48ms/step - loss: 1.0000 - accuracy: 0.6209 - val_loss: 0.8149 - val_accuracy: 0.6881\n",
            "Epoch 20/50\n",
            "1889/1890 [============================>.] - ETA: 0s - loss: 0.9997 - accuracy: 0.6225\n",
            "Epoch 00020: val_loss improved from 0.81493 to 0.81111, saving model to ph1_weights_balanced.hdf5\n",
            "1890/1890 [==============================] - 91s 48ms/step - loss: 0.9998 - accuracy: 0.6224 - val_loss: 0.8111 - val_accuracy: 0.6890\n",
            "Epoch 21/50\n",
            "1890/1890 [==============================] - ETA: 0s - loss: 0.9936 - accuracy: 0.6250\n",
            "Epoch 00021: val_loss improved from 0.81111 to 0.80847, saving model to ph1_weights_balanced.hdf5\n",
            "1890/1890 [==============================] - 92s 49ms/step - loss: 0.9936 - accuracy: 0.6250 - val_loss: 0.8085 - val_accuracy: 0.6902\n",
            "Epoch 22/50\n",
            "1889/1890 [============================>.] - ETA: 0s - loss: 0.9943 - accuracy: 0.6263\n",
            "Epoch 00022: val_loss did not improve from 0.80847\n",
            "1890/1890 [==============================] - 89s 47ms/step - loss: 0.9944 - accuracy: 0.6263 - val_loss: 0.8104 - val_accuracy: 0.6895\n",
            "Epoch 23/50\n",
            "1890/1890 [==============================] - ETA: 0s - loss: 0.9870 - accuracy: 0.6277\n",
            "Epoch 00023: val_loss improved from 0.80847 to 0.80488, saving model to ph1_weights_balanced.hdf5\n",
            "1890/1890 [==============================] - 91s 48ms/step - loss: 0.9870 - accuracy: 0.6277 - val_loss: 0.8049 - val_accuracy: 0.6890\n",
            "Epoch 24/50\n",
            "1889/1890 [============================>.] - ETA: 0s - loss: 0.9934 - accuracy: 0.6267\n",
            "Epoch 00024: val_loss improved from 0.80488 to 0.80274, saving model to ph1_weights_balanced.hdf5\n",
            "1890/1890 [==============================] - 91s 48ms/step - loss: 0.9933 - accuracy: 0.6267 - val_loss: 0.8027 - val_accuracy: 0.6938\n",
            "Epoch 25/50\n",
            "1889/1890 [============================>.] - ETA: 0s - loss: 0.9855 - accuracy: 0.6297\n",
            "Epoch 00025: val_loss improved from 0.80274 to 0.79440, saving model to ph1_weights_balanced.hdf5\n",
            "1890/1890 [==============================] - 91s 48ms/step - loss: 0.9855 - accuracy: 0.6297 - val_loss: 0.7944 - val_accuracy: 0.6974\n",
            "Epoch 26/50\n",
            "1889/1890 [============================>.] - ETA: 0s - loss: 0.9916 - accuracy: 0.6276\n",
            "Epoch 00026: val_loss did not improve from 0.79440\n",
            "1890/1890 [==============================] - 88s 47ms/step - loss: 0.9916 - accuracy: 0.6276 - val_loss: 0.7995 - val_accuracy: 0.6948\n",
            "Epoch 27/50\n",
            "1890/1890 [==============================] - ETA: 0s - loss: 0.9826 - accuracy: 0.6307\n",
            "Epoch 00027: val_loss did not improve from 0.79440\n",
            "1890/1890 [==============================] - 87s 46ms/step - loss: 0.9826 - accuracy: 0.6307 - val_loss: 0.8024 - val_accuracy: 0.6902\n",
            "Epoch 28/50\n",
            "1890/1890 [==============================] - ETA: 0s - loss: 0.9843 - accuracy: 0.6305\n",
            "Epoch 00028: val_loss improved from 0.79440 to 0.78993, saving model to ph1_weights_balanced.hdf5\n",
            "1890/1890 [==============================] - 91s 48ms/step - loss: 0.9843 - accuracy: 0.6305 - val_loss: 0.7899 - val_accuracy: 0.6938\n",
            "Epoch 29/50\n",
            "1889/1890 [============================>.] - ETA: 0s - loss: 0.9805 - accuracy: 0.6282\n",
            "Epoch 00029: val_loss did not improve from 0.78993\n",
            "1890/1890 [==============================] - 88s 47ms/step - loss: 0.9805 - accuracy: 0.6281 - val_loss: 0.7987 - val_accuracy: 0.6945\n",
            "Epoch 30/50\n",
            "1889/1890 [============================>.] - ETA: 0s - loss: 0.9773 - accuracy: 0.6303\n",
            "Epoch 00030: val_loss improved from 0.78993 to 0.78677, saving model to ph1_weights_balanced.hdf5\n",
            "1890/1890 [==============================] - 90s 48ms/step - loss: 0.9773 - accuracy: 0.6303 - val_loss: 0.7868 - val_accuracy: 0.6962\n",
            "Epoch 31/50\n",
            "1889/1890 [============================>.] - ETA: 0s - loss: 0.9814 - accuracy: 0.6304\n",
            "Epoch 00031: val_loss improved from 0.78677 to 0.78352, saving model to ph1_weights_balanced.hdf5\n",
            "1890/1890 [==============================] - 92s 49ms/step - loss: 0.9814 - accuracy: 0.6304 - val_loss: 0.7835 - val_accuracy: 0.6960\n",
            "Epoch 32/50\n",
            "1889/1890 [============================>.] - ETA: 0s - loss: 0.9724 - accuracy: 0.6317\n",
            "Epoch 00032: val_loss did not improve from 0.78352\n",
            "1890/1890 [==============================] - 89s 47ms/step - loss: 0.9725 - accuracy: 0.6316 - val_loss: 0.7842 - val_accuracy: 0.7026\n",
            "Epoch 33/50\n",
            "1890/1890 [==============================] - ETA: 0s - loss: 0.9685 - accuracy: 0.6372\n",
            "Epoch 00033: val_loss did not improve from 0.78352\n",
            "1890/1890 [==============================] - 89s 47ms/step - loss: 0.9685 - accuracy: 0.6372 - val_loss: 0.7845 - val_accuracy: 0.6979\n",
            "Epoch 34/50\n",
            "1890/1890 [==============================] - ETA: 0s - loss: 0.9696 - accuracy: 0.6350\n",
            "Epoch 00034: val_loss improved from 0.78352 to 0.77439, saving model to ph1_weights_balanced.hdf5\n",
            "1890/1890 [==============================] - 92s 49ms/step - loss: 0.9696 - accuracy: 0.6350 - val_loss: 0.7744 - val_accuracy: 0.7010\n",
            "Epoch 35/50\n",
            "1889/1890 [============================>.] - ETA: 0s - loss: 0.9698 - accuracy: 0.6361\n",
            "Epoch 00035: val_loss did not improve from 0.77439\n",
            "1890/1890 [==============================] - 90s 48ms/step - loss: 0.9698 - accuracy: 0.6361 - val_loss: 0.7747 - val_accuracy: 0.6952\n",
            "Epoch 36/50\n",
            "1890/1890 [==============================] - ETA: 0s - loss: 0.9707 - accuracy: 0.6344\n",
            "Epoch 00036: val_loss improved from 0.77439 to 0.77360, saving model to ph1_weights_balanced.hdf5\n",
            "1890/1890 [==============================] - 92s 48ms/step - loss: 0.9707 - accuracy: 0.6344 - val_loss: 0.7736 - val_accuracy: 0.6981\n",
            "Epoch 37/50\n",
            "1890/1890 [==============================] - ETA: 0s - loss: 0.9676 - accuracy: 0.6352\n",
            "Epoch 00037: val_loss did not improve from 0.77360\n",
            "1890/1890 [==============================] - 89s 47ms/step - loss: 0.9676 - accuracy: 0.6352 - val_loss: 0.7809 - val_accuracy: 0.6981\n",
            "Epoch 38/50\n",
            "1889/1890 [============================>.] - ETA: 0s - loss: 0.9716 - accuracy: 0.6321\n",
            "Epoch 00038: val_loss did not improve from 0.77360\n",
            "1890/1890 [==============================] - 89s 47ms/step - loss: 0.9716 - accuracy: 0.6321 - val_loss: 0.7747 - val_accuracy: 0.6993\n",
            "Epoch 39/50\n",
            "1889/1890 [============================>.] - ETA: 0s - loss: 0.9685 - accuracy: 0.6357\n",
            "Epoch 00039: val_loss improved from 0.77360 to 0.77222, saving model to ph1_weights_balanced.hdf5\n",
            "1890/1890 [==============================] - 92s 49ms/step - loss: 0.9687 - accuracy: 0.6356 - val_loss: 0.7722 - val_accuracy: 0.7052\n",
            "Epoch 40/50\n",
            "1890/1890 [==============================] - ETA: 0s - loss: 0.9624 - accuracy: 0.6354\n",
            "Epoch 00040: val_loss improved from 0.77222 to 0.76948, saving model to ph1_weights_balanced.hdf5\n",
            "1890/1890 [==============================] - 93s 49ms/step - loss: 0.9624 - accuracy: 0.6354 - val_loss: 0.7695 - val_accuracy: 0.7010\n",
            "Epoch 41/50\n",
            "1890/1890 [==============================] - ETA: 0s - loss: 0.9617 - accuracy: 0.6393\n",
            "Epoch 00041: val_loss improved from 0.76948 to 0.75807, saving model to ph1_weights_balanced.hdf5\n",
            "1890/1890 [==============================] - 93s 49ms/step - loss: 0.9617 - accuracy: 0.6393 - val_loss: 0.7581 - val_accuracy: 0.7062\n",
            "Epoch 42/50\n",
            "1890/1890 [==============================] - ETA: 0s - loss: 0.9601 - accuracy: 0.6376\n",
            "Epoch 00042: val_loss did not improve from 0.75807\n",
            "1890/1890 [==============================] - 89s 47ms/step - loss: 0.9601 - accuracy: 0.6376 - val_loss: 0.7636 - val_accuracy: 0.7040\n",
            "Epoch 43/50\n",
            "1890/1890 [==============================] - ETA: 0s - loss: 0.9592 - accuracy: 0.6379\n",
            "Epoch 00043: val_loss did not improve from 0.75807\n",
            "1890/1890 [==============================] - 88s 47ms/step - loss: 0.9592 - accuracy: 0.6379 - val_loss: 0.7589 - val_accuracy: 0.7057\n",
            "Epoch 44/50\n",
            "1890/1890 [==============================] - ETA: 0s - loss: 0.9580 - accuracy: 0.6384\n",
            "Epoch 00044: val_loss did not improve from 0.75807\n",
            "1890/1890 [==============================] - 88s 47ms/step - loss: 0.9580 - accuracy: 0.6384 - val_loss: 0.7648 - val_accuracy: 0.7036\n",
            "Epoch 45/50\n",
            "1890/1890 [==============================] - ETA: 0s - loss: 0.9552 - accuracy: 0.6395\n",
            "Epoch 00045: val_loss improved from 0.75807 to 0.75665, saving model to ph1_weights_balanced.hdf5\n",
            "1890/1890 [==============================] - 91s 48ms/step - loss: 0.9552 - accuracy: 0.6395 - val_loss: 0.7567 - val_accuracy: 0.7069\n",
            "Epoch 46/50\n",
            "1890/1890 [==============================] - ETA: 0s - loss: 0.9444 - accuracy: 0.6440\n",
            "Epoch 00046: val_loss improved from 0.75665 to 0.75633, saving model to ph1_weights_balanced.hdf5\n",
            "1890/1890 [==============================] - 92s 49ms/step - loss: 0.9444 - accuracy: 0.6440 - val_loss: 0.7563 - val_accuracy: 0.7060\n",
            "Epoch 47/50\n",
            "1890/1890 [==============================] - ETA: 0s - loss: 0.9454 - accuracy: 0.6444\n",
            "Epoch 00047: val_loss improved from 0.75633 to 0.75336, saving model to ph1_weights_balanced.hdf5\n",
            "1890/1890 [==============================] - 93s 49ms/step - loss: 0.9454 - accuracy: 0.6444 - val_loss: 0.7534 - val_accuracy: 0.7071\n",
            "Epoch 48/50\n",
            "1890/1890 [==============================] - ETA: 0s - loss: 0.9446 - accuracy: 0.6422\n",
            "Epoch 00048: val_loss improved from 0.75336 to 0.75081, saving model to ph1_weights_balanced.hdf5\n",
            "1890/1890 [==============================] - 93s 49ms/step - loss: 0.9446 - accuracy: 0.6422 - val_loss: 0.7508 - val_accuracy: 0.7088\n",
            "Epoch 49/50\n",
            "1889/1890 [============================>.] - ETA: 0s - loss: 0.9443 - accuracy: 0.6454\n",
            "Epoch 00049: val_loss improved from 0.75081 to 0.74899, saving model to ph1_weights_balanced.hdf5\n",
            "1890/1890 [==============================] - 92s 49ms/step - loss: 0.9442 - accuracy: 0.6455 - val_loss: 0.7490 - val_accuracy: 0.7081\n",
            "Epoch 50/50\n",
            "1890/1890 [==============================] - ETA: 0s - loss: 0.9405 - accuracy: 0.6426\n",
            "Epoch 00050: val_loss improved from 0.74899 to 0.74802, saving model to ph1_weights_balanced.hdf5\n",
            "1890/1890 [==============================] - 93s 49ms/step - loss: 0.9405 - accuracy: 0.6426 - val_loss: 0.7480 - val_accuracy: 0.7095\n"
          ],
          "name": "stdout"
        }
      ]
    },
    {
      "cell_type": "code",
      "metadata": {
        "id": "pF0Judz3ZBfn"
      },
      "source": [
        "# Loading best weights model (lower val_loss value)\n",
        "model.load_weights(best_weights_ph1)"
      ],
      "execution_count": 19,
      "outputs": []
    },
    {
      "cell_type": "code",
      "metadata": {
        "colab": {
          "base_uri": "https://localhost:8080/",
          "height": 295
        },
        "id": "r_O80Pa9ZrOj",
        "outputId": "cfb387e4-020d-4a83-ce9b-20e871f29453"
      },
      "source": [
        "# Showing temporal evolution of accuracy in train and validation sets\n",
        "plt.plot(historico.history['accuracy'], c = 'b')\n",
        "plt.plot(historico.history['val_accuracy'], c = 'r')\n",
        "plt.legend(['Train', 'Validacion'])\n",
        "plt.xlabel('Epocas')\n",
        "plt.ylabel('Medida')\n",
        "plt.title('Evolucion Entrenamiento')\n",
        "plt.show()"
      ],
      "execution_count": 20,
      "outputs": [
        {
          "output_type": "display_data",
          "data": {
            "image/png": "[encoded data removed]",
            "text/plain": [
              "<Figure size 432x288 with 1 Axes>"
            ]
          },
          "metadata": {
            "tags": [],
            "needs_background": "light"
          }
        }
      ]
    },
    {
      "cell_type": "code",
      "metadata": {
        "colab": {
          "base_uri": "https://localhost:8080/",
          "height": 295
        },
        "id": "IZfXR4Z_ZsZO",
        "outputId": "50ba1d6a-ffef-4af3-fdcb-d479825047d9"
      },
      "source": [
        "# Showing temporal evolution of loss in train and validation sets\n",
        "plt.plot(historico.history['loss'], c = 'b')\n",
        "plt.plot(historico.history['val_loss'], c = 'r')\n",
        "plt.legend(['Train', 'Validacion'])\n",
        "plt.xlabel('Epocas')\n",
        "plt.ylabel('Medida')\n",
        "plt.title('Evolucion Entrenamiento')\n",
        "plt.show()"
      ],
      "execution_count": 21,
      "outputs": [
        {
          "output_type": "display_data",
          "data": {
            "image/png": "[encoded data removed]",
            "text/plain": [
              "<Figure size 432x288 with 1 Axes>"
            ]
          },
          "metadata": {
            "tags": [],
            "needs_background": "light"
          }
        }
      ]
    },
    {
      "cell_type": "code",
      "metadata": {
        "colab": {
          "base_uri": "https://localhost:8080/"
        },
        "id": "1MHsg0gPZY3e",
        "outputId": "7559ce4f-17a2-42af-f9d0-5c23045ab0cd"
      },
      "source": [
        "# Model evaluation in test set\n",
        "metricas = model.evaluate(X_test, Y_test)"
      ],
      "execution_count": 22,
      "outputs": [
        {
          "output_type": "stream",
          "text": [
            "63/63 [==============================] - 3s 45ms/step - loss: 0.7471 - accuracy: 0.7668\n"
          ],
          "name": "stdout"
        }
      ]
    },
    {
      "cell_type": "code",
      "metadata": {
        "id": "flD3EZOCZZP-"
      },
      "source": [
        "# Second Training Iteration: fine tunning process by training all the layers\n",
        "# with previous weights.\n",
        "densenet.trainable = True\n",
        "\n",
        "# Hyperparameters definition\n",
        "epocas = 50   # number of epochs\n",
        "bs = 20       # batch size\n",
        "lr = 0.0001  # learning rate\n",
        "\n",
        "# Model parameters definition\n",
        "optim = Adam(learning_rate = lr, amsgrad = True)\n",
        "model.compile(optimizer = optim, loss = 'categorical_crossentropy',\n",
        "              metrics = ['accuracy'])\n",
        "reduce_lr = ReduceLROnPlateau(monitor='val_loss', factor=0.2, patience=3,\n",
        "                              min_lr=0.00001)\n",
        "# Define checkpoint to save best Phase 2 weights\n",
        "best_weights_ph2 = \"ph2_weights_balanced.hdf5\"\n",
        "checkpoint = tf.keras.callbacks.ModelCheckpoint(best_weights_ph2,\n",
        "                                                monitor=\"val_loss\",\n",
        "                                                mode=\"min\",\n",
        "                                                save_best_only=True,\n",
        "                                                verbose=1)\n",
        "callbacks = [reduce_lr, checkpoint]"
      ],
      "execution_count": 23,
      "outputs": []
    },
    {
      "cell_type": "code",
      "metadata": {
        "colab": {
          "base_uri": "https://localhost:8080/"
        },
        "id": "D5hsCIewZar5",
        "outputId": "dae0cc66-96c9-4318-9422-39d6ddab1ab2"
      },
      "source": [
        "# Model evaluation in test set\n",
        "historico = model.fit(datagen.flow(X_train, Y_train, batch_size = bs), epochs = epocas, validation_data = (X_val, Y_val), callbacks = callbacks)\n",
        "#historico = model.fit(X_train, Y_train, epochs = epocas, batch_size = bs, validation_split = 0.1, callbacks = callbacks)"
      ],
      "execution_count": 24,
      "outputs": [
        {
          "output_type": "stream",
          "text": [
            "Epoch 1/50\n",
            "1890/1890 [==============================] - ETA: 0s - loss: 0.9616 - accuracy: 0.6444\n",
            "Epoch 00001: val_loss improved from inf to 0.56251, saving model to ph2_weights_balanced.hdf5\n",
            "1890/1890 [==============================] - 215s 114ms/step - loss: 0.9616 - accuracy: 0.6444 - val_loss: 0.5625 - val_accuracy: 0.7886\n",
            "Epoch 2/50\n",
            "1890/1890 [==============================] - ETA: 0s - loss: 0.7155 - accuracy: 0.7398\n",
            "Epoch 00002: val_loss improved from 0.56251 to 0.44767, saving model to ph2_weights_balanced.hdf5\n",
            "1890/1890 [==============================] - 206s 109ms/step - loss: 0.7155 - accuracy: 0.7398 - val_loss: 0.4477 - val_accuracy: 0.8398\n",
            "Epoch 3/50\n",
            "1890/1890 [==============================] - ETA: 0s - loss: 0.6090 - accuracy: 0.7774\n",
            "Epoch 00003: val_loss improved from 0.44767 to 0.36307, saving model to ph2_weights_balanced.hdf5\n",
            "1890/1890 [==============================] - 205s 108ms/step - loss: 0.6090 - accuracy: 0.7774 - val_loss: 0.3631 - val_accuracy: 0.8679\n",
            "Epoch 4/50\n",
            "1890/1890 [==============================] - ETA: 0s - loss: 0.5867 - accuracy: 0.7881\n",
            "Epoch 00004: val_loss improved from 0.36307 to 0.33315, saving model to ph2_weights_balanced.hdf5\n",
            "1890/1890 [==============================] - 206s 109ms/step - loss: 0.5867 - accuracy: 0.7881 - val_loss: 0.3331 - val_accuracy: 0.8860\n",
            "Epoch 5/50\n",
            "1890/1890 [==============================] - ETA: 0s - loss: 0.5268 - accuracy: 0.8111\n",
            "Epoch 00005: val_loss improved from 0.33315 to 0.28780, saving model to ph2_weights_balanced.hdf5\n",
            "1890/1890 [==============================] - 206s 109ms/step - loss: 0.5268 - accuracy: 0.8111 - val_loss: 0.2878 - val_accuracy: 0.8940\n",
            "Epoch 6/50\n",
            "1890/1890 [==============================] - ETA: 0s - loss: 0.4777 - accuracy: 0.8281\n",
            "Epoch 00006: val_loss improved from 0.28780 to 0.26806, saving model to ph2_weights_balanced.hdf5\n",
            "1890/1890 [==============================] - 205s 109ms/step - loss: 0.4777 - accuracy: 0.8281 - val_loss: 0.2681 - val_accuracy: 0.9033\n",
            "Epoch 7/50\n",
            "1890/1890 [==============================] - ETA: 0s - loss: 0.4516 - accuracy: 0.8383\n",
            "Epoch 00007: val_loss improved from 0.26806 to 0.21731, saving model to ph2_weights_balanced.hdf5\n",
            "1890/1890 [==============================] - 205s 108ms/step - loss: 0.4516 - accuracy: 0.8383 - val_loss: 0.2173 - val_accuracy: 0.9205\n",
            "Epoch 8/50\n",
            "1890/1890 [==============================] - ETA: 0s - loss: 0.3871 - accuracy: 0.8633\n",
            "Epoch 00008: val_loss improved from 0.21731 to 0.18918, saving model to ph2_weights_balanced.hdf5\n",
            "1890/1890 [==============================] - 208s 110ms/step - loss: 0.3871 - accuracy: 0.8633 - val_loss: 0.1892 - val_accuracy: 0.9357\n",
            "Epoch 9/50\n",
            "1890/1890 [==============================] - ETA: 0s - loss: 0.3478 - accuracy: 0.8776\n",
            "Epoch 00009: val_loss improved from 0.18918 to 0.16453, saving model to ph2_weights_balanced.hdf5\n",
            "1890/1890 [==============================] - 207s 110ms/step - loss: 0.3478 - accuracy: 0.8776 - val_loss: 0.1645 - val_accuracy: 0.9443\n",
            "Epoch 10/50\n",
            "1890/1890 [==============================] - ETA: 0s - loss: 0.3587 - accuracy: 0.8743\n",
            "Epoch 00010: val_loss did not improve from 0.16453\n",
            "1890/1890 [==============================] - 198s 105ms/step - loss: 0.3587 - accuracy: 0.8743 - val_loss: 0.2005 - val_accuracy: 0.9295\n",
            "Epoch 11/50\n",
            "1890/1890 [==============================] - ETA: 0s - loss: 0.3473 - accuracy: 0.8776\n",
            "Epoch 00011: val_loss improved from 0.16453 to 0.15082, saving model to ph2_weights_balanced.hdf5\n",
            "1890/1890 [==============================] - 203s 108ms/step - loss: 0.3473 - accuracy: 0.8776 - val_loss: 0.1508 - val_accuracy: 0.9493\n",
            "Epoch 12/50\n",
            "1890/1890 [==============================] - ETA: 0s - loss: 0.2934 - accuracy: 0.8983\n",
            "Epoch 00012: val_loss improved from 0.15082 to 0.14625, saving model to ph2_weights_balanced.hdf5\n",
            "1890/1890 [==============================] - 206s 109ms/step - loss: 0.2934 - accuracy: 0.8983 - val_loss: 0.1462 - val_accuracy: 0.9517\n",
            "Epoch 13/50\n",
            "1890/1890 [==============================] - ETA: 0s - loss: 0.2739 - accuracy: 0.9054\n",
            "Epoch 00013: val_loss improved from 0.14625 to 0.13605, saving model to ph2_weights_balanced.hdf5\n",
            "1890/1890 [==============================] - 206s 109ms/step - loss: 0.2739 - accuracy: 0.9054 - val_loss: 0.1360 - val_accuracy: 0.9545\n",
            "Epoch 14/50\n",
            "1890/1890 [==============================] - ETA: 0s - loss: 0.2579 - accuracy: 0.9114\n",
            "Epoch 00014: val_loss improved from 0.13605 to 0.12136, saving model to ph2_weights_balanced.hdf5\n",
            "1890/1890 [==============================] - 206s 109ms/step - loss: 0.2579 - accuracy: 0.9114 - val_loss: 0.1214 - val_accuracy: 0.9545\n",
            "Epoch 15/50\n",
            "1890/1890 [==============================] - ETA: 0s - loss: 0.2583 - accuracy: 0.9119\n",
            "Epoch 00015: val_loss improved from 0.12136 to 0.11035, saving model to ph2_weights_balanced.hdf5\n",
            "1890/1890 [==============================] - 207s 109ms/step - loss: 0.2583 - accuracy: 0.9119 - val_loss: 0.1104 - val_accuracy: 0.9631\n",
            "Epoch 16/50\n",
            "1890/1890 [==============================] - ETA: 0s - loss: 0.2359 - accuracy: 0.9169\n",
            "Epoch 00016: val_loss improved from 0.11035 to 0.09940, saving model to ph2_weights_balanced.hdf5\n",
            "1890/1890 [==============================] - 207s 110ms/step - loss: 0.2359 - accuracy: 0.9169 - val_loss: 0.0994 - val_accuracy: 0.9640\n",
            "Epoch 17/50\n",
            "1890/1890 [==============================] - ETA: 0s - loss: 0.2119 - accuracy: 0.9276\n",
            "Epoch 00017: val_loss improved from 0.09940 to 0.08968, saving model to ph2_weights_balanced.hdf5\n",
            "1890/1890 [==============================] - 208s 110ms/step - loss: 0.2119 - accuracy: 0.9276 - val_loss: 0.0897 - val_accuracy: 0.9674\n",
            "Epoch 18/50\n",
            "1890/1890 [==============================] - ETA: 0s - loss: 0.1934 - accuracy: 0.9331\n",
            "Epoch 00018: val_loss improved from 0.08968 to 0.08563, saving model to ph2_weights_balanced.hdf5\n",
            "1890/1890 [==============================] - 207s 110ms/step - loss: 0.1934 - accuracy: 0.9331 - val_loss: 0.0856 - val_accuracy: 0.9700\n",
            "Epoch 19/50\n",
            "1890/1890 [==============================] - ETA: 0s - loss: 0.1850 - accuracy: 0.9375\n",
            "Epoch 00019: val_loss improved from 0.08563 to 0.07727, saving model to ph2_weights_balanced.hdf5\n",
            "1890/1890 [==============================] - 208s 110ms/step - loss: 0.1850 - accuracy: 0.9375 - val_loss: 0.0773 - val_accuracy: 0.9733\n",
            "Epoch 20/50\n",
            "1890/1890 [==============================] - ETA: 0s - loss: 0.1725 - accuracy: 0.9424\n",
            "Epoch 00020: val_loss improved from 0.07727 to 0.06894, saving model to ph2_weights_balanced.hdf5\n",
            "1890/1890 [==============================] - 207s 110ms/step - loss: 0.1725 - accuracy: 0.9424 - val_loss: 0.0689 - val_accuracy: 0.9755\n",
            "Epoch 21/50\n",
            "1890/1890 [==============================] - ETA: 0s - loss: 0.1592 - accuracy: 0.9462\n",
            "Epoch 00021: val_loss did not improve from 0.06894\n",
            "1890/1890 [==============================] - 200s 106ms/step - loss: 0.1592 - accuracy: 0.9462 - val_loss: 0.0709 - val_accuracy: 0.9760\n",
            "Epoch 22/50\n",
            "1890/1890 [==============================] - ETA: 0s - loss: 0.1541 - accuracy: 0.9483\n",
            "Epoch 00022: val_loss improved from 0.06894 to 0.06730, saving model to ph2_weights_balanced.hdf5\n",
            "1890/1890 [==============================] - 205s 108ms/step - loss: 0.1541 - accuracy: 0.9483 - val_loss: 0.0673 - val_accuracy: 0.9786\n",
            "Epoch 23/50\n",
            "1890/1890 [==============================] - ETA: 0s - loss: 0.1416 - accuracy: 0.9525\n",
            "Epoch 00023: val_loss improved from 0.06730 to 0.06295, saving model to ph2_weights_balanced.hdf5\n",
            "1890/1890 [==============================] - 206s 109ms/step - loss: 0.1416 - accuracy: 0.9525 - val_loss: 0.0630 - val_accuracy: 0.9769\n",
            "Epoch 24/50\n",
            "1890/1890 [==============================] - ETA: 0s - loss: 0.1406 - accuracy: 0.9521\n",
            "Epoch 00024: val_loss did not improve from 0.06295\n",
            "1890/1890 [==============================] - 200s 106ms/step - loss: 0.1406 - accuracy: 0.9521 - val_loss: 0.0701 - val_accuracy: 0.9745\n",
            "Epoch 25/50\n",
            "1890/1890 [==============================] - ETA: 0s - loss: 0.1335 - accuracy: 0.9548\n",
            "Epoch 00025: val_loss improved from 0.06295 to 0.06030, saving model to ph2_weights_balanced.hdf5\n",
            "1890/1890 [==============================] - 207s 109ms/step - loss: 0.1335 - accuracy: 0.9548 - val_loss: 0.0603 - val_accuracy: 0.9779\n",
            "Epoch 26/50\n",
            "1890/1890 [==============================] - ETA: 0s - loss: 0.1469 - accuracy: 0.9512\n",
            "Epoch 00026: val_loss did not improve from 0.06030\n",
            "1890/1890 [==============================] - 200s 106ms/step - loss: 0.1469 - accuracy: 0.9512 - val_loss: 0.0613 - val_accuracy: 0.9781\n",
            "Epoch 27/50\n",
            "1890/1890 [==============================] - ETA: 0s - loss: 0.1257 - accuracy: 0.9575\n",
            "Epoch 00027: val_loss did not improve from 0.06030\n",
            "1890/1890 [==============================] - 198s 105ms/step - loss: 0.1257 - accuracy: 0.9575 - val_loss: 0.0611 - val_accuracy: 0.9788\n",
            "Epoch 28/50\n",
            "1890/1890 [==============================] - ETA: 0s - loss: 0.1207 - accuracy: 0.9590\n",
            "Epoch 00028: val_loss did not improve from 0.06030\n",
            "1890/1890 [==============================] - 199s 105ms/step - loss: 0.1207 - accuracy: 0.9590 - val_loss: 0.0704 - val_accuracy: 0.9750\n",
            "Epoch 29/50\n",
            "1890/1890 [==============================] - ETA: 0s - loss: 0.1055 - accuracy: 0.9650\n",
            "Epoch 00029: val_loss improved from 0.06030 to 0.05191, saving model to ph2_weights_balanced.hdf5\n",
            "1890/1890 [==============================] - 205s 109ms/step - loss: 0.1055 - accuracy: 0.9650 - val_loss: 0.0519 - val_accuracy: 0.9824\n",
            "Epoch 30/50\n",
            "1890/1890 [==============================] - ETA: 0s - loss: 0.0958 - accuracy: 0.9690\n",
            "Epoch 00030: val_loss improved from 0.05191 to 0.04938, saving model to ph2_weights_balanced.hdf5\n",
            "1890/1890 [==============================] - 209s 111ms/step - loss: 0.0958 - accuracy: 0.9690 - val_loss: 0.0494 - val_accuracy: 0.9838\n",
            "Epoch 31/50\n",
            "1890/1890 [==============================] - ETA: 0s - loss: 0.0917 - accuracy: 0.9698\n",
            "Epoch 00031: val_loss improved from 0.04938 to 0.04729, saving model to ph2_weights_balanced.hdf5\n",
            "1890/1890 [==============================] - 209s 111ms/step - loss: 0.0917 - accuracy: 0.9698 - val_loss: 0.0473 - val_accuracy: 0.9845\n",
            "Epoch 32/50\n",
            "1890/1890 [==============================] - ETA: 0s - loss: 0.0884 - accuracy: 0.9710\n",
            "Epoch 00032: val_loss did not improve from 0.04729\n",
            "1890/1890 [==============================] - 200s 106ms/step - loss: 0.0884 - accuracy: 0.9710 - val_loss: 0.0484 - val_accuracy: 0.9840\n",
            "Epoch 33/50\n",
            "1890/1890 [==============================] - ETA: 0s - loss: 0.0858 - accuracy: 0.9717\n",
            "Epoch 00033: val_loss did not improve from 0.04729\n",
            "1890/1890 [==============================] - 200s 106ms/step - loss: 0.0858 - accuracy: 0.9717 - val_loss: 0.0498 - val_accuracy: 0.9814\n",
            "Epoch 34/50\n",
            "1890/1890 [==============================] - ETA: 0s - loss: 0.0837 - accuracy: 0.9732\n",
            "Epoch 00034: val_loss did not improve from 0.04729\n",
            "1890/1890 [==============================] - 199s 105ms/step - loss: 0.0837 - accuracy: 0.9732 - val_loss: 0.0479 - val_accuracy: 0.9824\n",
            "Epoch 35/50\n",
            "1890/1890 [==============================] - ETA: 0s - loss: 0.0825 - accuracy: 0.9733\n",
            "Epoch 00035: val_loss improved from 0.04729 to 0.04467, saving model to ph2_weights_balanced.hdf5\n",
            "1890/1890 [==============================] - 206s 109ms/step - loss: 0.0825 - accuracy: 0.9733 - val_loss: 0.0447 - val_accuracy: 0.9838\n",
            "Epoch 36/50\n",
            "1890/1890 [==============================] - ETA: 0s - loss: 0.0778 - accuracy: 0.9747\n",
            "Epoch 00036: val_loss did not improve from 0.04467\n",
            "1890/1890 [==============================] - 199s 105ms/step - loss: 0.0778 - accuracy: 0.9747 - val_loss: 0.0451 - val_accuracy: 0.9840\n",
            "Epoch 37/50\n",
            "1890/1890 [==============================] - ETA: 0s - loss: 0.0775 - accuracy: 0.9744\n",
            "Epoch 00037: val_loss improved from 0.04467 to 0.04406, saving model to ph2_weights_balanced.hdf5\n",
            "1890/1890 [==============================] - 206s 109ms/step - loss: 0.0775 - accuracy: 0.9744 - val_loss: 0.0441 - val_accuracy: 0.9833\n",
            "Epoch 38/50\n",
            "1890/1890 [==============================] - ETA: 0s - loss: 0.0783 - accuracy: 0.9745\n",
            "Epoch 00038: val_loss did not improve from 0.04406\n",
            "1890/1890 [==============================] - 196s 104ms/step - loss: 0.0783 - accuracy: 0.9745 - val_loss: 0.0442 - val_accuracy: 0.9843\n",
            "Epoch 39/50\n",
            "1890/1890 [==============================] - ETA: 0s - loss: 0.0751 - accuracy: 0.9764\n",
            "Epoch 00039: val_loss improved from 0.04406 to 0.04314, saving model to ph2_weights_balanced.hdf5\n",
            "1890/1890 [==============================] - 203s 107ms/step - loss: 0.0751 - accuracy: 0.9764 - val_loss: 0.0431 - val_accuracy: 0.9848\n",
            "Epoch 40/50\n",
            "1890/1890 [==============================] - ETA: 0s - loss: 0.0755 - accuracy: 0.9751\n",
            "Epoch 00040: val_loss did not improve from 0.04314\n",
            "1890/1890 [==============================] - 197s 104ms/step - loss: 0.0755 - accuracy: 0.9751 - val_loss: 0.0433 - val_accuracy: 0.9850\n",
            "Epoch 41/50\n",
            "1890/1890 [==============================] - ETA: 0s - loss: 0.0713 - accuracy: 0.9766\n",
            "Epoch 00041: val_loss did not improve from 0.04314\n",
            "1890/1890 [==============================] - 197s 104ms/step - loss: 0.0713 - accuracy: 0.9766 - val_loss: 0.0436 - val_accuracy: 0.9838\n",
            "Epoch 42/50\n",
            "1890/1890 [==============================] - ETA: 0s - loss: 0.0733 - accuracy: 0.9765\n",
            "Epoch 00042: val_loss did not improve from 0.04314\n",
            "1890/1890 [==============================] - 196s 104ms/step - loss: 0.0733 - accuracy: 0.9765 - val_loss: 0.0434 - val_accuracy: 0.9857\n",
            "Epoch 43/50\n",
            "1890/1890 [==============================] - ETA: 0s - loss: 0.0707 - accuracy: 0.9775\n",
            "Epoch 00043: val_loss improved from 0.04314 to 0.04293, saving model to ph2_weights_balanced.hdf5\n",
            "1890/1890 [==============================] - 205s 108ms/step - loss: 0.0707 - accuracy: 0.9775 - val_loss: 0.0429 - val_accuracy: 0.9857\n",
            "Epoch 44/50\n",
            "1890/1890 [==============================] - ETA: 0s - loss: 0.0709 - accuracy: 0.9774\n",
            "Epoch 00044: val_loss improved from 0.04293 to 0.04186, saving model to ph2_weights_balanced.hdf5\n",
            "1890/1890 [==============================] - 205s 108ms/step - loss: 0.0709 - accuracy: 0.9774 - val_loss: 0.0419 - val_accuracy: 0.9867\n",
            "Epoch 45/50\n",
            "1890/1890 [==============================] - ETA: 0s - loss: 0.0698 - accuracy: 0.9775\n",
            "Epoch 00045: val_loss did not improve from 0.04186\n",
            "1890/1890 [==============================] - 199s 105ms/step - loss: 0.0698 - accuracy: 0.9775 - val_loss: 0.0425 - val_accuracy: 0.9848\n",
            "Epoch 46/50\n",
            "1890/1890 [==============================] - ETA: 0s - loss: 0.0708 - accuracy: 0.9776\n",
            "Epoch 00046: val_loss did not improve from 0.04186\n",
            "1890/1890 [==============================] - 197s 104ms/step - loss: 0.0708 - accuracy: 0.9776 - val_loss: 0.0419 - val_accuracy: 0.9845\n",
            "Epoch 47/50\n",
            "1890/1890 [==============================] - ETA: 0s - loss: 0.0670 - accuracy: 0.9790\n",
            "Epoch 00047: val_loss improved from 0.04186 to 0.04109, saving model to ph2_weights_balanced.hdf5\n",
            "1890/1890 [==============================] - 206s 109ms/step - loss: 0.0670 - accuracy: 0.9790 - val_loss: 0.0411 - val_accuracy: 0.9857\n",
            "Epoch 48/50\n",
            "1890/1890 [==============================] - ETA: 0s - loss: 0.0680 - accuracy: 0.9784\n",
            "Epoch 00048: val_loss did not improve from 0.04109\n",
            "1890/1890 [==============================] - 199s 105ms/step - loss: 0.0680 - accuracy: 0.9784 - val_loss: 0.0428 - val_accuracy: 0.9850\n",
            "Epoch 49/50\n",
            "1890/1890 [==============================] - ETA: 0s - loss: 0.0644 - accuracy: 0.9801\n",
            "Epoch 00049: val_loss did not improve from 0.04109\n",
            "1890/1890 [==============================] - 198s 105ms/step - loss: 0.0644 - accuracy: 0.9801 - val_loss: 0.0428 - val_accuracy: 0.9840\n",
            "Epoch 50/50\n",
            "1890/1890 [==============================] - ETA: 0s - loss: 0.0653 - accuracy: 0.9787\n",
            "Epoch 00050: val_loss did not improve from 0.04109\n",
            "1890/1890 [==============================] - 199s 105ms/step - loss: 0.0653 - accuracy: 0.9787 - val_loss: 0.0432 - val_accuracy: 0.9845\n"
          ],
          "name": "stdout"
        }
      ]
    },
    {
      "cell_type": "code",
      "metadata": {
        "id": "pMa7N_ZXZhTW"
      },
      "source": [
        "# Loading best weights model (lower val_loss value)\n",
        "model.load_weights(best_weights_ph2)"
      ],
      "execution_count": 25,
      "outputs": []
    },
    {
      "cell_type": "code",
      "metadata": {
        "id": "seDryw8_ZkwC",
        "colab": {
          "base_uri": "https://localhost:8080/",
          "height": 295
        },
        "outputId": "479d0ba4-ea78-4c12-b2c7-0ce5d82d9e44"
      },
      "source": [
        "# Showing temporal evolution of accuracy in train and validation sets\n",
        "plt.plot(historico.history['accuracy'], c = 'b')\n",
        "plt.plot(historico.history['val_accuracy'], c = 'r')\n",
        "plt.legend(['Train', 'Validacion'])\n",
        "plt.xlabel('Epocas')\n",
        "plt.ylabel('Medida')\n",
        "plt.title('Evolucion Entrenamiento')\n",
        "plt.show()"
      ],
      "execution_count": 26,
      "outputs": [
        {
          "output_type": "display_data",
          "data": {
            "image/png": "[encoded data removed]",
            "text/plain": [
              "<Figure size 432x288 with 1 Axes>"
            ]
          },
          "metadata": {
            "tags": [],
            "needs_background": "light"
          }
        }
      ]
    },
    {
      "cell_type": "code",
      "metadata": {
        "id": "8yVm2OANZmKx",
        "colab": {
          "base_uri": "https://localhost:8080/",
          "height": 295
        },
        "outputId": "754869f0-9773-4ca8-bf48-9ee42fac3e51"
      },
      "source": [
        "# Showing temporal evolution of loss in train and validation sets\n",
        "plt.plot(historico.history['loss'], c = 'b')\n",
        "plt.plot(historico.history['val_loss'], c = 'r')\n",
        "plt.legend(['Train', 'Validacion'])\n",
        "plt.xlabel('Epocas')\n",
        "plt.ylabel('Medida')\n",
        "plt.title('Evolucion Entrenamiento')\n",
        "plt.show()"
      ],
      "execution_count": 27,
      "outputs": [
        {
          "output_type": "display_data",
          "data": {
            "image/png": "[encoded data removed]",
            "text/plain": [
              "<Figure size 432x288 with 1 Axes>"
            ]
          },
          "metadata": {
            "tags": [],
            "needs_background": "light"
          }
        }
      ]
    },
    {
      "cell_type": "markdown",
      "metadata": {
        "id": "RiQvl-7i8cqv"
      },
      "source": [
        "**FINAL RESULTS**"
      ]
    },
    {
      "cell_type": "code",
      "metadata": {
        "id": "RtkRtwK3ZnSJ",
        "colab": {
          "base_uri": "https://localhost:8080/"
        },
        "outputId": "424d92fb-c24e-4396-fff0-5dc5d8855c53"
      },
      "source": [
        "# Model evaluation in test set\n",
        "metricas = model.evaluate(X_test, Y_test)"
      ],
      "execution_count": 28,
      "outputs": [
        {
          "output_type": "stream",
          "text": [
            "63/63 [==============================] - 2s 36ms/step - loss: 0.5142 - accuracy: 0.8712\n"
          ],
          "name": "stdout"
        }
      ]
    },
    {
      "cell_type": "code",
      "metadata": {
        "id": "wDh3SO0CZnjS",
        "colab": {
          "base_uri": "https://localhost:8080/"
        },
        "outputId": "5e68c09d-b01b-4783-f185-f1ed9d336e53"
      },
      "source": [
        "# Obtaining confusion matrix\n",
        "Y_pred = model.predict(X_test)\n",
        "print('Confusion Matrix')\n",
        "print(confusion_matrix(Y_test.argmax(axis=1), Y_pred.argmax(axis=1)))"
      ],
      "execution_count": 29,
      "outputs": [
        {
          "output_type": "stream",
          "text": [
            "Confusion Matrix\n",
            "[[  36    5   10    0    5    3    0]\n",
            " [   7   81    8    0   14    3    0]\n",
            " [   5    3  165    2   32    9    2]\n",
            " [   2    1    1   15    6    1    0]\n",
            " [   1    1   22    0 1289   21    0]\n",
            " [   3    0   25    1   60  133    0]\n",
            " [   0    1    0    0    3    1   26]]\n"
          ],
          "name": "stdout"
        }
      ]
    }
  ]
}