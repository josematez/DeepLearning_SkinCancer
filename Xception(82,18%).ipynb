{
  "nbformat": 4,
  "nbformat_minor": 0,
  "metadata": {
    "accelerator": "GPU",
    "colab": {
      "name": "inceptionv3_data(1).ipynb",
      "provenance": [],
      "collapsed_sections": []
    },
    "kernelspec": {
      "display_name": "proyecto",
      "language": "python",
      "name": "gpu"
    },
    "language_info": {
      "codemirror_mode": {
        "name": "ipython",
        "version": 3
      },
      "file_extension": ".py",
      "mimetype": "text/x-python",
      "name": "python",
      "nbconvert_exporter": "python",
      "pygments_lexer": "ipython3",
      "version": "3.7.9"
    }
  },
  "cells": [
    {
      "cell_type": "markdown",
      "metadata": {
        "id": "view-in-github"
      },
      "source": [
        "<a href=\"https://colab.research.google.com/github/josematez/DeepLearning_SkinCancer/blob/main/Testing_Data_Jose.ipynb\" target=\"_parent\"><img src=\"https://colab.research.google.com/assets/colab-badge.svg\" alt=\"Open In Colab\"/></a>"
      ]
    },
    {
      "cell_type": "code",
      "metadata": {
        "id": "46GSQ_3wuU8T",
        "outputId": "47b5e80e-bc50-4a78-93f6-8378fbf240a7",
        "colab": {
          "base_uri": "https://localhost:8080/",
          "height": 533
        }
      },
      "source": [
        "!pip install numpy==1.15.4\n",
        "!pip install deepdish\n",
        "#!pip install tensorflow==1.15\n",
        "#!pip install keras"
      ],
      "execution_count": 1,
      "outputs": [
        {
          "output_type": "stream",
          "text": [
            "Collecting numpy==1.15.4\n",
            "\u001b[?25l  Downloading https://files.pythonhosted.org/packages/ff/7f/9d804d2348471c67a7d8b5f84f9bc59fd1cefa148986f2b74552f8573555/numpy-1.15.4-cp36-cp36m-manylinux1_x86_64.whl (13.9MB)\n",
            "\u001b[K     |████████████████████████████████| 13.9MB 241kB/s \n",
            "\u001b[31mERROR: umap-learn 0.4.6 has requirement numpy>=1.17, but you'll have numpy 1.15.4 which is incompatible.\u001b[0m\n",
            "\u001b[31mERROR: tensorflow 2.3.0 has requirement numpy<1.19.0,>=1.16.0, but you'll have numpy 1.15.4 which is incompatible.\u001b[0m\n",
            "\u001b[31mERROR: plotnine 0.6.0 has requirement numpy>=1.16.0, but you'll have numpy 1.15.4 which is incompatible.\u001b[0m\n",
            "\u001b[31mERROR: datascience 0.10.6 has requirement folium==0.2.1, but you'll have folium 0.8.3 which is incompatible.\u001b[0m\n",
            "\u001b[31mERROR: astropy 4.1 has requirement numpy>=1.16, but you'll have numpy 1.15.4 which is incompatible.\u001b[0m\n",
            "\u001b[31mERROR: albumentations 0.1.12 has requirement imgaug<0.2.7,>=0.2.5, but you'll have imgaug 0.2.9 which is incompatible.\u001b[0m\n",
            "\u001b[?25hInstalling collected packages: numpy\n",
            "  Found existing installation: numpy 1.18.5\n",
            "    Uninstalling numpy-1.18.5:\n",
            "      Successfully uninstalled numpy-1.18.5\n",
            "Successfully installed numpy-1.15.4\n"
          ],
          "name": "stdout"
        },
        {
          "output_type": "display_data",
          "data": {
            "application/vnd.colab-display-data+json": {
              "pip_warning": {
                "packages": [
                  "numpy"
                ]
              }
            }
          },
          "metadata": {
            "tags": []
          }
        },
        {
          "output_type": "stream",
          "text": [
            "Collecting deepdish\n",
            "  Downloading https://files.pythonhosted.org/packages/6e/39/2a47c852651982bc5eb39212ac110284dd20126bdc7b49bde401a0139f5d/deepdish-0.3.6-py2.py3-none-any.whl\n",
            "Requirement already satisfied: numpy in /usr/local/lib/python3.6/dist-packages (from deepdish) (1.15.4)\n",
            "Requirement already satisfied: tables in /usr/local/lib/python3.6/dist-packages (from deepdish) (3.4.4)\n",
            "Requirement already satisfied: scipy in /usr/local/lib/python3.6/dist-packages (from deepdish) (1.4.1)\n",
            "Requirement already satisfied: six>=1.9.0 in /usr/local/lib/python3.6/dist-packages (from tables->deepdish) (1.15.0)\n",
            "Requirement already satisfied: numexpr>=2.5.2 in /usr/local/lib/python3.6/dist-packages (from tables->deepdish) (2.7.1)\n",
            "Installing collected packages: deepdish\n",
            "Successfully installed deepdish-0.3.6\n"
          ],
          "name": "stdout"
        }
      ]
    },
    {
      "cell_type": "code",
      "metadata": {
        "id": "R_m79alguZ9P"
      },
      "source": [
        "%matplotlib inline\n",
        "import matplotlib.pyplot as plt\n",
        "import numpy as np\n",
        "import pandas as pd\n",
        "import os\n",
        "import deepdish as dd\n",
        "from sklearn.model_selection import train_test_split\n",
        "from tensorflow.keras.models import Sequential, Model\n",
        "from tensorflow.keras.layers import Dense, Conv2D, Dropout, Flatten, MaxPooling2D, GlobalAveragePooling2D\n",
        "from tensorflow.keras.utils import to_categorical, plot_model\n",
        "from tensorflow.keras.optimizers import Adam, RMSprop, SGD\n",
        "from tensorflow.keras.callbacks import ReduceLROnPlateau\n",
        "from tensorflow.keras.preprocessing.image import ImageDataGenerator\n",
        "from tensorflow.keras import activations\n",
        "from keras.layers.normalization import BatchNormalization\n",
        "\n",
        "from tensorflow.keras.applications.xception import Xception"
      ],
      "execution_count": 13,
      "outputs": []
    },
    {
      "cell_type": "code",
      "metadata": {
        "id": "0e2SVXyVZrxe",
        "outputId": "d3075d53-b353-42b7-ccdc-cd44f82f9a5b",
        "colab": {
          "base_uri": "https://localhost:8080/",
          "height": 36
        }
      },
      "source": [
        "np.__version__"
      ],
      "execution_count": 14,
      "outputs": [
        {
          "output_type": "execute_result",
          "data": {
            "application/vnd.google.colaboratory.intrinsic+json": {
              "type": "string"
            },
            "text/plain": [
              "'1.15.4'"
            ]
          },
          "metadata": {
            "tags": []
          },
          "execution_count": 14
        }
      ]
    },
    {
      "cell_type": "code",
      "metadata": {
        "id": "K3IKV5kvucC1",
        "outputId": "5aff1bb2-bef1-47c7-c013-4a158668c418",
        "colab": {
          "base_uri": "https://localhost:8080/"
        }
      },
      "source": [
        "from google.colab import drive\n",
        "drive.mount('/content/drive')\n",
        "os.chdir('/content/drive/My Drive/Colab Notebooks/Data')"
      ],
      "execution_count": 15,
      "outputs": [
        {
          "output_type": "stream",
          "text": [
            "Drive already mounted at /content/drive; to attempt to forcibly remount, call drive.mount(\"/content/drive\", force_remount=True).\n"
          ],
          "name": "stdout"
        }
      ]
    },
    {
      "cell_type": "code",
      "metadata": {
        "id": "kQlULaeIudf8"
      },
      "source": [
        "data = dd.io.load('ISIC_dataset.h5')\n",
        "data_df = pd.DataFrame(data)"
      ],
      "execution_count": 16,
      "outputs": []
    },
    {
      "cell_type": "code",
      "metadata": {
        "id": "j4LrYJwZuemq"
      },
      "source": [
        "X_raw = data_df.image\n",
        "Y = data_df.cell_type_idx"
      ],
      "execution_count": 17,
      "outputs": []
    },
    {
      "cell_type": "code",
      "metadata": {
        "id": "aPIuLWUK5JGe"
      },
      "source": [
        "X = np.zeros((10015, 75, 100, 3))\n",
        "\n",
        "for i in range(10015):\n",
        "  X[i,:,:,:] = X_raw[i]"
      ],
      "execution_count": 18,
      "outputs": []
    },
    {
      "cell_type": "code",
      "metadata": {
        "id": "fX-nCzguvbxT",
        "outputId": "dda86645-4c3c-4885-b0ae-23fffdd1b55f",
        "colab": {
          "base_uri": "https://localhost:8080/"
        }
      },
      "source": [
        "print(\"Tamaño datos X: {}\".format(X.shape))\n",
        "print(\"Tamaño datos Y: {}\".format(Y.shape))"
      ],
      "execution_count": 19,
      "outputs": [
        {
          "output_type": "stream",
          "text": [
            "Tamaño datos X: (10015, 75, 100, 3)\n",
            "Tamaño datos Y: (10015,)\n"
          ],
          "name": "stdout"
        }
      ]
    },
    {
      "cell_type": "code",
      "metadata": {
        "id": "TCFKQAkHvDrw"
      },
      "source": [
        "X_train, X_test, Y_train, Y_test = train_test_split(X, Y, test_size = 0.2, random_state = 12345)\n",
        "X_train, X_val, Y_train, Y_val = train_test_split(X_train, Y_train, test_size=0.2, random_state = 12345)"
      ],
      "execution_count": 20,
      "outputs": []
    },
    {
      "cell_type": "code",
      "metadata": {
        "id": "wDIKZ_QyDY-M"
      },
      "source": [
        "X_train = (X_train / np.max(X_train))\n",
        "X_test = (X_test / np.max(X_test))\n",
        "X_val = (X_val / np.max(X_val))"
      ],
      "execution_count": 21,
      "outputs": []
    },
    {
      "cell_type": "code",
      "metadata": {
        "id": "OnJa21jVQxcz"
      },
      "source": [
        "Y_train = to_categorical(Y_train, num_classes = 7)\n",
        "Y_test = to_categorical(Y_test, num_classes = 7)\n",
        "Y_val = to_categorical(Y_val, num_classes = 7)"
      ],
      "execution_count": 22,
      "outputs": []
    },
    {
      "cell_type": "code",
      "metadata": {
        "id": "fItEHkc6tiTE"
      },
      "source": [
        "# DATA AUGMENTATION\n",
        "datagen = ImageDataGenerator(\n",
        "        featurewise_center=False,  # set input mean to 0 over the dataset\n",
        "        samplewise_center=False,  # set each sample mean to 0\n",
        "        featurewise_std_normalization=False,  # divide inputs by std of the dataset\n",
        "        samplewise_std_normalization=False,  # divide each input by its std\n",
        "        zca_whitening=False,  # apply ZCA whitening\n",
        "        rotation_range=60,  # randomly rotate images in the range (degrees, 0 to 180)\n",
        "        zoom_range = 0.4, # Randomly zoom image \n",
        "        width_shift_range=0.2,  # randomly shift images horizontally (fraction of total width)\n",
        "        height_shift_range=0.2,  # randomly shift images vertically (fraction of total height)\n",
        "        horizontal_flip=False,  # randomly flip images\n",
        "        vertical_flip=False)  # randomly flip images\n",
        "\n",
        "datagen.fit(X_train)"
      ],
      "execution_count": 23,
      "outputs": []
    },
    {
      "cell_type": "code",
      "metadata": {
        "id": "3h1miH4BP4NK"
      },
      "source": [
        "input_shape = (75, 100, 3)\n",
        "num_classes = 7\n",
        "\n",
        "#Xception\n",
        "\n",
        "base_model = Xception(weights='imagenet', include_top=False, input_shape=input_shape)\n",
        "\n",
        "model = base_model.output\n",
        "model = Flatten()(model)\n",
        "\n",
        "model = Dense(512, kernel_initializer='he_uniform', activation='relu')(model)\n",
        "model = Dropout(0.2)(model)\n",
        "model = BatchNormalization()(model)\n",
        "\n",
        "model = Dense(128, kernel_initializer='he_uniform', activation='relu')(model)\n",
        "model = Dropout(0.2)(model)\n",
        "model = BatchNormalization()(model)\n",
        "\n",
        "model = Dense(64, kernel_initializer='he_uniform', activation='relu')(model)\n",
        "model = Dropout(0.2)(model)\n",
        "model = BatchNormalization()(model)\n",
        "\n",
        "model = Dense(16, kernel_initializer='he_uniform', activation='relu')(model)\n",
        "model = Dropout(0.2)(model)\n",
        "model = BatchNormalization()(model)\n",
        "\n",
        "output = Dense(num_classes, activation='softmax')(model)\n",
        "\n",
        "model = Model(inputs=base_model.input, outputs=output)"
      ],
      "execution_count": 24,
      "outputs": []
    },
    {
      "cell_type": "code",
      "metadata": {
        "id": "aK0GNbn6Qcj0"
      },
      "source": [
        "epocas = 100\n",
        "bs = 32\n",
        "lr = 0.0001\n",
        "optim = Adam(learning_rate = lr)\n",
        "model.compile(optimizer = optim, loss = 'categorical_crossentropy', metrics = ['accuracy'])\n",
        "reduce_lr = ReduceLROnPlateau(monitor='val_loss', factor=0.3, patience=5, min_lr=0.00001)\n",
        "callbacks = [reduce_lr]"
      ],
      "execution_count": 25,
      "outputs": []
    },
    {
      "cell_type": "code",
      "metadata": {
        "id": "TWxhoNU3QeIL",
        "outputId": "abf2a4a5-d20e-4e23-a128-e0cd5e5a1d56",
        "colab": {
          "base_uri": "https://localhost:8080/"
        }
      },
      "source": [
        "historico = model.fit(datagen.flow(X_train, Y_train, batch_size = bs), epochs = epocas, batch_size = bs, validation_data = (X_val, Y_val), callbacks = callbacks)"
      ],
      "execution_count": 26,
      "outputs": [
        {
          "output_type": "stream",
          "text": [
            "Epoch 1/100\n",
            "201/201 [==============================] - 25s 125ms/step - loss: 2.1999 - accuracy: 0.1832 - val_loss: 1.7598 - val_accuracy: 0.3768\n",
            "Epoch 2/100\n",
            "201/201 [==============================] - 24s 121ms/step - loss: 1.8791 - accuracy: 0.2838 - val_loss: 1.4593 - val_accuracy: 0.5315\n",
            "Epoch 3/100\n",
            "201/201 [==============================] - 24s 118ms/step - loss: 1.6751 - accuracy: 0.3774 - val_loss: 1.4515 - val_accuracy: 0.5758\n",
            "Epoch 4/100\n",
            "201/201 [==============================] - 24s 118ms/step - loss: 1.5351 - accuracy: 0.4601 - val_loss: 1.3782 - val_accuracy: 0.6276\n",
            "Epoch 5/100\n",
            "201/201 [==============================] - 24s 119ms/step - loss: 1.4138 - accuracy: 0.5279 - val_loss: 1.1706 - val_accuracy: 0.6831\n",
            "Epoch 6/100\n",
            "201/201 [==============================] - 24s 119ms/step - loss: 1.3115 - accuracy: 0.5918 - val_loss: 1.1163 - val_accuracy: 0.6925\n",
            "Epoch 7/100\n",
            "201/201 [==============================] - 24s 119ms/step - loss: 1.2250 - accuracy: 0.6241 - val_loss: 1.0730 - val_accuracy: 0.7049\n",
            "Epoch 8/100\n",
            "201/201 [==============================] - 24s 119ms/step - loss: 1.1299 - accuracy: 0.6702 - val_loss: 0.9416 - val_accuracy: 0.7286\n",
            "Epoch 9/100\n",
            "201/201 [==============================] - 24s 119ms/step - loss: 1.0759 - accuracy: 0.6833 - val_loss: 0.9232 - val_accuracy: 0.7473\n",
            "Epoch 10/100\n",
            "201/201 [==============================] - 24s 119ms/step - loss: 1.0068 - accuracy: 0.7095 - val_loss: 0.8881 - val_accuracy: 0.7349\n",
            "Epoch 11/100\n",
            "201/201 [==============================] - 24s 119ms/step - loss: 0.9401 - accuracy: 0.7221 - val_loss: 0.8404 - val_accuracy: 0.7604\n",
            "Epoch 12/100\n",
            "201/201 [==============================] - 24s 119ms/step - loss: 0.8911 - accuracy: 0.7388 - val_loss: 0.7991 - val_accuracy: 0.7598\n",
            "Epoch 13/100\n",
            "201/201 [==============================] - 24s 119ms/step - loss: 0.8457 - accuracy: 0.7539 - val_loss: 0.7530 - val_accuracy: 0.7679\n",
            "Epoch 14/100\n",
            "201/201 [==============================] - 24s 119ms/step - loss: 0.8025 - accuracy: 0.7635 - val_loss: 0.7577 - val_accuracy: 0.7760\n",
            "Epoch 15/100\n",
            "201/201 [==============================] - 24s 119ms/step - loss: 0.7714 - accuracy: 0.7725 - val_loss: 0.7779 - val_accuracy: 0.7673\n",
            "Epoch 16/100\n",
            "201/201 [==============================] - 24s 119ms/step - loss: 0.7308 - accuracy: 0.7786 - val_loss: 0.7459 - val_accuracy: 0.7735\n",
            "Epoch 17/100\n",
            "201/201 [==============================] - 24s 119ms/step - loss: 0.7272 - accuracy: 0.7759 - val_loss: 0.6887 - val_accuracy: 0.7935\n",
            "Epoch 18/100\n",
            "201/201 [==============================] - 24s 119ms/step - loss: 0.6893 - accuracy: 0.7880 - val_loss: 0.7234 - val_accuracy: 0.7879\n",
            "Epoch 19/100\n",
            "201/201 [==============================] - 24s 119ms/step - loss: 0.6893 - accuracy: 0.7892 - val_loss: 0.6604 - val_accuracy: 0.7923\n",
            "Epoch 20/100\n",
            "201/201 [==============================] - 24s 120ms/step - loss: 0.6363 - accuracy: 0.8001 - val_loss: 0.6890 - val_accuracy: 0.7935\n",
            "Epoch 21/100\n",
            "201/201 [==============================] - 24s 119ms/step - loss: 0.6180 - accuracy: 0.8107 - val_loss: 0.6788 - val_accuracy: 0.7885\n",
            "Epoch 22/100\n",
            "201/201 [==============================] - 24s 119ms/step - loss: 0.6085 - accuracy: 0.8042 - val_loss: 0.7555 - val_accuracy: 0.7835\n",
            "Epoch 23/100\n",
            "201/201 [==============================] - 24s 119ms/step - loss: 0.5792 - accuracy: 0.8156 - val_loss: 0.6880 - val_accuracy: 0.7935\n",
            "Epoch 24/100\n",
            "201/201 [==============================] - 24s 119ms/step - loss: 0.5787 - accuracy: 0.8125 - val_loss: 0.6424 - val_accuracy: 0.7960\n",
            "Epoch 25/100\n",
            "201/201 [==============================] - 24s 119ms/step - loss: 0.5344 - accuracy: 0.8291 - val_loss: 0.6286 - val_accuracy: 0.8122\n",
            "Epoch 26/100\n",
            "201/201 [==============================] - 24s 119ms/step - loss: 0.5438 - accuracy: 0.8293 - val_loss: 0.7278 - val_accuracy: 0.7735\n",
            "Epoch 27/100\n",
            "201/201 [==============================] - 24s 119ms/step - loss: 0.5343 - accuracy: 0.8282 - val_loss: 0.6647 - val_accuracy: 0.7898\n",
            "Epoch 28/100\n",
            "201/201 [==============================] - 24s 119ms/step - loss: 0.5214 - accuracy: 0.8327 - val_loss: 0.7402 - val_accuracy: 0.7785\n",
            "Epoch 29/100\n",
            "201/201 [==============================] - 24s 119ms/step - loss: 0.4936 - accuracy: 0.8438 - val_loss: 0.6458 - val_accuracy: 0.8191\n",
            "Epoch 30/100\n",
            "201/201 [==============================] - 24s 119ms/step - loss: 0.4906 - accuracy: 0.8388 - val_loss: 0.7199 - val_accuracy: 0.8016\n",
            "Epoch 31/100\n",
            "201/201 [==============================] - 24s 119ms/step - loss: 0.4584 - accuracy: 0.8477 - val_loss: 0.6196 - val_accuracy: 0.8141\n",
            "Epoch 32/100\n",
            "201/201 [==============================] - 24s 119ms/step - loss: 0.4372 - accuracy: 0.8632 - val_loss: 0.5981 - val_accuracy: 0.8210\n",
            "Epoch 33/100\n",
            "201/201 [==============================] - 24s 119ms/step - loss: 0.4228 - accuracy: 0.8591 - val_loss: 0.5854 - val_accuracy: 0.8247\n",
            "Epoch 34/100\n",
            "201/201 [==============================] - 24s 119ms/step - loss: 0.4129 - accuracy: 0.8624 - val_loss: 0.6074 - val_accuracy: 0.8228\n",
            "Epoch 35/100\n",
            "201/201 [==============================] - 24s 119ms/step - loss: 0.4133 - accuracy: 0.8708 - val_loss: 0.5787 - val_accuracy: 0.8235\n",
            "Epoch 36/100\n",
            "201/201 [==============================] - 24s 119ms/step - loss: 0.4143 - accuracy: 0.8753 - val_loss: 0.6029 - val_accuracy: 0.8260\n",
            "Epoch 37/100\n",
            "201/201 [==============================] - 24s 119ms/step - loss: 0.3963 - accuracy: 0.8753 - val_loss: 0.6075 - val_accuracy: 0.8147\n",
            "Epoch 38/100\n",
            "201/201 [==============================] - 24s 119ms/step - loss: 0.3844 - accuracy: 0.8744 - val_loss: 0.5990 - val_accuracy: 0.8235\n",
            "Epoch 39/100\n",
            "201/201 [==============================] - 24s 119ms/step - loss: 0.3821 - accuracy: 0.8834 - val_loss: 0.5996 - val_accuracy: 0.8316\n",
            "Epoch 40/100\n",
            "201/201 [==============================] - 24s 119ms/step - loss: 0.3781 - accuracy: 0.8811 - val_loss: 0.6265 - val_accuracy: 0.8153\n",
            "Epoch 41/100\n",
            "201/201 [==============================] - 24s 120ms/step - loss: 0.3697 - accuracy: 0.8791 - val_loss: 0.6183 - val_accuracy: 0.8222\n",
            "Epoch 42/100\n",
            "201/201 [==============================] - 24s 119ms/step - loss: 0.3758 - accuracy: 0.8780 - val_loss: 0.8030 - val_accuracy: 0.7823\n",
            "Epoch 43/100\n",
            "201/201 [==============================] - 24s 119ms/step - loss: 0.3530 - accuracy: 0.8900 - val_loss: 0.6162 - val_accuracy: 0.8122\n",
            "Epoch 44/100\n",
            "201/201 [==============================] - 24s 119ms/step - loss: 0.3365 - accuracy: 0.8945 - val_loss: 0.6107 - val_accuracy: 0.8203\n",
            "Epoch 45/100\n",
            "201/201 [==============================] - 24s 119ms/step - loss: 0.3530 - accuracy: 0.8870 - val_loss: 0.6114 - val_accuracy: 0.8203\n",
            "Epoch 46/100\n",
            "201/201 [==============================] - 24s 119ms/step - loss: 0.3543 - accuracy: 0.8895 - val_loss: 0.5986 - val_accuracy: 0.8210\n",
            "Epoch 47/100\n",
            "201/201 [==============================] - 24s 119ms/step - loss: 0.3441 - accuracy: 0.8953 - val_loss: 0.5726 - val_accuracy: 0.8303\n",
            "Epoch 48/100\n",
            "201/201 [==============================] - 24s 119ms/step - loss: 0.3512 - accuracy: 0.8930 - val_loss: 0.5883 - val_accuracy: 0.8253\n",
            "Epoch 49/100\n",
            "201/201 [==============================] - 24s 119ms/step - loss: 0.3381 - accuracy: 0.8983 - val_loss: 0.5879 - val_accuracy: 0.8241\n",
            "Epoch 50/100\n",
            "201/201 [==============================] - 24s 119ms/step - loss: 0.3406 - accuracy: 0.8951 - val_loss: 0.5912 - val_accuracy: 0.8235\n",
            "Epoch 51/100\n",
            "201/201 [==============================] - 24s 119ms/step - loss: 0.3354 - accuracy: 0.8947 - val_loss: 0.6532 - val_accuracy: 0.8203\n",
            "Epoch 52/100\n",
            "201/201 [==============================] - 24s 119ms/step - loss: 0.3358 - accuracy: 0.8961 - val_loss: 0.5922 - val_accuracy: 0.8272\n",
            "Epoch 53/100\n",
            "201/201 [==============================] - 24s 119ms/step - loss: 0.3387 - accuracy: 0.8989 - val_loss: 0.6092 - val_accuracy: 0.8297\n",
            "Epoch 54/100\n",
            "201/201 [==============================] - 24s 119ms/step - loss: 0.3372 - accuracy: 0.9000 - val_loss: 0.6322 - val_accuracy: 0.8172\n",
            "Epoch 55/100\n",
            "201/201 [==============================] - 24s 119ms/step - loss: 0.3368 - accuracy: 0.8966 - val_loss: 0.6053 - val_accuracy: 0.8247\n",
            "Epoch 56/100\n",
            "201/201 [==============================] - 24s 119ms/step - loss: 0.3114 - accuracy: 0.9075 - val_loss: 0.5948 - val_accuracy: 0.8235\n",
            "Epoch 57/100\n",
            "201/201 [==============================] - 24s 119ms/step - loss: 0.3188 - accuracy: 0.9045 - val_loss: 0.5928 - val_accuracy: 0.8278\n",
            "Epoch 58/100\n",
            "201/201 [==============================] - 24s 119ms/step - loss: 0.3285 - accuracy: 0.8976 - val_loss: 0.5842 - val_accuracy: 0.8309\n",
            "Epoch 59/100\n",
            "201/201 [==============================] - 24s 119ms/step - loss: 0.3282 - accuracy: 0.9014 - val_loss: 0.5881 - val_accuracy: 0.8297\n",
            "Epoch 60/100\n",
            "201/201 [==============================] - 24s 119ms/step - loss: 0.3117 - accuracy: 0.9025 - val_loss: 0.6129 - val_accuracy: 0.8235\n",
            "Epoch 61/100\n",
            "201/201 [==============================] - 24s 119ms/step - loss: 0.3118 - accuracy: 0.9051 - val_loss: 0.6834 - val_accuracy: 0.7929\n",
            "Epoch 62/100\n",
            "201/201 [==============================] - 24s 119ms/step - loss: 0.3126 - accuracy: 0.9086 - val_loss: 0.6129 - val_accuracy: 0.8222\n",
            "Epoch 63/100\n",
            "201/201 [==============================] - 24s 119ms/step - loss: 0.3210 - accuracy: 0.9036 - val_loss: 0.6002 - val_accuracy: 0.8334\n",
            "Epoch 64/100\n",
            "201/201 [==============================] - 24s 119ms/step - loss: 0.2980 - accuracy: 0.9111 - val_loss: 0.5968 - val_accuracy: 0.8309\n",
            "Epoch 65/100\n",
            "201/201 [==============================] - 24s 119ms/step - loss: 0.2953 - accuracy: 0.9129 - val_loss: 0.5972 - val_accuracy: 0.8284\n",
            "Epoch 66/100\n",
            "201/201 [==============================] - 24s 119ms/step - loss: 0.2937 - accuracy: 0.9179 - val_loss: 0.5979 - val_accuracy: 0.8291\n",
            "Epoch 67/100\n",
            "201/201 [==============================] - 24s 119ms/step - loss: 0.3044 - accuracy: 0.9115 - val_loss: 0.5974 - val_accuracy: 0.8341\n",
            "Epoch 68/100\n",
            "201/201 [==============================] - 24s 119ms/step - loss: 0.3069 - accuracy: 0.9076 - val_loss: 0.6176 - val_accuracy: 0.8260\n",
            "Epoch 69/100\n",
            "201/201 [==============================] - 24s 119ms/step - loss: 0.2912 - accuracy: 0.9159 - val_loss: 0.6494 - val_accuracy: 0.8129\n",
            "Epoch 70/100\n",
            "201/201 [==============================] - 24s 119ms/step - loss: 0.3091 - accuracy: 0.9117 - val_loss: 0.6126 - val_accuracy: 0.8278\n",
            "Epoch 71/100\n",
            "201/201 [==============================] - 24s 119ms/step - loss: 0.2879 - accuracy: 0.9153 - val_loss: 0.5892 - val_accuracy: 0.8347\n",
            "Epoch 72/100\n",
            "201/201 [==============================] - 24s 119ms/step - loss: 0.3003 - accuracy: 0.9114 - val_loss: 0.6059 - val_accuracy: 0.8247\n",
            "Epoch 73/100\n",
            "201/201 [==============================] - 24s 119ms/step - loss: 0.2930 - accuracy: 0.9123 - val_loss: 0.6874 - val_accuracy: 0.8004\n",
            "Epoch 74/100\n",
            "201/201 [==============================] - 24s 119ms/step - loss: 0.2783 - accuracy: 0.9210 - val_loss: 0.5981 - val_accuracy: 0.8334\n",
            "Epoch 75/100\n",
            "201/201 [==============================] - 24s 119ms/step - loss: 0.2981 - accuracy: 0.9108 - val_loss: 0.6013 - val_accuracy: 0.8316\n",
            "Epoch 76/100\n",
            "201/201 [==============================] - 24s 119ms/step - loss: 0.2779 - accuracy: 0.9176 - val_loss: 0.5949 - val_accuracy: 0.8341\n",
            "Epoch 77/100\n",
            "201/201 [==============================] - 24s 119ms/step - loss: 0.2758 - accuracy: 0.9215 - val_loss: 0.5955 - val_accuracy: 0.8334\n",
            "Epoch 78/100\n",
            "201/201 [==============================] - 24s 120ms/step - loss: 0.2672 - accuracy: 0.9225 - val_loss: 0.5859 - val_accuracy: 0.8322\n",
            "Epoch 79/100\n",
            "201/201 [==============================] - 24s 119ms/step - loss: 0.2810 - accuracy: 0.9162 - val_loss: 0.5805 - val_accuracy: 0.8353\n",
            "Epoch 80/100\n",
            "201/201 [==============================] - 24s 119ms/step - loss: 0.2758 - accuracy: 0.9217 - val_loss: 0.5921 - val_accuracy: 0.8366\n",
            "Epoch 81/100\n",
            "201/201 [==============================] - 24s 119ms/step - loss: 0.2754 - accuracy: 0.9196 - val_loss: 0.5724 - val_accuracy: 0.8359\n",
            "Epoch 82/100\n",
            "201/201 [==============================] - 24s 119ms/step - loss: 0.2666 - accuracy: 0.9200 - val_loss: 0.5907 - val_accuracy: 0.8322\n",
            "Epoch 83/100\n",
            "201/201 [==============================] - 24s 119ms/step - loss: 0.2664 - accuracy: 0.9226 - val_loss: 0.5886 - val_accuracy: 0.8334\n",
            "Epoch 84/100\n",
            "201/201 [==============================] - 24s 119ms/step - loss: 0.2617 - accuracy: 0.9265 - val_loss: 0.5946 - val_accuracy: 0.8309\n",
            "Epoch 85/100\n",
            "201/201 [==============================] - 24s 119ms/step - loss: 0.2719 - accuracy: 0.9229 - val_loss: 0.5821 - val_accuracy: 0.8341\n",
            "Epoch 86/100\n",
            "201/201 [==============================] - 24s 119ms/step - loss: 0.2650 - accuracy: 0.9225 - val_loss: 0.5730 - val_accuracy: 0.8341\n",
            "Epoch 87/100\n",
            "201/201 [==============================] - 24s 119ms/step - loss: 0.2607 - accuracy: 0.9243 - val_loss: 0.5993 - val_accuracy: 0.8297\n",
            "Epoch 88/100\n",
            "201/201 [==============================] - 24s 119ms/step - loss: 0.2563 - accuracy: 0.9240 - val_loss: 0.7119 - val_accuracy: 0.8122\n",
            "Epoch 89/100\n",
            "201/201 [==============================] - 24s 119ms/step - loss: 0.2532 - accuracy: 0.9298 - val_loss: 0.8763 - val_accuracy: 0.8004\n",
            "Epoch 90/100\n",
            "201/201 [==============================] - 24s 120ms/step - loss: 0.2472 - accuracy: 0.9310 - val_loss: 0.6824 - val_accuracy: 0.8197\n",
            "Epoch 91/100\n",
            "201/201 [==============================] - 24s 120ms/step - loss: 0.2583 - accuracy: 0.9237 - val_loss: 0.6319 - val_accuracy: 0.8228\n",
            "Epoch 92/100\n",
            "201/201 [==============================] - 24s 119ms/step - loss: 0.2576 - accuracy: 0.9254 - val_loss: 0.7588 - val_accuracy: 0.8116\n",
            "Epoch 93/100\n",
            "201/201 [==============================] - 24s 119ms/step - loss: 0.2558 - accuracy: 0.9271 - val_loss: 0.6998 - val_accuracy: 0.8141\n",
            "Epoch 94/100\n",
            "201/201 [==============================] - 24s 119ms/step - loss: 0.2688 - accuracy: 0.9249 - val_loss: 0.6533 - val_accuracy: 0.8172\n",
            "Epoch 95/100\n",
            "201/201 [==============================] - 24s 119ms/step - loss: 0.2293 - accuracy: 0.9356 - val_loss: 0.6876 - val_accuracy: 0.8197\n",
            "Epoch 96/100\n",
            "201/201 [==============================] - 24s 120ms/step - loss: 0.2618 - accuracy: 0.9285 - val_loss: 0.7626 - val_accuracy: 0.8016\n",
            "Epoch 97/100\n",
            "201/201 [==============================] - 24s 119ms/step - loss: 0.2549 - accuracy: 0.9268 - val_loss: 0.7887 - val_accuracy: 0.8054\n",
            "Epoch 98/100\n",
            "201/201 [==============================] - 24s 119ms/step - loss: 0.2452 - accuracy: 0.9318 - val_loss: 0.7178 - val_accuracy: 0.8072\n",
            "Epoch 99/100\n",
            "201/201 [==============================] - 24s 119ms/step - loss: 0.2444 - accuracy: 0.9315 - val_loss: 0.7087 - val_accuracy: 0.8066\n",
            "Epoch 100/100\n",
            "201/201 [==============================] - 24s 119ms/step - loss: 0.2406 - accuracy: 0.9313 - val_loss: 0.6993 - val_accuracy: 0.8047\n"
          ],
          "name": "stdout"
        }
      ]
    },
    {
      "cell_type": "code",
      "metadata": {
        "id": "GgHwxyxScPYs",
        "outputId": "d999f305-afdd-4c95-fa3d-5ddd6db7d3ef",
        "colab": {
          "base_uri": "https://localhost:8080/",
          "height": 295
        }
      },
      "source": [
        "plt.plot(historico.history['accuracy'], c = 'b')\n",
        "plt.plot(historico.history['val_accuracy'], c = 'r')\n",
        "plt.legend(['Train', 'Validacion'])\n",
        "plt.xlabel('Epocas')\n",
        "plt.ylabel('Medida')\n",
        "plt.title('Evolucion Entrenamiento')\n",
        "plt.show()"
      ],
      "execution_count": 27,
      "outputs": [
        {
          "output_type": "display_data",
          "data": {
            "image/png": "[encoded data removed]",
            "text/plain": [
              "<Figure size 432x288 with 1 Axes>"
            ]
          },
          "metadata": {
            "tags": [],
            "needs_background": "light"
          }
        }
      ]
    },
    {
      "cell_type": "code",
      "metadata": {
        "id": "MopYHtLIcPzy",
        "outputId": "673695e8-4202-4794-a70e-7deffcb5adef",
        "colab": {
          "base_uri": "https://localhost:8080/",
          "height": 295
        }
      },
      "source": [
        "plt.plot(historico.history['loss'], c = 'b')\n",
        "plt.plot(historico.history['val_loss'], c = 'r')\n",
        "plt.legend(['Train', 'Validacion'])\n",
        "plt.xlabel('Epocas')\n",
        "plt.ylabel('Medida')\n",
        "plt.title('Evolucion Entrenamiento')\n",
        "plt.show()"
      ],
      "execution_count": 28,
      "outputs": [
        {
          "output_type": "display_data",
          "data": {
            "image/png": "[encoded data removed]",
            "text/plain": [
              "<Figure size 432x288 with 1 Axes>"
            ]
          },
          "metadata": {
            "tags": [],
            "needs_background": "light"
          }
        }
      ]
    },
    {
      "cell_type": "code",
      "metadata": {
        "id": "qZepWyf8Qj3V",
        "outputId": "cddf1bec-0cd3-4fbb-ed13-85f840a4f8a3",
        "colab": {
          "base_uri": "https://localhost:8080/"
        }
      },
      "source": [
        "metricas = model.evaluate(X_test, Y_test)"
      ],
      "execution_count": 29,
      "outputs": [
        {
          "output_type": "stream",
          "text": [
            "63/63 [==============================] - 2s 35ms/step - loss: 0.6413 - accuracy: 0.8218\n"
          ],
          "name": "stdout"
        }
      ]
    },
    {
      "cell_type": "code",
      "metadata": {
        "id": "A_RbeR3OjfV9"
      },
      "source": [
        ""
      ],
      "execution_count": null,
      "outputs": []
    }
  ]
}