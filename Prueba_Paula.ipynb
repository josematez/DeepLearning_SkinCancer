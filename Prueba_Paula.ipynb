{
  "nbformat": 4,
  "nbformat_minor": 0,
  "metadata": {
    "colab": {
      "name": "Untitled2.ipynb",
      "provenance": [],
      "authorship_tag": "ABX9TyMKkeW1NQDTAXpK/WtS+jZT",
      "include_colab_link": true
    },
    "kernelspec": {
      "name": "python3",
      "display_name": "Python 3"
    },
    "accelerator": "GPU"
  },
  "cells": [
    {
      "cell_type": "markdown",
      "metadata": {
        "id": "view-in-github",
        "colab_type": "text"
      },
      "source": [
        "<a href=\"https://colab.research.google.com/github/josematez/DeepLearning_SkinCancer/blob/main/Prueba_Paula.ipynb\" target=\"_parent\"><img src=\"https://colab.research.google.com/assets/colab-badge.svg\" alt=\"Open In Colab\"/></a>"
      ]
    },
    {
      "cell_type": "code",
      "metadata": {
        "id": "8OJciOOmU7j_"
      },
      "source": [
        "%matplotlib inline\n",
        "import matplotlib.pyplot as plt\n",
        "import numpy as np\n",
        "import pandas as pd\n",
        "import os\n",
        "from glob import glob\n",
        "import seaborn as sns\n",
        "from PIL import Image\n",
        "np.random.seed(123)\n",
        "from sklearn.preprocessing import label_binarize\n",
        "from sklearn.metrics import confusion_matrix\n",
        "import itertools\n",
        "from keras.callbacks import EarlyStopping, ModelCheckpoint\n",
        "import keras\n",
        "from keras.utils.np_utils import to_categorical # used for converting labels to one-hot-encoding\n",
        "from keras.models import Sequential\n",
        "from keras.layers import Dense, Dropout, Flatten, Conv2D, MaxPool2D\n",
        "from keras import backend as K\n",
        "import itertools\n",
        "from keras.layers.normalization import BatchNormalization\n",
        "from keras.utils.np_utils import to_categorical \n",
        "from keras.optimizers import Adam\n",
        "from keras.preprocessing.image import ImageDataGenerator\n",
        "from keras.callbacks import ReduceLROnPlateau\n",
        "from sklearn.model_selection import train_test_split\n",
        "\n",
        "sns.set(color_codes = True)\n",
        "\n",
        "#Global Variables\n",
        "styles=[':','-.','--','-',':','-.','--','-',':','-.','--','-']\n",
        "learning_rate_reduction = ReduceLROnPlateau(monitor='val_accuracy', \n",
        "                                            patience=3, \n",
        "                                            verbose=1, \n",
        "                                            factor=0.5, \n",
        "                                            min_lr=0.00001)"
      ],
      "execution_count": 1,
      "outputs": []
    },
    {
      "cell_type": "code",
      "metadata": {
        "id": "EDzaubn9VZpv",
        "outputId": "6aeebf4a-237b-4601-a96d-0502fa35c0c8",
        "colab": {
          "base_uri": "https://localhost:8080/"
        }
      },
      "source": [
        "from google.colab import drive\n",
        "drive.mount('/content/drive')\n",
        "os.chdir('/content/drive/My Drive/Proyecto Curso Samsung')"
      ],
      "execution_count": 2,
      "outputs": [
        {
          "output_type": "stream",
          "text": [
            "Drive already mounted at /content/drive; to attempt to forcibly remount, call drive.mount(\"/content/drive\", force_remount=True).\n"
          ],
          "name": "stdout"
        }
      ]
    },
    {
      "cell_type": "code",
      "metadata": {
        "id": "Y6JBG6ORVyoA",
        "outputId": "9fd3557a-bac4-4909-be7c-9e9b0359a5ce",
        "colab": {
          "base_uri": "https://localhost:8080/"
        }
      },
      "source": [
        "!pip install numpy==1.15.4\n",
        "!pip install deepdish"
      ],
      "execution_count": 3,
      "outputs": [
        {
          "output_type": "stream",
          "text": [
            "Requirement already satisfied: numpy==1.15.4 in /usr/local/lib/python3.6/dist-packages (1.15.4)\n",
            "Requirement already satisfied: deepdish in /usr/local/lib/python3.6/dist-packages (0.3.6)\n",
            "Requirement already satisfied: numpy in /usr/local/lib/python3.6/dist-packages (from deepdish) (1.15.4)\n",
            "Requirement already satisfied: scipy in /usr/local/lib/python3.6/dist-packages (from deepdish) (1.4.1)\n",
            "Requirement already satisfied: tables in /usr/local/lib/python3.6/dist-packages (from deepdish) (3.4.4)\n",
            "Requirement already satisfied: numexpr>=2.5.2 in /usr/local/lib/python3.6/dist-packages (from tables->deepdish) (2.7.1)\n",
            "Requirement already satisfied: six>=1.9.0 in /usr/local/lib/python3.6/dist-packages (from tables->deepdish) (1.15.0)\n"
          ],
          "name": "stdout"
        }
      ]
    },
    {
      "cell_type": "code",
      "metadata": {
        "id": "uVr8xlF3Vb8X"
      },
      "source": [
        "import deepdish as dd\n",
        "data = dd.io.load('ISIC_dataset.h5')\n",
        "data_df = pd.DataFrame(data)"
      ],
      "execution_count": 4,
      "outputs": []
    },
    {
      "cell_type": "code",
      "metadata": {
        "id": "fnahZYizVfPL"
      },
      "source": [
        "X_raw = data_df.image\n",
        "Y = data_df.cell_type_idx"
      ],
      "execution_count": 5,
      "outputs": []
    },
    {
      "cell_type": "code",
      "metadata": {
        "id": "eRofbkSWVgef"
      },
      "source": [
        "X = np.zeros((10015, 75, 100, 3))\n",
        "\n",
        "for i in range(10015):\n",
        "  X[i,:,:,:] = X_raw[i]"
      ],
      "execution_count": 6,
      "outputs": []
    },
    {
      "cell_type": "code",
      "metadata": {
        "id": "bVkDsiF2VheH",
        "outputId": "7ae16982-a681-4d68-ffc7-99a5cac8479a",
        "colab": {
          "base_uri": "https://localhost:8080/"
        }
      },
      "source": [
        "print(\"Tamaño datos X: {}\".format(X.shape))\n",
        "print(\"Tamaño datos Y: {}\".format(Y.shape))"
      ],
      "execution_count": 7,
      "outputs": [
        {
          "output_type": "stream",
          "text": [
            "Tamaño datos X: (10015, 75, 100, 3)\n",
            "Tamaño datos Y: (10015,)\n"
          ],
          "name": "stdout"
        }
      ]
    },
    {
      "cell_type": "code",
      "metadata": {
        "id": "Dqd_ZkWyaKSG"
      },
      "source": [
        "X_train, X_test, Y_train, Y_test = train_test_split(X, Y, test_size = 0.3, random_state = 123)"
      ],
      "execution_count": 8,
      "outputs": []
    },
    {
      "cell_type": "code",
      "metadata": {
        "id": "Yt26FQXOo6tn"
      },
      "source": [
        "X_train = (X_train / np.max(X_train))\n",
        "X_test = (X_test / np.max(X_test))"
      ],
      "execution_count": 9,
      "outputs": []
    },
    {
      "cell_type": "code",
      "metadata": {
        "id": "rPPyrAUiryyW"
      },
      "source": [
        "Y_train = to_categorical(Y_train, num_classes = 7)\n",
        "Y_test = to_categorical(Y_test, num_classes = 7)"
      ],
      "execution_count": 10,
      "outputs": []
    },
    {
      "cell_type": "code",
      "metadata": {
        "id": "0WYDZpV6pVZC"
      },
      "source": [
        "input_shape = (75, 100, 3)\n",
        "num_classes = 7"
      ],
      "execution_count": 11,
      "outputs": []
    },
    {
      "cell_type": "code",
      "metadata": {
        "id": "caFxnfIvo9BF"
      },
      "source": [
        "# With data augmentation to prevent overfitting \n",
        "\n",
        "datagen = ImageDataGenerator(\n",
        "        featurewise_center=False,  # set input mean to 0 over the dataset\n",
        "        samplewise_center=False,  # set each sample mean to 0\n",
        "        featurewise_std_normalization=False,  # divide inputs by std of the dataset\n",
        "        samplewise_std_normalization=False,  # divide each input by its std\n",
        "        zca_whitening=False,  # apply ZCA whitening\n",
        "        rotation_range=10,  # randomly rotate images in the range (degrees, 0 to 180)\n",
        "        zoom_range = 0.1, # Randomly zoom image \n",
        "        width_shift_range=0.1,  # randomly shift images horizontally (fraction of total width)\n",
        "        height_shift_range=0.1,  # randomly shift images vertically (fraction of total height)\n",
        "        horizontal_flip=False,  # randomly flip images\n",
        "        vertical_flip=False)  # randomly flip images\n",
        "\n",
        "datagen.fit(X_train)"
      ],
      "execution_count": 12,
      "outputs": []
    },
    {
      "cell_type": "code",
      "metadata": {
        "id": "JY-OXVlatohv"
      },
      "source": [
        "model = Sequential()\n",
        "model.add(Conv2D(filters = 64, kernel_size = (3,3), padding = 'same', activation = 'relu',input_shape = input_shape))\n",
        "model.add(BatchNormalization())\n",
        "model.add(Conv2D(filters = 64, kernel_size = (3,3), padding = 'same', activation = 'relu',input_shape = input_shape))\n",
        "model.add(BatchNormalization())\n",
        "model.add(MaxPool2D(pool_size = (2,2)))\n",
        "model.add(Conv2D(filters = 128, kernel_size = (3,3), padding = 'same', activation = 'relu',input_shape = input_shape))\n",
        "model.add(BatchNormalization())\n",
        "model.add(Conv2D(filters = 128, kernel_size = (3,3), padding = 'same', activation = 'relu',input_shape = input_shape))\n",
        "model.add(BatchNormalization())\n",
        "model.add(MaxPool2D(pool_size = (2,2)))\n",
        "model.add(Conv2D(filters = 256, kernel_size = (3,3), padding = 'same', activation = 'relu',input_shape = input_shape))\n",
        "model.add(BatchNormalization())\n",
        "model.add(Conv2D(filters = 256, kernel_size = (3,3), padding = 'same', activation = 'relu',input_shape = input_shape))\n",
        "model.add(BatchNormalization())\n",
        "model.add(MaxPool2D(pool_size = (2,2)))\n",
        "model.add(Flatten())\n",
        "model.add(Dense(512, activation = 'relu'))\n",
        "model.add(BatchNormalization())\n",
        "model.add(Dense(num_classes,activation = 'softmax'))\n",
        "model.compile(optimizer = 'adam', loss = 'categorical_crossentropy',metrics = ['accuracy'])"
      ],
      "execution_count": 28,
      "outputs": []
    },
    {
      "cell_type": "code",
      "metadata": {
        "id": "w3xoeaDxtqfg",
        "outputId": "8c4a8f49-dcad-4004-c6de-f34d1c1e53ed",
        "colab": {
          "base_uri": "https://localhost:8080/"
        }
      },
      "source": [
        "model.summary()"
      ],
      "execution_count": 29,
      "outputs": [
        {
          "output_type": "stream",
          "text": [
            "Model: \"sequential_3\"\n",
            "_________________________________________________________________\n",
            "Layer (type)                 Output Shape              Param #   \n",
            "=================================================================\n",
            "conv2d_18 (Conv2D)           (None, 75, 100, 64)       1792      \n",
            "_________________________________________________________________\n",
            "batch_normalization_21 (Batc (None, 75, 100, 64)       256       \n",
            "_________________________________________________________________\n",
            "conv2d_19 (Conv2D)           (None, 75, 100, 64)       36928     \n",
            "_________________________________________________________________\n",
            "batch_normalization_22 (Batc (None, 75, 100, 64)       256       \n",
            "_________________________________________________________________\n",
            "max_pooling2d_9 (MaxPooling2 (None, 37, 50, 64)        0         \n",
            "_________________________________________________________________\n",
            "conv2d_20 (Conv2D)           (None, 37, 50, 128)       73856     \n",
            "_________________________________________________________________\n",
            "batch_normalization_23 (Batc (None, 37, 50, 128)       512       \n",
            "_________________________________________________________________\n",
            "conv2d_21 (Conv2D)           (None, 37, 50, 128)       147584    \n",
            "_________________________________________________________________\n",
            "batch_normalization_24 (Batc (None, 37, 50, 128)       512       \n",
            "_________________________________________________________________\n",
            "max_pooling2d_10 (MaxPooling (None, 18, 25, 128)       0         \n",
            "_________________________________________________________________\n",
            "conv2d_22 (Conv2D)           (None, 18, 25, 256)       295168    \n",
            "_________________________________________________________________\n",
            "batch_normalization_25 (Batc (None, 18, 25, 256)       1024      \n",
            "_________________________________________________________________\n",
            "conv2d_23 (Conv2D)           (None, 18, 25, 256)       590080    \n",
            "_________________________________________________________________\n",
            "batch_normalization_26 (Batc (None, 18, 25, 256)       1024      \n",
            "_________________________________________________________________\n",
            "max_pooling2d_11 (MaxPooling (None, 9, 12, 256)        0         \n",
            "_________________________________________________________________\n",
            "flatten_3 (Flatten)          (None, 27648)             0         \n",
            "_________________________________________________________________\n",
            "dense_6 (Dense)              (None, 512)               14156288  \n",
            "_________________________________________________________________\n",
            "batch_normalization_27 (Batc (None, 512)               2048      \n",
            "_________________________________________________________________\n",
            "dense_7 (Dense)              (None, 7)                 3591      \n",
            "=================================================================\n",
            "Total params: 15,310,919\n",
            "Trainable params: 15,308,103\n",
            "Non-trainable params: 2,816\n",
            "_________________________________________________________________\n"
          ],
          "name": "stdout"
        }
      ]
    },
    {
      "cell_type": "code",
      "metadata": {
        "id": "NOJktZbwt7Vp"
      },
      "source": [
        "early_stop = EarlyStopping(monitor='val_loss', patience=6)\n",
        "mod_chckpt = ModelCheckpoint(filepath='model_v1.h5', monitor='val_loss', save_best_only=True)"
      ],
      "execution_count": 30,
      "outputs": []
    },
    {
      "cell_type": "code",
      "metadata": {
        "id": "_9Yqfp-Zt__s",
        "outputId": "b6473ac7-afc3-41c7-eb68-6606d2c63bbf",
        "colab": {
          "base_uri": "https://localhost:8080/"
        }
      },
      "source": [
        "history = [0]\n",
        "epochs = 50\n",
        "batch_size = 100\n",
        "\n",
        "history[0] = model.fit(X_train,Y_train, epochs = epochs, validation_split = 0.1,\n",
        "                                verbose = 1, batch_size = batch_size, callbacks=[learning_rate_reduction, early_stop, mod_chckpt])"
      ],
      "execution_count": 31,
      "outputs": [
        {
          "output_type": "stream",
          "text": [
            "Epoch 1/50\n",
            " 2/64 [..............................] - ETA: 5s - loss: 4.9682 - accuracy: 0.2600WARNING:tensorflow:Callbacks method `on_train_batch_end` is slow compared to the batch time (batch time: 0.0590s vs `on_train_batch_end` time: 0.1186s). Check your callbacks.\n",
            "64/64 [==============================] - 13s 200ms/step - loss: 1.6142 - accuracy: 0.6202 - val_loss: 1.5524 - val_accuracy: 0.6419\n",
            "Epoch 2/50\n",
            "64/64 [==============================] - 12s 184ms/step - loss: 0.8542 - accuracy: 0.7180 - val_loss: 2.3592 - val_accuracy: 0.1769\n",
            "Epoch 3/50\n",
            "64/64 [==============================] - 11s 179ms/step - loss: 0.7825 - accuracy: 0.7334 - val_loss: 1.5719 - val_accuracy: 0.6248\n",
            "Epoch 4/50\n",
            "63/64 [============================>.] - ETA: 0s - loss: 0.6800 - accuracy: 0.7583\n",
            "Epoch 00004: ReduceLROnPlateau reducing learning rate to 0.0005000000237487257.\n",
            "64/64 [==============================] - 11s 176ms/step - loss: 0.6797 - accuracy: 0.7584 - val_loss: 2.8448 - val_accuracy: 0.1969\n",
            "Epoch 5/50\n",
            "64/64 [==============================] - 12s 192ms/step - loss: 0.5469 - accuracy: 0.8028 - val_loss: 1.3224 - val_accuracy: 0.6534\n",
            "Epoch 6/50\n",
            "64/64 [==============================] - 11s 175ms/step - loss: 0.4956 - accuracy: 0.8242 - val_loss: 1.5187 - val_accuracy: 0.6063\n",
            "Epoch 7/50\n",
            "64/64 [==============================] - 12s 191ms/step - loss: 0.4627 - accuracy: 0.8359 - val_loss: 1.2249 - val_accuracy: 0.5749\n",
            "Epoch 8/50\n",
            "63/64 [============================>.] - ETA: 0s - loss: 0.6531 - accuracy: 0.7656\n",
            "Epoch 00008: ReduceLROnPlateau reducing learning rate to 0.0002500000118743628.\n",
            "64/64 [==============================] - 11s 178ms/step - loss: 0.6532 - accuracy: 0.7656 - val_loss: 1.2857 - val_accuracy: 0.4979\n",
            "Epoch 9/50\n",
            "64/64 [==============================] - 12s 194ms/step - loss: 0.4624 - accuracy: 0.8358 - val_loss: 0.7934 - val_accuracy: 0.7104\n",
            "Epoch 10/50\n",
            "64/64 [==============================] - 12s 192ms/step - loss: 0.4011 - accuracy: 0.8567 - val_loss: 0.7693 - val_accuracy: 0.7361\n",
            "Epoch 11/50\n",
            "64/64 [==============================] - 11s 176ms/step - loss: 0.3402 - accuracy: 0.8832 - val_loss: 0.7766 - val_accuracy: 0.7389\n",
            "Epoch 12/50\n",
            "64/64 [==============================] - 12s 191ms/step - loss: 0.2998 - accuracy: 0.8995 - val_loss: 0.7024 - val_accuracy: 0.7660\n",
            "Epoch 13/50\n",
            "64/64 [==============================] - 11s 176ms/step - loss: 0.3027 - accuracy: 0.8994 - val_loss: 0.8670 - val_accuracy: 0.7304\n",
            "Epoch 14/50\n",
            "64/64 [==============================] - 11s 177ms/step - loss: 0.2855 - accuracy: 0.9044 - val_loss: 0.7553 - val_accuracy: 0.7518\n",
            "Epoch 15/50\n",
            "63/64 [============================>.] - ETA: 0s - loss: 0.2155 - accuracy: 0.9316\n",
            "Epoch 00015: ReduceLROnPlateau reducing learning rate to 0.0001250000059371814.\n",
            "64/64 [==============================] - 11s 177ms/step - loss: 0.2159 - accuracy: 0.9314 - val_loss: 0.7964 - val_accuracy: 0.7404\n",
            "Epoch 16/50\n",
            "64/64 [==============================] - 11s 178ms/step - loss: 0.1570 - accuracy: 0.9570 - val_loss: 0.7892 - val_accuracy: 0.7432\n",
            "Epoch 17/50\n",
            "64/64 [==============================] - 11s 177ms/step - loss: 0.1165 - accuracy: 0.9737 - val_loss: 0.8211 - val_accuracy: 0.7475\n",
            "Epoch 18/50\n",
            "63/64 [============================>.] - ETA: 0s - loss: 0.1458 - accuracy: 0.9589\n",
            "Epoch 00018: ReduceLROnPlateau reducing learning rate to 6.25000029685907e-05.\n",
            "64/64 [==============================] - 11s 177ms/step - loss: 0.1459 - accuracy: 0.9588 - val_loss: 0.8033 - val_accuracy: 0.7489\n"
          ],
          "name": "stdout"
        }
      ]
    },
    {
      "cell_type": "code",
      "metadata": {
        "id": "oru6ituLu3Cr",
        "outputId": "2e8663d4-6ace-4aaf-edfb-7ef2921a4f08",
        "colab": {
          "base_uri": "https://localhost:8080/"
        }
      },
      "source": [
        "loss, accuracy = model.evaluate(X_test, Y_test, verbose=1)\n",
        "#loss_v, accuracy_v = model.evaluate(X_val, y_val, verbose=1)\n",
        "#print(\"Validation: accuracy = %f  ;  loss_v = %f\" % (accuracy_v, loss_v))\n",
        "print(\"Test: accuracy = %f  ;  loss = %f\" % (accuracy, loss))"
      ],
      "execution_count": 32,
      "outputs": [
        {
          "output_type": "stream",
          "text": [
            "94/94 [==============================] - 2s 18ms/step - loss: 0.8312 - accuracy: 0.7524\n",
            "Test: accuracy = 0.752413  ;  loss = 0.831207\n"
          ],
          "name": "stdout"
        }
      ]
    },
    {
      "cell_type": "code",
      "metadata": {
        "id": "PIGD8XWmzoNi",
        "outputId": "8749c7a1-e338-462b-8ef8-46197900123c",
        "colab": {
          "base_uri": "https://localhost:8080/",
          "height": 301
        }
      },
      "source": [
        "plt.plot(history[0].history['loss'], c = 'b')\n",
        "plt.plot(history[0].history['val_loss'], c = 'r')\n",
        "plt.legend(['Train', 'Validacion'])\n",
        "plt.xlabel('Epocas')\n",
        "plt.ylabel('Medida')\n",
        "plt.title('Evolucion Entrenamiento')\n",
        "plt.show()"
      ],
      "execution_count": 33,
      "outputs": [
        {
          "output_type": "display_data",
          "data": {
            "image/png": "[encoded data removed]",
            "text/plain": [
              "<Figure size 432x288 with 1 Axes>"
            ]
          },
          "metadata": {
            "tags": [],
            "needs_background": "light"
          }
        }
      ]
    },
    {
      "cell_type": "code",
      "metadata": {
        "id": "auF6HbxkzpWU",
        "outputId": "70180f3c-192c-4730-8c06-4c9354f9884d",
        "colab": {
          "base_uri": "https://localhost:8080/",
          "height": 301
        }
      },
      "source": [
        "plt.plot(history[0].history['accuracy'], c = 'b')\n",
        "plt.plot(history[0].history['val_accuracy'], c = 'r')\n",
        "plt.legend(['Train', 'Validacion'])\n",
        "plt.xlabel('Epocas')\n",
        "plt.ylabel('Medida')\n",
        "plt.title('Evolucion Entrenamiento')\n",
        "plt.show()"
      ],
      "execution_count": 34,
      "outputs": [
        {
          "output_type": "display_data",
          "data": {
            "image/png": "[encoded data removed]",
            "text/plain": [
              "<Figure size 432x288 with 1 Axes>"
            ]
          },
          "metadata": {
            "tags": [],
            "needs_background": "light"
          }
        }
      ]
    }
  ]
}