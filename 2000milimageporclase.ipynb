{
  "nbformat": 4,
  "nbformat_minor": 0,
  "metadata": {
    "colab": {
      "name": "probando_yo_lared.ipynb",
      "provenance": [],
      "collapsed_sections": []
    },
    "kernelspec": {
      "name": "python3",
      "display_name": "Python 3"
    },
    "accelerator": "GPU"
  },
  "cells": [
    {
      "cell_type": "markdown",
      "metadata": {
        "id": "view-in-github"
      },
      "source": [
        "<a href=\"https://colab.research.google.com/github/josematez/DeepLearning_SkinCancer/blob/main/DenseNet_Test.ipynb\" target=\"_parent\"><img src=\"https://colab.research.google.com/assets/colab-badge.svg\" alt=\"Open In Colab\"/></a>"
      ]
    },
    {
      "cell_type": "code",
      "metadata": {
        "id": "O_Fa9CYiV0Ok"
      },
      "source": [
        "#!pip install deepdish\n",
        "#!pip install numpy==1.15.4"
      ],
      "execution_count": 1,
      "outputs": []
    },
    {
      "cell_type": "code",
      "metadata": {
        "id": "2SJTaYpGU0HX"
      },
      "source": [
        "%matplotlib inline\n",
        "import matplotlib.pyplot as plt\n",
        "import numpy as np\n",
        "import pandas as pd\n",
        "import os\n",
        "import deepdish as dd\n",
        "#from tqdm import tqdm\n",
        "#from glob import glob\n",
        "#import seaborn as sns\n",
        "#import pprint as pp\n",
        "\n",
        "from sklearn.model_selection import train_test_split\n",
        "from sklearn.metrics import confusion_matrix\n",
        "from sklearn.utils import resample\n",
        "\n",
        "import tensorflow as tf\n",
        "from tensorflow import keras\n",
        "from tensorflow.keras import layers\n",
        "from keras.utils import np_utils, to_categorical, plot_model\n",
        "from keras.callbacks import ReduceLROnPlateau\n",
        "from keras.optimizers import Adam, RMSprop, SGD\n",
        "from keras.preprocessing.image import ImageDataGenerator\n",
        "\n",
        "#import itertools\n",
        "\n",
        "#import cv2\n",
        "#from PIL import Image"
      ],
      "execution_count": 2,
      "outputs": []
    },
    {
      "cell_type": "code",
      "metadata": {
        "id": "myUH8aqdVKhe",
        "colab": {
          "base_uri": "https://localhost:8080/"
        },
        "outputId": "836bc6c2-7a30-4543-c81d-81ff704356b1"
      },
      "source": [
        "from google.colab import drive\n",
        "drive.mount('/content/drive')"
      ],
      "execution_count": 3,
      "outputs": [
        {
          "output_type": "stream",
          "text": [
            "Drive already mounted at /content/drive; to attempt to forcibly remount, call drive.mount(\"/content/drive\", force_remount=True).\n"
          ],
          "name": "stdout"
        }
      ]
    },
    {
      "cell_type": "code",
      "metadata": {
        "id": "3c_BhAXmVNGK"
      },
      "source": [
        "data = dd.io.load('/content/drive/MyDrive/ISIS_dataset/ISIC_dataset.h5')\n",
        "data_df = pd.DataFrame(data)"
      ],
      "execution_count": 4,
      "outputs": []
    },
    {
      "cell_type": "code",
      "metadata": {
        "id": "tN93FJHiVOeS"
      },
      "source": [
        "X_raw = data_df.image\n",
        "Y = data_df.cell_type_idx"
      ],
      "execution_count": 5,
      "outputs": []
    },
    {
      "cell_type": "code",
      "metadata": {
        "id": "HCt5xQw3QUJ4",
        "colab": {
          "base_uri": "https://localhost:8080/"
        },
        "outputId": "67bf5db0-744e-43c9-b224-43bd1e49f4e9"
      },
      "source": [
        "Y.value_counts()"
      ],
      "execution_count": 6,
      "outputs": [
        {
          "output_type": "execute_result",
          "data": {
            "text/plain": [
              "4    6705\n",
              "5    1113\n",
              "2    1099\n",
              "1     514\n",
              "0     327\n",
              "6     142\n",
              "3     115\n",
              "Name: cell_type_idx, dtype: int64"
            ]
          },
          "metadata": {
            "tags": []
          },
          "execution_count": 6
        }
      ]
    },
    {
      "cell_type": "code",
      "metadata": {
        "colab": {
          "base_uri": "https://localhost:8080/"
        },
        "id": "0WgDorNEPPf1",
        "outputId": "6007c75e-c1d0-4d49-83fa-e3aa06daa988"
      },
      "source": [
        "X_raw = np.array(list(X_raw)).reshape(-1,75,100,3)\n",
        "Y = np.array(list(Y))\n",
        "print(X_raw.shape)\n",
        "print(Y.shape)"
      ],
      "execution_count": 7,
      "outputs": [
        {
          "output_type": "stream",
          "text": [
            "(10015, 75, 100, 3)\n",
            "(10015,)\n"
          ],
          "name": "stdout"
        }
      ]
    },
    {
      "cell_type": "code",
      "metadata": {
        "colab": {
          "base_uri": "https://localhost:8080/"
        },
        "id": "8AGQso4rpkwW",
        "outputId": "10251827-b27b-4d43-acef-c6cec6cb3af6"
      },
      "source": [
        "#Separa todas las clases en una lista\n",
        "clases_lista = []\n",
        "clase =[]\n",
        "i=0\n",
        "while i < 7:\n",
        "  for j in range(len(X_raw)):\n",
        "    if Y[j] == i:\n",
        "      clase.append(X_raw[j])\n",
        "  clases_lista.append(clase)\n",
        "  clase = []\n",
        "  i+=1\n",
        "print([len(x) for x in clases_lista])  # Cada clase ordenada de menor a mayor de 0 a 6"
      ],
      "execution_count": 8,
      "outputs": [
        {
          "output_type": "stream",
          "text": [
            "[327, 514, 1099, 115, 6705, 1113, 142]\n"
          ],
          "name": "stdout"
        }
      ]
    },
    {
      "cell_type": "code",
      "metadata": {
        "colab": {
          "base_uri": "https://localhost:8080/"
        },
        "id": "svEPrtv8qsoV",
        "outputId": "d402e281-2cf0-49ca-f6b0-72e234ae67b0"
      },
      "source": [
        "#Train split, raw method, la lista con el pocentaje a retirar de cada clase.\n",
        "num_img_split = []\n",
        "tam_split = 0.009\n",
        "for class_ in clases_lista:\n",
        "  num_imgs = int(len(class_)*tam_split)\n",
        "  num_img_split.append(num_imgs)\n",
        "print(\"Num de img por clase a retirar\")\n",
        "print(num_img_split) # cada valor indica el numero de imagenes a retirar de cada clase"
      ],
      "execution_count": 9,
      "outputs": [
        {
          "output_type": "stream",
          "text": [
            "Num de img por clase a retirar\n",
            "[2, 4, 9, 1, 60, 10, 1]\n"
          ],
          "name": "stdout"
        }
      ]
    },
    {
      "cell_type": "code",
      "metadata": {
        "colab": {
          "base_uri": "https://localhost:8080/"
        },
        "id": "FRo3FpMNrXVV",
        "outputId": "76063805-4f0a-401b-9c80-93182da6ac07"
      },
      "source": [
        "#Conjunto de TEST con extraido con la lista anteror, num_img_split\n",
        "test_split = []\n",
        "clases_lista_new = []\n",
        "for img_class,split_class in zip(clases_lista, num_img_split) :\n",
        "  test_split.append(list(img_class[:split_class]))     #Se realiza el test, \"split_class\" indica el tamaño maximo a extraer\n",
        "  clases_lista_new.append(list(img_class[split_class:]))    #Contruyendo el nuevo train.\n",
        "print(\"Test split\")\n",
        "print([len(x) for x in test_split])         #El test\n",
        "print(\"Train split\")\n",
        "print([len(x) for x in clases_lista_new])   #Este es el train\n",
        "print(\"Clases dimensiones originales\")      \n",
        "print([len(x) for x in clases_lista])   "
      ],
      "execution_count": 10,
      "outputs": [
        {
          "output_type": "stream",
          "text": [
            "Test split\n",
            "[2, 4, 9, 1, 60, 10, 1]\n",
            "Train split\n",
            "[325, 510, 1090, 114, 6645, 1103, 141]\n",
            "Clases dimensiones originales\n",
            "[327, 514, 1099, 115, 6705, 1113, 142]\n"
          ],
          "name": "stdout"
        }
      ]
    },
    {
      "cell_type": "code",
      "metadata": {
        "colab": {
          "base_uri": "https://localhost:8080/"
        },
        "id": "5K8NxvlQs5lH",
        "outputId": "38c9bd02-f6de-4311-f8b7-ebaec1eef68b"
      },
      "source": [
        "# Labels para el conjunto test\n",
        "labels_ = []\n",
        "lab_num = 0\n",
        "for images in test_split:\n",
        "  clase_ = np.full_like(np.zeros(len(images)),fill_value= lab_num, dtype= np.int)  # Cada array tiene las dimensiones de cada clase de test_split y su valor\n",
        "  clase_ = list(clase_)\n",
        "  labels_.append(clase_)\n",
        "  lab_num+=1\n",
        "print([len(x) for x in labels_])\n",
        "print([max(x) for x in labels_])\n",
        "print([min(x) for x in labels_])"
      ],
      "execution_count": 11,
      "outputs": [
        {
          "output_type": "stream",
          "text": [
            "[2, 4, 9, 1, 60, 10, 1]\n",
            "[0, 1, 2, 3, 4, 5, 6]\n",
            "[0, 1, 2, 3, 4, 5, 6]\n"
          ],
          "name": "stdout"
        }
      ]
    },
    {
      "cell_type": "code",
      "metadata": {
        "id": "KqIuTBxUu8Y7"
      },
      "source": [
        "import itertools "
      ],
      "execution_count": 12,
      "outputs": []
    },
    {
      "cell_type": "code",
      "metadata": {
        "colab": {
          "base_uri": "https://localhost:8080/"
        },
        "id": "UL1QDPDiuxVL",
        "outputId": "ac90d087-3bcc-4aa0-9fc7-cf38b38c24fb"
      },
      "source": [
        "# Y_test y X_test para las evaluaciones, ya no se tocan mas.\n",
        "Y_test = list(itertools.chain.from_iterable(labels_))\n",
        "Y_test = np.array(Y_test).reshape(-1)\n",
        "print(\"Nuevas etiquetas para el conjuto generado\")\n",
        "print(len(Y_test))\n",
        "print(Y_test.shape)\n",
        "print(pd.Series(Y_test).value_counts())\n",
        "print(\"-\"*50)\n",
        "X_test = list(itertools.chain.from_iterable(test_split))\n",
        "X_test = np.array(X_test).reshape(-1,75,100,3)\n",
        "print(\"Imagenes test\")\n",
        "print(len(X_test))\n",
        "print(X_test.shape)"
      ],
      "execution_count": 13,
      "outputs": [
        {
          "output_type": "stream",
          "text": [
            "Nuevas etiquetas para el conjuto generado\n",
            "87\n",
            "(87,)\n",
            "4    60\n",
            "5    10\n",
            "2     9\n",
            "1     4\n",
            "0     2\n",
            "6     1\n",
            "3     1\n",
            "dtype: int64\n",
            "--------------------------------------------------\n",
            "Imagenes test\n",
            "87\n",
            "(87, 75, 100, 3)\n"
          ],
          "name": "stdout"
        }
      ]
    },
    {
      "cell_type": "code",
      "metadata": {
        "id": "7RuYKD5WqBQG"
      },
      "source": [
        "#X_train, X_test, Y_train, Y_test = train_test_split(X_raw, Y, test_size=0.2, random_state = 321, stratify = None, shuffle = False )\n",
        "#X_train = X_raw\n",
        "#Y_train = Y"
      ],
      "execution_count": 14,
      "outputs": []
    },
    {
      "cell_type": "code",
      "metadata": {
        "colab": {
          "base_uri": "https://localhost:8080/"
        },
        "id": "z4M1IvN4THZd",
        "outputId": "d9cfa639-e1a3-4cfb-b937-26cf09e3372a"
      },
      "source": [
        "\"\"\"print(\"Conjunto a baleancear \\n\")\n",
        "print(X_train.shape)\n",
        "print(Y_train.shape)\n",
        "Ytrain_series = pd.Series(Y_train)\n",
        "print(\"Numero de elementos por clase TRAIN\")\n",
        "print(Ytrain_series.value_counts())\n",
        "print(\"-\"*40)\"\"\"\n",
        "print(\"Conjunto con el que realizar las evaluaciones \\n\")\n",
        "print(X_test.shape)\n",
        "print(Y_test.shape)\n",
        "Ytest_series = pd.Series(Y_test)\n",
        "print(\"Numero de elementos por clase TEST\")\n",
        "print(Ytest_series.value_counts())"
      ],
      "execution_count": 15,
      "outputs": [
        {
          "output_type": "stream",
          "text": [
            "Conjunto con el que realizar las evaluaciones \n",
            "\n",
            "(87, 75, 100, 3)\n",
            "(87,)\n",
            "Numero de elementos por clase TEST\n",
            "4    60\n",
            "5    10\n",
            "2     9\n",
            "1     4\n",
            "0     2\n",
            "6     1\n",
            "3     1\n",
            "dtype: int64\n"
          ],
          "name": "stdout"
        }
      ]
    },
    {
      "cell_type": "code",
      "metadata": {
        "id": "5CSwDf2qVMsB",
        "colab": {
          "base_uri": "https://localhost:8080/",
          "height": 54
        },
        "outputId": "f008eb55-09cf-4c48-b212-9581e5a6ed3e"
      },
      "source": [
        "# Esta desactivado porque ya lo realice antes\n",
        "\"\"\"#Separa todas las clases en una lista\n",
        "clases_lista = []\n",
        "clase =[]\n",
        "i=0\n",
        "while i < 7:\n",
        "  for j in range(len(X_train)):\n",
        "    if Y_train[j] == i:\n",
        "      clase.append(X_train[j])\n",
        "  clases_lista.append(clase)\n",
        "  clase = []\n",
        "  i+=1\n",
        "print([len(x) for x in clases_lista])\"\"\"  "
      ],
      "execution_count": 16,
      "outputs": [
        {
          "output_type": "execute_result",
          "data": {
            "application/vnd.google.colaboratory.intrinsic+json": {
              "type": "string"
            },
            "text/plain": [
              "'#Separa todas las clases en una lista\\nclases_lista = []\\nclase =[]\\ni=0\\nwhile i < 7:\\n  for j in range(len(X_train)):\\n    if Y_train[j] == i:\\n      clase.append(X_train[j])\\n  clases_lista.append(clase)\\n  clase = []\\n  i+=1\\nprint([len(x) for x in clases_lista])'"
            ]
          },
          "metadata": {
            "tags": []
          },
          "execution_count": 16
        }
      ]
    },
    {
      "cell_type": "code",
      "metadata": {
        "id": "eD8FfdnmXIbz"
      },
      "source": [
        "#Lista con la dimension de cada clase ordenadas de 0 a 6\n",
        "#print([len(x) for x in clases_lista])"
      ],
      "execution_count": 17,
      "outputs": []
    },
    {
      "cell_type": "code",
      "metadata": {
        "colab": {
          "base_uri": "https://localhost:8080/"
        },
        "id": "Q_lCk3XoccIW",
        "outputId": "dcdb4904-b5e3-4385-86eb-529ad98b38ca"
      },
      "source": [
        "#Reduce cada clase a un numero determinado de imagenes\n",
        "dim_max = 1000    #Reduce a este numero determinado de imagenes\n",
        "clases_lista_dim_max = []\n",
        "for i in clases_lista_new:\n",
        "  if len(i) > dim_max:      \n",
        "    if len(i) > 2000:     #Si son mayor al numero determiando de imagenes, solo realiza un split\n",
        "      new_clase = i[ : dim_max*2]     #El valor 2, es porque queria 2000 imagenes del de mayor clase.\n",
        "      clases_lista_dim_max.append(new_clase)\n",
        "    else:\n",
        "      new_clase = i[ : dim_max]\n",
        "      clases_lista_dim_max.append(new_clase)\n",
        "  else:\n",
        "    clases_lista_dim_max.append(i)      #Si no es mayor al numero determinado de imagen no hace nada, solo copia el contenido\n",
        "print([len(x) for x in clases_lista_dim_max])"
      ],
      "execution_count": 18,
      "outputs": [
        {
          "output_type": "stream",
          "text": [
            "[325, 510, 1000, 114, 2000, 1000, 141]\n"
          ],
          "name": "stdout"
        }
      ]
    },
    {
      "cell_type": "code",
      "metadata": {
        "id": "7LvG4gOaMIM7"
      },
      "source": [
        "import numpy as np\n",
        "import imgaug as ia\n",
        "import imgaug.augmenters as iaa\n",
        "\n",
        "def aumento_imagenes(imagen_a_aumentar, num_de_aumentos):\n",
        "  ia.seed(1)\n",
        "\n",
        "  # Example batch of images.\n",
        "  # The array has shape (32, 64, 64, 3) and dtype uint8.\n",
        "  mitad_aumentos = int(num_de_aumentos/2) + 1\n",
        "  images_primera_mitad = np.array(\n",
        "      [imagen_a_aumentar for _ in range(mitad_aumentos)],\n",
        "      dtype=np.uint8\n",
        "  )\n",
        "\n",
        "  seq = iaa.Sequential([\n",
        "      #iaa.Fliplr(0.5), # horizontal flips\n",
        "      #iaa.Crop(percent=(0, 0.1)), # random crops\n",
        "      # Small gaussian blur with random sigma between 0 and 0.5.\n",
        "      # But we only blur about 50% of all images.\n",
        "      #iaa.Sometimes(\n",
        "         # 0.7,\n",
        "          #iaa.GaussianBlur(sigma=(0, 0.5))\n",
        "      #),\n",
        "      # Strengthen or weaken the contrast in each image.\n",
        "      #iaa.LinearContrast((0.75, 1.5)),\n",
        "      # Add gaussian noise.\n",
        "      # For 50% of all images, we sample the noise once per pixel.\n",
        "      # For the other 50% of all images, we sample the noise per pixel AND\n",
        "      # channel. This can change the color (not only brightness) of the\n",
        "      # pixels.\n",
        "      iaa.AdditiveGaussianNoise(loc=0, scale=(0.0, 0.05*255), per_channel=0.5),\n",
        "      # Make some images brighter and some darker.\n",
        "      # In 20% of all cases, we sample the multiplier once per channel,\n",
        "      # which can end up changing the color of the images.\n",
        "      #iaa.Multiply((0.8, 1.2), per_channel=0.2),\n",
        "      # Apply affine transformations to each image.\n",
        "      # Scale/zoom them, translate/move them, rotate them and shear them.\n",
        "      iaa.Affine(\n",
        "          scale={\"x\": (0.8, 1.2), \"y\": (0.8, 1.2)},\n",
        "          translate_percent={\"x\": (-0.2, 0.2), \"y\": (-0.2, 0.2)},\n",
        "          rotate=(-5, 5),\n",
        "          shear=(-8, 8),\n",
        "          mode=ia.ALL,\n",
        "          order = 0,\n",
        "          cval=(0, 255),\n",
        "      )\n",
        "  ], random_order=True) # apply augmenters in random order\n",
        "\n",
        "  #Esto hace lo que dijiste de realizar los aumentos sobre los aumentos\n",
        "  images_aug_primera = seq(images = images_primera_mitad)\n",
        "  images_aug_segunda = seq(images = images_aug_primera)\n",
        "  images_aug = np.array(list(images_aug_primera) + list(images_aug_segunda))\n",
        "\n",
        "  return images_aug"
      ],
      "execution_count": 19,
      "outputs": []
    },
    {
      "cell_type": "code",
      "metadata": {
        "id": "wMt4j1CLcfvg"
      },
      "source": [
        "def generando_imagenes(clase_img, num_max):   #Bueno su nombre el explica su funcion\n",
        "  img_faltantes = num_max - len(clase_img)\n",
        "  if img_faltantes == 0 or img_faltantes < 0:\n",
        "    clase_img = clase_img[:num_max]\n",
        "    return clase_img\n",
        "  else:\n",
        "    num_img_por_img = int(img_faltantes/len(clase_img))\n",
        "    img_a_agregar = []\n",
        "    for i in clase_img:\n",
        "      imagenes_aumentadas_por_img = list(aumento_imagenes(i,num_img_por_img))\n",
        "      img_a_agregar+=imagenes_aumentadas_por_img\n",
        "    clase_img+=img_a_agregar\n",
        "    return clase_img"
      ],
      "execution_count": 20,
      "outputs": []
    },
    {
      "cell_type": "code",
      "metadata": {
        "colab": {
          "base_uri": "https://localhost:8080/"
        },
        "id": "K0Ih628fmKSG",
        "outputId": "f222b8ea-86fe-493c-ae81-6c090ec8205d"
      },
      "source": [
        "#Esta celda realiza los aumentos en cada imagen\n",
        "nuevo_conjunto = []\n",
        "numero_maximo_imagenes = 2000   #Valor variable segun el numero de imagens que se quieran\n",
        "for i in clases_lista_dim_max:\n",
        "  nuevo_conjunto.append(generando_imagenes(i,numero_maximo_imagenes))\n",
        "print([len(x) for x in nuevo_conjunto])"
      ],
      "execution_count": 22,
      "outputs": [
        {
          "output_type": "stream",
          "text": [
            "[2275, 2550, 3000, 2166, 2000, 3000, 2115]\n"
          ],
          "name": "stdout"
        }
      ]
    },
    {
      "cell_type": "code",
      "metadata": {
        "colab": {
          "base_uri": "https://localhost:8080/"
        },
        "id": "eZ8ih90PTt6T",
        "outputId": "58d82db4-5d46-43cb-df10-1995de6f2ba3"
      },
      "source": [
        "#Le vuelvo a pasar la misma funcion, al inicio de generando imagenes:\n",
        "#se tiene un if, que funcion con al diferencias de numero maximo de imagenes y \n",
        "#La dimension de las imagenes de cada clase.\n",
        "#Si es 0 o menor que 0 simplemente realiza un split con el numero maximo asi \n",
        "#todas estan balanceadas\n",
        "nuevo_conjunto = []\n",
        "numero_maximo_imagenes = 2000\n",
        "for i in clases_lista_dim_max:\n",
        "  nuevo_conjunto.append(generando_imagenes(i,numero_maximo_imagenes))\n",
        "print([len(x) for x in nuevo_conjunto])"
      ],
      "execution_count": 23,
      "outputs": [
        {
          "output_type": "stream",
          "text": [
            "[2000, 2000, 2000, 2000, 2000, 2000, 2000]\n"
          ],
          "name": "stdout"
        }
      ]
    },
    {
      "cell_type": "code",
      "metadata": {
        "colab": {
          "base_uri": "https://localhost:8080/"
        },
        "id": "4whczyReDUf5",
        "outputId": "abf1eed1-2cd4-434b-ba6d-f8c7c90c1e5f"
      },
      "source": [
        "#Esta es igual que la que use para crear los labels de Y_test, no se poque \n",
        "#no hice una funcion y simplemente llamarlo(flojera, mas facil ctrl + c jaja).....\n",
        "labels__ = []\n",
        "lab_num = 0\n",
        "for images in nuevo_conjunto:\n",
        "  clase_ = np.full_like(np.zeros(len(images)),fill_value= lab_num, dtype= np.int)\n",
        "  clase_ = list(clase_)\n",
        "  labels__.append(clase_)\n",
        "  lab_num+=1\n",
        "print([len(x) for x in labels__])\n",
        "print([max(x) for x in labels__])\n",
        "print([min(x) for x in labels__])"
      ],
      "execution_count": 24,
      "outputs": [
        {
          "output_type": "stream",
          "text": [
            "[2000, 2000, 2000, 2000, 2000, 2000, 2000]\n",
            "[0, 1, 2, 3, 4, 5, 6]\n",
            "[0, 1, 2, 3, 4, 5, 6]\n"
          ],
          "name": "stdout"
        }
      ]
    },
    {
      "cell_type": "code",
      "metadata": {
        "id": "pXWQRz1wGUqC"
      },
      "source": [
        "import itertools"
      ],
      "execution_count": 25,
      "outputs": []
    },
    {
      "cell_type": "code",
      "metadata": {
        "colab": {
          "base_uri": "https://localhost:8080/"
        },
        "id": "qh7DVXoLE4vy",
        "outputId": "63f1d05c-bba3-463b-ae26-de1215c06564"
      },
      "source": [
        "# lo mismo que con Y_test y X_test\n",
        "Y_new = list(itertools.chain.from_iterable(labels__))\n",
        "Y_new = np.array(Y_new).reshape(-1)\n",
        "print(\"Nuevas etiquetas para el conjuto generado\")\n",
        "print(len(Y_new))\n",
        "print(Y_new.shape)\n",
        "print(pd.Series(Y_new).value_counts())\n",
        "print(\"-\"*50)\n",
        "X_new = list(itertools.chain.from_iterable(nuevo_conjunto))\n",
        "X_new = np.array(X_new).reshape(-1,75,100,3)\n",
        "print(\"Imagenes generadas para el entrenamiento\")\n",
        "print(len(X_new))\n",
        "print(X_new.shape)"
      ],
      "execution_count": 26,
      "outputs": [
        {
          "output_type": "stream",
          "text": [
            "Nuevas etiquetas para el conjuto generado\n",
            "14000\n",
            "(14000,)\n",
            "6    2000\n",
            "5    2000\n",
            "4    2000\n",
            "3    2000\n",
            "2    2000\n",
            "1    2000\n",
            "0    2000\n",
            "dtype: int64\n",
            "--------------------------------------------------\n",
            "Imagenes generadas para el entrenamiento\n",
            "14000\n",
            "(14000, 75, 100, 3)\n"
          ],
          "name": "stdout"
        }
      ]
    },
    {
      "cell_type": "code",
      "metadata": {
        "id": "kI09qCDxhoJw"
      },
      "source": [
        "# Con el fin de tener un conjunto mezclado de clases, le pase esta metodo.\n",
        "X_new_1, X_test_1, Y_new_1, Y_test_1 = train_test_split(X_new, Y_new, test_size=0.1, random_state = 321)"
      ],
      "execution_count": 27,
      "outputs": []
    },
    {
      "cell_type": "code",
      "metadata": {
        "colab": {
          "base_uri": "https://localhost:8080/"
        },
        "id": "93GOs_Dl-q7b",
        "outputId": "7bb4358d-807a-4170-ad54-c9012f7db6dc"
      },
      "source": [
        "#Para unirlos simplemente los pase a lista y los sume\n",
        "X_new = np.array(list(X_new_1) + list(X_test_1))\n",
        "Y_new = np.array(list(Y_new_1) + list(Y_test_1))\n",
        "print(\"Tamaño de las listas\")\n",
        "print(len(X_new))\n",
        "print(len(Y_new))\n",
        "print(\"-\"*50)\n",
        "X_new = X_new.reshape(-1,75,100,3)\n",
        "Y_new = Y_new.reshape(-1)\n",
        "print(\"Tamaño Shape\")\n",
        "print(X_new.shape)\n",
        "print(Y_new.shape)"
      ],
      "execution_count": 28,
      "outputs": [
        {
          "output_type": "stream",
          "text": [
            "Tamaño de las listas\n",
            "14000\n",
            "14000\n",
            "--------------------------------------------------\n",
            "Tamaño Shape\n",
            "(14000, 75, 100, 3)\n",
            "(14000,)\n"
          ],
          "name": "stdout"
        }
      ]
    },
    {
      "cell_type": "code",
      "metadata": {
        "id": "e1ETV3chVTgD",
        "colab": {
          "base_uri": "https://localhost:8080/"
        },
        "outputId": "9b90fa56-5efb-4a2f-9630-3bddea09e8b0"
      },
      "source": [
        "#Normalizado\n",
        "print(\"Dim de los pixeles\")\n",
        "print(\"conjunto entrenamiento\")\n",
        "print(X_new.max())\n",
        "print(X_new.min())\n",
        "print(\"conjunto test\")\n",
        "print(X_test.max())\n",
        "print(X_test.min())\n",
        "print(\"-\"*50)\n",
        "X_new = (X_new / np.max(X_new))\n",
        "X_test = (X_test / np.max(X_test))\n",
        "print(\"Dim de los pixeles tras normalizarlo\")\n",
        "print(\"Conjunto de entrenamiento\")\n",
        "print(X_new.max())\n",
        "print(X_new.min())\n",
        "print(\"Conjunto de test\")\n",
        "print(X_test.max())\n",
        "print(X_test.min())"
      ],
      "execution_count": 29,
      "outputs": [
        {
          "output_type": "stream",
          "text": [
            "Dim de los pixeles\n",
            "conjunto entrenamiento\n",
            "255\n",
            "0\n",
            "conjunto test\n",
            "255\n",
            "0\n",
            "--------------------------------------------------\n",
            "Dim de los pixeles tras normalizarlo\n",
            "Conjunto de entrenamiento\n",
            "1.0\n",
            "0.0\n",
            "Conjunto de test\n",
            "1.0\n",
            "0.0\n"
          ],
          "name": "stdout"
        }
      ]
    },
    {
      "cell_type": "code",
      "metadata": {
        "id": "5C_lLx6lWTWp",
        "colab": {
          "base_uri": "https://localhost:8080/"
        },
        "outputId": "75ec1262-b826-4a7e-af39-fdadbe1cfd26"
      },
      "source": [
        "#Categorizando los valores de Y_test y Y_train = Y_new\n",
        "print(\"label antes de dividir por categorias\")\n",
        "print(Y_new.shape)\n",
        "print(Y_test.shape)\n",
        "print(\"-\"*50)\n",
        "Y_new = to_categorical(Y_new, num_classes = 7)\n",
        "Y_test = to_categorical(Y_test, num_classes = 7)\n",
        "print(\"label, categorizados\")\n",
        "print(Y_new.shape)\n",
        "print(Y_test.shape)\n",
        "\n"
      ],
      "execution_count": 30,
      "outputs": [
        {
          "output_type": "stream",
          "text": [
            "label antes de dividir por categorias\n",
            "(14000,)\n",
            "(87,)\n",
            "--------------------------------------------------\n",
            "label, categorizados\n",
            "(14000, 7)\n",
            "(87, 7)\n"
          ],
          "name": "stdout"
        }
      ]
    },
    {
      "cell_type": "code",
      "metadata": {
        "id": "Miz8_ZImfsAz"
      },
      "source": [
        "from tensorflow.keras.layers import BatchNormalization\n",
        "from tensorflow.keras.models import Sequential\n",
        "from tensorflow.keras.layers import Dense, Dropout, Flatten, Conv2D, MaxPool2D,Input,Lambda"
      ],
      "execution_count": 31,
      "outputs": []
    },
    {
      "cell_type": "code",
      "metadata": {
        "id": "pXernv2LZcAi",
        "colab": {
          "base_uri": "https://localhost:8080/",
          "height": 587
        },
        "outputId": "1f6c8ce2-238b-40fc-f8b2-a0e484876c69"
      },
      "source": [
        "# DENSENET201 MODEL\n",
        "input_shape = X_new[0].shape\n",
        "n_classes = len(Y_new[0])\n",
        "\n",
        "densenet = tf.keras.applications.DenseNet201(weights='imagenet', include_top=False, input_shape=input_shape)\n",
        "densenet.trainable = False\n",
        "\n",
        "model = tf.keras.models.Sequential()\n",
        "model.add(densenet)\n",
        "model.add(Flatten())\n",
        "#model.add(Dense(units = 4096, activation = 'relu'))\n",
        "model.add(Dropout(0.5))\n",
        "#model.add(BatchNormalization())\n",
        "model.add(Dense(units = 4096, activation = 'relu'))\n",
        "model.add(Dropout(0.6))\n",
        "model.add(BatchNormalization())\n",
        "model.add(Dense(units = 1000, activation = 'relu'))\n",
        "model.add(Dropout(0.5))\n",
        "model.add(BatchNormalization())\n",
        "model.add(Dense(units = n_classes, activation = 'softmax'))\n",
        "model.summary()\n",
        "\"\"\"model.add(tf.keras.layers.Flatten())\n",
        "model.add(tf.keras.layers.Dropout(0.25))\n",
        "model.add(tf.keras.layers.Dense(512, activation='relu'))\n",
        "model.add(tf.keras.layers.BatchNormalization())\n",
        "model.add(tf.keras.layers.Dropout(0.46))\n",
        "model.add(tf.keras.layers.Dense(128, activation='relu'))\n",
        "model.add(tf.keras.layers.BatchNormalization())\n",
        "model.add(tf.keras.layers.Dropout(0.46))    \n",
        "model.add(tf.keras.layers.Dense(n_classes, activation='softmax'))\"\"\""
      ],
      "execution_count": 32,
      "outputs": [
        {
          "output_type": "stream",
          "text": [
            "Model: \"sequential\"\n",
            "_________________________________________________________________\n",
            "Layer (type)                 Output Shape              Param #   \n",
            "=================================================================\n",
            "densenet201 (Functional)     (None, 2, 3, 1920)        18321984  \n",
            "_________________________________________________________________\n",
            "flatten (Flatten)            (None, 11520)             0         \n",
            "_________________________________________________________________\n",
            "dropout (Dropout)            (None, 11520)             0         \n",
            "_________________________________________________________________\n",
            "dense (Dense)                (None, 4096)              47190016  \n",
            "_________________________________________________________________\n",
            "dropout_1 (Dropout)          (None, 4096)              0         \n",
            "_________________________________________________________________\n",
            "batch_normalization (BatchNo (None, 4096)              16384     \n",
            "_________________________________________________________________\n",
            "dense_1 (Dense)              (None, 1000)              4097000   \n",
            "_________________________________________________________________\n",
            "dropout_2 (Dropout)          (None, 1000)              0         \n",
            "_________________________________________________________________\n",
            "batch_normalization_1 (Batch (None, 1000)              4000      \n",
            "_________________________________________________________________\n",
            "dense_2 (Dense)              (None, 7)                 7007      \n",
            "=================================================================\n",
            "Total params: 69,636,391\n",
            "Trainable params: 51,304,215\n",
            "Non-trainable params: 18,332,176\n",
            "_________________________________________________________________\n"
          ],
          "name": "stdout"
        },
        {
          "output_type": "execute_result",
          "data": {
            "application/vnd.google.colaboratory.intrinsic+json": {
              "type": "string"
            },
            "text/plain": [
              "\"model.add(tf.keras.layers.Flatten())\\nmodel.add(tf.keras.layers.Dropout(0.25))\\nmodel.add(tf.keras.layers.Dense(512, activation='relu'))\\nmodel.add(tf.keras.layers.BatchNormalization())\\nmodel.add(tf.keras.layers.Dropout(0.46))\\nmodel.add(tf.keras.layers.Dense(128, activation='relu'))\\nmodel.add(tf.keras.layers.BatchNormalization())\\nmodel.add(tf.keras.layers.Dropout(0.46))    \\nmodel.add(tf.keras.layers.Dense(n_classes, activation='softmax'))\""
            ]
          },
          "metadata": {
            "tags": []
          },
          "execution_count": 32
        }
      ]
    },
    {
      "cell_type": "code",
      "metadata": {
        "id": "6YT_qWK6KGNO"
      },
      "source": [
        "from tensorflow.keras.callbacks import EarlyStopping"
      ],
      "execution_count": 33,
      "outputs": []
    },
    {
      "cell_type": "code",
      "metadata": {
        "id": "nMpoMYJZKbGZ"
      },
      "source": [
        "early_stop = EarlyStopping(\n",
        "    monitor=\"val_accuracy\",\n",
        "    min_delta=0,\n",
        "    patience=3,\n",
        "    verbose=1,\n",
        "    mode=\"max\",\n",
        "    baseline=None,\n",
        "    restore_best_weights=True,\n",
        ")"
      ],
      "execution_count": 34,
      "outputs": []
    },
    {
      "cell_type": "code",
      "metadata": {
        "id": "85KpND-odOfa"
      },
      "source": [
        "epocas = 30\n",
        "bs = 35\n",
        "lr = 0.0001\n",
        "optim = Adam(learning_rate = lr)\n",
        "model.compile(optimizer = optim, loss = 'categorical_crossentropy', metrics = ['accuracy'])\n",
        "reduce_lr = ReduceLROnPlateau(monitor='val_accuracy', factor=0.2, patience=1, min_lr=0.00001, verbose = 1)\n",
        "# Define checkpoint to save best Phase 1 weights\n",
        "best_weights_ph1 = \"ph1_weights.hdf5\"\n",
        "checkpoint = tf.keras.callbacks.ModelCheckpoint(best_weights_ph1, monitor=\"val_accuracy\", mode=\"max\", save_best_only=True, verbose=1)\n",
        "callbacks = [reduce_lr, checkpoint, early_stop]"
      ],
      "execution_count": 35,
      "outputs": []
    },
    {
      "cell_type": "code",
      "metadata": {
        "id": "nzvLzj3Dda_T",
        "colab": {
          "base_uri": "https://localhost:8080/"
        },
        "outputId": "a890f6a1-c3ff-4fba-ce90-12b845e4030c"
      },
      "source": [
        "historico = model.fit(X_new, Y_new, epochs = epocas, batch_size = bs, validation_split = 0.2, callbacks = callbacks)"
      ],
      "execution_count": 36,
      "outputs": [
        {
          "output_type": "stream",
          "text": [
            "Epoch 1/30\n",
            "320/320 [==============================] - ETA: 0s - loss: 1.5301 - accuracy: 0.4741WARNING:tensorflow:Callbacks method `on_test_batch_end` is slow compared to the batch time (batch time: 0.0148s vs `on_test_batch_end` time: 0.0438s). Check your callbacks.\n",
            "\n",
            "Epoch 00001: val_accuracy improved from -inf to 0.69071, saving model to ph1_weights.hdf5\n",
            "320/320 [==============================] - 23s 73ms/step - loss: 1.5301 - accuracy: 0.4741 - val_loss: 0.8961 - val_accuracy: 0.6907\n",
            "Epoch 2/30\n",
            "319/320 [============================>.] - ETA: 0s - loss: 1.1675 - accuracy: 0.5996\n",
            "Epoch 00002: val_accuracy improved from 0.69071 to 0.72393, saving model to ph1_weights.hdf5\n",
            "320/320 [==============================] - 21s 67ms/step - loss: 1.1666 - accuracy: 0.5996 - val_loss: 0.7546 - val_accuracy: 0.7239\n",
            "Epoch 3/30\n",
            "320/320 [==============================] - ETA: 0s - loss: 1.0516 - accuracy: 0.6344\n",
            "Epoch 00003: val_accuracy improved from 0.72393 to 0.73500, saving model to ph1_weights.hdf5\n",
            "320/320 [==============================] - 21s 64ms/step - loss: 1.0516 - accuracy: 0.6344 - val_loss: 0.6946 - val_accuracy: 0.7350\n",
            "Epoch 4/30\n",
            "319/320 [============================>.] - ETA: 0s - loss: 0.9859 - accuracy: 0.6494\n",
            "Epoch 00004: val_accuracy improved from 0.73500 to 0.74607, saving model to ph1_weights.hdf5\n",
            "320/320 [==============================] - 21s 65ms/step - loss: 0.9847 - accuracy: 0.6497 - val_loss: 0.6705 - val_accuracy: 0.7461\n",
            "Epoch 5/30\n",
            "320/320 [==============================] - ETA: 0s - loss: 0.9060 - accuracy: 0.6739\n",
            "Epoch 00005: val_accuracy improved from 0.74607 to 0.75857, saving model to ph1_weights.hdf5\n",
            "320/320 [==============================] - 21s 66ms/step - loss: 0.9060 - accuracy: 0.6739 - val_loss: 0.6396 - val_accuracy: 0.7586\n",
            "Epoch 6/30\n",
            "320/320 [==============================] - ETA: 0s - loss: 0.8580 - accuracy: 0.6887\n",
            "Epoch 00006: val_accuracy improved from 0.75857 to 0.76250, saving model to ph1_weights.hdf5\n",
            "320/320 [==============================] - 21s 65ms/step - loss: 0.8580 - accuracy: 0.6887 - val_loss: 0.6236 - val_accuracy: 0.7625\n",
            "Epoch 7/30\n",
            "319/320 [============================>.] - ETA: 0s - loss: 0.8315 - accuracy: 0.6976\n",
            "Epoch 00007: val_accuracy improved from 0.76250 to 0.77607, saving model to ph1_weights.hdf5\n",
            "320/320 [==============================] - 21s 66ms/step - loss: 0.8310 - accuracy: 0.6978 - val_loss: 0.6043 - val_accuracy: 0.7761\n",
            "Epoch 8/30\n",
            "319/320 [============================>.] - ETA: 0s - loss: 0.7874 - accuracy: 0.7080\n",
            "Epoch 00008: ReduceLROnPlateau reducing learning rate to 1.9999999494757503e-05.\n",
            "\n",
            "Epoch 00008: val_accuracy did not improve from 0.77607\n",
            "320/320 [==============================] - 17s 54ms/step - loss: 0.7886 - accuracy: 0.7078 - val_loss: 0.5984 - val_accuracy: 0.7739\n",
            "Epoch 9/30\n",
            "319/320 [============================>.] - ETA: 0s - loss: 0.7520 - accuracy: 0.7195\n",
            "Epoch 00009: val_accuracy improved from 0.77607 to 0.77714, saving model to ph1_weights.hdf5\n",
            "320/320 [==============================] - 21s 65ms/step - loss: 0.7525 - accuracy: 0.7195 - val_loss: 0.5788 - val_accuracy: 0.7771\n",
            "Epoch 10/30\n",
            "320/320 [==============================] - ETA: 0s - loss: 0.7436 - accuracy: 0.7217\n",
            "Epoch 00010: val_accuracy improved from 0.77714 to 0.78321, saving model to ph1_weights.hdf5\n",
            "320/320 [==============================] - 21s 66ms/step - loss: 0.7436 - accuracy: 0.7217 - val_loss: 0.5680 - val_accuracy: 0.7832\n",
            "Epoch 11/30\n",
            "319/320 [============================>.] - ETA: 0s - loss: 0.7201 - accuracy: 0.7310\n",
            "Epoch 00011: ReduceLROnPlateau reducing learning rate to 1e-05.\n",
            "\n",
            "Epoch 00011: val_accuracy did not improve from 0.78321\n",
            "320/320 [==============================] - 17s 54ms/step - loss: 0.7200 - accuracy: 0.7309 - val_loss: 0.5695 - val_accuracy: 0.7821\n",
            "Epoch 12/30\n",
            "320/320 [==============================] - ETA: 0s - loss: 0.7125 - accuracy: 0.7329\n",
            "Epoch 00012: val_accuracy improved from 0.78321 to 0.78429, saving model to ph1_weights.hdf5\n",
            "320/320 [==============================] - 21s 65ms/step - loss: 0.7125 - accuracy: 0.7329 - val_loss: 0.5664 - val_accuracy: 0.7843\n",
            "Epoch 13/30\n",
            "320/320 [==============================] - ETA: 0s - loss: 0.7016 - accuracy: 0.7366\n",
            "Epoch 00013: val_accuracy did not improve from 0.78429\n",
            "320/320 [==============================] - 17s 54ms/step - loss: 0.7016 - accuracy: 0.7366 - val_loss: 0.5636 - val_accuracy: 0.7843\n",
            "Epoch 14/30\n",
            "320/320 [==============================] - ETA: 0s - loss: 0.7047 - accuracy: 0.7392\n",
            "Epoch 00014: val_accuracy improved from 0.78429 to 0.78714, saving model to ph1_weights.hdf5\n",
            "320/320 [==============================] - 21s 65ms/step - loss: 0.7047 - accuracy: 0.7392 - val_loss: 0.5598 - val_accuracy: 0.7871\n",
            "Epoch 15/30\n",
            "319/320 [============================>.] - ETA: 0s - loss: 0.6967 - accuracy: 0.7400\n",
            "Epoch 00015: val_accuracy did not improve from 0.78714\n",
            "320/320 [==============================] - 17s 54ms/step - loss: 0.6968 - accuracy: 0.7401 - val_loss: 0.5582 - val_accuracy: 0.7854\n",
            "Epoch 16/30\n",
            "320/320 [==============================] - ETA: 0s - loss: 0.6961 - accuracy: 0.7423\n",
            "Epoch 00016: val_accuracy did not improve from 0.78714\n",
            "320/320 [==============================] - 17s 54ms/step - loss: 0.6961 - accuracy: 0.7423 - val_loss: 0.5574 - val_accuracy: 0.7861\n",
            "Epoch 17/30\n",
            "319/320 [============================>.] - ETA: 0s - loss: 0.6773 - accuracy: 0.7426\n",
            "Epoch 00017: val_accuracy improved from 0.78714 to 0.78821, saving model to ph1_weights.hdf5\n",
            "320/320 [==============================] - 21s 65ms/step - loss: 0.6768 - accuracy: 0.7427 - val_loss: 0.5548 - val_accuracy: 0.7882\n",
            "Epoch 18/30\n",
            "319/320 [============================>.] - ETA: 0s - loss: 0.6679 - accuracy: 0.7455\n",
            "Epoch 00018: val_accuracy improved from 0.78821 to 0.78857, saving model to ph1_weights.hdf5\n",
            "320/320 [==============================] - 21s 65ms/step - loss: 0.6693 - accuracy: 0.7453 - val_loss: 0.5519 - val_accuracy: 0.7886\n",
            "Epoch 19/30\n",
            "319/320 [============================>.] - ETA: 0s - loss: 0.6566 - accuracy: 0.7542\n",
            "Epoch 00019: val_accuracy improved from 0.78857 to 0.79000, saving model to ph1_weights.hdf5\n",
            "320/320 [==============================] - 21s 66ms/step - loss: 0.6567 - accuracy: 0.7540 - val_loss: 0.5498 - val_accuracy: 0.7900\n",
            "Epoch 20/30\n",
            "320/320 [==============================] - ETA: 0s - loss: 0.6679 - accuracy: 0.7471\n",
            "Epoch 00020: val_accuracy improved from 0.79000 to 0.79107, saving model to ph1_weights.hdf5\n",
            "320/320 [==============================] - 21s 66ms/step - loss: 0.6679 - accuracy: 0.7471 - val_loss: 0.5473 - val_accuracy: 0.7911\n",
            "Epoch 21/30\n",
            "319/320 [============================>.] - ETA: 0s - loss: 0.6503 - accuracy: 0.7512\n",
            "Epoch 00021: val_accuracy did not improve from 0.79107\n",
            "320/320 [==============================] - 17s 54ms/step - loss: 0.6501 - accuracy: 0.7513 - val_loss: 0.5442 - val_accuracy: 0.7896\n",
            "Epoch 22/30\n",
            "319/320 [============================>.] - ETA: 0s - loss: 0.6532 - accuracy: 0.7558\n",
            "Epoch 00022: val_accuracy improved from 0.79107 to 0.79321, saving model to ph1_weights.hdf5\n",
            "320/320 [==============================] - 21s 66ms/step - loss: 0.6531 - accuracy: 0.7556 - val_loss: 0.5433 - val_accuracy: 0.7932\n",
            "Epoch 23/30\n",
            "319/320 [============================>.] - ETA: 0s - loss: 0.6426 - accuracy: 0.7574\n",
            "Epoch 00023: val_accuracy did not improve from 0.79321\n",
            "320/320 [==============================] - 17s 54ms/step - loss: 0.6421 - accuracy: 0.7577 - val_loss: 0.5408 - val_accuracy: 0.7900\n",
            "Epoch 24/30\n",
            "320/320 [==============================] - ETA: 0s - loss: 0.6648 - accuracy: 0.7514\n",
            "Epoch 00024: val_accuracy did not improve from 0.79321\n",
            "320/320 [==============================] - 17s 54ms/step - loss: 0.6648 - accuracy: 0.7514 - val_loss: 0.5389 - val_accuracy: 0.7929\n",
            "Epoch 25/30\n",
            "320/320 [==============================] - ETA: 0s - loss: 0.6446 - accuracy: 0.7553\n",
            "Epoch 00025: val_accuracy improved from 0.79321 to 0.79750, saving model to ph1_weights.hdf5\n",
            "320/320 [==============================] - 21s 65ms/step - loss: 0.6446 - accuracy: 0.7553 - val_loss: 0.5388 - val_accuracy: 0.7975\n",
            "Epoch 26/30\n",
            "319/320 [============================>.] - ETA: 0s - loss: 0.6328 - accuracy: 0.7615\n",
            "Epoch 00026: val_accuracy did not improve from 0.79750\n",
            "320/320 [==============================] - 17s 54ms/step - loss: 0.6336 - accuracy: 0.7612 - val_loss: 0.5356 - val_accuracy: 0.7954\n",
            "Epoch 27/30\n",
            "319/320 [============================>.] - ETA: 0s - loss: 0.6293 - accuracy: 0.7580\n",
            "Epoch 00027: val_accuracy improved from 0.79750 to 0.79786, saving model to ph1_weights.hdf5\n",
            "320/320 [==============================] - 21s 65ms/step - loss: 0.6299 - accuracy: 0.7576 - val_loss: 0.5342 - val_accuracy: 0.7979\n",
            "Epoch 28/30\n",
            "320/320 [==============================] - ETA: 0s - loss: 0.6204 - accuracy: 0.7682\n",
            "Epoch 00028: val_accuracy did not improve from 0.79786\n",
            "320/320 [==============================] - 17s 54ms/step - loss: 0.6204 - accuracy: 0.7682 - val_loss: 0.5319 - val_accuracy: 0.7975\n",
            "Epoch 29/30\n",
            "319/320 [============================>.] - ETA: 0s - loss: 0.6241 - accuracy: 0.7637\n",
            "Epoch 00029: val_accuracy did not improve from 0.79786\n",
            "320/320 [==============================] - 17s 54ms/step - loss: 0.6238 - accuracy: 0.7638 - val_loss: 0.5311 - val_accuracy: 0.7968\n",
            "Epoch 30/30\n",
            "320/320 [==============================] - ETA: 0s - loss: 0.6150 - accuracy: 0.7653\n",
            "Epoch 00030: val_accuracy did not improve from 0.79786\n",
            "Restoring model weights from the end of the best epoch.\n",
            "320/320 [==============================] - 18s 55ms/step - loss: 0.6150 - accuracy: 0.7653 - val_loss: 0.5308 - val_accuracy: 0.7964\n",
            "Epoch 00030: early stopping\n"
          ],
          "name": "stdout"
        }
      ]
    },
    {
      "cell_type": "code",
      "metadata": {
        "id": "guL1T4WHoJXi"
      },
      "source": [
        "model.load_weights(best_weights_ph1)"
      ],
      "execution_count": 37,
      "outputs": []
    },
    {
      "cell_type": "code",
      "metadata": {
        "id": "_qLgJ-7wdzCa",
        "colab": {
          "base_uri": "https://localhost:8080/"
        },
        "outputId": "4625d6c1-071d-4c9a-d541-c17440665feb"
      },
      "source": [
        "metricas = model.evaluate(X_test, Y_test)"
      ],
      "execution_count": 38,
      "outputs": [
        {
          "output_type": "stream",
          "text": [
            "3/3 [==============================] - 1s 304ms/step - loss: 0.5012 - accuracy: 0.8276\n"
          ],
          "name": "stdout"
        }
      ]
    },
    {
      "cell_type": "code",
      "metadata": {
        "id": "A6h2EbQCNBfO"
      },
      "source": [
        "early_stop = EarlyStopping(\n",
        "    monitor=\"val_accuracy\",\n",
        "    min_delta=0,\n",
        "    patience=4,\n",
        "    verbose=1,\n",
        "    mode=\"max\",\n",
        "    baseline=None,\n",
        "    restore_best_weights=True,\n",
        ")"
      ],
      "execution_count": 39,
      "outputs": []
    },
    {
      "cell_type": "code",
      "metadata": {
        "id": "OAL1_jc7oYur"
      },
      "source": [
        "densenet.trainable = True\n",
        "\n",
        "epocas = 30\n",
        "bs = 35\n",
        "lr = 0.0001\n",
        "optim = Adam(learning_rate = lr)\n",
        "model.compile(optimizer = optim, loss = 'categorical_crossentropy', metrics = ['accuracy'])\n",
        "reduce_lr = ReduceLROnPlateau(monitor='val_accuracy', factor=0.2, patience=1, min_lr=0.00001, verbose = 1)\n",
        "# Define checkpoint to save best Phase 1 weights\n",
        "best_weights_ph2 = \"ph2_weights.hdf5\"\n",
        "checkpoint = tf.keras.callbacks.ModelCheckpoint(best_weights_ph2, monitor=\"val_loss\", mode=\"min\", save_best_only=True, verbose=1)\n",
        "callbacks = [reduce_lr, checkpoint, early_stop]"
      ],
      "execution_count": 40,
      "outputs": []
    },
    {
      "cell_type": "code",
      "metadata": {
        "id": "UmkHTyXvo-av",
        "colab": {
          "base_uri": "https://localhost:8080/"
        },
        "outputId": "50cedc66-127c-42f3-91d5-b6b3bb4acdee"
      },
      "source": [
        "historico = model.fit(X_new,\n",
        "                      Y_new,\n",
        "                      epochs = epocas,\n",
        "                      batch_size = bs,\n",
        "                      validation_split = 0.2,\n",
        "                      callbacks = callbacks)"
      ],
      "execution_count": 41,
      "outputs": [
        {
          "output_type": "stream",
          "text": [
            "Epoch 1/30\n",
            "320/320 [==============================] - ETA: 0s - loss: 0.8839 - accuracy: 0.6988WARNING:tensorflow:Callbacks method `on_test_batch_end` is slow compared to the batch time (batch time: 0.0153s vs `on_test_batch_end` time: 0.0439s). Check your callbacks.\n",
            "\n",
            "Epoch 00001: val_loss improved from inf to 0.63912, saving model to ph2_weights.hdf5\n",
            "320/320 [==============================] - 50s 156ms/step - loss: 0.8839 - accuracy: 0.6988 - val_loss: 0.6391 - val_accuracy: 0.7675\n",
            "Epoch 2/30\n",
            "320/320 [==============================] - ETA: 0s - loss: 0.4361 - accuracy: 0.8408\n",
            "Epoch 00002: val_loss improved from 0.63912 to 0.39786, saving model to ph2_weights.hdf5\n",
            "320/320 [==============================] - 46s 145ms/step - loss: 0.4361 - accuracy: 0.8408 - val_loss: 0.3979 - val_accuracy: 0.8518\n",
            "Epoch 3/30\n",
            "320/320 [==============================] - ETA: 0s - loss: 0.2761 - accuracy: 0.9005\n",
            "Epoch 00003: val_loss improved from 0.39786 to 0.33050, saving model to ph2_weights.hdf5\n",
            "320/320 [==============================] - 46s 145ms/step - loss: 0.2761 - accuracy: 0.9005 - val_loss: 0.3305 - val_accuracy: 0.8807\n",
            "Epoch 4/30\n",
            "320/320 [==============================] - ETA: 0s - loss: 0.1799 - accuracy: 0.9363\n",
            "Epoch 00004: val_loss improved from 0.33050 to 0.31204, saving model to ph2_weights.hdf5\n",
            "320/320 [==============================] - 46s 144ms/step - loss: 0.1799 - accuracy: 0.9363 - val_loss: 0.3120 - val_accuracy: 0.8900\n",
            "Epoch 5/30\n",
            "320/320 [==============================] - ETA: 0s - loss: 0.1216 - accuracy: 0.9570\n",
            "Epoch 00005: ReduceLROnPlateau reducing learning rate to 1.9999999494757503e-05.\n",
            "\n",
            "Epoch 00005: val_loss did not improve from 0.31204\n",
            "320/320 [==============================] - 42s 131ms/step - loss: 0.1216 - accuracy: 0.9570 - val_loss: 0.3941 - val_accuracy: 0.8725\n",
            "Epoch 6/30\n",
            "320/320 [==============================] - ETA: 0s - loss: 0.0630 - accuracy: 0.9790\n",
            "Epoch 00006: val_loss improved from 0.31204 to 0.21727, saving model to ph2_weights.hdf5\n",
            "320/320 [==============================] - 46s 145ms/step - loss: 0.0630 - accuracy: 0.9790 - val_loss: 0.2173 - val_accuracy: 0.9264\n",
            "Epoch 7/30\n",
            "320/320 [==============================] - ETA: 0s - loss: 0.0402 - accuracy: 0.9874\n",
            "Epoch 00007: val_loss improved from 0.21727 to 0.20168, saving model to ph2_weights.hdf5\n",
            "320/320 [==============================] - 46s 145ms/step - loss: 0.0402 - accuracy: 0.9874 - val_loss: 0.2017 - val_accuracy: 0.9382\n",
            "Epoch 8/30\n",
            "320/320 [==============================] - ETA: 0s - loss: 0.0314 - accuracy: 0.9907\n",
            "Epoch 00008: val_loss improved from 0.20168 to 0.18787, saving model to ph2_weights.hdf5\n",
            "320/320 [==============================] - 47s 145ms/step - loss: 0.0314 - accuracy: 0.9907 - val_loss: 0.1879 - val_accuracy: 0.9407\n",
            "Epoch 9/30\n",
            "320/320 [==============================] - ETA: 0s - loss: 0.0243 - accuracy: 0.9932\n",
            "Epoch 00009: val_loss improved from 0.18787 to 0.18687, saving model to ph2_weights.hdf5\n",
            "320/320 [==============================] - 46s 145ms/step - loss: 0.0243 - accuracy: 0.9932 - val_loss: 0.1869 - val_accuracy: 0.9429\n",
            "Epoch 10/30\n",
            "320/320 [==============================] - ETA: 0s - loss: 0.0191 - accuracy: 0.9947\n",
            "Epoch 00010: ReduceLROnPlateau reducing learning rate to 1e-05.\n",
            "\n",
            "Epoch 00010: val_loss did not improve from 0.18687\n",
            "320/320 [==============================] - 42s 131ms/step - loss: 0.0191 - accuracy: 0.9947 - val_loss: 0.1962 - val_accuracy: 0.9421\n",
            "Epoch 11/30\n",
            "320/320 [==============================] - ETA: 0s - loss: 0.0172 - accuracy: 0.9960\n",
            "Epoch 00011: val_loss did not improve from 0.18687\n",
            "320/320 [==============================] - 42s 130ms/step - loss: 0.0172 - accuracy: 0.9960 - val_loss: 0.1938 - val_accuracy: 0.9393\n",
            "Epoch 12/30\n",
            "320/320 [==============================] - ETA: 0s - loss: 0.0161 - accuracy: 0.9958\n",
            "Epoch 00012: val_loss did not improve from 0.18687\n",
            "320/320 [==============================] - 42s 131ms/step - loss: 0.0161 - accuracy: 0.9958 - val_loss: 0.2001 - val_accuracy: 0.9382\n",
            "Epoch 13/30\n",
            "320/320 [==============================] - ETA: 0s - loss: 0.0138 - accuracy: 0.9968\n",
            "Epoch 00013: val_loss did not improve from 0.18687\n",
            "320/320 [==============================] - 42s 132ms/step - loss: 0.0138 - accuracy: 0.9968 - val_loss: 0.1970 - val_accuracy: 0.9439\n",
            "Epoch 14/30\n",
            "320/320 [==============================] - ETA: 0s - loss: 0.0129 - accuracy: 0.9965\n",
            "Epoch 00014: val_loss did not improve from 0.18687\n",
            "320/320 [==============================] - 42s 130ms/step - loss: 0.0129 - accuracy: 0.9965 - val_loss: 0.1998 - val_accuracy: 0.9421\n",
            "Epoch 15/30\n",
            "320/320 [==============================] - ETA: 0s - loss: 0.0131 - accuracy: 0.9959\n",
            "Epoch 00015: val_loss did not improve from 0.18687\n",
            "320/320 [==============================] - 42s 132ms/step - loss: 0.0131 - accuracy: 0.9959 - val_loss: 0.2011 - val_accuracy: 0.9454\n",
            "Epoch 16/30\n",
            "320/320 [==============================] - ETA: 0s - loss: 0.0113 - accuracy: 0.9970\n",
            "Epoch 00016: val_loss did not improve from 0.18687\n",
            "320/320 [==============================] - 42s 130ms/step - loss: 0.0113 - accuracy: 0.9970 - val_loss: 0.1978 - val_accuracy: 0.9450\n",
            "Epoch 17/30\n",
            "320/320 [==============================] - ETA: 0s - loss: 0.0097 - accuracy: 0.9977\n",
            "Epoch 00017: val_loss did not improve from 0.18687\n",
            "320/320 [==============================] - 42s 130ms/step - loss: 0.0097 - accuracy: 0.9977 - val_loss: 0.2261 - val_accuracy: 0.9407\n",
            "Epoch 18/30\n",
            "320/320 [==============================] - ETA: 0s - loss: 0.0096 - accuracy: 0.9975\n",
            "Epoch 00018: val_loss did not improve from 0.18687\n",
            "320/320 [==============================] - 42s 132ms/step - loss: 0.0096 - accuracy: 0.9975 - val_loss: 0.1951 - val_accuracy: 0.9468\n",
            "Epoch 19/30\n",
            "320/320 [==============================] - ETA: 0s - loss: 0.0113 - accuracy: 0.9971\n",
            "Epoch 00019: val_loss did not improve from 0.18687\n",
            "320/320 [==============================] - 42s 130ms/step - loss: 0.0113 - accuracy: 0.9971 - val_loss: 0.2032 - val_accuracy: 0.9468\n",
            "Epoch 20/30\n",
            "320/320 [==============================] - ETA: 0s - loss: 0.0078 - accuracy: 0.9981\n",
            "Epoch 00020: val_loss did not improve from 0.18687\n",
            "320/320 [==============================] - 42s 130ms/step - loss: 0.0078 - accuracy: 0.9981 - val_loss: 0.2090 - val_accuracy: 0.9432\n",
            "Epoch 21/30\n",
            "320/320 [==============================] - ETA: 0s - loss: 0.0080 - accuracy: 0.9980\n",
            "Epoch 00021: val_loss did not improve from 0.18687\n",
            "320/320 [==============================] - 42s 132ms/step - loss: 0.0080 - accuracy: 0.9980 - val_loss: 0.2051 - val_accuracy: 0.9496\n",
            "Epoch 22/30\n",
            "320/320 [==============================] - ETA: 0s - loss: 0.0092 - accuracy: 0.9974\n",
            "Epoch 00022: val_loss did not improve from 0.18687\n",
            "320/320 [==============================] - 42s 130ms/step - loss: 0.0092 - accuracy: 0.9974 - val_loss: 0.2148 - val_accuracy: 0.9468\n",
            "Epoch 23/30\n",
            "320/320 [==============================] - ETA: 0s - loss: 0.0102 - accuracy: 0.9970\n",
            "Epoch 00023: val_loss did not improve from 0.18687\n",
            "320/320 [==============================] - 42s 130ms/step - loss: 0.0102 - accuracy: 0.9970 - val_loss: 0.2286 - val_accuracy: 0.9421\n",
            "Epoch 24/30\n",
            "320/320 [==============================] - ETA: 0s - loss: 0.0078 - accuracy: 0.9979\n",
            "Epoch 00024: val_loss did not improve from 0.18687\n",
            "320/320 [==============================] - 42s 130ms/step - loss: 0.0078 - accuracy: 0.9979 - val_loss: 0.2208 - val_accuracy: 0.9461\n",
            "Epoch 25/30\n",
            "320/320 [==============================] - ETA: 0s - loss: 0.0071 - accuracy: 0.9981\n",
            "Epoch 00025: val_loss did not improve from 0.18687\n",
            "Restoring model weights from the end of the best epoch.\n",
            "320/320 [==============================] - 42s 131ms/step - loss: 0.0071 - accuracy: 0.9981 - val_loss: 0.2172 - val_accuracy: 0.9454\n",
            "Epoch 00025: early stopping\n"
          ],
          "name": "stdout"
        }
      ]
    },
    {
      "cell_type": "code",
      "metadata": {
        "id": "TkD6sKyGpANM"
      },
      "source": [
        "model.load_weights(best_weights_ph2)"
      ],
      "execution_count": 42,
      "outputs": []
    },
    {
      "cell_type": "code",
      "metadata": {
        "id": "opYQBOHuvQL6",
        "colab": {
          "base_uri": "https://localhost:8080/",
          "height": 295
        },
        "outputId": "69247865-999a-4998-e8af-ba49f3b585a0"
      },
      "source": [
        "plt.plot(historico.history['accuracy'], c = 'b')\n",
        "plt.plot(historico.history['val_accuracy'], c = 'r')\n",
        "plt.legend(['Train', 'Validacion'])\n",
        "plt.xlabel('Epocas')\n",
        "plt.ylabel('Medida')\n",
        "plt.title('Evolucion Entrenamiento')\n",
        "plt.show()"
      ],
      "execution_count": 43,
      "outputs": [
        {
          "output_type": "display_data",
          "data": {
            "image/png": "[encoded data removed]",
            "text/plain": [
              "<Figure size 432x288 with 1 Axes>"
            ]
          },
          "metadata": {
            "tags": [],
            "needs_background": "light"
          }
        }
      ]
    },
    {
      "cell_type": "code",
      "metadata": {
        "id": "J-1Y8SjmvRtG",
        "colab": {
          "base_uri": "https://localhost:8080/",
          "height": 295
        },
        "outputId": "217efff9-83ae-417b-e317-3fc033f75fe4"
      },
      "source": [
        "plt.plot(historico.history['loss'], c = 'b')\n",
        "plt.plot(historico.history['val_loss'], c = 'r')\n",
        "plt.legend(['Train', 'Validacion'])\n",
        "plt.xlabel('Epocas')\n",
        "plt.ylabel('Medida')\n",
        "plt.title('Evolucion Entrenamiento')\n",
        "plt.show()"
      ],
      "execution_count": 44,
      "outputs": [
        {
          "output_type": "display_data",
          "data": {
            "image/png": "[encoded data removed]",
            "text/plain": [
              "<Figure size 432x288 with 1 Axes>"
            ]
          },
          "metadata": {
            "tags": [],
            "needs_background": "light"
          }
        }
      ]
    },
    {
      "cell_type": "code",
      "metadata": {
        "id": "1EMCnVRcpCbw",
        "colab": {
          "base_uri": "https://localhost:8080/"
        },
        "outputId": "1b8a54d3-ad3e-4a81-81ed-ab108f9b2b91"
      },
      "source": [
        "metricas = model.evaluate(X_test, Y_test)"
      ],
      "execution_count": 45,
      "outputs": [
        {
          "output_type": "stream",
          "text": [
            "3/3 [==============================] - 0s 37ms/step - loss: 0.6288 - accuracy: 0.9080\n"
          ],
          "name": "stdout"
        }
      ]
    },
    {
      "cell_type": "code",
      "metadata": {
        "id": "d30Xep38ION1"
      },
      "source": [
        "y_pred = model.predict(X_test)"
      ],
      "execution_count": 46,
      "outputs": []
    },
    {
      "cell_type": "code",
      "metadata": {
        "id": "S1FTipxMH7vT"
      },
      "source": [
        "import numpy as np\n",
        "import matplotlib.pyplot as plt\n",
        "\n",
        "from sklearn import svm, datasets\n",
        "from sklearn.model_selection import train_test_split\n",
        "from sklearn.metrics import confusion_matrix\n",
        "from sklearn.utils.multiclass import unique_labels"
      ],
      "execution_count": 47,
      "outputs": []
    },
    {
      "cell_type": "code",
      "metadata": {
        "colab": {
          "base_uri": "https://localhost:8080/",
          "height": 871
        },
        "id": "UCO9vT_lH8Qq",
        "outputId": "7ece148f-3931-42c7-a528-3b16f8bb54f0"
      },
      "source": [
        "y = np.repeat(np.arange(0,10),15)\n",
        "def plot_confusion_matrix(y_true, y_pred, classes,\n",
        "                          normalize=False,\n",
        "                          title=None,\n",
        "                          cmap=plt.cm.Blues):\n",
        "    \"\"\"\n",
        "    This function prints and plots the confusion matrix.\n",
        "    Normalization can be applied by setting `normalize=True`.\n",
        "    \"\"\"\n",
        "    if not title:\n",
        "        if normalize:\n",
        "            title = 'Normalized confusion matrix'\n",
        "        else:\n",
        "            title = 'Confusion matrix, without normalization'\n",
        "\n",
        "    # Compute confusion matrix\n",
        "    \n",
        "    cm = confusion_matrix(y_true.argmax(axis=1), y_pred.argmax(axis=1))\n",
        "    # Only use the labels that appear in the data\n",
        "    classes = unique_labels([1,2,3,4,5,6,7], [1,2,3,4,5,6,7])\n",
        "    if normalize:\n",
        "        cm = cm.astype('float') / cm.sum(axis=1)[:, np.newaxis]\n",
        "        print(\"Normalized confusion matrix\")\n",
        "    else:\n",
        "        print('Confusion matrix, without normalization')\n",
        "\n",
        "    print(cm)\n",
        "\n",
        "    fig, ax = plt.subplots()\n",
        "    im = ax.imshow(cm, interpolation='nearest', cmap=cmap)\n",
        "    ax.figure.colorbar(im, ax=ax)\n",
        "    # We want to show all ticks...\n",
        "    ax.set(xticks=np.arange(cm.shape[1]),\n",
        "           yticks=np.arange(cm.shape[0]),\n",
        "           # ... and label them with the respective list entries\n",
        "           xticklabels=classes, yticklabels=classes,\n",
        "           title=title,\n",
        "           ylabel='True label',\n",
        "           xlabel='Predicted label')\n",
        "\n",
        "    # Rotate the tick labels and set their alignment.\n",
        "    plt.setp(ax.get_xticklabels(), rotation=45, ha=\"right\",\n",
        "             rotation_mode=\"anchor\")\n",
        "\n",
        "    # Loop over data dimensions and create text annotations.\n",
        "    fmt = '.2f' if normalize else 'd'\n",
        "    thresh = cm.max() / 2.\n",
        "    for i in range(cm.shape[0]):\n",
        "        for j in range(cm.shape[1]):\n",
        "            ax.text(j, i, format(cm[i, j], fmt),\n",
        "                    ha=\"center\", va=\"center\",\n",
        "                    color=\"white\" if cm[i, j] > thresh else \"black\")\n",
        "    fig.tight_layout()\n",
        "\n",
        "    return ax\n",
        "\n",
        "\n",
        "np.set_printoptions(precision=2)\n",
        "\n",
        "# Plot non-normalized confusion matrix\n",
        "plot_confusion_matrix(Y_test, y_pred, classes=7,\n",
        "                      title='Confusion matrix')\n",
        "\n",
        "# Plot normalized confusion matrix\n",
        "plot_confusion_matrix(Y_test, y_pred, classes=7, normalize=True,\n",
        "                      title='Normalized confusion matrix')\n",
        "\n",
        "plt.show()"
      ],
      "execution_count": 48,
      "outputs": [
        {
          "output_type": "stream",
          "text": [
            "Confusion matrix, without normalization\n",
            "[[ 1  0  0  1  0  0  0]\n",
            " [ 0  4  0  0  0  0  0]\n",
            " [ 0  3  6  0  0  0  0]\n",
            " [ 0  0  0  1  0  0  0]\n",
            " [ 0  0  0  0 57  1  2]\n",
            " [ 0  0  1  0  0  9  0]\n",
            " [ 0  0  0  0  0  0  1]]\n",
            "Normalized confusion matrix\n",
            "[[0.5  0.   0.   0.5  0.   0.   0.  ]\n",
            " [0.   1.   0.   0.   0.   0.   0.  ]\n",
            " [0.   0.33 0.67 0.   0.   0.   0.  ]\n",
            " [0.   0.   0.   1.   0.   0.   0.  ]\n",
            " [0.   0.   0.   0.   0.95 0.02 0.03]\n",
            " [0.   0.   0.1  0.   0.   0.9  0.  ]\n",
            " [0.   0.   0.   0.   0.   0.   1.  ]]\n"
          ],
          "name": "stdout"
        },
        {
          "output_type": "display_data",
          "data": {
            "image/png": "[encoded data removed]",
            "text/plain": [
              "<Figure size 432x288 with 2 Axes>"
            ]
          },
          "metadata": {
            "tags": [],
            "needs_background": "light"
          }
        },
        {
          "output_type": "display_data",
          "data": {
            "image/png": "[encoded data removed]",
            "text/plain": [
              "<Figure size 432x288 with 2 Axes>"
            ]
          },
          "metadata": {
            "tags": [],
            "needs_background": "light"
          }
        }
      ]
    },
    {
      "cell_type": "code",
      "metadata": {
        "id": "lpg9VxbO146x"
      },
      "source": [
        ""
      ],
      "execution_count": 48,
      "outputs": []
    }
  ]
}